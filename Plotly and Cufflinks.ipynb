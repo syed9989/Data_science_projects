{
 "cells": [
  {
   "cell_type": "markdown",
   "id": "c3d65f75",
   "metadata": {},
   "source": [
    "# Plotly and Cufflinks"
   ]
  },
  {
   "cell_type": "code",
   "execution_count": 14,
   "id": "ec1027a7",
   "metadata": {},
   "outputs": [],
   "source": [
    "import pandas as pd\n",
    "import numpy as np\n",
    "%matplotlib inline"
   ]
  },
  {
   "cell_type": "code",
   "execution_count": 3,
   "id": "279ad630",
   "metadata": {},
   "outputs": [],
   "source": [
    "from plotly import __version__"
   ]
  },
  {
   "cell_type": "code",
   "execution_count": 4,
   "id": "db9d8821",
   "metadata": {},
   "outputs": [
    {
     "name": "stdout",
     "output_type": "stream",
     "text": [
      "5.24.1\n"
     ]
    }
   ],
   "source": [
    "print(__version__)"
   ]
  },
  {
   "cell_type": "code",
   "execution_count": 5,
   "id": "86e424ff",
   "metadata": {},
   "outputs": [],
   "source": [
    "import cufflinks as cf"
   ]
  },
  {
   "cell_type": "code",
   "execution_count": 6,
   "id": "c57f152d",
   "metadata": {},
   "outputs": [],
   "source": [
    "from plotly.offline import download_plotlyjs,init_notebook_mode,iplot"
   ]
  },
  {
   "cell_type": "code",
   "execution_count": 7,
   "id": "2a08aab7",
   "metadata": {},
   "outputs": [
    {
     "data": {
      "text/html": [
       "        <script type=\"text/javascript\">\n",
       "        window.PlotlyConfig = {MathJaxConfig: 'local'};\n",
       "        if (window.MathJax && window.MathJax.Hub && window.MathJax.Hub.Config) {window.MathJax.Hub.Config({SVG: {font: \"STIX-Web\"}});}\n",
       "        if (typeof require !== 'undefined') {\n",
       "        require.undef(\"plotly\");\n",
       "        requirejs.config({\n",
       "            paths: {\n",
       "                'plotly': ['https://cdn.plot.ly/plotly-2.35.2.min']\n",
       "            }\n",
       "        });\n",
       "        require(['plotly'], function(Plotly) {\n",
       "            window._Plotly = Plotly;\n",
       "        });\n",
       "        }\n",
       "        </script>\n",
       "        "
      ]
     },
     "metadata": {},
     "output_type": "display_data"
    }
   ],
   "source": [
    "init_notebook_mode(connected=True)"
   ]
  },
  {
   "cell_type": "code",
   "execution_count": 8,
   "id": "d807085a",
   "metadata": {},
   "outputs": [
    {
     "data": {
      "text/html": [
       "        <script type=\"text/javascript\">\n",
       "        window.PlotlyConfig = {MathJaxConfig: 'local'};\n",
       "        if (window.MathJax && window.MathJax.Hub && window.MathJax.Hub.Config) {window.MathJax.Hub.Config({SVG: {font: \"STIX-Web\"}});}\n",
       "        if (typeof require !== 'undefined') {\n",
       "        require.undef(\"plotly\");\n",
       "        requirejs.config({\n",
       "            paths: {\n",
       "                'plotly': ['https://cdn.plot.ly/plotly-2.35.2.min']\n",
       "            }\n",
       "        });\n",
       "        require(['plotly'], function(Plotly) {\n",
       "            window._Plotly = Plotly;\n",
       "        });\n",
       "        }\n",
       "        </script>\n",
       "        "
      ]
     },
     "metadata": {},
     "output_type": "display_data"
    }
   ],
   "source": [
    "cf.go_offline()"
   ]
  },
  {
   "cell_type": "code",
   "execution_count": 10,
   "id": "75d20e86",
   "metadata": {},
   "outputs": [],
   "source": [
    "#Data\n",
    "df1=pd.DataFrame(np.random.randn(100,4),columns='A B C D'.split())"
   ]
  },
  {
   "cell_type": "code",
   "execution_count": 11,
   "id": "07d6be84",
   "metadata": {},
   "outputs": [
    {
     "data": {
      "text/html": [
       "<div>\n",
       "<style scoped>\n",
       "    .dataframe tbody tr th:only-of-type {\n",
       "        vertical-align: middle;\n",
       "    }\n",
       "\n",
       "    .dataframe tbody tr th {\n",
       "        vertical-align: top;\n",
       "    }\n",
       "\n",
       "    .dataframe thead th {\n",
       "        text-align: right;\n",
       "    }\n",
       "</style>\n",
       "<table border=\"1\" class=\"dataframe\">\n",
       "  <thead>\n",
       "    <tr style=\"text-align: right;\">\n",
       "      <th></th>\n",
       "      <th>A</th>\n",
       "      <th>B</th>\n",
       "      <th>C</th>\n",
       "      <th>D</th>\n",
       "    </tr>\n",
       "  </thead>\n",
       "  <tbody>\n",
       "    <tr>\n",
       "      <th>0</th>\n",
       "      <td>0.358633</td>\n",
       "      <td>-1.059055</td>\n",
       "      <td>0.324290</td>\n",
       "      <td>-0.346459</td>\n",
       "    </tr>\n",
       "    <tr>\n",
       "      <th>1</th>\n",
       "      <td>-0.313044</td>\n",
       "      <td>-0.391902</td>\n",
       "      <td>1.187941</td>\n",
       "      <td>-0.647907</td>\n",
       "    </tr>\n",
       "    <tr>\n",
       "      <th>2</th>\n",
       "      <td>0.915550</td>\n",
       "      <td>0.296289</td>\n",
       "      <td>-0.380881</td>\n",
       "      <td>0.348678</td>\n",
       "    </tr>\n",
       "    <tr>\n",
       "      <th>3</th>\n",
       "      <td>-2.102063</td>\n",
       "      <td>-0.549058</td>\n",
       "      <td>0.148063</td>\n",
       "      <td>0.165786</td>\n",
       "    </tr>\n",
       "    <tr>\n",
       "      <th>4</th>\n",
       "      <td>0.408046</td>\n",
       "      <td>0.088335</td>\n",
       "      <td>-0.570917</td>\n",
       "      <td>-0.693080</td>\n",
       "    </tr>\n",
       "  </tbody>\n",
       "</table>\n",
       "</div>"
      ],
      "text/plain": [
       "          A         B         C         D\n",
       "0  0.358633 -1.059055  0.324290 -0.346459\n",
       "1 -0.313044 -0.391902  1.187941 -0.647907\n",
       "2  0.915550  0.296289 -0.380881  0.348678\n",
       "3 -2.102063 -0.549058  0.148063  0.165786\n",
       "4  0.408046  0.088335 -0.570917 -0.693080"
      ]
     },
     "execution_count": 11,
     "metadata": {},
     "output_type": "execute_result"
    }
   ],
   "source": [
    "df1.head()"
   ]
  },
  {
   "cell_type": "code",
   "execution_count": 12,
   "id": "3667fbc6",
   "metadata": {},
   "outputs": [],
   "source": [
    "df2=pd.DataFrame({'Category':['A','B','C'],'values':[32,43,50]})"
   ]
  },
  {
   "cell_type": "code",
   "execution_count": 13,
   "id": "0cc94f97",
   "metadata": {},
   "outputs": [
    {
     "data": {
      "text/html": [
       "<div>\n",
       "<style scoped>\n",
       "    .dataframe tbody tr th:only-of-type {\n",
       "        vertical-align: middle;\n",
       "    }\n",
       "\n",
       "    .dataframe tbody tr th {\n",
       "        vertical-align: top;\n",
       "    }\n",
       "\n",
       "    .dataframe thead th {\n",
       "        text-align: right;\n",
       "    }\n",
       "</style>\n",
       "<table border=\"1\" class=\"dataframe\">\n",
       "  <thead>\n",
       "    <tr style=\"text-align: right;\">\n",
       "      <th></th>\n",
       "      <th>Category</th>\n",
       "      <th>values</th>\n",
       "    </tr>\n",
       "  </thead>\n",
       "  <tbody>\n",
       "    <tr>\n",
       "      <th>0</th>\n",
       "      <td>A</td>\n",
       "      <td>32</td>\n",
       "    </tr>\n",
       "    <tr>\n",
       "      <th>1</th>\n",
       "      <td>B</td>\n",
       "      <td>43</td>\n",
       "    </tr>\n",
       "    <tr>\n",
       "      <th>2</th>\n",
       "      <td>C</td>\n",
       "      <td>50</td>\n",
       "    </tr>\n",
       "  </tbody>\n",
       "</table>\n",
       "</div>"
      ],
      "text/plain": [
       "  Category  values\n",
       "0        A      32\n",
       "1        B      43\n",
       "2        C      50"
      ]
     },
     "execution_count": 13,
     "metadata": {},
     "output_type": "execute_result"
    }
   ],
   "source": [
    "df2"
   ]
  },
  {
   "cell_type": "code",
   "execution_count": 15,
   "id": "3cd79c0c",
   "metadata": {},
   "outputs": [
    {
     "data": {
      "text/plain": [
       "<AxesSubplot:>"
      ]
     },
     "execution_count": 15,
     "metadata": {},
     "output_type": "execute_result"
    },
    {
     "data": {
      "image/png": "[encoded data removed]",
      "text/plain": [
       "<Figure size 432x288 with 1 Axes>"
      ]
     },
     "metadata": {
      "needs_background": "light"
     },
     "output_type": "display_data"
    }
   ],
   "source": [
    "df1.plot()"
   ]
  },
  {
   "cell_type": "code",
   "execution_count": 16,
   "id": "cb9947ee",
   "metadata": {},
   "outputs": [
    {
     "data": {
      "application/vnd.plotly.v1+json": {
       "config": {
        "linkText": "Export to plot.ly",
        "plotlyServerURL": "https://plot.ly",
        "showLink": true
       },
       "data": [
        {
         "line": {
          "color": "rgba(255, 153, 51, 1.0)",
          "dash": "solid",
          "shape": "linear",
          "width": 1.3
         },
         "mode": "lines",
         "name": "A",
         "text": "",
         "type": "scatter",
         "x": [
          0,
          1,
          2,
          3,
          4,
          5,
          6,
          7,
          8,
          9,
          10,
          11,
          12,
          13,
          14,
          15,
          16,
          17,
          18,
          19,
          20,
          21,
          22,
          23,
          24,
          25,
          26,
          27,
          28,
          29,
          30,
          31,
          32,
          33,
          34,
          35,
          36,
          37,
          38,
          39,
          40,
          41,
          42,
          43,
          44,
          45,
          46,
          47,
          48,
          49,
          50,
          51,
          52,
          53,
          54,
          55,
          56,
          57,
          58,
          59,
          60,
          61,
          62,
          63,
          64,
          65,
          66,
          67,
          68,
          69,
          70,
          71,
          72,
          73,
          74,
          75,
          76,
          77,
          78,
          79,
          80,
          81,
          82,
          83,
          84,
          85,
          86,
          87,
          88,
          89,
          90,
          91,
          92,
          93,
          94,
          95,
          96,
          97,
          98,
          99
         ],
         "y": [
          0.3586331746624718,
          -0.31304376044741095,
          0.9155501015715358,
          -2.102062606588993,
          0.408045526206134,
          -0.2653937053424654,
          -1.0608144632061376,
          0.8320160290835785,
          -0.9049475285738797,
          -0.17744210477049197,
          -1.4540758255989237,
          1.4257420406209662,
          -0.5205046343083947,
          -0.05769834283630299,
          0.47701003735893915,
          -0.04203967170773101,
          0.5954054803347232,
          0.5082602104081628,
          1.5464874830525634,
          0.03252793321033726,
          0.02470780179975145,
          -0.43883588421253367,
          0.7655553628093557,
          0.08479713396327594,
          -0.061697794787186545,
          -1.670028936339304,
          -0.44654185078945124,
          0.3424303635259183,
          -1.4760687974593132,
          1.00411471917094,
          -0.05524154132328517,
          0.014428830329574913,
          -0.3383435301323882,
          1.5183470766720768,
          -0.027803842073751618,
          1.7202240294648374,
          0.0659563768324742,
          0.8220356160516542,
          -0.5351973075051546,
          -0.15985840887473127,
          0.9323610128235857,
          0.6006660833479411,
          -0.8184884530933983,
          0.5152778925589065,
          2.5445342396284483,
          -0.03483860975117482,
          0.5162424224318293,
          0.9591449980497241,
          0.17777377052477863,
          -0.13969697340984139,
          -0.8569053896082983,
          0.2698446001276596,
          -0.19793090917579773,
          0.4250458772262773,
          0.3538791331723721,
          -2.2000463413342275,
          0.4181696188358884,
          -0.5901820888816727,
          0.020414193883099955,
          -0.6489481062883675,
          -0.3821890735220406,
          -0.32985879985063243,
          1.3954598123304571,
          0.05505854723609142,
          -0.6488143149635798,
          -0.21044309167380512,
          0.9436186500108769,
          -0.1344901082326483,
          0.4913203377664391,
          0.3285827524381691,
          -0.22242713380610743,
          -0.4202007414637871,
          0.10092135204452221,
          -0.516654392511781,
          -1.135954562451008,
          -0.7944885228365225,
          -0.8423266383457392,
          -1.359632784546133,
          0.7546560920413921,
          0.6516002595799931,
          0.8126667585524782,
          0.22038804422076191,
          0.054500146304780554,
          0.2125059915603282,
          -0.5119263987642447,
          0.46617177548286015,
          -1.375963954761399,
          0.4262163349180895,
          -1.205184119983154,
          -0.31379656718450993,
          0.4138625705495997,
          0.7663575825164424,
          -2.1174139409310984,
          0.5178801297938571,
          1.780572268688464,
          0.36758656402424283,
          -0.4135886115249514,
          0.8084776519283191,
          1.6336469314010316,
          2.230813714022468
         ]
        },
        {
         "line": {
          "color": "rgba(55, 128, 191, 1.0)",
          "dash": "solid",
          "shape": "linear",
          "width": 1.3
         },
         "mode": "lines",
         "name": "B",
         "text": "",
         "type": "scatter",
         "x": [
          0,
          1,
          2,
          3,
          4,
          5,
          6,
          7,
          8,
          9,
          10,
          11,
          12,
          13,
          14,
          15,
          16,
          17,
          18,
          19,
          20,
          21,
          22,
          23,
          24,
          25,
          26,
          27,
          28,
          29,
          30,
          31,
          32,
          33,
          34,
          35,
          36,
          37,
          38,
          39,
          40,
          41,
          42,
          43,
          44,
          45,
          46,
          47,
          48,
          49,
          50,
          51,
          52,
          53,
          54,
          55,
          56,
          57,
          58,
          59,
          60,
          61,
          62,
          63,
          64,
          65,
          66,
          67,
          68,
          69,
          70,
          71,
          72,
          73,
          74,
          75,
          76,
          77,
          78,
          79,
          80,
          81,
          82,
          83,
          84,
          85,
          86,
          87,
          88,
          89,
          90,
          91,
          92,
          93,
          94,
          95,
          96,
          97,
          98,
          99
         ],
         "y": [
          -1.0590548720581747,
          -0.39190242572096723,
          0.2962891691222517,
          -0.5490583168335752,
          0.0883346775218682,
          -0.6114291879106363,
          -0.6373993095400021,
          -1.3757372678673856,
          0.7710307905294411,
          -0.7952282574924998,
          -1.0665821766458694,
          1.069364678832217,
          1.1469578718082771,
          -0.25199465875749505,
          0.7048053127514355,
          -0.70141193883703,
          -0.9687943837773987,
          -0.5179377536668606,
          1.0367137748339337,
          -0.926940875305391,
          -0.6431803601851102,
          -0.008176871309322228,
          -0.9552975301203914,
          -0.7588749739508795,
          0.8832832893949047,
          1.1755358794506057,
          -0.20549235635876878,
          -0.7491598214547203,
          -0.5734776537078125,
          0.49246483038810485,
          1.1571408435365964,
          0.35950239520271465,
          -0.9814813990037048,
          -0.3302371152060421,
          1.4279786237553096,
          0.09368539541218573,
          -0.05148049977783981,
          2.3212174669434593,
          -0.1741133687184468,
          1.1003712836406296,
          1.632706051966583,
          1.3341292330096408,
          1.2792614080957836,
          -0.9846673910400024,
          1.9008435066570037,
          0.8600680929881195,
          -0.6027765692000642,
          -0.46044062423880017,
          0.2036331641753118,
          1.6091632381996916,
          0.8319891984314672,
          -2.106481912504469,
          1.1587762643350736,
          0.4378282837245897,
          -0.6787113924870258,
          -1.3015491673560238,
          -0.4699970597901284,
          0.03448216204286796,
          -0.3921004216330228,
          0.4011602423714026,
          0.964934167991005,
          -1.5316121923083093,
          -2.708464465730562,
          0.1739441911266945,
          -0.24987881590183947,
          0.09772182633380014,
          0.7974157087788826,
          -0.06760707005609054,
          -1.0605788914082304,
          -1.0922449732655897,
          -0.46724550141681537,
          -1.311758303544521,
          1.5805631331227574,
          -2.7451393680018104,
          1.590657386425081,
          2.1594987472119085,
          0.8093209994861948,
          1.1872539693294126,
          -0.9376083371748265,
          -1.9880405933877292,
          -0.016931850993996047,
          0.19283107581930145,
          -1.2621201220902507,
          1.4219944905623008,
          0.03945646289475185,
          1.3468725540679272,
          0.3352148321341624,
          -0.7607245053299654,
          -1.3632969757334765,
          -0.25955811948574004,
          0.45549145421093473,
          -0.1296347833779436,
          0.04802303523424992,
          0.31671978263710604,
          -0.8908041289921246,
          0.6270179003637465,
          -0.1845078406753882,
          2.294840618932753,
          -1.8898838801321691,
          1.758211240623883
         ]
        },
        {
         "line": {
          "color": "rgba(50, 171, 96, 1.0)",
          "dash": "solid",
          "shape": "linear",
          "width": 1.3
         },
         "mode": "lines",
         "name": "C",
         "text": "",
         "type": "scatter",
         "x": [
          0,
          1,
          2,
          3,
          4,
          5,
          6,
          7,
          8,
          9,
          10,
          11,
          12,
          13,
          14,
          15,
          16,
          17,
          18,
          19,
          20,
          21,
          22,
          23,
          24,
          25,
          26,
          27,
          28,
          29,
          30,
          31,
          32,
          33,
          34,
          35,
          36,
          37,
          38,
          39,
          40,
          41,
          42,
          43,
          44,
          45,
          46,
          47,
          48,
          49,
          50,
          51,
          52,
          53,
          54,
          55,
          56,
          57,
          58,
          59,
          60,
          61,
          62,
          63,
          64,
          65,
          66,
          67,
          68,
          69,
          70,
          71,
          72,
          73,
          74,
          75,
          76,
          77,
          78,
          79,
          80,
          81,
          82,
          83,
          84,
          85,
          86,
          87,
          88,
          89,
          90,
          91,
          92,
          93,
          94,
          95,
          96,
          97,
          98,
          99
         ],
         "y": [
          0.32429037739075883,
          1.1879409631045386,
          -0.38088091795317913,
          0.14806323550316,
          -0.5709168393551085,
          1.3853505290062362,
          0.030960518731206272,
          0.3938230637983112,
          0.6773066094802366,
          -0.1163003670518374,
          -0.7582509421132919,
          -0.38467937176662037,
          0.9367872426180641,
          0.3094300782732029,
          0.09601419265197059,
          0.5995511429549369,
          1.4439688168872717,
          -1.0965528579612354,
          -0.40781181780874987,
          -0.5913778404732251,
          0.7295991376359017,
          1.5579853159921473,
          0.05803394864840696,
          -1.248098266950036,
          1.4794877768861923,
          -2.394365890320898,
          0.874562873382905,
          -0.6699357548158725,
          -0.6961017168474808,
          -0.36174763518653275,
          1.4517901086461655,
          0.660505118013835,
          0.622063497987493,
          -0.054301146606529675,
          -0.37886913279578677,
          -0.008960006479370229,
          0.21263647906035765,
          0.14148615088666414,
          0.037315302544217124,
          0.6002888863566334,
          1.3398864669756754,
          0.5632927848357131,
          0.43994020088676306,
          -0.6424879662806519,
          0.8414231989301041,
          -0.263665109298404,
          1.0650209103243846,
          -0.4987174826350073,
          -0.029727275897059015,
          0.4811271849515231,
          -1.0639989151092917,
          2.7269733913483805,
          0.4202847481492167,
          0.23013615231109463,
          -0.19052950306876407,
          -0.07535647639230537,
          -0.10870803868613195,
          -1.7764691803724073,
          -0.20847521854327986,
          -0.9683394823778462,
          0.35115001230946635,
          1.6892276963651842,
          1.3804853265597006,
          2.921534826638845,
          -0.4309883401900627,
          -0.8817523768739174,
          0.27541040786185467,
          -0.3747113263296264,
          0.9740657170289369,
          -0.9702017630654753,
          -0.04811530584331376,
          -0.5383813969987241,
          0.16096932939744013,
          0.15306539136772737,
          -1.4896596280606906,
          -0.041852603529642,
          -1.2837275685397316,
          0.08498459969796693,
          0.6932661399547978,
          -0.48656111657997136,
          0.03244938448296639,
          0.5707242925265023,
          0.9752035089851828,
          1.5493900379188106,
          0.8698503692117641,
          -0.42065578813403187,
          -1.5706299711399163,
          -0.2347536852870114,
          -1.450009680526141,
          -0.5572941809131361,
          1.7607885483739076,
          0.1642451193947591,
          1.3806465480402927,
          0.5900768079783596,
          1.120446209170726,
          1.2089700577352944,
          -0.6984128021106067,
          0.3205901289951289,
          0.37574731970374725,
          0.30972045037775137
         ]
        },
        {
         "line": {
          "color": "rgba(128, 0, 128, 1.0)",
          "dash": "solid",
          "shape": "linear",
          "width": 1.3
         },
         "mode": "lines",
         "name": "D",
         "text": "",
         "type": "scatter",
         "x": [
          0,
          1,
          2,
          3,
          4,
          5,
          6,
          7,
          8,
          9,
          10,
          11,
          12,
          13,
          14,
          15,
          16,
          17,
          18,
          19,
          20,
          21,
          22,
          23,
          24,
          25,
          26,
          27,
          28,
          29,
          30,
          31,
          32,
          33,
          34,
          35,
          36,
          37,
          38,
          39,
          40,
          41,
          42,
          43,
          44,
          45,
          46,
          47,
          48,
          49,
          50,
          51,
          52,
          53,
          54,
          55,
          56,
          57,
          58,
          59,
          60,
          61,
          62,
          63,
          64,
          65,
          66,
          67,
          68,
          69,
          70,
          71,
          72,
          73,
          74,
          75,
          76,
          77,
          78,
          79,
          80,
          81,
          82,
          83,
          84,
          85,
          86,
          87,
          88,
          89,
          90,
          91,
          92,
          93,
          94,
          95,
          96,
          97,
          98,
          99
         ],
         "y": [
          -0.3464588048417761,
          -0.647906547324458,
          0.3486779613719423,
          0.16578621922162767,
          -0.6930802152809857,
          -0.27001530192403844,
          2.199341644606675,
          0.6100190730886883,
          2.102550400217976,
          1.3032923422411529,
          -0.049762067909215585,
          1.0518251360175972,
          2.606214122416171,
          -0.2623492398003455,
          -3.1647169619393614,
          -0.372542819978809,
          0.14946434187215132,
          0.06191615910061245,
          -1.1814026933119086,
          -0.2766721067868842,
          -0.9524484776847364,
          0.890087121411412,
          0.16536143007143075,
          2.0950209738087247,
          0.6678254539418913,
          -2.4541658108616398,
          0.7272111499537395,
          -1.0632955813088365,
          0.5563393644310032,
          0.7007756021443959,
          -0.7634004670299073,
          -1.0366226598965147,
          0.8013304757037002,
          -0.9575358416562028,
          -1.2219996303846936,
          0.8411087011278587,
          -2.6876492176403706,
          0.21697871372465866,
          0.8661761718498764,
          -0.004477953671440384,
          -0.24156899072457647,
          -1.191982405527518,
          -1.830769949480394,
          -0.3603791966519778,
          -1.8541561044408092,
          -0.8269509146760182,
          1.2351690456101407,
          -0.7374726976400329,
          1.1496626540716828,
          0.11539306667485381,
          -0.5874759092324688,
          -0.29647288445001413,
          0.8043685590974445,
          -0.25129479981146213,
          -0.009082767107194573,
          0.8249201350185461,
          -0.9041916236427177,
          -0.2598132126343078,
          2.5209152581221406,
          -0.7414821119261477,
          0.6528585246841945,
          0.4727346988738507,
          -0.4255885388211691,
          -0.33523865860121993,
          0.002340531266801451,
          1.1677113148248681,
          0.4436607499705828,
          -1.1378815712598933,
          -0.9528152338377582,
          1.3354358098041545,
          -0.4143195912799377,
          -0.27195585863102767,
          -0.5128124546494139,
          1.1933581947975167,
          -1.0426560248342713,
          0.08732828643538657,
          0.3329346714021422,
          0.015406732187095097,
          -1.2208821836590111,
          1.37925115599276,
          -0.0021740284364161677,
          -0.7139241821707765,
          -0.19727820197878954,
          0.8372822892101166,
          1.0594670766221612,
          1.1254072337082799,
          1.427965150259643,
          0.3496471642051402,
          -0.7616288308439892,
          -1.1845313919354337,
          -0.17747967699706843,
          0.649994802912574,
          0.3041126587233753,
          -1.172829688566211,
          -1.4701448507469361,
          0.33854444006522966,
          0.22917881846691687,
          -0.4156796942910539,
          -0.18684705250454173,
          -0.16557973376077886
         ]
        }
       ],
       "layout": {
        "legend": {
         "bgcolor": "#F5F6F9",
         "font": {
          "color": "#4D5663"
         }
        },
        "paper_bgcolor": "#F5F6F9",
        "plot_bgcolor": "#F5F6F9",
        "template": {
         "data": {
          "bar": [
           {
            "error_x": {
             "color": "#2a3f5f"
            },
            "error_y": {
             "color": "#2a3f5f"
            },
            "marker": {
             "line": {
              "color": "#E5ECF6",
              "width": 0.5
             },
             "pattern": {
              "fillmode": "overlay",
              "size": 10,
              "solidity": 0.2
             }
            },
            "type": "bar"
           }
          ],
          "barpolar": [
           {
            "marker": {
             "line": {
              "color": "#E5ECF6",
              "width": 0.5
             },
             "pattern": {
              "fillmode": "overlay",
              "size": 10,
              "solidity": 0.2
             }
            },
            "type": "barpolar"
           }
          ],
          "carpet": [
           {
            "aaxis": {
             "endlinecolor": "#2a3f5f",
             "gridcolor": "white",
             "linecolor": "white",
             "minorgridcolor": "white",
             "startlinecolor": "#2a3f5f"
            },
            "baxis": {
             "endlinecolor": "#2a3f5f",
             "gridcolor": "white",
             "linecolor": "white",
             "minorgridcolor": "white",
             "startlinecolor": "#2a3f5f"
            },
            "type": "carpet"
           }
          ],
          "choropleth": [
           {
            "colorbar": {
             "outlinewidth": 0,
             "ticks": ""
            },
            "type": "choropleth"
           }
          ],
          "contour": [
           {
            "colorbar": {
             "outlinewidth": 0,
             "ticks": ""
            },
            "colorscale": [
             [
              0,
              "#0d0887"
             ],
             [
              0.1111111111111111,
              "#46039f"
             ],
             [
              0.2222222222222222,
              "#7201a8"
             ],
             [
              0.3333333333333333,
              "#9c179e"
             ],
             [
              0.4444444444444444,
              "#bd3786"
             ],
             [
              0.5555555555555556,
              "#d8576b"
             ],
             [
              0.6666666666666666,
              "#ed7953"
             ],
             [
              0.7777777777777778,
              "#fb9f3a"
             ],
             [
              0.8888888888888888,
              "#fdca26"
             ],
             [
              1,
              "#f0f921"
             ]
            ],
            "type": "contour"
           }
          ],
          "contourcarpet": [
           {
            "colorbar": {
             "outlinewidth": 0,
             "ticks": ""
            },
            "type": "contourcarpet"
           }
          ],
          "heatmap": [
           {
            "colorbar": {
             "outlinewidth": 0,
             "ticks": ""
            },
            "colorscale": [
             [
              0,
              "#0d0887"
             ],
             [
              0.1111111111111111,
              "#46039f"
             ],
             [
              0.2222222222222222,
              "#7201a8"
             ],
             [
              0.3333333333333333,
              "#9c179e"
             ],
             [
              0.4444444444444444,
              "#bd3786"
             ],
             [
              0.5555555555555556,
              "#d8576b"
             ],
             [
              0.6666666666666666,
              "#ed7953"
             ],
             [
              0.7777777777777778,
              "#fb9f3a"
             ],
             [
              0.8888888888888888,
              "#fdca26"
             ],
             [
              1,
              "#f0f921"
             ]
            ],
            "type": "heatmap"
           }
          ],
          "heatmapgl": [
           {
            "colorbar": {
             "outlinewidth": 0,
             "ticks": ""
            },
            "colorscale": [
             [
              0,
              "#0d0887"
             ],
             [
              0.1111111111111111,
              "#46039f"
             ],
             [
              0.2222222222222222,
              "#7201a8"
             ],
             [
              0.3333333333333333,
              "#9c179e"
             ],
             [
              0.4444444444444444,
              "#bd3786"
             ],
             [
              0.5555555555555556,
              "#d8576b"
             ],
             [
              0.6666666666666666,
              "#ed7953"
             ],
             [
              0.7777777777777778,
              "#fb9f3a"
             ],
             [
              0.8888888888888888,
              "#fdca26"
             ],
             [
              1,
              "#f0f921"
             ]
            ],
            "type": "heatmapgl"
           }
          ],
          "histogram": [
           {
            "marker": {
             "pattern": {
              "fillmode": "overlay",
              "size": 10,
              "solidity": 0.2
             }
            },
            "type": "histogram"
           }
          ],
          "histogram2d": [
           {
            "colorbar": {
             "outlinewidth": 0,
             "ticks": ""
            },
            "colorscale": [
             [
              0,
              "#0d0887"
             ],
             [
              0.1111111111111111,
              "#46039f"
             ],
             [
              0.2222222222222222,
              "#7201a8"
             ],
             [
              0.3333333333333333,
              "#9c179e"
             ],
             [
              0.4444444444444444,
              "#bd3786"
             ],
             [
              0.5555555555555556,
              "#d8576b"
             ],
             [
              0.6666666666666666,
              "#ed7953"
             ],
             [
              0.7777777777777778,
              "#fb9f3a"
             ],
             [
              0.8888888888888888,
              "#fdca26"
             ],
             [
              1,
              "#f0f921"
             ]
            ],
            "type": "histogram2d"
           }
          ],
          "histogram2dcontour": [
           {
            "colorbar": {
             "outlinewidth": 0,
             "ticks": ""
            },
            "colorscale": [
             [
              0,
              "#0d0887"
             ],
             [
              0.1111111111111111,
              "#46039f"
             ],
             [
              0.2222222222222222,
              "#7201a8"
             ],
             [
              0.3333333333333333,
              "#9c179e"
             ],
             [
              0.4444444444444444,
              "#bd3786"
             ],
             [
              0.5555555555555556,
              "#d8576b"
             ],
             [
              0.6666666666666666,
              "#ed7953"
             ],
             [
              0.7777777777777778,
              "#fb9f3a"
             ],
             [
              0.8888888888888888,
              "#fdca26"
             ],
             [
              1,
              "#f0f921"
             ]
            ],
            "type": "histogram2dcontour"
           }
          ],
          "mesh3d": [
           {
            "colorbar": {
             "outlinewidth": 0,
             "ticks": ""
            },
            "type": "mesh3d"
           }
          ],
          "parcoords": [
           {
            "line": {
             "colorbar": {
              "outlinewidth": 0,
              "ticks": ""
             }
            },
            "type": "parcoords"
           }
          ],
          "pie": [
           {
            "automargin": true,
            "type": "pie"
           }
          ],
          "scatter": [
           {
            "fillpattern": {
             "fillmode": "overlay",
             "size": 10,
             "solidity": 0.2
            },
            "type": "scatter"
           }
          ],
          "scatter3d": [
           {
            "line": {
             "colorbar": {
              "outlinewidth": 0,
              "ticks": ""
             }
            },
            "marker": {
             "colorbar": {
              "outlinewidth": 0,
              "ticks": ""
             }
            },
            "type": "scatter3d"
           }
          ],
          "scattercarpet": [
           {
            "marker": {
             "colorbar": {
              "outlinewidth": 0,
              "ticks": ""
             }
            },
            "type": "scattercarpet"
           }
          ],
          "scattergeo": [
           {
            "marker": {
             "colorbar": {
              "outlinewidth": 0,
              "ticks": ""
             }
            },
            "type": "scattergeo"
           }
          ],
          "scattergl": [
           {
            "marker": {
             "colorbar": {
              "outlinewidth": 0,
              "ticks": ""
             }
            },
            "type": "scattergl"
           }
          ],
          "scattermapbox": [
           {
            "marker": {
             "colorbar": {
              "outlinewidth": 0,
              "ticks": ""
             }
            },
            "type": "scattermapbox"
           }
          ],
          "scatterpolar": [
           {
            "marker": {
             "colorbar": {
              "outlinewidth": 0,
              "ticks": ""
             }
            },
            "type": "scatterpolar"
           }
          ],
          "scatterpolargl": [
           {
            "marker": {
             "colorbar": {
              "outlinewidth": 0,
              "ticks": ""
             }
            },
            "type": "scatterpolargl"
           }
          ],
          "scatterternary": [
           {
            "marker": {
             "colorbar": {
              "outlinewidth": 0,
              "ticks": ""
             }
            },
            "type": "scatterternary"
           }
          ],
          "surface": [
           {
            "colorbar": {
             "outlinewidth": 0,
             "ticks": ""
            },
            "colorscale": [
             [
              0,
              "#0d0887"
             ],
             [
              0.1111111111111111,
              "#46039f"
             ],
             [
              0.2222222222222222,
              "#7201a8"
             ],
             [
              0.3333333333333333,
              "#9c179e"
             ],
             [
              0.4444444444444444,
              "#bd3786"
             ],
             [
              0.5555555555555556,
              "#d8576b"
             ],
             [
              0.6666666666666666,
              "#ed7953"
             ],
             [
              0.7777777777777778,
              "#fb9f3a"
             ],
             [
              0.8888888888888888,
              "#fdca26"
             ],
             [
              1,
              "#f0f921"
             ]
            ],
            "type": "surface"
           }
          ],
          "table": [
           {
            "cells": {
             "fill": {
              "color": "#EBF0F8"
             },
             "line": {
              "color": "white"
             }
            },
            "header": {
             "fill": {
              "color": "#C8D4E3"
             },
             "line": {
              "color": "white"
             }
            },
            "type": "table"
           }
          ]
         },
         "layout": {
          "annotationdefaults": {
           "arrowcolor": "#2a3f5f",
           "arrowhead": 0,
           "arrowwidth": 1
          },
          "autotypenumbers": "strict",
          "coloraxis": {
           "colorbar": {
            "outlinewidth": 0,
            "ticks": ""
           }
          },
          "colorscale": {
           "diverging": [
            [
             0,
             "#8e0152"
            ],
            [
             0.1,
             "#c51b7d"
            ],
            [
             0.2,
             "#de77ae"
            ],
            [
             0.3,
             "#f1b6da"
            ],
            [
             0.4,
             "#fde0ef"
            ],
            [
             0.5,
             "#f7f7f7"
            ],
            [
             0.6,
             "#e6f5d0"
            ],
            [
             0.7,
             "#b8e186"
            ],
            [
             0.8,
             "#7fbc41"
            ],
            [
             0.9,
             "#4d9221"
            ],
            [
             1,
             "#276419"
            ]
           ],
           "sequential": [
            [
             0,
             "#0d0887"
            ],
            [
             0.1111111111111111,
             "#46039f"
            ],
            [
             0.2222222222222222,
             "#7201a8"
            ],
            [
             0.3333333333333333,
             "#9c179e"
            ],
            [
             0.4444444444444444,
             "#bd3786"
            ],
            [
             0.5555555555555556,
             "#d8576b"
            ],
            [
             0.6666666666666666,
             "#ed7953"
            ],
            [
             0.7777777777777778,
             "#fb9f3a"
            ],
            [
             0.8888888888888888,
             "#fdca26"
            ],
            [
             1,
             "#f0f921"
            ]
           ],
           "sequentialminus": [
            [
             0,
             "#0d0887"
            ],
            [
             0.1111111111111111,
             "#46039f"
            ],
            [
             0.2222222222222222,
             "#7201a8"
            ],
            [
             0.3333333333333333,
             "#9c179e"
            ],
            [
             0.4444444444444444,
             "#bd3786"
            ],
            [
             0.5555555555555556,
             "#d8576b"
            ],
            [
             0.6666666666666666,
             "#ed7953"
            ],
            [
             0.7777777777777778,
             "#fb9f3a"
            ],
            [
             0.8888888888888888,
             "#fdca26"
            ],
            [
             1,
             "#f0f921"
            ]
           ]
          },
          "colorway": [
           "#636efa",
           "#EF553B",
           "#00cc96",
           "#ab63fa",
           "#FFA15A",
           "#19d3f3",
           "#FF6692",
           "#B6E880",
           "#FF97FF",
           "#FECB52"
          ],
          "font": {
           "color": "#2a3f5f"
          },
          "geo": {
           "bgcolor": "white",
           "lakecolor": "white",
           "landcolor": "#E5ECF6",
           "showlakes": true,
           "showland": true,
           "subunitcolor": "white"
          },
          "hoverlabel": {
           "align": "left"
          },
          "hovermode": "closest",
          "mapbox": {
           "style": "light"
          },
          "paper_bgcolor": "white",
          "plot_bgcolor": "#E5ECF6",
          "polar": {
           "angularaxis": {
            "gridcolor": "white",
            "linecolor": "white",
            "ticks": ""
           },
           "bgcolor": "#E5ECF6",
           "radialaxis": {
            "gridcolor": "white",
            "linecolor": "white",
            "ticks": ""
           }
          },
          "scene": {
           "xaxis": {
            "backgroundcolor": "#E5ECF6",
            "gridcolor": "white",
            "gridwidth": 2,
            "linecolor": "white",
            "showbackground": true,
            "ticks": "",
            "zerolinecolor": "white"
           },
           "yaxis": {
            "backgroundcolor": "#E5ECF6",
            "gridcolor": "white",
            "gridwidth": 2,
            "linecolor": "white",
            "showbackground": true,
            "ticks": "",
            "zerolinecolor": "white"
           },
           "zaxis": {
            "backgroundcolor": "#E5ECF6",
            "gridcolor": "white",
            "gridwidth": 2,
            "linecolor": "white",
            "showbackground": true,
            "ticks": "",
            "zerolinecolor": "white"
           }
          },
          "shapedefaults": {
           "line": {
            "color": "#2a3f5f"
           }
          },
          "ternary": {
           "aaxis": {
            "gridcolor": "white",
            "linecolor": "white",
            "ticks": ""
           },
           "baxis": {
            "gridcolor": "white",
            "linecolor": "white",
            "ticks": ""
           },
           "bgcolor": "#E5ECF6",
           "caxis": {
            "gridcolor": "white",
            "linecolor": "white",
            "ticks": ""
           }
          },
          "title": {
           "x": 0.05
          },
          "xaxis": {
           "automargin": true,
           "gridcolor": "white",
           "linecolor": "white",
           "ticks": "",
           "title": {
            "standoff": 15
           },
           "zerolinecolor": "white",
           "zerolinewidth": 2
          },
          "yaxis": {
           "automargin": true,
           "gridcolor": "white",
           "linecolor": "white",
           "ticks": "",
           "title": {
            "standoff": 15
           },
           "zerolinecolor": "white",
           "zerolinewidth": 2
          }
         }
        },
        "title": {
         "font": {
          "color": "#4D5663"
         }
        },
        "xaxis": {
         "gridcolor": "#E1E5ED",
         "showgrid": true,
         "tickfont": {
          "color": "#4D5663"
         },
         "title": {
          "font": {
           "color": "#4D5663"
          },
          "text": ""
         },
         "zerolinecolor": "#E1E5ED"
        },
        "yaxis": {
         "gridcolor": "#E1E5ED",
         "showgrid": true,
         "tickfont": {
          "color": "#4D5663"
         },
         "title": {
          "font": {
           "color": "#4D5663"
          },
          "text": ""
         },
         "zerolinecolor": "#E1E5ED"
        }
       }
      },
      "text/html": [
       "<div>                            <div id=\"ddd25179-c7ea-45e6-a2b5-52d589c133cd\" class=\"plotly-graph-div\" style=\"height:525px; width:100%;\"></div>            <script type=\"text/javascript\">                require([\"plotly\"], function(Plotly) {                    window.PLOTLYENV=window.PLOTLYENV || {};\n",
       "                    window.PLOTLYENV.BASE_URL='https://plot.ly';                                    if (document.getElementById(\"ddd25179-c7ea-45e6-a2b5-52d589c133cd\")) {                    Plotly.newPlot(                        \"ddd25179-c7ea-45e6-a2b5-52d589c133cd\",                        [{\"line\":{\"color\":\"rgba(255, 153, 51, 1.0)\",\"dash\":\"solid\",\"shape\":\"linear\",\"width\":1.3},\"mode\":\"lines\",\"name\":\"A\",\"text\":\"\",\"x\":[0,1,2,3,4,5,6,7,8,9,10,11,12,13,14,15,16,17,18,19,20,21,22,23,24,25,26,27,28,29,30,31,32,33,34,35,36,37,38,39,40,41,42,43,44,45,46,47,48,49,50,51,52,53,54,55,56,57,58,59,60,61,62,63,64,65,66,67,68,69,70,71,72,73,74,75,76,77,78,79,80,81,82,83,84,85,86,87,88,89,90,91,92,93,94,95,96,97,98,99],\"y\":[0.3586331746624718,-0.31304376044741095,0.9155501015715358,-2.102062606588993,0.408045526206134,-0.2653937053424654,-1.0608144632061376,0.8320160290835785,-0.9049475285738797,-0.17744210477049197,-1.4540758255989237,1.4257420406209662,-0.5205046343083947,-0.05769834283630299,0.47701003735893915,-0.04203967170773101,0.5954054803347232,0.5082602104081628,1.5464874830525634,0.03252793321033726,0.02470780179975145,-0.43883588421253367,0.7655553628093557,0.08479713396327594,-0.061697794787186545,-1.670028936339304,-0.44654185078945124,0.3424303635259183,-1.4760687974593132,1.00411471917094,-0.05524154132328517,0.014428830329574913,-0.3383435301323882,1.5183470766720768,-0.027803842073751618,1.7202240294648374,0.0659563768324742,0.8220356160516542,-0.5351973075051546,-0.15985840887473127,0.9323610128235857,0.6006660833479411,-0.8184884530933983,0.5152778925589065,2.5445342396284483,-0.03483860975117482,0.5162424224318293,0.9591449980497241,0.17777377052477863,-0.13969697340984139,-0.8569053896082983,0.2698446001276596,-0.19793090917579773,0.4250458772262773,0.3538791331723721,-2.2000463413342275,0.4181696188358884,-0.5901820888816727,0.020414193883099955,-0.6489481062883675,-0.3821890735220406,-0.32985879985063243,1.3954598123304571,0.05505854723609142,-0.6488143149635798,-0.21044309167380512,0.9436186500108769,-0.1344901082326483,0.4913203377664391,0.3285827524381691,-0.22242713380610743,-0.4202007414637871,0.10092135204452221,-0.516654392511781,-1.135954562451008,-0.7944885228365225,-0.8423266383457392,-1.359632784546133,0.7546560920413921,0.6516002595799931,0.8126667585524782,0.22038804422076191,0.054500146304780554,0.2125059915603282,-0.5119263987642447,0.46617177548286015,-1.375963954761399,0.4262163349180895,-1.205184119983154,-0.31379656718450993,0.4138625705495997,0.7663575825164424,-2.1174139409310984,0.5178801297938571,1.780572268688464,0.36758656402424283,-0.4135886115249514,0.8084776519283191,1.6336469314010316,2.230813714022468],\"type\":\"scatter\"},{\"line\":{\"color\":\"rgba(55, 128, 191, 1.0)\",\"dash\":\"solid\",\"shape\":\"linear\",\"width\":1.3},\"mode\":\"lines\",\"name\":\"B\",\"text\":\"\",\"x\":[0,1,2,3,4,5,6,7,8,9,10,11,12,13,14,15,16,17,18,19,20,21,22,23,24,25,26,27,28,29,30,31,32,33,34,35,36,37,38,39,40,41,42,43,44,45,46,47,48,49,50,51,52,53,54,55,56,57,58,59,60,61,62,63,64,65,66,67,68,69,70,71,72,73,74,75,76,77,78,79,80,81,82,83,84,85,86,87,88,89,90,91,92,93,94,95,96,97,98,99],\"y\":[-1.0590548720581747,-0.39190242572096723,0.2962891691222517,-0.5490583168335752,0.0883346775218682,-0.6114291879106363,-0.6373993095400021,-1.3757372678673856,0.7710307905294411,-0.7952282574924998,-1.0665821766458694,1.069364678832217,1.1469578718082771,-0.25199465875749505,0.7048053127514355,-0.70141193883703,-0.9687943837773987,-0.5179377536668606,1.0367137748339337,-0.926940875305391,-0.6431803601851102,-0.008176871309322228,-0.9552975301203914,-0.7588749739508795,0.8832832893949047,1.1755358794506057,-0.20549235635876878,-0.7491598214547203,-0.5734776537078125,0.49246483038810485,1.1571408435365964,0.35950239520271465,-0.9814813990037048,-0.3302371152060421,1.4279786237553096,0.09368539541218573,-0.05148049977783981,2.3212174669434593,-0.1741133687184468,1.1003712836406296,1.632706051966583,1.3341292330096408,1.2792614080957836,-0.9846673910400024,1.9008435066570037,0.8600680929881195,-0.6027765692000642,-0.46044062423880017,0.2036331641753118,1.6091632381996916,0.8319891984314672,-2.106481912504469,1.1587762643350736,0.4378282837245897,-0.6787113924870258,-1.3015491673560238,-0.4699970597901284,0.03448216204286796,-0.3921004216330228,0.4011602423714026,0.964934167991005,-1.5316121923083093,-2.708464465730562,0.1739441911266945,-0.24987881590183947,0.09772182633380014,0.7974157087788826,-0.06760707005609054,-1.0605788914082304,-1.0922449732655897,-0.46724550141681537,-1.311758303544521,1.5805631331227574,-2.7451393680018104,1.590657386425081,2.1594987472119085,0.8093209994861948,1.1872539693294126,-0.9376083371748265,-1.9880405933877292,-0.016931850993996047,0.19283107581930145,-1.2621201220902507,1.4219944905623008,0.03945646289475185,1.3468725540679272,0.3352148321341624,-0.7607245053299654,-1.3632969757334765,-0.25955811948574004,0.45549145421093473,-0.1296347833779436,0.04802303523424992,0.31671978263710604,-0.8908041289921246,0.6270179003637465,-0.1845078406753882,2.294840618932753,-1.8898838801321691,1.758211240623883],\"type\":\"scatter\"},{\"line\":{\"color\":\"rgba(50, 171, 96, 1.0)\",\"dash\":\"solid\",\"shape\":\"linear\",\"width\":1.3},\"mode\":\"lines\",\"name\":\"C\",\"text\":\"\",\"x\":[0,1,2,3,4,5,6,7,8,9,10,11,12,13,14,15,16,17,18,19,20,21,22,23,24,25,26,27,28,29,30,31,32,33,34,35,36,37,38,39,40,41,42,43,44,45,46,47,48,49,50,51,52,53,54,55,56,57,58,59,60,61,62,63,64,65,66,67,68,69,70,71,72,73,74,75,76,77,78,79,80,81,82,83,84,85,86,87,88,89,90,91,92,93,94,95,96,97,98,99],\"y\":[0.32429037739075883,1.1879409631045386,-0.38088091795317913,0.14806323550316,-0.5709168393551085,1.3853505290062362,0.030960518731206272,0.3938230637983112,0.6773066094802366,-0.1163003670518374,-0.7582509421132919,-0.38467937176662037,0.9367872426180641,0.3094300782732029,0.09601419265197059,0.5995511429549369,1.4439688168872717,-1.0965528579612354,-0.40781181780874987,-0.5913778404732251,0.7295991376359017,1.5579853159921473,0.05803394864840696,-1.248098266950036,1.4794877768861923,-2.394365890320898,0.874562873382905,-0.6699357548158725,-0.6961017168474808,-0.36174763518653275,1.4517901086461655,0.660505118013835,0.622063497987493,-0.054301146606529675,-0.37886913279578677,-0.008960006479370229,0.21263647906035765,0.14148615088666414,0.037315302544217124,0.6002888863566334,1.3398864669756754,0.5632927848357131,0.43994020088676306,-0.6424879662806519,0.8414231989301041,-0.263665109298404,1.0650209103243846,-0.4987174826350073,-0.029727275897059015,0.4811271849515231,-1.0639989151092917,2.7269733913483805,0.4202847481492167,0.23013615231109463,-0.19052950306876407,-0.07535647639230537,-0.10870803868613195,-1.7764691803724073,-0.20847521854327986,-0.9683394823778462,0.35115001230946635,1.6892276963651842,1.3804853265597006,2.921534826638845,-0.4309883401900627,-0.8817523768739174,0.27541040786185467,-0.3747113263296264,0.9740657170289369,-0.9702017630654753,-0.04811530584331376,-0.5383813969987241,0.16096932939744013,0.15306539136772737,-1.4896596280606906,-0.041852603529642,-1.2837275685397316,0.08498459969796693,0.6932661399547978,-0.48656111657997136,0.03244938448296639,0.5707242925265023,0.9752035089851828,1.5493900379188106,0.8698503692117641,-0.42065578813403187,-1.5706299711399163,-0.2347536852870114,-1.450009680526141,-0.5572941809131361,1.7607885483739076,0.1642451193947591,1.3806465480402927,0.5900768079783596,1.120446209170726,1.2089700577352944,-0.6984128021106067,0.3205901289951289,0.37574731970374725,0.30972045037775137],\"type\":\"scatter\"},{\"line\":{\"color\":\"rgba(128, 0, 128, 1.0)\",\"dash\":\"solid\",\"shape\":\"linear\",\"width\":1.3},\"mode\":\"lines\",\"name\":\"D\",\"text\":\"\",\"x\":[0,1,2,3,4,5,6,7,8,9,10,11,12,13,14,15,16,17,18,19,20,21,22,23,24,25,26,27,28,29,30,31,32,33,34,35,36,37,38,39,40,41,42,43,44,45,46,47,48,49,50,51,52,53,54,55,56,57,58,59,60,61,62,63,64,65,66,67,68,69,70,71,72,73,74,75,76,77,78,79,80,81,82,83,84,85,86,87,88,89,90,91,92,93,94,95,96,97,98,99],\"y\":[-0.3464588048417761,-0.647906547324458,0.3486779613719423,0.16578621922162767,-0.6930802152809857,-0.27001530192403844,2.199341644606675,0.6100190730886883,2.102550400217976,1.3032923422411529,-0.049762067909215585,1.0518251360175972,2.606214122416171,-0.2623492398003455,-3.1647169619393614,-0.372542819978809,0.14946434187215132,0.06191615910061245,-1.1814026933119086,-0.2766721067868842,-0.9524484776847364,0.890087121411412,0.16536143007143075,2.0950209738087247,0.6678254539418913,-2.4541658108616398,0.7272111499537395,-1.0632955813088365,0.5563393644310032,0.7007756021443959,-0.7634004670299073,-1.0366226598965147,0.8013304757037002,-0.9575358416562028,-1.2219996303846936,0.8411087011278587,-2.6876492176403706,0.21697871372465866,0.8661761718498764,-0.004477953671440384,-0.24156899072457647,-1.191982405527518,-1.830769949480394,-0.3603791966519778,-1.8541561044408092,-0.8269509146760182,1.2351690456101407,-0.7374726976400329,1.1496626540716828,0.11539306667485381,-0.5874759092324688,-0.29647288445001413,0.8043685590974445,-0.25129479981146213,-0.009082767107194573,0.8249201350185461,-0.9041916236427177,-0.2598132126343078,2.5209152581221406,-0.7414821119261477,0.6528585246841945,0.4727346988738507,-0.4255885388211691,-0.33523865860121993,0.002340531266801451,1.1677113148248681,0.4436607499705828,-1.1378815712598933,-0.9528152338377582,1.3354358098041545,-0.4143195912799377,-0.27195585863102767,-0.5128124546494139,1.1933581947975167,-1.0426560248342713,0.08732828643538657,0.3329346714021422,0.015406732187095097,-1.2208821836590111,1.37925115599276,-0.0021740284364161677,-0.7139241821707765,-0.19727820197878954,0.8372822892101166,1.0594670766221612,1.1254072337082799,1.427965150259643,0.3496471642051402,-0.7616288308439892,-1.1845313919354337,-0.17747967699706843,0.649994802912574,0.3041126587233753,-1.172829688566211,-1.4701448507469361,0.33854444006522966,0.22917881846691687,-0.4156796942910539,-0.18684705250454173,-0.16557973376077886],\"type\":\"scatter\"}],                        {\"legend\":{\"bgcolor\":\"#F5F6F9\",\"font\":{\"color\":\"#4D5663\"}},\"paper_bgcolor\":\"#F5F6F9\",\"plot_bgcolor\":\"#F5F6F9\",\"template\":{\"data\":{\"barpolar\":[{\"marker\":{\"line\":{\"color\":\"#E5ECF6\",\"width\":0.5},\"pattern\":{\"fillmode\":\"overlay\",\"size\":10,\"solidity\":0.2}},\"type\":\"barpolar\"}],\"bar\":[{\"error_x\":{\"color\":\"#2a3f5f\"},\"error_y\":{\"color\":\"#2a3f5f\"},\"marker\":{\"line\":{\"color\":\"#E5ECF6\",\"width\":0.5},\"pattern\":{\"fillmode\":\"overlay\",\"size\":10,\"solidity\":0.2}},\"type\":\"bar\"}],\"carpet\":[{\"aaxis\":{\"endlinecolor\":\"#2a3f5f\",\"gridcolor\":\"white\",\"linecolor\":\"white\",\"minorgridcolor\":\"white\",\"startlinecolor\":\"#2a3f5f\"},\"baxis\":{\"endlinecolor\":\"#2a3f5f\",\"gridcolor\":\"white\",\"linecolor\":\"white\",\"minorgridcolor\":\"white\",\"startlinecolor\":\"#2a3f5f\"},\"type\":\"carpet\"}],\"choropleth\":[{\"colorbar\":{\"outlinewidth\":0,\"ticks\":\"\"},\"type\":\"choropleth\"}],\"contourcarpet\":[{\"colorbar\":{\"outlinewidth\":0,\"ticks\":\"\"},\"type\":\"contourcarpet\"}],\"contour\":[{\"colorbar\":{\"outlinewidth\":0,\"ticks\":\"\"},\"colorscale\":[[0.0,\"#0d0887\"],[0.1111111111111111,\"#46039f\"],[0.2222222222222222,\"#7201a8\"],[0.3333333333333333,\"#9c179e\"],[0.4444444444444444,\"#bd3786\"],[0.5555555555555556,\"#d8576b\"],[0.6666666666666666,\"#ed7953\"],[0.7777777777777778,\"#fb9f3a\"],[0.8888888888888888,\"#fdca26\"],[1.0,\"#f0f921\"]],\"type\":\"contour\"}],\"heatmapgl\":[{\"colorbar\":{\"outlinewidth\":0,\"ticks\":\"\"},\"colorscale\":[[0.0,\"#0d0887\"],[0.1111111111111111,\"#46039f\"],[0.2222222222222222,\"#7201a8\"],[0.3333333333333333,\"#9c179e\"],[0.4444444444444444,\"#bd3786\"],[0.5555555555555556,\"#d8576b\"],[0.6666666666666666,\"#ed7953\"],[0.7777777777777778,\"#fb9f3a\"],[0.8888888888888888,\"#fdca26\"],[1.0,\"#f0f921\"]],\"type\":\"heatmapgl\"}],\"heatmap\":[{\"colorbar\":{\"outlinewidth\":0,\"ticks\":\"\"},\"colorscale\":[[0.0,\"#0d0887\"],[0.1111111111111111,\"#46039f\"],[0.2222222222222222,\"#7201a8\"],[0.3333333333333333,\"#9c179e\"],[0.4444444444444444,\"#bd3786\"],[0.5555555555555556,\"#d8576b\"],[0.6666666666666666,\"#ed7953\"],[0.7777777777777778,\"#fb9f3a\"],[0.8888888888888888,\"#fdca26\"],[1.0,\"#f0f921\"]],\"type\":\"heatmap\"}],\"histogram2dcontour\":[{\"colorbar\":{\"outlinewidth\":0,\"ticks\":\"\"},\"colorscale\":[[0.0,\"#0d0887\"],[0.1111111111111111,\"#46039f\"],[0.2222222222222222,\"#7201a8\"],[0.3333333333333333,\"#9c179e\"],[0.4444444444444444,\"#bd3786\"],[0.5555555555555556,\"#d8576b\"],[0.6666666666666666,\"#ed7953\"],[0.7777777777777778,\"#fb9f3a\"],[0.8888888888888888,\"#fdca26\"],[1.0,\"#f0f921\"]],\"type\":\"histogram2dcontour\"}],\"histogram2d\":[{\"colorbar\":{\"outlinewidth\":0,\"ticks\":\"\"},\"colorscale\":[[0.0,\"#0d0887\"],[0.1111111111111111,\"#46039f\"],[0.2222222222222222,\"#7201a8\"],[0.3333333333333333,\"#9c179e\"],[0.4444444444444444,\"#bd3786\"],[0.5555555555555556,\"#d8576b\"],[0.6666666666666666,\"#ed7953\"],[0.7777777777777778,\"#fb9f3a\"],[0.8888888888888888,\"#fdca26\"],[1.0,\"#f0f921\"]],\"type\":\"histogram2d\"}],\"histogram\":[{\"marker\":{\"pattern\":{\"fillmode\":\"overlay\",\"size\":10,\"solidity\":0.2}},\"type\":\"histogram\"}],\"mesh3d\":[{\"colorbar\":{\"outlinewidth\":0,\"ticks\":\"\"},\"type\":\"mesh3d\"}],\"parcoords\":[{\"line\":{\"colorbar\":{\"outlinewidth\":0,\"ticks\":\"\"}},\"type\":\"parcoords\"}],\"pie\":[{\"automargin\":true,\"type\":\"pie\"}],\"scatter3d\":[{\"line\":{\"colorbar\":{\"outlinewidth\":0,\"ticks\":\"\"}},\"marker\":{\"colorbar\":{\"outlinewidth\":0,\"ticks\":\"\"}},\"type\":\"scatter3d\"}],\"scattercarpet\":[{\"marker\":{\"colorbar\":{\"outlinewidth\":0,\"ticks\":\"\"}},\"type\":\"scattercarpet\"}],\"scattergeo\":[{\"marker\":{\"colorbar\":{\"outlinewidth\":0,\"ticks\":\"\"}},\"type\":\"scattergeo\"}],\"scattergl\":[{\"marker\":{\"colorbar\":{\"outlinewidth\":0,\"ticks\":\"\"}},\"type\":\"scattergl\"}],\"scattermapbox\":[{\"marker\":{\"colorbar\":{\"outlinewidth\":0,\"ticks\":\"\"}},\"type\":\"scattermapbox\"}],\"scatterpolargl\":[{\"marker\":{\"colorbar\":{\"outlinewidth\":0,\"ticks\":\"\"}},\"type\":\"scatterpolargl\"}],\"scatterpolar\":[{\"marker\":{\"colorbar\":{\"outlinewidth\":0,\"ticks\":\"\"}},\"type\":\"scatterpolar\"}],\"scatter\":[{\"fillpattern\":{\"fillmode\":\"overlay\",\"size\":10,\"solidity\":0.2},\"type\":\"scatter\"}],\"scatterternary\":[{\"marker\":{\"colorbar\":{\"outlinewidth\":0,\"ticks\":\"\"}},\"type\":\"scatterternary\"}],\"surface\":[{\"colorbar\":{\"outlinewidth\":0,\"ticks\":\"\"},\"colorscale\":[[0.0,\"#0d0887\"],[0.1111111111111111,\"#46039f\"],[0.2222222222222222,\"#7201a8\"],[0.3333333333333333,\"#9c179e\"],[0.4444444444444444,\"#bd3786\"],[0.5555555555555556,\"#d8576b\"],[0.6666666666666666,\"#ed7953\"],[0.7777777777777778,\"#fb9f3a\"],[0.8888888888888888,\"#fdca26\"],[1.0,\"#f0f921\"]],\"type\":\"surface\"}],\"table\":[{\"cells\":{\"fill\":{\"color\":\"#EBF0F8\"},\"line\":{\"color\":\"white\"}},\"header\":{\"fill\":{\"color\":\"#C8D4E3\"},\"line\":{\"color\":\"white\"}},\"type\":\"table\"}]},\"layout\":{\"annotationdefaults\":{\"arrowcolor\":\"#2a3f5f\",\"arrowhead\":0,\"arrowwidth\":1},\"autotypenumbers\":\"strict\",\"coloraxis\":{\"colorbar\":{\"outlinewidth\":0,\"ticks\":\"\"}},\"colorscale\":{\"diverging\":[[0,\"#8e0152\"],[0.1,\"#c51b7d\"],[0.2,\"#de77ae\"],[0.3,\"#f1b6da\"],[0.4,\"#fde0ef\"],[0.5,\"#f7f7f7\"],[0.6,\"#e6f5d0\"],[0.7,\"#b8e186\"],[0.8,\"#7fbc41\"],[0.9,\"#4d9221\"],[1,\"#276419\"]],\"sequential\":[[0.0,\"#0d0887\"],[0.1111111111111111,\"#46039f\"],[0.2222222222222222,\"#7201a8\"],[0.3333333333333333,\"#9c179e\"],[0.4444444444444444,\"#bd3786\"],[0.5555555555555556,\"#d8576b\"],[0.6666666666666666,\"#ed7953\"],[0.7777777777777778,\"#fb9f3a\"],[0.8888888888888888,\"#fdca26\"],[1.0,\"#f0f921\"]],\"sequentialminus\":[[0.0,\"#0d0887\"],[0.1111111111111111,\"#46039f\"],[0.2222222222222222,\"#7201a8\"],[0.3333333333333333,\"#9c179e\"],[0.4444444444444444,\"#bd3786\"],[0.5555555555555556,\"#d8576b\"],[0.6666666666666666,\"#ed7953\"],[0.7777777777777778,\"#fb9f3a\"],[0.8888888888888888,\"#fdca26\"],[1.0,\"#f0f921\"]]},\"colorway\":[\"#636efa\",\"#EF553B\",\"#00cc96\",\"#ab63fa\",\"#FFA15A\",\"#19d3f3\",\"#FF6692\",\"#B6E880\",\"#FF97FF\",\"#FECB52\"],\"font\":{\"color\":\"#2a3f5f\"},\"geo\":{\"bgcolor\":\"white\",\"lakecolor\":\"white\",\"landcolor\":\"#E5ECF6\",\"showlakes\":true,\"showland\":true,\"subunitcolor\":\"white\"},\"hoverlabel\":{\"align\":\"left\"},\"hovermode\":\"closest\",\"mapbox\":{\"style\":\"light\"},\"paper_bgcolor\":\"white\",\"plot_bgcolor\":\"#E5ECF6\",\"polar\":{\"angularaxis\":{\"gridcolor\":\"white\",\"linecolor\":\"white\",\"ticks\":\"\"},\"bgcolor\":\"#E5ECF6\",\"radialaxis\":{\"gridcolor\":\"white\",\"linecolor\":\"white\",\"ticks\":\"\"}},\"scene\":{\"xaxis\":{\"backgroundcolor\":\"#E5ECF6\",\"gridcolor\":\"white\",\"gridwidth\":2,\"linecolor\":\"white\",\"showbackground\":true,\"ticks\":\"\",\"zerolinecolor\":\"white\"},\"yaxis\":{\"backgroundcolor\":\"#E5ECF6\",\"gridcolor\":\"white\",\"gridwidth\":2,\"linecolor\":\"white\",\"showbackground\":true,\"ticks\":\"\",\"zerolinecolor\":\"white\"},\"zaxis\":{\"backgroundcolor\":\"#E5ECF6\",\"gridcolor\":\"white\",\"gridwidth\":2,\"linecolor\":\"white\",\"showbackground\":true,\"ticks\":\"\",\"zerolinecolor\":\"white\"}},\"shapedefaults\":{\"line\":{\"color\":\"#2a3f5f\"}},\"ternary\":{\"aaxis\":{\"gridcolor\":\"white\",\"linecolor\":\"white\",\"ticks\":\"\"},\"baxis\":{\"gridcolor\":\"white\",\"linecolor\":\"white\",\"ticks\":\"\"},\"bgcolor\":\"#E5ECF6\",\"caxis\":{\"gridcolor\":\"white\",\"linecolor\":\"white\",\"ticks\":\"\"}},\"title\":{\"x\":0.05},\"xaxis\":{\"automargin\":true,\"gridcolor\":\"white\",\"linecolor\":\"white\",\"ticks\":\"\",\"title\":{\"standoff\":15},\"zerolinecolor\":\"white\",\"zerolinewidth\":2},\"yaxis\":{\"automargin\":true,\"gridcolor\":\"white\",\"linecolor\":\"white\",\"ticks\":\"\",\"title\":{\"standoff\":15},\"zerolinecolor\":\"white\",\"zerolinewidth\":2}}},\"title\":{\"font\":{\"color\":\"#4D5663\"}},\"xaxis\":{\"gridcolor\":\"#E1E5ED\",\"showgrid\":true,\"tickfont\":{\"color\":\"#4D5663\"},\"title\":{\"font\":{\"color\":\"#4D5663\"},\"text\":\"\"},\"zerolinecolor\":\"#E1E5ED\"},\"yaxis\":{\"gridcolor\":\"#E1E5ED\",\"showgrid\":true,\"tickfont\":{\"color\":\"#4D5663\"},\"title\":{\"font\":{\"color\":\"#4D5663\"},\"text\":\"\"},\"zerolinecolor\":\"#E1E5ED\"}},                        {\"showLink\": true, \"linkText\": \"Export to plot.ly\", \"plotlyServerURL\": \"https://plot.ly\", \"responsive\": true}                    ).then(function(){\n",
       "                            \n",
       "var gd = document.getElementById('ddd25179-c7ea-45e6-a2b5-52d589c133cd');\n",
       "var x = new MutationObserver(function (mutations, observer) {{\n",
       "        var display = window.getComputedStyle(gd).display;\n",
       "        if (!display || display === 'none') {{\n",
       "            console.log([gd, 'removed!']);\n",
       "            Plotly.purge(gd);\n",
       "            observer.disconnect();\n",
       "        }}\n",
       "}});\n",
       "\n",
       "// Listen for the removal of the full notebook cells\n",
       "var notebookContainer = gd.closest('#notebook-container');\n",
       "if (notebookContainer) {{\n",
       "    x.observe(notebookContainer, {childList: true});\n",
       "}}\n",
       "\n",
       "// Listen for the clearing of the current output cell\n",
       "var outputEl = gd.closest('.output');\n",
       "if (outputEl) {{\n",
       "    x.observe(outputEl, {childList: true});\n",
       "}}\n",
       "\n",
       "                        })                };                });            </script>        </div>"
      ]
     },
     "metadata": {},
     "output_type": "display_data"
    }
   ],
   "source": [
    "df1.iplot()"
   ]
  },
  {
   "cell_type": "code",
   "execution_count": 17,
   "id": "e6a7a381",
   "metadata": {},
   "outputs": [
    {
     "data": {
      "application/vnd.plotly.v1+json": {
       "config": {
        "linkText": "Export to plot.ly",
        "plotlyServerURL": "https://plot.ly",
        "showLink": true
       },
       "data": [
        {
         "line": {
          "color": "rgba(255, 153, 51, 1.0)",
          "dash": "solid",
          "shape": "linear",
          "width": 1.3
         },
         "mode": "lines",
         "name": "B",
         "text": "",
         "type": "scatter",
         "x": [
          0.3586331746624718,
          -0.31304376044741095,
          0.9155501015715358,
          -2.102062606588993,
          0.408045526206134,
          -0.2653937053424654,
          -1.0608144632061376,
          0.8320160290835785,
          -0.9049475285738797,
          -0.17744210477049197,
          -1.4540758255989237,
          1.4257420406209662,
          -0.5205046343083947,
          -0.05769834283630299,
          0.47701003735893915,
          -0.04203967170773101,
          0.5954054803347232,
          0.5082602104081628,
          1.5464874830525634,
          0.03252793321033726,
          0.02470780179975145,
          -0.43883588421253367,
          0.7655553628093557,
          0.08479713396327594,
          -0.061697794787186545,
          -1.670028936339304,
          -0.44654185078945124,
          0.3424303635259183,
          -1.4760687974593132,
          1.00411471917094,
          -0.05524154132328517,
          0.014428830329574913,
          -0.3383435301323882,
          1.5183470766720768,
          -0.027803842073751618,
          1.7202240294648374,
          0.0659563768324742,
          0.8220356160516542,
          -0.5351973075051546,
          -0.15985840887473127,
          0.9323610128235857,
          0.6006660833479411,
          -0.8184884530933983,
          0.5152778925589065,
          2.5445342396284483,
          -0.03483860975117482,
          0.5162424224318293,
          0.9591449980497241,
          0.17777377052477863,
          -0.13969697340984139,
          -0.8569053896082983,
          0.2698446001276596,
          -0.19793090917579773,
          0.4250458772262773,
          0.3538791331723721,
          -2.2000463413342275,
          0.4181696188358884,
          -0.5901820888816727,
          0.020414193883099955,
          -0.6489481062883675,
          -0.3821890735220406,
          -0.32985879985063243,
          1.3954598123304571,
          0.05505854723609142,
          -0.6488143149635798,
          -0.21044309167380512,
          0.9436186500108769,
          -0.1344901082326483,
          0.4913203377664391,
          0.3285827524381691,
          -0.22242713380610743,
          -0.4202007414637871,
          0.10092135204452221,
          -0.516654392511781,
          -1.135954562451008,
          -0.7944885228365225,
          -0.8423266383457392,
          -1.359632784546133,
          0.7546560920413921,
          0.6516002595799931,
          0.8126667585524782,
          0.22038804422076191,
          0.054500146304780554,
          0.2125059915603282,
          -0.5119263987642447,
          0.46617177548286015,
          -1.375963954761399,
          0.4262163349180895,
          -1.205184119983154,
          -0.31379656718450993,
          0.4138625705495997,
          0.7663575825164424,
          -2.1174139409310984,
          0.5178801297938571,
          1.780572268688464,
          0.36758656402424283,
          -0.4135886115249514,
          0.8084776519283191,
          1.6336469314010316,
          2.230813714022468
         ],
         "y": [
          -1.0590548720581747,
          -0.39190242572096723,
          0.2962891691222517,
          -0.5490583168335752,
          0.0883346775218682,
          -0.6114291879106363,
          -0.6373993095400021,
          -1.3757372678673856,
          0.7710307905294411,
          -0.7952282574924998,
          -1.0665821766458694,
          1.069364678832217,
          1.1469578718082771,
          -0.25199465875749505,
          0.7048053127514355,
          -0.70141193883703,
          -0.9687943837773987,
          -0.5179377536668606,
          1.0367137748339337,
          -0.926940875305391,
          -0.6431803601851102,
          -0.008176871309322228,
          -0.9552975301203914,
          -0.7588749739508795,
          0.8832832893949047,
          1.1755358794506057,
          -0.20549235635876878,
          -0.7491598214547203,
          -0.5734776537078125,
          0.49246483038810485,
          1.1571408435365964,
          0.35950239520271465,
          -0.9814813990037048,
          -0.3302371152060421,
          1.4279786237553096,
          0.09368539541218573,
          -0.05148049977783981,
          2.3212174669434593,
          -0.1741133687184468,
          1.1003712836406296,
          1.632706051966583,
          1.3341292330096408,
          1.2792614080957836,
          -0.9846673910400024,
          1.9008435066570037,
          0.8600680929881195,
          -0.6027765692000642,
          -0.46044062423880017,
          0.2036331641753118,
          1.6091632381996916,
          0.8319891984314672,
          -2.106481912504469,
          1.1587762643350736,
          0.4378282837245897,
          -0.6787113924870258,
          -1.3015491673560238,
          -0.4699970597901284,
          0.03448216204286796,
          -0.3921004216330228,
          0.4011602423714026,
          0.964934167991005,
          -1.5316121923083093,
          -2.708464465730562,
          0.1739441911266945,
          -0.24987881590183947,
          0.09772182633380014,
          0.7974157087788826,
          -0.06760707005609054,
          -1.0605788914082304,
          -1.0922449732655897,
          -0.46724550141681537,
          -1.311758303544521,
          1.5805631331227574,
          -2.7451393680018104,
          1.590657386425081,
          2.1594987472119085,
          0.8093209994861948,
          1.1872539693294126,
          -0.9376083371748265,
          -1.9880405933877292,
          -0.016931850993996047,
          0.19283107581930145,
          -1.2621201220902507,
          1.4219944905623008,
          0.03945646289475185,
          1.3468725540679272,
          0.3352148321341624,
          -0.7607245053299654,
          -1.3632969757334765,
          -0.25955811948574004,
          0.45549145421093473,
          -0.1296347833779436,
          0.04802303523424992,
          0.31671978263710604,
          -0.8908041289921246,
          0.6270179003637465,
          -0.1845078406753882,
          2.294840618932753,
          -1.8898838801321691,
          1.758211240623883
         ]
        }
       ],
       "layout": {
        "legend": {
         "bgcolor": "#F5F6F9",
         "font": {
          "color": "#4D5663"
         }
        },
        "paper_bgcolor": "#F5F6F9",
        "plot_bgcolor": "#F5F6F9",
        "template": {
         "data": {
          "bar": [
           {
            "error_x": {
             "color": "#2a3f5f"
            },
            "error_y": {
             "color": "#2a3f5f"
            },
            "marker": {
             "line": {
              "color": "#E5ECF6",
              "width": 0.5
             },
             "pattern": {
              "fillmode": "overlay",
              "size": 10,
              "solidity": 0.2
             }
            },
            "type": "bar"
           }
          ],
          "barpolar": [
           {
            "marker": {
             "line": {
              "color": "#E5ECF6",
              "width": 0.5
             },
             "pattern": {
              "fillmode": "overlay",
              "size": 10,
              "solidity": 0.2
             }
            },
            "type": "barpolar"
           }
          ],
          "carpet": [
           {
            "aaxis": {
             "endlinecolor": "#2a3f5f",
             "gridcolor": "white",
             "linecolor": "white",
             "minorgridcolor": "white",
             "startlinecolor": "#2a3f5f"
            },
            "baxis": {
             "endlinecolor": "#2a3f5f",
             "gridcolor": "white",
             "linecolor": "white",
             "minorgridcolor": "white",
             "startlinecolor": "#2a3f5f"
            },
            "type": "carpet"
           }
          ],
          "choropleth": [
           {
            "colorbar": {
             "outlinewidth": 0,
             "ticks": ""
            },
            "type": "choropleth"
           }
          ],
          "contour": [
           {
            "colorbar": {
             "outlinewidth": 0,
             "ticks": ""
            },
            "colorscale": [
             [
              0,
              "#0d0887"
             ],
             [
              0.1111111111111111,
              "#46039f"
             ],
             [
              0.2222222222222222,
              "#7201a8"
             ],
             [
              0.3333333333333333,
              "#9c179e"
             ],
             [
              0.4444444444444444,
              "#bd3786"
             ],
             [
              0.5555555555555556,
              "#d8576b"
             ],
             [
              0.6666666666666666,
              "#ed7953"
             ],
             [
              0.7777777777777778,
              "#fb9f3a"
             ],
             [
              0.8888888888888888,
              "#fdca26"
             ],
             [
              1,
              "#f0f921"
             ]
            ],
            "type": "contour"
           }
          ],
          "contourcarpet": [
           {
            "colorbar": {
             "outlinewidth": 0,
             "ticks": ""
            },
            "type": "contourcarpet"
           }
          ],
          "heatmap": [
           {
            "colorbar": {
             "outlinewidth": 0,
             "ticks": ""
            },
            "colorscale": [
             [
              0,
              "#0d0887"
             ],
             [
              0.1111111111111111,
              "#46039f"
             ],
             [
              0.2222222222222222,
              "#7201a8"
             ],
             [
              0.3333333333333333,
              "#9c179e"
             ],
             [
              0.4444444444444444,
              "#bd3786"
             ],
             [
              0.5555555555555556,
              "#d8576b"
             ],
             [
              0.6666666666666666,
              "#ed7953"
             ],
             [
              0.7777777777777778,
              "#fb9f3a"
             ],
             [
              0.8888888888888888,
              "#fdca26"
             ],
             [
              1,
              "#f0f921"
             ]
            ],
            "type": "heatmap"
           }
          ],
          "heatmapgl": [
           {
            "colorbar": {
             "outlinewidth": 0,
             "ticks": ""
            },
            "colorscale": [
             [
              0,
              "#0d0887"
             ],
             [
              0.1111111111111111,
              "#46039f"
             ],
             [
              0.2222222222222222,
              "#7201a8"
             ],
             [
              0.3333333333333333,
              "#9c179e"
             ],
             [
              0.4444444444444444,
              "#bd3786"
             ],
             [
              0.5555555555555556,
              "#d8576b"
             ],
             [
              0.6666666666666666,
              "#ed7953"
             ],
             [
              0.7777777777777778,
              "#fb9f3a"
             ],
             [
              0.8888888888888888,
              "#fdca26"
             ],
             [
              1,
              "#f0f921"
             ]
            ],
            "type": "heatmapgl"
           }
          ],
          "histogram": [
           {
            "marker": {
             "pattern": {
              "fillmode": "overlay",
              "size": 10,
              "solidity": 0.2
             }
            },
            "type": "histogram"
           }
          ],
          "histogram2d": [
           {
            "colorbar": {
             "outlinewidth": 0,
             "ticks": ""
            },
            "colorscale": [
             [
              0,
              "#0d0887"
             ],
             [
              0.1111111111111111,
              "#46039f"
             ],
             [
              0.2222222222222222,
              "#7201a8"
             ],
             [
              0.3333333333333333,
              "#9c179e"
             ],
             [
              0.4444444444444444,
              "#bd3786"
             ],
             [
              0.5555555555555556,
              "#d8576b"
             ],
             [
              0.6666666666666666,
              "#ed7953"
             ],
             [
              0.7777777777777778,
              "#fb9f3a"
             ],
             [
              0.8888888888888888,
              "#fdca26"
             ],
             [
              1,
              "#f0f921"
             ]
            ],
            "type": "histogram2d"
           }
          ],
          "histogram2dcontour": [
           {
            "colorbar": {
             "outlinewidth": 0,
             "ticks": ""
            },
            "colorscale": [
             [
              0,
              "#0d0887"
             ],
             [
              0.1111111111111111,
              "#46039f"
             ],
             [
              0.2222222222222222,
              "#7201a8"
             ],
             [
              0.3333333333333333,
              "#9c179e"
             ],
             [
              0.4444444444444444,
              "#bd3786"
             ],
             [
              0.5555555555555556,
              "#d8576b"
             ],
             [
              0.6666666666666666,
              "#ed7953"
             ],
             [
              0.7777777777777778,
              "#fb9f3a"
             ],
             [
              0.8888888888888888,
              "#fdca26"
             ],
             [
              1,
              "#f0f921"
             ]
            ],
            "type": "histogram2dcontour"
           }
          ],
          "mesh3d": [
           {
            "colorbar": {
             "outlinewidth": 0,
             "ticks": ""
            },
            "type": "mesh3d"
           }
          ],
          "parcoords": [
           {
            "line": {
             "colorbar": {
              "outlinewidth": 0,
              "ticks": ""
             }
            },
            "type": "parcoords"
           }
          ],
          "pie": [
           {
            "automargin": true,
            "type": "pie"
           }
          ],
          "scatter": [
           {
            "fillpattern": {
             "fillmode": "overlay",
             "size": 10,
             "solidity": 0.2
            },
            "type": "scatter"
           }
          ],
          "scatter3d": [
           {
            "line": {
             "colorbar": {
              "outlinewidth": 0,
              "ticks": ""
             }
            },
            "marker": {
             "colorbar": {
              "outlinewidth": 0,
              "ticks": ""
             }
            },
            "type": "scatter3d"
           }
          ],
          "scattercarpet": [
           {
            "marker": {
             "colorbar": {
              "outlinewidth": 0,
              "ticks": ""
             }
            },
            "type": "scattercarpet"
           }
          ],
          "scattergeo": [
           {
            "marker": {
             "colorbar": {
              "outlinewidth": 0,
              "ticks": ""
             }
            },
            "type": "scattergeo"
           }
          ],
          "scattergl": [
           {
            "marker": {
             "colorbar": {
              "outlinewidth": 0,
              "ticks": ""
             }
            },
            "type": "scattergl"
           }
          ],
          "scattermapbox": [
           {
            "marker": {
             "colorbar": {
              "outlinewidth": 0,
              "ticks": ""
             }
            },
            "type": "scattermapbox"
           }
          ],
          "scatterpolar": [
           {
            "marker": {
             "colorbar": {
              "outlinewidth": 0,
              "ticks": ""
             }
            },
            "type": "scatterpolar"
           }
          ],
          "scatterpolargl": [
           {
            "marker": {
             "colorbar": {
              "outlinewidth": 0,
              "ticks": ""
             }
            },
            "type": "scatterpolargl"
           }
          ],
          "scatterternary": [
           {
            "marker": {
             "colorbar": {
              "outlinewidth": 0,
              "ticks": ""
             }
            },
            "type": "scatterternary"
           }
          ],
          "surface": [
           {
            "colorbar": {
             "outlinewidth": 0,
             "ticks": ""
            },
            "colorscale": [
             [
              0,
              "#0d0887"
             ],
             [
              0.1111111111111111,
              "#46039f"
             ],
             [
              0.2222222222222222,
              "#7201a8"
             ],
             [
              0.3333333333333333,
              "#9c179e"
             ],
             [
              0.4444444444444444,
              "#bd3786"
             ],
             [
              0.5555555555555556,
              "#d8576b"
             ],
             [
              0.6666666666666666,
              "#ed7953"
             ],
             [
              0.7777777777777778,
              "#fb9f3a"
             ],
             [
              0.8888888888888888,
              "#fdca26"
             ],
             [
              1,
              "#f0f921"
             ]
            ],
            "type": "surface"
           }
          ],
          "table": [
           {
            "cells": {
             "fill": {
              "color": "#EBF0F8"
             },
             "line": {
              "color": "white"
             }
            },
            "header": {
             "fill": {
              "color": "#C8D4E3"
             },
             "line": {
              "color": "white"
             }
            },
            "type": "table"
           }
          ]
         },
         "layout": {
          "annotationdefaults": {
           "arrowcolor": "#2a3f5f",
           "arrowhead": 0,
           "arrowwidth": 1
          },
          "autotypenumbers": "strict",
          "coloraxis": {
           "colorbar": {
            "outlinewidth": 0,
            "ticks": ""
           }
          },
          "colorscale": {
           "diverging": [
            [
             0,
             "#8e0152"
            ],
            [
             0.1,
             "#c51b7d"
            ],
            [
             0.2,
             "#de77ae"
            ],
            [
             0.3,
             "#f1b6da"
            ],
            [
             0.4,
             "#fde0ef"
            ],
            [
             0.5,
             "#f7f7f7"
            ],
            [
             0.6,
             "#e6f5d0"
            ],
            [
             0.7,
             "#b8e186"
            ],
            [
             0.8,
             "#7fbc41"
            ],
            [
             0.9,
             "#4d9221"
            ],
            [
             1,
             "#276419"
            ]
           ],
           "sequential": [
            [
             0,
             "#0d0887"
            ],
            [
             0.1111111111111111,
             "#46039f"
            ],
            [
             0.2222222222222222,
             "#7201a8"
            ],
            [
             0.3333333333333333,
             "#9c179e"
            ],
            [
             0.4444444444444444,
             "#bd3786"
            ],
            [
             0.5555555555555556,
             "#d8576b"
            ],
            [
             0.6666666666666666,
             "#ed7953"
            ],
            [
             0.7777777777777778,
             "#fb9f3a"
            ],
            [
             0.8888888888888888,
             "#fdca26"
            ],
            [
             1,
             "#f0f921"
            ]
           ],
           "sequentialminus": [
            [
             0,
             "#0d0887"
            ],
            [
             0.1111111111111111,
             "#46039f"
            ],
            [
             0.2222222222222222,
             "#7201a8"
            ],
            [
             0.3333333333333333,
             "#9c179e"
            ],
            [
             0.4444444444444444,
             "#bd3786"
            ],
            [
             0.5555555555555556,
             "#d8576b"
            ],
            [
             0.6666666666666666,
             "#ed7953"
            ],
            [
             0.7777777777777778,
             "#fb9f3a"
            ],
            [
             0.8888888888888888,
             "#fdca26"
            ],
            [
             1,
             "#f0f921"
            ]
           ]
          },
          "colorway": [
           "#636efa",
           "#EF553B",
           "#00cc96",
           "#ab63fa",
           "#FFA15A",
           "#19d3f3",
           "#FF6692",
           "#B6E880",
           "#FF97FF",
           "#FECB52"
          ],
          "font": {
           "color": "#2a3f5f"
          },
          "geo": {
           "bgcolor": "white",
           "lakecolor": "white",
           "landcolor": "#E5ECF6",
           "showlakes": true,
           "showland": true,
           "subunitcolor": "white"
          },
          "hoverlabel": {
           "align": "left"
          },
          "hovermode": "closest",
          "mapbox": {
           "style": "light"
          },
          "paper_bgcolor": "white",
          "plot_bgcolor": "#E5ECF6",
          "polar": {
           "angularaxis": {
            "gridcolor": "white",
            "linecolor": "white",
            "ticks": ""
           },
           "bgcolor": "#E5ECF6",
           "radialaxis": {
            "gridcolor": "white",
            "linecolor": "white",
            "ticks": ""
           }
          },
          "scene": {
           "xaxis": {
            "backgroundcolor": "#E5ECF6",
            "gridcolor": "white",
            "gridwidth": 2,
            "linecolor": "white",
            "showbackground": true,
            "ticks": "",
            "zerolinecolor": "white"
           },
           "yaxis": {
            "backgroundcolor": "#E5ECF6",
            "gridcolor": "white",
            "gridwidth": 2,
            "linecolor": "white",
            "showbackground": true,
            "ticks": "",
            "zerolinecolor": "white"
           },
           "zaxis": {
            "backgroundcolor": "#E5ECF6",
            "gridcolor": "white",
            "gridwidth": 2,
            "linecolor": "white",
            "showbackground": true,
            "ticks": "",
            "zerolinecolor": "white"
           }
          },
          "shapedefaults": {
           "line": {
            "color": "#2a3f5f"
           }
          },
          "ternary": {
           "aaxis": {
            "gridcolor": "white",
            "linecolor": "white",
            "ticks": ""
           },
           "baxis": {
            "gridcolor": "white",
            "linecolor": "white",
            "ticks": ""
           },
           "bgcolor": "#E5ECF6",
           "caxis": {
            "gridcolor": "white",
            "linecolor": "white",
            "ticks": ""
           }
          },
          "title": {
           "x": 0.05
          },
          "xaxis": {
           "automargin": true,
           "gridcolor": "white",
           "linecolor": "white",
           "ticks": "",
           "title": {
            "standoff": 15
           },
           "zerolinecolor": "white",
           "zerolinewidth": 2
          },
          "yaxis": {
           "automargin": true,
           "gridcolor": "white",
           "linecolor": "white",
           "ticks": "",
           "title": {
            "standoff": 15
           },
           "zerolinecolor": "white",
           "zerolinewidth": 2
          }
         }
        },
        "title": {
         "font": {
          "color": "#4D5663"
         }
        },
        "xaxis": {
         "gridcolor": "#E1E5ED",
         "showgrid": true,
         "tickfont": {
          "color": "#4D5663"
         },
         "title": {
          "font": {
           "color": "#4D5663"
          },
          "text": ""
         },
         "zerolinecolor": "#E1E5ED"
        },
        "yaxis": {
         "gridcolor": "#E1E5ED",
         "showgrid": true,
         "tickfont": {
          "color": "#4D5663"
         },
         "title": {
          "font": {
           "color": "#4D5663"
          },
          "text": ""
         },
         "zerolinecolor": "#E1E5ED"
        }
       }
      },
      "text/html": [
       "<div>                            <div id=\"93a9f608-5d68-49c2-8b7c-2d0832be9141\" class=\"plotly-graph-div\" style=\"height:525px; width:100%;\"></div>            <script type=\"text/javascript\">                require([\"plotly\"], function(Plotly) {                    window.PLOTLYENV=window.PLOTLYENV || {};\n",
       "                    window.PLOTLYENV.BASE_URL='https://plot.ly';                                    if (document.getElementById(\"93a9f608-5d68-49c2-8b7c-2d0832be9141\")) {                    Plotly.newPlot(                        \"93a9f608-5d68-49c2-8b7c-2d0832be9141\",                        [{\"line\":{\"color\":\"rgba(255, 153, 51, 1.0)\",\"dash\":\"solid\",\"shape\":\"linear\",\"width\":1.3},\"mode\":\"lines\",\"name\":\"B\",\"text\":\"\",\"x\":[0.3586331746624718,-0.31304376044741095,0.9155501015715358,-2.102062606588993,0.408045526206134,-0.2653937053424654,-1.0608144632061376,0.8320160290835785,-0.9049475285738797,-0.17744210477049197,-1.4540758255989237,1.4257420406209662,-0.5205046343083947,-0.05769834283630299,0.47701003735893915,-0.04203967170773101,0.5954054803347232,0.5082602104081628,1.5464874830525634,0.03252793321033726,0.02470780179975145,-0.43883588421253367,0.7655553628093557,0.08479713396327594,-0.061697794787186545,-1.670028936339304,-0.44654185078945124,0.3424303635259183,-1.4760687974593132,1.00411471917094,-0.05524154132328517,0.014428830329574913,-0.3383435301323882,1.5183470766720768,-0.027803842073751618,1.7202240294648374,0.0659563768324742,0.8220356160516542,-0.5351973075051546,-0.15985840887473127,0.9323610128235857,0.6006660833479411,-0.8184884530933983,0.5152778925589065,2.5445342396284483,-0.03483860975117482,0.5162424224318293,0.9591449980497241,0.17777377052477863,-0.13969697340984139,-0.8569053896082983,0.2698446001276596,-0.19793090917579773,0.4250458772262773,0.3538791331723721,-2.2000463413342275,0.4181696188358884,-0.5901820888816727,0.020414193883099955,-0.6489481062883675,-0.3821890735220406,-0.32985879985063243,1.3954598123304571,0.05505854723609142,-0.6488143149635798,-0.21044309167380512,0.9436186500108769,-0.1344901082326483,0.4913203377664391,0.3285827524381691,-0.22242713380610743,-0.4202007414637871,0.10092135204452221,-0.516654392511781,-1.135954562451008,-0.7944885228365225,-0.8423266383457392,-1.359632784546133,0.7546560920413921,0.6516002595799931,0.8126667585524782,0.22038804422076191,0.054500146304780554,0.2125059915603282,-0.5119263987642447,0.46617177548286015,-1.375963954761399,0.4262163349180895,-1.205184119983154,-0.31379656718450993,0.4138625705495997,0.7663575825164424,-2.1174139409310984,0.5178801297938571,1.780572268688464,0.36758656402424283,-0.4135886115249514,0.8084776519283191,1.6336469314010316,2.230813714022468],\"y\":[-1.0590548720581747,-0.39190242572096723,0.2962891691222517,-0.5490583168335752,0.0883346775218682,-0.6114291879106363,-0.6373993095400021,-1.3757372678673856,0.7710307905294411,-0.7952282574924998,-1.0665821766458694,1.069364678832217,1.1469578718082771,-0.25199465875749505,0.7048053127514355,-0.70141193883703,-0.9687943837773987,-0.5179377536668606,1.0367137748339337,-0.926940875305391,-0.6431803601851102,-0.008176871309322228,-0.9552975301203914,-0.7588749739508795,0.8832832893949047,1.1755358794506057,-0.20549235635876878,-0.7491598214547203,-0.5734776537078125,0.49246483038810485,1.1571408435365964,0.35950239520271465,-0.9814813990037048,-0.3302371152060421,1.4279786237553096,0.09368539541218573,-0.05148049977783981,2.3212174669434593,-0.1741133687184468,1.1003712836406296,1.632706051966583,1.3341292330096408,1.2792614080957836,-0.9846673910400024,1.9008435066570037,0.8600680929881195,-0.6027765692000642,-0.46044062423880017,0.2036331641753118,1.6091632381996916,0.8319891984314672,-2.106481912504469,1.1587762643350736,0.4378282837245897,-0.6787113924870258,-1.3015491673560238,-0.4699970597901284,0.03448216204286796,-0.3921004216330228,0.4011602423714026,0.964934167991005,-1.5316121923083093,-2.708464465730562,0.1739441911266945,-0.24987881590183947,0.09772182633380014,0.7974157087788826,-0.06760707005609054,-1.0605788914082304,-1.0922449732655897,-0.46724550141681537,-1.311758303544521,1.5805631331227574,-2.7451393680018104,1.590657386425081,2.1594987472119085,0.8093209994861948,1.1872539693294126,-0.9376083371748265,-1.9880405933877292,-0.016931850993996047,0.19283107581930145,-1.2621201220902507,1.4219944905623008,0.03945646289475185,1.3468725540679272,0.3352148321341624,-0.7607245053299654,-1.3632969757334765,-0.25955811948574004,0.45549145421093473,-0.1296347833779436,0.04802303523424992,0.31671978263710604,-0.8908041289921246,0.6270179003637465,-0.1845078406753882,2.294840618932753,-1.8898838801321691,1.758211240623883],\"type\":\"scatter\"}],                        {\"legend\":{\"bgcolor\":\"#F5F6F9\",\"font\":{\"color\":\"#4D5663\"}},\"paper_bgcolor\":\"#F5F6F9\",\"plot_bgcolor\":\"#F5F6F9\",\"template\":{\"data\":{\"barpolar\":[{\"marker\":{\"line\":{\"color\":\"#E5ECF6\",\"width\":0.5},\"pattern\":{\"fillmode\":\"overlay\",\"size\":10,\"solidity\":0.2}},\"type\":\"barpolar\"}],\"bar\":[{\"error_x\":{\"color\":\"#2a3f5f\"},\"error_y\":{\"color\":\"#2a3f5f\"},\"marker\":{\"line\":{\"color\":\"#E5ECF6\",\"width\":0.5},\"pattern\":{\"fillmode\":\"overlay\",\"size\":10,\"solidity\":0.2}},\"type\":\"bar\"}],\"carpet\":[{\"aaxis\":{\"endlinecolor\":\"#2a3f5f\",\"gridcolor\":\"white\",\"linecolor\":\"white\",\"minorgridcolor\":\"white\",\"startlinecolor\":\"#2a3f5f\"},\"baxis\":{\"endlinecolor\":\"#2a3f5f\",\"gridcolor\":\"white\",\"linecolor\":\"white\",\"minorgridcolor\":\"white\",\"startlinecolor\":\"#2a3f5f\"},\"type\":\"carpet\"}],\"choropleth\":[{\"colorbar\":{\"outlinewidth\":0,\"ticks\":\"\"},\"type\":\"choropleth\"}],\"contourcarpet\":[{\"colorbar\":{\"outlinewidth\":0,\"ticks\":\"\"},\"type\":\"contourcarpet\"}],\"contour\":[{\"colorbar\":{\"outlinewidth\":0,\"ticks\":\"\"},\"colorscale\":[[0.0,\"#0d0887\"],[0.1111111111111111,\"#46039f\"],[0.2222222222222222,\"#7201a8\"],[0.3333333333333333,\"#9c179e\"],[0.4444444444444444,\"#bd3786\"],[0.5555555555555556,\"#d8576b\"],[0.6666666666666666,\"#ed7953\"],[0.7777777777777778,\"#fb9f3a\"],[0.8888888888888888,\"#fdca26\"],[1.0,\"#f0f921\"]],\"type\":\"contour\"}],\"heatmapgl\":[{\"colorbar\":{\"outlinewidth\":0,\"ticks\":\"\"},\"colorscale\":[[0.0,\"#0d0887\"],[0.1111111111111111,\"#46039f\"],[0.2222222222222222,\"#7201a8\"],[0.3333333333333333,\"#9c179e\"],[0.4444444444444444,\"#bd3786\"],[0.5555555555555556,\"#d8576b\"],[0.6666666666666666,\"#ed7953\"],[0.7777777777777778,\"#fb9f3a\"],[0.8888888888888888,\"#fdca26\"],[1.0,\"#f0f921\"]],\"type\":\"heatmapgl\"}],\"heatmap\":[{\"colorbar\":{\"outlinewidth\":0,\"ticks\":\"\"},\"colorscale\":[[0.0,\"#0d0887\"],[0.1111111111111111,\"#46039f\"],[0.2222222222222222,\"#7201a8\"],[0.3333333333333333,\"#9c179e\"],[0.4444444444444444,\"#bd3786\"],[0.5555555555555556,\"#d8576b\"],[0.6666666666666666,\"#ed7953\"],[0.7777777777777778,\"#fb9f3a\"],[0.8888888888888888,\"#fdca26\"],[1.0,\"#f0f921\"]],\"type\":\"heatmap\"}],\"histogram2dcontour\":[{\"colorbar\":{\"outlinewidth\":0,\"ticks\":\"\"},\"colorscale\":[[0.0,\"#0d0887\"],[0.1111111111111111,\"#46039f\"],[0.2222222222222222,\"#7201a8\"],[0.3333333333333333,\"#9c179e\"],[0.4444444444444444,\"#bd3786\"],[0.5555555555555556,\"#d8576b\"],[0.6666666666666666,\"#ed7953\"],[0.7777777777777778,\"#fb9f3a\"],[0.8888888888888888,\"#fdca26\"],[1.0,\"#f0f921\"]],\"type\":\"histogram2dcontour\"}],\"histogram2d\":[{\"colorbar\":{\"outlinewidth\":0,\"ticks\":\"\"},\"colorscale\":[[0.0,\"#0d0887\"],[0.1111111111111111,\"#46039f\"],[0.2222222222222222,\"#7201a8\"],[0.3333333333333333,\"#9c179e\"],[0.4444444444444444,\"#bd3786\"],[0.5555555555555556,\"#d8576b\"],[0.6666666666666666,\"#ed7953\"],[0.7777777777777778,\"#fb9f3a\"],[0.8888888888888888,\"#fdca26\"],[1.0,\"#f0f921\"]],\"type\":\"histogram2d\"}],\"histogram\":[{\"marker\":{\"pattern\":{\"fillmode\":\"overlay\",\"size\":10,\"solidity\":0.2}},\"type\":\"histogram\"}],\"mesh3d\":[{\"colorbar\":{\"outlinewidth\":0,\"ticks\":\"\"},\"type\":\"mesh3d\"}],\"parcoords\":[{\"line\":{\"colorbar\":{\"outlinewidth\":0,\"ticks\":\"\"}},\"type\":\"parcoords\"}],\"pie\":[{\"automargin\":true,\"type\":\"pie\"}],\"scatter3d\":[{\"line\":{\"colorbar\":{\"outlinewidth\":0,\"ticks\":\"\"}},\"marker\":{\"colorbar\":{\"outlinewidth\":0,\"ticks\":\"\"}},\"type\":\"scatter3d\"}],\"scattercarpet\":[{\"marker\":{\"colorbar\":{\"outlinewidth\":0,\"ticks\":\"\"}},\"type\":\"scattercarpet\"}],\"scattergeo\":[{\"marker\":{\"colorbar\":{\"outlinewidth\":0,\"ticks\":\"\"}},\"type\":\"scattergeo\"}],\"scattergl\":[{\"marker\":{\"colorbar\":{\"outlinewidth\":0,\"ticks\":\"\"}},\"type\":\"scattergl\"}],\"scattermapbox\":[{\"marker\":{\"colorbar\":{\"outlinewidth\":0,\"ticks\":\"\"}},\"type\":\"scattermapbox\"}],\"scatterpolargl\":[{\"marker\":{\"colorbar\":{\"outlinewidth\":0,\"ticks\":\"\"}},\"type\":\"scatterpolargl\"}],\"scatterpolar\":[{\"marker\":{\"colorbar\":{\"outlinewidth\":0,\"ticks\":\"\"}},\"type\":\"scatterpolar\"}],\"scatter\":[{\"fillpattern\":{\"fillmode\":\"overlay\",\"size\":10,\"solidity\":0.2},\"type\":\"scatter\"}],\"scatterternary\":[{\"marker\":{\"colorbar\":{\"outlinewidth\":0,\"ticks\":\"\"}},\"type\":\"scatterternary\"}],\"surface\":[{\"colorbar\":{\"outlinewidth\":0,\"ticks\":\"\"},\"colorscale\":[[0.0,\"#0d0887\"],[0.1111111111111111,\"#46039f\"],[0.2222222222222222,\"#7201a8\"],[0.3333333333333333,\"#9c179e\"],[0.4444444444444444,\"#bd3786\"],[0.5555555555555556,\"#d8576b\"],[0.6666666666666666,\"#ed7953\"],[0.7777777777777778,\"#fb9f3a\"],[0.8888888888888888,\"#fdca26\"],[1.0,\"#f0f921\"]],\"type\":\"surface\"}],\"table\":[{\"cells\":{\"fill\":{\"color\":\"#EBF0F8\"},\"line\":{\"color\":\"white\"}},\"header\":{\"fill\":{\"color\":\"#C8D4E3\"},\"line\":{\"color\":\"white\"}},\"type\":\"table\"}]},\"layout\":{\"annotationdefaults\":{\"arrowcolor\":\"#2a3f5f\",\"arrowhead\":0,\"arrowwidth\":1},\"autotypenumbers\":\"strict\",\"coloraxis\":{\"colorbar\":{\"outlinewidth\":0,\"ticks\":\"\"}},\"colorscale\":{\"diverging\":[[0,\"#8e0152\"],[0.1,\"#c51b7d\"],[0.2,\"#de77ae\"],[0.3,\"#f1b6da\"],[0.4,\"#fde0ef\"],[0.5,\"#f7f7f7\"],[0.6,\"#e6f5d0\"],[0.7,\"#b8e186\"],[0.8,\"#7fbc41\"],[0.9,\"#4d9221\"],[1,\"#276419\"]],\"sequential\":[[0.0,\"#0d0887\"],[0.1111111111111111,\"#46039f\"],[0.2222222222222222,\"#7201a8\"],[0.3333333333333333,\"#9c179e\"],[0.4444444444444444,\"#bd3786\"],[0.5555555555555556,\"#d8576b\"],[0.6666666666666666,\"#ed7953\"],[0.7777777777777778,\"#fb9f3a\"],[0.8888888888888888,\"#fdca26\"],[1.0,\"#f0f921\"]],\"sequentialminus\":[[0.0,\"#0d0887\"],[0.1111111111111111,\"#46039f\"],[0.2222222222222222,\"#7201a8\"],[0.3333333333333333,\"#9c179e\"],[0.4444444444444444,\"#bd3786\"],[0.5555555555555556,\"#d8576b\"],[0.6666666666666666,\"#ed7953\"],[0.7777777777777778,\"#fb9f3a\"],[0.8888888888888888,\"#fdca26\"],[1.0,\"#f0f921\"]]},\"colorway\":[\"#636efa\",\"#EF553B\",\"#00cc96\",\"#ab63fa\",\"#FFA15A\",\"#19d3f3\",\"#FF6692\",\"#B6E880\",\"#FF97FF\",\"#FECB52\"],\"font\":{\"color\":\"#2a3f5f\"},\"geo\":{\"bgcolor\":\"white\",\"lakecolor\":\"white\",\"landcolor\":\"#E5ECF6\",\"showlakes\":true,\"showland\":true,\"subunitcolor\":\"white\"},\"hoverlabel\":{\"align\":\"left\"},\"hovermode\":\"closest\",\"mapbox\":{\"style\":\"light\"},\"paper_bgcolor\":\"white\",\"plot_bgcolor\":\"#E5ECF6\",\"polar\":{\"angularaxis\":{\"gridcolor\":\"white\",\"linecolor\":\"white\",\"ticks\":\"\"},\"bgcolor\":\"#E5ECF6\",\"radialaxis\":{\"gridcolor\":\"white\",\"linecolor\":\"white\",\"ticks\":\"\"}},\"scene\":{\"xaxis\":{\"backgroundcolor\":\"#E5ECF6\",\"gridcolor\":\"white\",\"gridwidth\":2,\"linecolor\":\"white\",\"showbackground\":true,\"ticks\":\"\",\"zerolinecolor\":\"white\"},\"yaxis\":{\"backgroundcolor\":\"#E5ECF6\",\"gridcolor\":\"white\",\"gridwidth\":2,\"linecolor\":\"white\",\"showbackground\":true,\"ticks\":\"\",\"zerolinecolor\":\"white\"},\"zaxis\":{\"backgroundcolor\":\"#E5ECF6\",\"gridcolor\":\"white\",\"gridwidth\":2,\"linecolor\":\"white\",\"showbackground\":true,\"ticks\":\"\",\"zerolinecolor\":\"white\"}},\"shapedefaults\":{\"line\":{\"color\":\"#2a3f5f\"}},\"ternary\":{\"aaxis\":{\"gridcolor\":\"white\",\"linecolor\":\"white\",\"ticks\":\"\"},\"baxis\":{\"gridcolor\":\"white\",\"linecolor\":\"white\",\"ticks\":\"\"},\"bgcolor\":\"#E5ECF6\",\"caxis\":{\"gridcolor\":\"white\",\"linecolor\":\"white\",\"ticks\":\"\"}},\"title\":{\"x\":0.05},\"xaxis\":{\"automargin\":true,\"gridcolor\":\"white\",\"linecolor\":\"white\",\"ticks\":\"\",\"title\":{\"standoff\":15},\"zerolinecolor\":\"white\",\"zerolinewidth\":2},\"yaxis\":{\"automargin\":true,\"gridcolor\":\"white\",\"linecolor\":\"white\",\"ticks\":\"\",\"title\":{\"standoff\":15},\"zerolinecolor\":\"white\",\"zerolinewidth\":2}}},\"title\":{\"font\":{\"color\":\"#4D5663\"}},\"xaxis\":{\"gridcolor\":\"#E1E5ED\",\"showgrid\":true,\"tickfont\":{\"color\":\"#4D5663\"},\"title\":{\"font\":{\"color\":\"#4D5663\"},\"text\":\"\"},\"zerolinecolor\":\"#E1E5ED\"},\"yaxis\":{\"gridcolor\":\"#E1E5ED\",\"showgrid\":true,\"tickfont\":{\"color\":\"#4D5663\"},\"title\":{\"font\":{\"color\":\"#4D5663\"},\"text\":\"\"},\"zerolinecolor\":\"#E1E5ED\"}},                        {\"showLink\": true, \"linkText\": \"Export to plot.ly\", \"plotlyServerURL\": \"https://plot.ly\", \"responsive\": true}                    ).then(function(){\n",
       "                            \n",
       "var gd = document.getElementById('93a9f608-5d68-49c2-8b7c-2d0832be9141');\n",
       "var x = new MutationObserver(function (mutations, observer) {{\n",
       "        var display = window.getComputedStyle(gd).display;\n",
       "        if (!display || display === 'none') {{\n",
       "            console.log([gd, 'removed!']);\n",
       "            Plotly.purge(gd);\n",
       "            observer.disconnect();\n",
       "        }}\n",
       "}});\n",
       "\n",
       "// Listen for the removal of the full notebook cells\n",
       "var notebookContainer = gd.closest('#notebook-container');\n",
       "if (notebookContainer) {{\n",
       "    x.observe(notebookContainer, {childList: true});\n",
       "}}\n",
       "\n",
       "// Listen for the clearing of the current output cell\n",
       "var outputEl = gd.closest('.output');\n",
       "if (outputEl) {{\n",
       "    x.observe(outputEl, {childList: true});\n",
       "}}\n",
       "\n",
       "                        })                };                });            </script>        </div>"
      ]
     },
     "metadata": {},
     "output_type": "display_data"
    }
   ],
   "source": [
    "df1.iplot(kind='scatter',x='A',y='B')"
   ]
  },
  {
   "cell_type": "code",
   "execution_count": 18,
   "id": "5c0e9fb8",
   "metadata": {},
   "outputs": [
    {
     "data": {
      "application/vnd.plotly.v1+json": {
       "config": {
        "linkText": "Export to plot.ly",
        "plotlyServerURL": "https://plot.ly",
        "showLink": true
       },
       "data": [
        {
         "line": {
          "color": "rgba(255, 153, 51, 1.0)",
          "dash": "solid",
          "shape": "linear",
          "width": 1.3
         },
         "marker": {
          "size": 15,
          "symbol": "circle"
         },
         "mode": "markers",
         "name": "B",
         "text": "",
         "type": "scatter",
         "x": [
          0.3586331746624718,
          -0.31304376044741095,
          0.9155501015715358,
          -2.102062606588993,
          0.408045526206134,
          -0.2653937053424654,
          -1.0608144632061376,
          0.8320160290835785,
          -0.9049475285738797,
          -0.17744210477049197,
          -1.4540758255989237,
          1.4257420406209662,
          -0.5205046343083947,
          -0.05769834283630299,
          0.47701003735893915,
          -0.04203967170773101,
          0.5954054803347232,
          0.5082602104081628,
          1.5464874830525634,
          0.03252793321033726,
          0.02470780179975145,
          -0.43883588421253367,
          0.7655553628093557,
          0.08479713396327594,
          -0.061697794787186545,
          -1.670028936339304,
          -0.44654185078945124,
          0.3424303635259183,
          -1.4760687974593132,
          1.00411471917094,
          -0.05524154132328517,
          0.014428830329574913,
          -0.3383435301323882,
          1.5183470766720768,
          -0.027803842073751618,
          1.7202240294648374,
          0.0659563768324742,
          0.8220356160516542,
          -0.5351973075051546,
          -0.15985840887473127,
          0.9323610128235857,
          0.6006660833479411,
          -0.8184884530933983,
          0.5152778925589065,
          2.5445342396284483,
          -0.03483860975117482,
          0.5162424224318293,
          0.9591449980497241,
          0.17777377052477863,
          -0.13969697340984139,
          -0.8569053896082983,
          0.2698446001276596,
          -0.19793090917579773,
          0.4250458772262773,
          0.3538791331723721,
          -2.2000463413342275,
          0.4181696188358884,
          -0.5901820888816727,
          0.020414193883099955,
          -0.6489481062883675,
          -0.3821890735220406,
          -0.32985879985063243,
          1.3954598123304571,
          0.05505854723609142,
          -0.6488143149635798,
          -0.21044309167380512,
          0.9436186500108769,
          -0.1344901082326483,
          0.4913203377664391,
          0.3285827524381691,
          -0.22242713380610743,
          -0.4202007414637871,
          0.10092135204452221,
          -0.516654392511781,
          -1.135954562451008,
          -0.7944885228365225,
          -0.8423266383457392,
          -1.359632784546133,
          0.7546560920413921,
          0.6516002595799931,
          0.8126667585524782,
          0.22038804422076191,
          0.054500146304780554,
          0.2125059915603282,
          -0.5119263987642447,
          0.46617177548286015,
          -1.375963954761399,
          0.4262163349180895,
          -1.205184119983154,
          -0.31379656718450993,
          0.4138625705495997,
          0.7663575825164424,
          -2.1174139409310984,
          0.5178801297938571,
          1.780572268688464,
          0.36758656402424283,
          -0.4135886115249514,
          0.8084776519283191,
          1.6336469314010316,
          2.230813714022468
         ],
         "y": [
          -1.0590548720581747,
          -0.39190242572096723,
          0.2962891691222517,
          -0.5490583168335752,
          0.0883346775218682,
          -0.6114291879106363,
          -0.6373993095400021,
          -1.3757372678673856,
          0.7710307905294411,
          -0.7952282574924998,
          -1.0665821766458694,
          1.069364678832217,
          1.1469578718082771,
          -0.25199465875749505,
          0.7048053127514355,
          -0.70141193883703,
          -0.9687943837773987,
          -0.5179377536668606,
          1.0367137748339337,
          -0.926940875305391,
          -0.6431803601851102,
          -0.008176871309322228,
          -0.9552975301203914,
          -0.7588749739508795,
          0.8832832893949047,
          1.1755358794506057,
          -0.20549235635876878,
          -0.7491598214547203,
          -0.5734776537078125,
          0.49246483038810485,
          1.1571408435365964,
          0.35950239520271465,
          -0.9814813990037048,
          -0.3302371152060421,
          1.4279786237553096,
          0.09368539541218573,
          -0.05148049977783981,
          2.3212174669434593,
          -0.1741133687184468,
          1.1003712836406296,
          1.632706051966583,
          1.3341292330096408,
          1.2792614080957836,
          -0.9846673910400024,
          1.9008435066570037,
          0.8600680929881195,
          -0.6027765692000642,
          -0.46044062423880017,
          0.2036331641753118,
          1.6091632381996916,
          0.8319891984314672,
          -2.106481912504469,
          1.1587762643350736,
          0.4378282837245897,
          -0.6787113924870258,
          -1.3015491673560238,
          -0.4699970597901284,
          0.03448216204286796,
          -0.3921004216330228,
          0.4011602423714026,
          0.964934167991005,
          -1.5316121923083093,
          -2.708464465730562,
          0.1739441911266945,
          -0.24987881590183947,
          0.09772182633380014,
          0.7974157087788826,
          -0.06760707005609054,
          -1.0605788914082304,
          -1.0922449732655897,
          -0.46724550141681537,
          -1.311758303544521,
          1.5805631331227574,
          -2.7451393680018104,
          1.590657386425081,
          2.1594987472119085,
          0.8093209994861948,
          1.1872539693294126,
          -0.9376083371748265,
          -1.9880405933877292,
          -0.016931850993996047,
          0.19283107581930145,
          -1.2621201220902507,
          1.4219944905623008,
          0.03945646289475185,
          1.3468725540679272,
          0.3352148321341624,
          -0.7607245053299654,
          -1.3632969757334765,
          -0.25955811948574004,
          0.45549145421093473,
          -0.1296347833779436,
          0.04802303523424992,
          0.31671978263710604,
          -0.8908041289921246,
          0.6270179003637465,
          -0.1845078406753882,
          2.294840618932753,
          -1.8898838801321691,
          1.758211240623883
         ]
        }
       ],
       "layout": {
        "legend": {
         "bgcolor": "#F5F6F9",
         "font": {
          "color": "#4D5663"
         }
        },
        "paper_bgcolor": "#F5F6F9",
        "plot_bgcolor": "#F5F6F9",
        "template": {
         "data": {
          "bar": [
           {
            "error_x": {
             "color": "#2a3f5f"
            },
            "error_y": {
             "color": "#2a3f5f"
            },
            "marker": {
             "line": {
              "color": "#E5ECF6",
              "width": 0.5
             },
             "pattern": {
              "fillmode": "overlay",
              "size": 10,
              "solidity": 0.2
             }
            },
            "type": "bar"
           }
          ],
          "barpolar": [
           {
            "marker": {
             "line": {
              "color": "#E5ECF6",
              "width": 0.5
             },
             "pattern": {
              "fillmode": "overlay",
              "size": 10,
              "solidity": 0.2
             }
            },
            "type": "barpolar"
           }
          ],
          "carpet": [
           {
            "aaxis": {
             "endlinecolor": "#2a3f5f",
             "gridcolor": "white",
             "linecolor": "white",
             "minorgridcolor": "white",
             "startlinecolor": "#2a3f5f"
            },
            "baxis": {
             "endlinecolor": "#2a3f5f",
             "gridcolor": "white",
             "linecolor": "white",
             "minorgridcolor": "white",
             "startlinecolor": "#2a3f5f"
            },
            "type": "carpet"
           }
          ],
          "choropleth": [
           {
            "colorbar": {
             "outlinewidth": 0,
             "ticks": ""
            },
            "type": "choropleth"
           }
          ],
          "contour": [
           {
            "colorbar": {
             "outlinewidth": 0,
             "ticks": ""
            },
            "colorscale": [
             [
              0,
              "#0d0887"
             ],
             [
              0.1111111111111111,
              "#46039f"
             ],
             [
              0.2222222222222222,
              "#7201a8"
             ],
             [
              0.3333333333333333,
              "#9c179e"
             ],
             [
              0.4444444444444444,
              "#bd3786"
             ],
             [
              0.5555555555555556,
              "#d8576b"
             ],
             [
              0.6666666666666666,
              "#ed7953"
             ],
             [
              0.7777777777777778,
              "#fb9f3a"
             ],
             [
              0.8888888888888888,
              "#fdca26"
             ],
             [
              1,
              "#f0f921"
             ]
            ],
            "type": "contour"
           }
          ],
          "contourcarpet": [
           {
            "colorbar": {
             "outlinewidth": 0,
             "ticks": ""
            },
            "type": "contourcarpet"
           }
          ],
          "heatmap": [
           {
            "colorbar": {
             "outlinewidth": 0,
             "ticks": ""
            },
            "colorscale": [
             [
              0,
              "#0d0887"
             ],
             [
              0.1111111111111111,
              "#46039f"
             ],
             [
              0.2222222222222222,
              "#7201a8"
             ],
             [
              0.3333333333333333,
              "#9c179e"
             ],
             [
              0.4444444444444444,
              "#bd3786"
             ],
             [
              0.5555555555555556,
              "#d8576b"
             ],
             [
              0.6666666666666666,
              "#ed7953"
             ],
             [
              0.7777777777777778,
              "#fb9f3a"
             ],
             [
              0.8888888888888888,
              "#fdca26"
             ],
             [
              1,
              "#f0f921"
             ]
            ],
            "type": "heatmap"
           }
          ],
          "heatmapgl": [
           {
            "colorbar": {
             "outlinewidth": 0,
             "ticks": ""
            },
            "colorscale": [
             [
              0,
              "#0d0887"
             ],
             [
              0.1111111111111111,
              "#46039f"
             ],
             [
              0.2222222222222222,
              "#7201a8"
             ],
             [
              0.3333333333333333,
              "#9c179e"
             ],
             [
              0.4444444444444444,
              "#bd3786"
             ],
             [
              0.5555555555555556,
              "#d8576b"
             ],
             [
              0.6666666666666666,
              "#ed7953"
             ],
             [
              0.7777777777777778,
              "#fb9f3a"
             ],
             [
              0.8888888888888888,
              "#fdca26"
             ],
             [
              1,
              "#f0f921"
             ]
            ],
            "type": "heatmapgl"
           }
          ],
          "histogram": [
           {
            "marker": {
             "pattern": {
              "fillmode": "overlay",
              "size": 10,
              "solidity": 0.2
             }
            },
            "type": "histogram"
           }
          ],
          "histogram2d": [
           {
            "colorbar": {
             "outlinewidth": 0,
             "ticks": ""
            },
            "colorscale": [
             [
              0,
              "#0d0887"
             ],
             [
              0.1111111111111111,
              "#46039f"
             ],
             [
              0.2222222222222222,
              "#7201a8"
             ],
             [
              0.3333333333333333,
              "#9c179e"
             ],
             [
              0.4444444444444444,
              "#bd3786"
             ],
             [
              0.5555555555555556,
              "#d8576b"
             ],
             [
              0.6666666666666666,
              "#ed7953"
             ],
             [
              0.7777777777777778,
              "#fb9f3a"
             ],
             [
              0.8888888888888888,
              "#fdca26"
             ],
             [
              1,
              "#f0f921"
             ]
            ],
            "type": "histogram2d"
           }
          ],
          "histogram2dcontour": [
           {
            "colorbar": {
             "outlinewidth": 0,
             "ticks": ""
            },
            "colorscale": [
             [
              0,
              "#0d0887"
             ],
             [
              0.1111111111111111,
              "#46039f"
             ],
             [
              0.2222222222222222,
              "#7201a8"
             ],
             [
              0.3333333333333333,
              "#9c179e"
             ],
             [
              0.4444444444444444,
              "#bd3786"
             ],
             [
              0.5555555555555556,
              "#d8576b"
             ],
             [
              0.6666666666666666,
              "#ed7953"
             ],
             [
              0.7777777777777778,
              "#fb9f3a"
             ],
             [
              0.8888888888888888,
              "#fdca26"
             ],
             [
              1,
              "#f0f921"
             ]
            ],
            "type": "histogram2dcontour"
           }
          ],
          "mesh3d": [
           {
            "colorbar": {
             "outlinewidth": 0,
             "ticks": ""
            },
            "type": "mesh3d"
           }
          ],
          "parcoords": [
           {
            "line": {
             "colorbar": {
              "outlinewidth": 0,
              "ticks": ""
             }
            },
            "type": "parcoords"
           }
          ],
          "pie": [
           {
            "automargin": true,
            "type": "pie"
           }
          ],
          "scatter": [
           {
            "fillpattern": {
             "fillmode": "overlay",
             "size": 10,
             "solidity": 0.2
            },
            "type": "scatter"
           }
          ],
          "scatter3d": [
           {
            "line": {
             "colorbar": {
              "outlinewidth": 0,
              "ticks": ""
             }
            },
            "marker": {
             "colorbar": {
              "outlinewidth": 0,
              "ticks": ""
             }
            },
            "type": "scatter3d"
           }
          ],
          "scattercarpet": [
           {
            "marker": {
             "colorbar": {
              "outlinewidth": 0,
              "ticks": ""
             }
            },
            "type": "scattercarpet"
           }
          ],
          "scattergeo": [
           {
            "marker": {
             "colorbar": {
              "outlinewidth": 0,
              "ticks": ""
             }
            },
            "type": "scattergeo"
           }
          ],
          "scattergl": [
           {
            "marker": {
             "colorbar": {
              "outlinewidth": 0,
              "ticks": ""
             }
            },
            "type": "scattergl"
           }
          ],
          "scattermapbox": [
           {
            "marker": {
             "colorbar": {
              "outlinewidth": 0,
              "ticks": ""
             }
            },
            "type": "scattermapbox"
           }
          ],
          "scatterpolar": [
           {
            "marker": {
             "colorbar": {
              "outlinewidth": 0,
              "ticks": ""
             }
            },
            "type": "scatterpolar"
           }
          ],
          "scatterpolargl": [
           {
            "marker": {
             "colorbar": {
              "outlinewidth": 0,
              "ticks": ""
             }
            },
            "type": "scatterpolargl"
           }
          ],
          "scatterternary": [
           {
            "marker": {
             "colorbar": {
              "outlinewidth": 0,
              "ticks": ""
             }
            },
            "type": "scatterternary"
           }
          ],
          "surface": [
           {
            "colorbar": {
             "outlinewidth": 0,
             "ticks": ""
            },
            "colorscale": [
             [
              0,
              "#0d0887"
             ],
             [
              0.1111111111111111,
              "#46039f"
             ],
             [
              0.2222222222222222,
              "#7201a8"
             ],
             [
              0.3333333333333333,
              "#9c179e"
             ],
             [
              0.4444444444444444,
              "#bd3786"
             ],
             [
              0.5555555555555556,
              "#d8576b"
             ],
             [
              0.6666666666666666,
              "#ed7953"
             ],
             [
              0.7777777777777778,
              "#fb9f3a"
             ],
             [
              0.8888888888888888,
              "#fdca26"
             ],
             [
              1,
              "#f0f921"
             ]
            ],
            "type": "surface"
           }
          ],
          "table": [
           {
            "cells": {
             "fill": {
              "color": "#EBF0F8"
             },
             "line": {
              "color": "white"
             }
            },
            "header": {
             "fill": {
              "color": "#C8D4E3"
             },
             "line": {
              "color": "white"
             }
            },
            "type": "table"
           }
          ]
         },
         "layout": {
          "annotationdefaults": {
           "arrowcolor": "#2a3f5f",
           "arrowhead": 0,
           "arrowwidth": 1
          },
          "autotypenumbers": "strict",
          "coloraxis": {
           "colorbar": {
            "outlinewidth": 0,
            "ticks": ""
           }
          },
          "colorscale": {
           "diverging": [
            [
             0,
             "#8e0152"
            ],
            [
             0.1,
             "#c51b7d"
            ],
            [
             0.2,
             "#de77ae"
            ],
            [
             0.3,
             "#f1b6da"
            ],
            [
             0.4,
             "#fde0ef"
            ],
            [
             0.5,
             "#f7f7f7"
            ],
            [
             0.6,
             "#e6f5d0"
            ],
            [
             0.7,
             "#b8e186"
            ],
            [
             0.8,
             "#7fbc41"
            ],
            [
             0.9,
             "#4d9221"
            ],
            [
             1,
             "#276419"
            ]
           ],
           "sequential": [
            [
             0,
             "#0d0887"
            ],
            [
             0.1111111111111111,
             "#46039f"
            ],
            [
             0.2222222222222222,
             "#7201a8"
            ],
            [
             0.3333333333333333,
             "#9c179e"
            ],
            [
             0.4444444444444444,
             "#bd3786"
            ],
            [
             0.5555555555555556,
             "#d8576b"
            ],
            [
             0.6666666666666666,
             "#ed7953"
            ],
            [
             0.7777777777777778,
             "#fb9f3a"
            ],
            [
             0.8888888888888888,
             "#fdca26"
            ],
            [
             1,
             "#f0f921"
            ]
           ],
           "sequentialminus": [
            [
             0,
             "#0d0887"
            ],
            [
             0.1111111111111111,
             "#46039f"
            ],
            [
             0.2222222222222222,
             "#7201a8"
            ],
            [
             0.3333333333333333,
             "#9c179e"
            ],
            [
             0.4444444444444444,
             "#bd3786"
            ],
            [
             0.5555555555555556,
             "#d8576b"
            ],
            [
             0.6666666666666666,
             "#ed7953"
            ],
            [
             0.7777777777777778,
             "#fb9f3a"
            ],
            [
             0.8888888888888888,
             "#fdca26"
            ],
            [
             1,
             "#f0f921"
            ]
           ]
          },
          "colorway": [
           "#636efa",
           "#EF553B",
           "#00cc96",
           "#ab63fa",
           "#FFA15A",
           "#19d3f3",
           "#FF6692",
           "#B6E880",
           "#FF97FF",
           "#FECB52"
          ],
          "font": {
           "color": "#2a3f5f"
          },
          "geo": {
           "bgcolor": "white",
           "lakecolor": "white",
           "landcolor": "#E5ECF6",
           "showlakes": true,
           "showland": true,
           "subunitcolor": "white"
          },
          "hoverlabel": {
           "align": "left"
          },
          "hovermode": "closest",
          "mapbox": {
           "style": "light"
          },
          "paper_bgcolor": "white",
          "plot_bgcolor": "#E5ECF6",
          "polar": {
           "angularaxis": {
            "gridcolor": "white",
            "linecolor": "white",
            "ticks": ""
           },
           "bgcolor": "#E5ECF6",
           "radialaxis": {
            "gridcolor": "white",
            "linecolor": "white",
            "ticks": ""
           }
          },
          "scene": {
           "xaxis": {
            "backgroundcolor": "#E5ECF6",
            "gridcolor": "white",
            "gridwidth": 2,
            "linecolor": "white",
            "showbackground": true,
            "ticks": "",
            "zerolinecolor": "white"
           },
           "yaxis": {
            "backgroundcolor": "#E5ECF6",
            "gridcolor": "white",
            "gridwidth": 2,
            "linecolor": "white",
            "showbackground": true,
            "ticks": "",
            "zerolinecolor": "white"
           },
           "zaxis": {
            "backgroundcolor": "#E5ECF6",
            "gridcolor": "white",
            "gridwidth": 2,
            "linecolor": "white",
            "showbackground": true,
            "ticks": "",
            "zerolinecolor": "white"
           }
          },
          "shapedefaults": {
           "line": {
            "color": "#2a3f5f"
           }
          },
          "ternary": {
           "aaxis": {
            "gridcolor": "white",
            "linecolor": "white",
            "ticks": ""
           },
           "baxis": {
            "gridcolor": "white",
            "linecolor": "white",
            "ticks": ""
           },
           "bgcolor": "#E5ECF6",
           "caxis": {
            "gridcolor": "white",
            "linecolor": "white",
            "ticks": ""
           }
          },
          "title": {
           "x": 0.05
          },
          "xaxis": {
           "automargin": true,
           "gridcolor": "white",
           "linecolor": "white",
           "ticks": "",
           "title": {
            "standoff": 15
           },
           "zerolinecolor": "white",
           "zerolinewidth": 2
          },
          "yaxis": {
           "automargin": true,
           "gridcolor": "white",
           "linecolor": "white",
           "ticks": "",
           "title": {
            "standoff": 15
           },
           "zerolinecolor": "white",
           "zerolinewidth": 2
          }
         }
        },
        "title": {
         "font": {
          "color": "#4D5663"
         }
        },
        "xaxis": {
         "gridcolor": "#E1E5ED",
         "showgrid": true,
         "tickfont": {
          "color": "#4D5663"
         },
         "title": {
          "font": {
           "color": "#4D5663"
          },
          "text": ""
         },
         "zerolinecolor": "#E1E5ED"
        },
        "yaxis": {
         "gridcolor": "#E1E5ED",
         "showgrid": true,
         "tickfont": {
          "color": "#4D5663"
         },
         "title": {
          "font": {
           "color": "#4D5663"
          },
          "text": ""
         },
         "zerolinecolor": "#E1E5ED"
        }
       }
      },
      "text/html": [
       "<div>                            <div id=\"bc060719-73d6-4e0c-a56a-4d957b42e24c\" class=\"plotly-graph-div\" style=\"height:525px; width:100%;\"></div>            <script type=\"text/javascript\">                require([\"plotly\"], function(Plotly) {                    window.PLOTLYENV=window.PLOTLYENV || {};\n",
       "                    window.PLOTLYENV.BASE_URL='https://plot.ly';                                    if (document.getElementById(\"bc060719-73d6-4e0c-a56a-4d957b42e24c\")) {                    Plotly.newPlot(                        \"bc060719-73d6-4e0c-a56a-4d957b42e24c\",                        [{\"line\":{\"color\":\"rgba(255, 153, 51, 1.0)\",\"dash\":\"solid\",\"shape\":\"linear\",\"width\":1.3},\"marker\":{\"size\":15,\"symbol\":\"circle\"},\"mode\":\"markers\",\"name\":\"B\",\"text\":\"\",\"x\":[0.3586331746624718,-0.31304376044741095,0.9155501015715358,-2.102062606588993,0.408045526206134,-0.2653937053424654,-1.0608144632061376,0.8320160290835785,-0.9049475285738797,-0.17744210477049197,-1.4540758255989237,1.4257420406209662,-0.5205046343083947,-0.05769834283630299,0.47701003735893915,-0.04203967170773101,0.5954054803347232,0.5082602104081628,1.5464874830525634,0.03252793321033726,0.02470780179975145,-0.43883588421253367,0.7655553628093557,0.08479713396327594,-0.061697794787186545,-1.670028936339304,-0.44654185078945124,0.3424303635259183,-1.4760687974593132,1.00411471917094,-0.05524154132328517,0.014428830329574913,-0.3383435301323882,1.5183470766720768,-0.027803842073751618,1.7202240294648374,0.0659563768324742,0.8220356160516542,-0.5351973075051546,-0.15985840887473127,0.9323610128235857,0.6006660833479411,-0.8184884530933983,0.5152778925589065,2.5445342396284483,-0.03483860975117482,0.5162424224318293,0.9591449980497241,0.17777377052477863,-0.13969697340984139,-0.8569053896082983,0.2698446001276596,-0.19793090917579773,0.4250458772262773,0.3538791331723721,-2.2000463413342275,0.4181696188358884,-0.5901820888816727,0.020414193883099955,-0.6489481062883675,-0.3821890735220406,-0.32985879985063243,1.3954598123304571,0.05505854723609142,-0.6488143149635798,-0.21044309167380512,0.9436186500108769,-0.1344901082326483,0.4913203377664391,0.3285827524381691,-0.22242713380610743,-0.4202007414637871,0.10092135204452221,-0.516654392511781,-1.135954562451008,-0.7944885228365225,-0.8423266383457392,-1.359632784546133,0.7546560920413921,0.6516002595799931,0.8126667585524782,0.22038804422076191,0.054500146304780554,0.2125059915603282,-0.5119263987642447,0.46617177548286015,-1.375963954761399,0.4262163349180895,-1.205184119983154,-0.31379656718450993,0.4138625705495997,0.7663575825164424,-2.1174139409310984,0.5178801297938571,1.780572268688464,0.36758656402424283,-0.4135886115249514,0.8084776519283191,1.6336469314010316,2.230813714022468],\"y\":[-1.0590548720581747,-0.39190242572096723,0.2962891691222517,-0.5490583168335752,0.0883346775218682,-0.6114291879106363,-0.6373993095400021,-1.3757372678673856,0.7710307905294411,-0.7952282574924998,-1.0665821766458694,1.069364678832217,1.1469578718082771,-0.25199465875749505,0.7048053127514355,-0.70141193883703,-0.9687943837773987,-0.5179377536668606,1.0367137748339337,-0.926940875305391,-0.6431803601851102,-0.008176871309322228,-0.9552975301203914,-0.7588749739508795,0.8832832893949047,1.1755358794506057,-0.20549235635876878,-0.7491598214547203,-0.5734776537078125,0.49246483038810485,1.1571408435365964,0.35950239520271465,-0.9814813990037048,-0.3302371152060421,1.4279786237553096,0.09368539541218573,-0.05148049977783981,2.3212174669434593,-0.1741133687184468,1.1003712836406296,1.632706051966583,1.3341292330096408,1.2792614080957836,-0.9846673910400024,1.9008435066570037,0.8600680929881195,-0.6027765692000642,-0.46044062423880017,0.2036331641753118,1.6091632381996916,0.8319891984314672,-2.106481912504469,1.1587762643350736,0.4378282837245897,-0.6787113924870258,-1.3015491673560238,-0.4699970597901284,0.03448216204286796,-0.3921004216330228,0.4011602423714026,0.964934167991005,-1.5316121923083093,-2.708464465730562,0.1739441911266945,-0.24987881590183947,0.09772182633380014,0.7974157087788826,-0.06760707005609054,-1.0605788914082304,-1.0922449732655897,-0.46724550141681537,-1.311758303544521,1.5805631331227574,-2.7451393680018104,1.590657386425081,2.1594987472119085,0.8093209994861948,1.1872539693294126,-0.9376083371748265,-1.9880405933877292,-0.016931850993996047,0.19283107581930145,-1.2621201220902507,1.4219944905623008,0.03945646289475185,1.3468725540679272,0.3352148321341624,-0.7607245053299654,-1.3632969757334765,-0.25955811948574004,0.45549145421093473,-0.1296347833779436,0.04802303523424992,0.31671978263710604,-0.8908041289921246,0.6270179003637465,-0.1845078406753882,2.294840618932753,-1.8898838801321691,1.758211240623883],\"type\":\"scatter\"}],                        {\"legend\":{\"bgcolor\":\"#F5F6F9\",\"font\":{\"color\":\"#4D5663\"}},\"paper_bgcolor\":\"#F5F6F9\",\"plot_bgcolor\":\"#F5F6F9\",\"template\":{\"data\":{\"barpolar\":[{\"marker\":{\"line\":{\"color\":\"#E5ECF6\",\"width\":0.5},\"pattern\":{\"fillmode\":\"overlay\",\"size\":10,\"solidity\":0.2}},\"type\":\"barpolar\"}],\"bar\":[{\"error_x\":{\"color\":\"#2a3f5f\"},\"error_y\":{\"color\":\"#2a3f5f\"},\"marker\":{\"line\":{\"color\":\"#E5ECF6\",\"width\":0.5},\"pattern\":{\"fillmode\":\"overlay\",\"size\":10,\"solidity\":0.2}},\"type\":\"bar\"}],\"carpet\":[{\"aaxis\":{\"endlinecolor\":\"#2a3f5f\",\"gridcolor\":\"white\",\"linecolor\":\"white\",\"minorgridcolor\":\"white\",\"startlinecolor\":\"#2a3f5f\"},\"baxis\":{\"endlinecolor\":\"#2a3f5f\",\"gridcolor\":\"white\",\"linecolor\":\"white\",\"minorgridcolor\":\"white\",\"startlinecolor\":\"#2a3f5f\"},\"type\":\"carpet\"}],\"choropleth\":[{\"colorbar\":{\"outlinewidth\":0,\"ticks\":\"\"},\"type\":\"choropleth\"}],\"contourcarpet\":[{\"colorbar\":{\"outlinewidth\":0,\"ticks\":\"\"},\"type\":\"contourcarpet\"}],\"contour\":[{\"colorbar\":{\"outlinewidth\":0,\"ticks\":\"\"},\"colorscale\":[[0.0,\"#0d0887\"],[0.1111111111111111,\"#46039f\"],[0.2222222222222222,\"#7201a8\"],[0.3333333333333333,\"#9c179e\"],[0.4444444444444444,\"#bd3786\"],[0.5555555555555556,\"#d8576b\"],[0.6666666666666666,\"#ed7953\"],[0.7777777777777778,\"#fb9f3a\"],[0.8888888888888888,\"#fdca26\"],[1.0,\"#f0f921\"]],\"type\":\"contour\"}],\"heatmapgl\":[{\"colorbar\":{\"outlinewidth\":0,\"ticks\":\"\"},\"colorscale\":[[0.0,\"#0d0887\"],[0.1111111111111111,\"#46039f\"],[0.2222222222222222,\"#7201a8\"],[0.3333333333333333,\"#9c179e\"],[0.4444444444444444,\"#bd3786\"],[0.5555555555555556,\"#d8576b\"],[0.6666666666666666,\"#ed7953\"],[0.7777777777777778,\"#fb9f3a\"],[0.8888888888888888,\"#fdca26\"],[1.0,\"#f0f921\"]],\"type\":\"heatmapgl\"}],\"heatmap\":[{\"colorbar\":{\"outlinewidth\":0,\"ticks\":\"\"},\"colorscale\":[[0.0,\"#0d0887\"],[0.1111111111111111,\"#46039f\"],[0.2222222222222222,\"#7201a8\"],[0.3333333333333333,\"#9c179e\"],[0.4444444444444444,\"#bd3786\"],[0.5555555555555556,\"#d8576b\"],[0.6666666666666666,\"#ed7953\"],[0.7777777777777778,\"#fb9f3a\"],[0.8888888888888888,\"#fdca26\"],[1.0,\"#f0f921\"]],\"type\":\"heatmap\"}],\"histogram2dcontour\":[{\"colorbar\":{\"outlinewidth\":0,\"ticks\":\"\"},\"colorscale\":[[0.0,\"#0d0887\"],[0.1111111111111111,\"#46039f\"],[0.2222222222222222,\"#7201a8\"],[0.3333333333333333,\"#9c179e\"],[0.4444444444444444,\"#bd3786\"],[0.5555555555555556,\"#d8576b\"],[0.6666666666666666,\"#ed7953\"],[0.7777777777777778,\"#fb9f3a\"],[0.8888888888888888,\"#fdca26\"],[1.0,\"#f0f921\"]],\"type\":\"histogram2dcontour\"}],\"histogram2d\":[{\"colorbar\":{\"outlinewidth\":0,\"ticks\":\"\"},\"colorscale\":[[0.0,\"#0d0887\"],[0.1111111111111111,\"#46039f\"],[0.2222222222222222,\"#7201a8\"],[0.3333333333333333,\"#9c179e\"],[0.4444444444444444,\"#bd3786\"],[0.5555555555555556,\"#d8576b\"],[0.6666666666666666,\"#ed7953\"],[0.7777777777777778,\"#fb9f3a\"],[0.8888888888888888,\"#fdca26\"],[1.0,\"#f0f921\"]],\"type\":\"histogram2d\"}],\"histogram\":[{\"marker\":{\"pattern\":{\"fillmode\":\"overlay\",\"size\":10,\"solidity\":0.2}},\"type\":\"histogram\"}],\"mesh3d\":[{\"colorbar\":{\"outlinewidth\":0,\"ticks\":\"\"},\"type\":\"mesh3d\"}],\"parcoords\":[{\"line\":{\"colorbar\":{\"outlinewidth\":0,\"ticks\":\"\"}},\"type\":\"parcoords\"}],\"pie\":[{\"automargin\":true,\"type\":\"pie\"}],\"scatter3d\":[{\"line\":{\"colorbar\":{\"outlinewidth\":0,\"ticks\":\"\"}},\"marker\":{\"colorbar\":{\"outlinewidth\":0,\"ticks\":\"\"}},\"type\":\"scatter3d\"}],\"scattercarpet\":[{\"marker\":{\"colorbar\":{\"outlinewidth\":0,\"ticks\":\"\"}},\"type\":\"scattercarpet\"}],\"scattergeo\":[{\"marker\":{\"colorbar\":{\"outlinewidth\":0,\"ticks\":\"\"}},\"type\":\"scattergeo\"}],\"scattergl\":[{\"marker\":{\"colorbar\":{\"outlinewidth\":0,\"ticks\":\"\"}},\"type\":\"scattergl\"}],\"scattermapbox\":[{\"marker\":{\"colorbar\":{\"outlinewidth\":0,\"ticks\":\"\"}},\"type\":\"scattermapbox\"}],\"scatterpolargl\":[{\"marker\":{\"colorbar\":{\"outlinewidth\":0,\"ticks\":\"\"}},\"type\":\"scatterpolargl\"}],\"scatterpolar\":[{\"marker\":{\"colorbar\":{\"outlinewidth\":0,\"ticks\":\"\"}},\"type\":\"scatterpolar\"}],\"scatter\":[{\"fillpattern\":{\"fillmode\":\"overlay\",\"size\":10,\"solidity\":0.2},\"type\":\"scatter\"}],\"scatterternary\":[{\"marker\":{\"colorbar\":{\"outlinewidth\":0,\"ticks\":\"\"}},\"type\":\"scatterternary\"}],\"surface\":[{\"colorbar\":{\"outlinewidth\":0,\"ticks\":\"\"},\"colorscale\":[[0.0,\"#0d0887\"],[0.1111111111111111,\"#46039f\"],[0.2222222222222222,\"#7201a8\"],[0.3333333333333333,\"#9c179e\"],[0.4444444444444444,\"#bd3786\"],[0.5555555555555556,\"#d8576b\"],[0.6666666666666666,\"#ed7953\"],[0.7777777777777778,\"#fb9f3a\"],[0.8888888888888888,\"#fdca26\"],[1.0,\"#f0f921\"]],\"type\":\"surface\"}],\"table\":[{\"cells\":{\"fill\":{\"color\":\"#EBF0F8\"},\"line\":{\"color\":\"white\"}},\"header\":{\"fill\":{\"color\":\"#C8D4E3\"},\"line\":{\"color\":\"white\"}},\"type\":\"table\"}]},\"layout\":{\"annotationdefaults\":{\"arrowcolor\":\"#2a3f5f\",\"arrowhead\":0,\"arrowwidth\":1},\"autotypenumbers\":\"strict\",\"coloraxis\":{\"colorbar\":{\"outlinewidth\":0,\"ticks\":\"\"}},\"colorscale\":{\"diverging\":[[0,\"#8e0152\"],[0.1,\"#c51b7d\"],[0.2,\"#de77ae\"],[0.3,\"#f1b6da\"],[0.4,\"#fde0ef\"],[0.5,\"#f7f7f7\"],[0.6,\"#e6f5d0\"],[0.7,\"#b8e186\"],[0.8,\"#7fbc41\"],[0.9,\"#4d9221\"],[1,\"#276419\"]],\"sequential\":[[0.0,\"#0d0887\"],[0.1111111111111111,\"#46039f\"],[0.2222222222222222,\"#7201a8\"],[0.3333333333333333,\"#9c179e\"],[0.4444444444444444,\"#bd3786\"],[0.5555555555555556,\"#d8576b\"],[0.6666666666666666,\"#ed7953\"],[0.7777777777777778,\"#fb9f3a\"],[0.8888888888888888,\"#fdca26\"],[1.0,\"#f0f921\"]],\"sequentialminus\":[[0.0,\"#0d0887\"],[0.1111111111111111,\"#46039f\"],[0.2222222222222222,\"#7201a8\"],[0.3333333333333333,\"#9c179e\"],[0.4444444444444444,\"#bd3786\"],[0.5555555555555556,\"#d8576b\"],[0.6666666666666666,\"#ed7953\"],[0.7777777777777778,\"#fb9f3a\"],[0.8888888888888888,\"#fdca26\"],[1.0,\"#f0f921\"]]},\"colorway\":[\"#636efa\",\"#EF553B\",\"#00cc96\",\"#ab63fa\",\"#FFA15A\",\"#19d3f3\",\"#FF6692\",\"#B6E880\",\"#FF97FF\",\"#FECB52\"],\"font\":{\"color\":\"#2a3f5f\"},\"geo\":{\"bgcolor\":\"white\",\"lakecolor\":\"white\",\"landcolor\":\"#E5ECF6\",\"showlakes\":true,\"showland\":true,\"subunitcolor\":\"white\"},\"hoverlabel\":{\"align\":\"left\"},\"hovermode\":\"closest\",\"mapbox\":{\"style\":\"light\"},\"paper_bgcolor\":\"white\",\"plot_bgcolor\":\"#E5ECF6\",\"polar\":{\"angularaxis\":{\"gridcolor\":\"white\",\"linecolor\":\"white\",\"ticks\":\"\"},\"bgcolor\":\"#E5ECF6\",\"radialaxis\":{\"gridcolor\":\"white\",\"linecolor\":\"white\",\"ticks\":\"\"}},\"scene\":{\"xaxis\":{\"backgroundcolor\":\"#E5ECF6\",\"gridcolor\":\"white\",\"gridwidth\":2,\"linecolor\":\"white\",\"showbackground\":true,\"ticks\":\"\",\"zerolinecolor\":\"white\"},\"yaxis\":{\"backgroundcolor\":\"#E5ECF6\",\"gridcolor\":\"white\",\"gridwidth\":2,\"linecolor\":\"white\",\"showbackground\":true,\"ticks\":\"\",\"zerolinecolor\":\"white\"},\"zaxis\":{\"backgroundcolor\":\"#E5ECF6\",\"gridcolor\":\"white\",\"gridwidth\":2,\"linecolor\":\"white\",\"showbackground\":true,\"ticks\":\"\",\"zerolinecolor\":\"white\"}},\"shapedefaults\":{\"line\":{\"color\":\"#2a3f5f\"}},\"ternary\":{\"aaxis\":{\"gridcolor\":\"white\",\"linecolor\":\"white\",\"ticks\":\"\"},\"baxis\":{\"gridcolor\":\"white\",\"linecolor\":\"white\",\"ticks\":\"\"},\"bgcolor\":\"#E5ECF6\",\"caxis\":{\"gridcolor\":\"white\",\"linecolor\":\"white\",\"ticks\":\"\"}},\"title\":{\"x\":0.05},\"xaxis\":{\"automargin\":true,\"gridcolor\":\"white\",\"linecolor\":\"white\",\"ticks\":\"\",\"title\":{\"standoff\":15},\"zerolinecolor\":\"white\",\"zerolinewidth\":2},\"yaxis\":{\"automargin\":true,\"gridcolor\":\"white\",\"linecolor\":\"white\",\"ticks\":\"\",\"title\":{\"standoff\":15},\"zerolinecolor\":\"white\",\"zerolinewidth\":2}}},\"title\":{\"font\":{\"color\":\"#4D5663\"}},\"xaxis\":{\"gridcolor\":\"#E1E5ED\",\"showgrid\":true,\"tickfont\":{\"color\":\"#4D5663\"},\"title\":{\"font\":{\"color\":\"#4D5663\"},\"text\":\"\"},\"zerolinecolor\":\"#E1E5ED\"},\"yaxis\":{\"gridcolor\":\"#E1E5ED\",\"showgrid\":true,\"tickfont\":{\"color\":\"#4D5663\"},\"title\":{\"font\":{\"color\":\"#4D5663\"},\"text\":\"\"},\"zerolinecolor\":\"#E1E5ED\"}},                        {\"showLink\": true, \"linkText\": \"Export to plot.ly\", \"plotlyServerURL\": \"https://plot.ly\", \"responsive\": true}                    ).then(function(){\n",
       "                            \n",
       "var gd = document.getElementById('bc060719-73d6-4e0c-a56a-4d957b42e24c');\n",
       "var x = new MutationObserver(function (mutations, observer) {{\n",
       "        var display = window.getComputedStyle(gd).display;\n",
       "        if (!display || display === 'none') {{\n",
       "            console.log([gd, 'removed!']);\n",
       "            Plotly.purge(gd);\n",
       "            observer.disconnect();\n",
       "        }}\n",
       "}});\n",
       "\n",
       "// Listen for the removal of the full notebook cells\n",
       "var notebookContainer = gd.closest('#notebook-container');\n",
       "if (notebookContainer) {{\n",
       "    x.observe(notebookContainer, {childList: true});\n",
       "}}\n",
       "\n",
       "// Listen for the clearing of the current output cell\n",
       "var outputEl = gd.closest('.output');\n",
       "if (outputEl) {{\n",
       "    x.observe(outputEl, {childList: true});\n",
       "}}\n",
       "\n",
       "                        })                };                });            </script>        </div>"
      ]
     },
     "metadata": {},
     "output_type": "display_data"
    }
   ],
   "source": [
    "df1.iplot(kind='scatter',x='A',y='B',mode='markers',size=15)"
   ]
  },
  {
   "cell_type": "code",
   "execution_count": 21,
   "id": "e5817b27",
   "metadata": {},
   "outputs": [
    {
     "data": {
      "application/vnd.plotly.v1+json": {
       "config": {
        "linkText": "Export to plot.ly",
        "plotlyServerURL": "https://plot.ly",
        "showLink": true
       },
       "data": [
        {
         "marker": {
          "color": "rgba(255, 153, 51, 0.6)",
          "line": {
           "color": "rgba(255, 153, 51, 1.0)",
           "width": 1
          }
         },
         "name": "values",
         "orientation": "v",
         "text": "",
         "type": "bar",
         "x": [
          "A",
          "B",
          "C"
         ],
         "y": [
          32,
          43,
          50
         ]
        }
       ],
       "layout": {
        "legend": {
         "bgcolor": "#F5F6F9",
         "font": {
          "color": "#4D5663"
         }
        },
        "paper_bgcolor": "#F5F6F9",
        "plot_bgcolor": "#F5F6F9",
        "template": {
         "data": {
          "bar": [
           {
            "error_x": {
             "color": "#2a3f5f"
            },
            "error_y": {
             "color": "#2a3f5f"
            },
            "marker": {
             "line": {
              "color": "#E5ECF6",
              "width": 0.5
             },
             "pattern": {
              "fillmode": "overlay",
              "size": 10,
              "solidity": 0.2
             }
            },
            "type": "bar"
           }
          ],
          "barpolar": [
           {
            "marker": {
             "line": {
              "color": "#E5ECF6",
              "width": 0.5
             },
             "pattern": {
              "fillmode": "overlay",
              "size": 10,
              "solidity": 0.2
             }
            },
            "type": "barpolar"
           }
          ],
          "carpet": [
           {
            "aaxis": {
             "endlinecolor": "#2a3f5f",
             "gridcolor": "white",
             "linecolor": "white",
             "minorgridcolor": "white",
             "startlinecolor": "#2a3f5f"
            },
            "baxis": {
             "endlinecolor": "#2a3f5f",
             "gridcolor": "white",
             "linecolor": "white",
             "minorgridcolor": "white",
             "startlinecolor": "#2a3f5f"
            },
            "type": "carpet"
           }
          ],
          "choropleth": [
           {
            "colorbar": {
             "outlinewidth": 0,
             "ticks": ""
            },
            "type": "choropleth"
           }
          ],
          "contour": [
           {
            "colorbar": {
             "outlinewidth": 0,
             "ticks": ""
            },
            "colorscale": [
             [
              0,
              "#0d0887"
             ],
             [
              0.1111111111111111,
              "#46039f"
             ],
             [
              0.2222222222222222,
              "#7201a8"
             ],
             [
              0.3333333333333333,
              "#9c179e"
             ],
             [
              0.4444444444444444,
              "#bd3786"
             ],
             [
              0.5555555555555556,
              "#d8576b"
             ],
             [
              0.6666666666666666,
              "#ed7953"
             ],
             [
              0.7777777777777778,
              "#fb9f3a"
             ],
             [
              0.8888888888888888,
              "#fdca26"
             ],
             [
              1,
              "#f0f921"
             ]
            ],
            "type": "contour"
           }
          ],
          "contourcarpet": [
           {
            "colorbar": {
             "outlinewidth": 0,
             "ticks": ""
            },
            "type": "contourcarpet"
           }
          ],
          "heatmap": [
           {
            "colorbar": {
             "outlinewidth": 0,
             "ticks": ""
            },
            "colorscale": [
             [
              0,
              "#0d0887"
             ],
             [
              0.1111111111111111,
              "#46039f"
             ],
             [
              0.2222222222222222,
              "#7201a8"
             ],
             [
              0.3333333333333333,
              "#9c179e"
             ],
             [
              0.4444444444444444,
              "#bd3786"
             ],
             [
              0.5555555555555556,
              "#d8576b"
             ],
             [
              0.6666666666666666,
              "#ed7953"
             ],
             [
              0.7777777777777778,
              "#fb9f3a"
             ],
             [
              0.8888888888888888,
              "#fdca26"
             ],
             [
              1,
              "#f0f921"
             ]
            ],
            "type": "heatmap"
           }
          ],
          "heatmapgl": [
           {
            "colorbar": {
             "outlinewidth": 0,
             "ticks": ""
            },
            "colorscale": [
             [
              0,
              "#0d0887"
             ],
             [
              0.1111111111111111,
              "#46039f"
             ],
             [
              0.2222222222222222,
              "#7201a8"
             ],
             [
              0.3333333333333333,
              "#9c179e"
             ],
             [
              0.4444444444444444,
              "#bd3786"
             ],
             [
              0.5555555555555556,
              "#d8576b"
             ],
             [
              0.6666666666666666,
              "#ed7953"
             ],
             [
              0.7777777777777778,
              "#fb9f3a"
             ],
             [
              0.8888888888888888,
              "#fdca26"
             ],
             [
              1,
              "#f0f921"
             ]
            ],
            "type": "heatmapgl"
           }
          ],
          "histogram": [
           {
            "marker": {
             "pattern": {
              "fillmode": "overlay",
              "size": 10,
              "solidity": 0.2
             }
            },
            "type": "histogram"
           }
          ],
          "histogram2d": [
           {
            "colorbar": {
             "outlinewidth": 0,
             "ticks": ""
            },
            "colorscale": [
             [
              0,
              "#0d0887"
             ],
             [
              0.1111111111111111,
              "#46039f"
             ],
             [
              0.2222222222222222,
              "#7201a8"
             ],
             [
              0.3333333333333333,
              "#9c179e"
             ],
             [
              0.4444444444444444,
              "#bd3786"
             ],
             [
              0.5555555555555556,
              "#d8576b"
             ],
             [
              0.6666666666666666,
              "#ed7953"
             ],
             [
              0.7777777777777778,
              "#fb9f3a"
             ],
             [
              0.8888888888888888,
              "#fdca26"
             ],
             [
              1,
              "#f0f921"
             ]
            ],
            "type": "histogram2d"
           }
          ],
          "histogram2dcontour": [
           {
            "colorbar": {
             "outlinewidth": 0,
             "ticks": ""
            },
            "colorscale": [
             [
              0,
              "#0d0887"
             ],
             [
              0.1111111111111111,
              "#46039f"
             ],
             [
              0.2222222222222222,
              "#7201a8"
             ],
             [
              0.3333333333333333,
              "#9c179e"
             ],
             [
              0.4444444444444444,
              "#bd3786"
             ],
             [
              0.5555555555555556,
              "#d8576b"
             ],
             [
              0.6666666666666666,
              "#ed7953"
             ],
             [
              0.7777777777777778,
              "#fb9f3a"
             ],
             [
              0.8888888888888888,
              "#fdca26"
             ],
             [
              1,
              "#f0f921"
             ]
            ],
            "type": "histogram2dcontour"
           }
          ],
          "mesh3d": [
           {
            "colorbar": {
             "outlinewidth": 0,
             "ticks": ""
            },
            "type": "mesh3d"
           }
          ],
          "parcoords": [
           {
            "line": {
             "colorbar": {
              "outlinewidth": 0,
              "ticks": ""
             }
            },
            "type": "parcoords"
           }
          ],
          "pie": [
           {
            "automargin": true,
            "type": "pie"
           }
          ],
          "scatter": [
           {
            "fillpattern": {
             "fillmode": "overlay",
             "size": 10,
             "solidity": 0.2
            },
            "type": "scatter"
           }
          ],
          "scatter3d": [
           {
            "line": {
             "colorbar": {
              "outlinewidth": 0,
              "ticks": ""
             }
            },
            "marker": {
             "colorbar": {
              "outlinewidth": 0,
              "ticks": ""
             }
            },
            "type": "scatter3d"
           }
          ],
          "scattercarpet": [
           {
            "marker": {
             "colorbar": {
              "outlinewidth": 0,
              "ticks": ""
             }
            },
            "type": "scattercarpet"
           }
          ],
          "scattergeo": [
           {
            "marker": {
             "colorbar": {
              "outlinewidth": 0,
              "ticks": ""
             }
            },
            "type": "scattergeo"
           }
          ],
          "scattergl": [
           {
            "marker": {
             "colorbar": {
              "outlinewidth": 0,
              "ticks": ""
             }
            },
            "type": "scattergl"
           }
          ],
          "scattermapbox": [
           {
            "marker": {
             "colorbar": {
              "outlinewidth": 0,
              "ticks": ""
             }
            },
            "type": "scattermapbox"
           }
          ],
          "scatterpolar": [
           {
            "marker": {
             "colorbar": {
              "outlinewidth": 0,
              "ticks": ""
             }
            },
            "type": "scatterpolar"
           }
          ],
          "scatterpolargl": [
           {
            "marker": {
             "colorbar": {
              "outlinewidth": 0,
              "ticks": ""
             }
            },
            "type": "scatterpolargl"
           }
          ],
          "scatterternary": [
           {
            "marker": {
             "colorbar": {
              "outlinewidth": 0,
              "ticks": ""
             }
            },
            "type": "scatterternary"
           }
          ],
          "surface": [
           {
            "colorbar": {
             "outlinewidth": 0,
             "ticks": ""
            },
            "colorscale": [
             [
              0,
              "#0d0887"
             ],
             [
              0.1111111111111111,
              "#46039f"
             ],
             [
              0.2222222222222222,
              "#7201a8"
             ],
             [
              0.3333333333333333,
              "#9c179e"
             ],
             [
              0.4444444444444444,
              "#bd3786"
             ],
             [
              0.5555555555555556,
              "#d8576b"
             ],
             [
              0.6666666666666666,
              "#ed7953"
             ],
             [
              0.7777777777777778,
              "#fb9f3a"
             ],
             [
              0.8888888888888888,
              "#fdca26"
             ],
             [
              1,
              "#f0f921"
             ]
            ],
            "type": "surface"
           }
          ],
          "table": [
           {
            "cells": {
             "fill": {
              "color": "#EBF0F8"
             },
             "line": {
              "color": "white"
             }
            },
            "header": {
             "fill": {
              "color": "#C8D4E3"
             },
             "line": {
              "color": "white"
             }
            },
            "type": "table"
           }
          ]
         },
         "layout": {
          "annotationdefaults": {
           "arrowcolor": "#2a3f5f",
           "arrowhead": 0,
           "arrowwidth": 1
          },
          "autotypenumbers": "strict",
          "coloraxis": {
           "colorbar": {
            "outlinewidth": 0,
            "ticks": ""
           }
          },
          "colorscale": {
           "diverging": [
            [
             0,
             "#8e0152"
            ],
            [
             0.1,
             "#c51b7d"
            ],
            [
             0.2,
             "#de77ae"
            ],
            [
             0.3,
             "#f1b6da"
            ],
            [
             0.4,
             "#fde0ef"
            ],
            [
             0.5,
             "#f7f7f7"
            ],
            [
             0.6,
             "#e6f5d0"
            ],
            [
             0.7,
             "#b8e186"
            ],
            [
             0.8,
             "#7fbc41"
            ],
            [
             0.9,
             "#4d9221"
            ],
            [
             1,
             "#276419"
            ]
           ],
           "sequential": [
            [
             0,
             "#0d0887"
            ],
            [
             0.1111111111111111,
             "#46039f"
            ],
            [
             0.2222222222222222,
             "#7201a8"
            ],
            [
             0.3333333333333333,
             "#9c179e"
            ],
            [
             0.4444444444444444,
             "#bd3786"
            ],
            [
             0.5555555555555556,
             "#d8576b"
            ],
            [
             0.6666666666666666,
             "#ed7953"
            ],
            [
             0.7777777777777778,
             "#fb9f3a"
            ],
            [
             0.8888888888888888,
             "#fdca26"
            ],
            [
             1,
             "#f0f921"
            ]
           ],
           "sequentialminus": [
            [
             0,
             "#0d0887"
            ],
            [
             0.1111111111111111,
             "#46039f"
            ],
            [
             0.2222222222222222,
             "#7201a8"
            ],
            [
             0.3333333333333333,
             "#9c179e"
            ],
            [
             0.4444444444444444,
             "#bd3786"
            ],
            [
             0.5555555555555556,
             "#d8576b"
            ],
            [
             0.6666666666666666,
             "#ed7953"
            ],
            [
             0.7777777777777778,
             "#fb9f3a"
            ],
            [
             0.8888888888888888,
             "#fdca26"
            ],
            [
             1,
             "#f0f921"
            ]
           ]
          },
          "colorway": [
           "#636efa",
           "#EF553B",
           "#00cc96",
           "#ab63fa",
           "#FFA15A",
           "#19d3f3",
           "#FF6692",
           "#B6E880",
           "#FF97FF",
           "#FECB52"
          ],
          "font": {
           "color": "#2a3f5f"
          },
          "geo": {
           "bgcolor": "white",
           "lakecolor": "white",
           "landcolor": "#E5ECF6",
           "showlakes": true,
           "showland": true,
           "subunitcolor": "white"
          },
          "hoverlabel": {
           "align": "left"
          },
          "hovermode": "closest",
          "mapbox": {
           "style": "light"
          },
          "paper_bgcolor": "white",
          "plot_bgcolor": "#E5ECF6",
          "polar": {
           "angularaxis": {
            "gridcolor": "white",
            "linecolor": "white",
            "ticks": ""
           },
           "bgcolor": "#E5ECF6",
           "radialaxis": {
            "gridcolor": "white",
            "linecolor": "white",
            "ticks": ""
           }
          },
          "scene": {
           "xaxis": {
            "backgroundcolor": "#E5ECF6",
            "gridcolor": "white",
            "gridwidth": 2,
            "linecolor": "white",
            "showbackground": true,
            "ticks": "",
            "zerolinecolor": "white"
           },
           "yaxis": {
            "backgroundcolor": "#E5ECF6",
            "gridcolor": "white",
            "gridwidth": 2,
            "linecolor": "white",
            "showbackground": true,
            "ticks": "",
            "zerolinecolor": "white"
           },
           "zaxis": {
            "backgroundcolor": "#E5ECF6",
            "gridcolor": "white",
            "gridwidth": 2,
            "linecolor": "white",
            "showbackground": true,
            "ticks": "",
            "zerolinecolor": "white"
           }
          },
          "shapedefaults": {
           "line": {
            "color": "#2a3f5f"
           }
          },
          "ternary": {
           "aaxis": {
            "gridcolor": "white",
            "linecolor": "white",
            "ticks": ""
           },
           "baxis": {
            "gridcolor": "white",
            "linecolor": "white",
            "ticks": ""
           },
           "bgcolor": "#E5ECF6",
           "caxis": {
            "gridcolor": "white",
            "linecolor": "white",
            "ticks": ""
           }
          },
          "title": {
           "x": 0.05
          },
          "xaxis": {
           "automargin": true,
           "gridcolor": "white",
           "linecolor": "white",
           "ticks": "",
           "title": {
            "standoff": 15
           },
           "zerolinecolor": "white",
           "zerolinewidth": 2
          },
          "yaxis": {
           "automargin": true,
           "gridcolor": "white",
           "linecolor": "white",
           "ticks": "",
           "title": {
            "standoff": 15
           },
           "zerolinecolor": "white",
           "zerolinewidth": 2
          }
         }
        },
        "title": {
         "font": {
          "color": "#4D5663"
         }
        },
        "xaxis": {
         "gridcolor": "#E1E5ED",
         "showgrid": true,
         "tickfont": {
          "color": "#4D5663"
         },
         "title": {
          "font": {
           "color": "#4D5663"
          },
          "text": ""
         },
         "zerolinecolor": "#E1E5ED"
        },
        "yaxis": {
         "gridcolor": "#E1E5ED",
         "showgrid": true,
         "tickfont": {
          "color": "#4D5663"
         },
         "title": {
          "font": {
           "color": "#4D5663"
          },
          "text": ""
         },
         "zerolinecolor": "#E1E5ED"
        }
       }
      },
      "text/html": [
       "<div>                            <div id=\"c01bb855-bee6-4c9a-b16e-ef0c2d301ed4\" class=\"plotly-graph-div\" style=\"height:525px; width:100%;\"></div>            <script type=\"text/javascript\">                require([\"plotly\"], function(Plotly) {                    window.PLOTLYENV=window.PLOTLYENV || {};\n",
       "                    window.PLOTLYENV.BASE_URL='https://plot.ly';                                    if (document.getElementById(\"c01bb855-bee6-4c9a-b16e-ef0c2d301ed4\")) {                    Plotly.newPlot(                        \"c01bb855-bee6-4c9a-b16e-ef0c2d301ed4\",                        [{\"marker\":{\"color\":\"rgba(255, 153, 51, 0.6)\",\"line\":{\"color\":\"rgba(255, 153, 51, 1.0)\",\"width\":1}},\"name\":\"values\",\"orientation\":\"v\",\"text\":\"\",\"x\":[\"A\",\"B\",\"C\"],\"y\":[32,43,50],\"type\":\"bar\"}],                        {\"legend\":{\"bgcolor\":\"#F5F6F9\",\"font\":{\"color\":\"#4D5663\"}},\"paper_bgcolor\":\"#F5F6F9\",\"plot_bgcolor\":\"#F5F6F9\",\"template\":{\"data\":{\"barpolar\":[{\"marker\":{\"line\":{\"color\":\"#E5ECF6\",\"width\":0.5},\"pattern\":{\"fillmode\":\"overlay\",\"size\":10,\"solidity\":0.2}},\"type\":\"barpolar\"}],\"bar\":[{\"error_x\":{\"color\":\"#2a3f5f\"},\"error_y\":{\"color\":\"#2a3f5f\"},\"marker\":{\"line\":{\"color\":\"#E5ECF6\",\"width\":0.5},\"pattern\":{\"fillmode\":\"overlay\",\"size\":10,\"solidity\":0.2}},\"type\":\"bar\"}],\"carpet\":[{\"aaxis\":{\"endlinecolor\":\"#2a3f5f\",\"gridcolor\":\"white\",\"linecolor\":\"white\",\"minorgridcolor\":\"white\",\"startlinecolor\":\"#2a3f5f\"},\"baxis\":{\"endlinecolor\":\"#2a3f5f\",\"gridcolor\":\"white\",\"linecolor\":\"white\",\"minorgridcolor\":\"white\",\"startlinecolor\":\"#2a3f5f\"},\"type\":\"carpet\"}],\"choropleth\":[{\"colorbar\":{\"outlinewidth\":0,\"ticks\":\"\"},\"type\":\"choropleth\"}],\"contourcarpet\":[{\"colorbar\":{\"outlinewidth\":0,\"ticks\":\"\"},\"type\":\"contourcarpet\"}],\"contour\":[{\"colorbar\":{\"outlinewidth\":0,\"ticks\":\"\"},\"colorscale\":[[0.0,\"#0d0887\"],[0.1111111111111111,\"#46039f\"],[0.2222222222222222,\"#7201a8\"],[0.3333333333333333,\"#9c179e\"],[0.4444444444444444,\"#bd3786\"],[0.5555555555555556,\"#d8576b\"],[0.6666666666666666,\"#ed7953\"],[0.7777777777777778,\"#fb9f3a\"],[0.8888888888888888,\"#fdca26\"],[1.0,\"#f0f921\"]],\"type\":\"contour\"}],\"heatmapgl\":[{\"colorbar\":{\"outlinewidth\":0,\"ticks\":\"\"},\"colorscale\":[[0.0,\"#0d0887\"],[0.1111111111111111,\"#46039f\"],[0.2222222222222222,\"#7201a8\"],[0.3333333333333333,\"#9c179e\"],[0.4444444444444444,\"#bd3786\"],[0.5555555555555556,\"#d8576b\"],[0.6666666666666666,\"#ed7953\"],[0.7777777777777778,\"#fb9f3a\"],[0.8888888888888888,\"#fdca26\"],[1.0,\"#f0f921\"]],\"type\":\"heatmapgl\"}],\"heatmap\":[{\"colorbar\":{\"outlinewidth\":0,\"ticks\":\"\"},\"colorscale\":[[0.0,\"#0d0887\"],[0.1111111111111111,\"#46039f\"],[0.2222222222222222,\"#7201a8\"],[0.3333333333333333,\"#9c179e\"],[0.4444444444444444,\"#bd3786\"],[0.5555555555555556,\"#d8576b\"],[0.6666666666666666,\"#ed7953\"],[0.7777777777777778,\"#fb9f3a\"],[0.8888888888888888,\"#fdca26\"],[1.0,\"#f0f921\"]],\"type\":\"heatmap\"}],\"histogram2dcontour\":[{\"colorbar\":{\"outlinewidth\":0,\"ticks\":\"\"},\"colorscale\":[[0.0,\"#0d0887\"],[0.1111111111111111,\"#46039f\"],[0.2222222222222222,\"#7201a8\"],[0.3333333333333333,\"#9c179e\"],[0.4444444444444444,\"#bd3786\"],[0.5555555555555556,\"#d8576b\"],[0.6666666666666666,\"#ed7953\"],[0.7777777777777778,\"#fb9f3a\"],[0.8888888888888888,\"#fdca26\"],[1.0,\"#f0f921\"]],\"type\":\"histogram2dcontour\"}],\"histogram2d\":[{\"colorbar\":{\"outlinewidth\":0,\"ticks\":\"\"},\"colorscale\":[[0.0,\"#0d0887\"],[0.1111111111111111,\"#46039f\"],[0.2222222222222222,\"#7201a8\"],[0.3333333333333333,\"#9c179e\"],[0.4444444444444444,\"#bd3786\"],[0.5555555555555556,\"#d8576b\"],[0.6666666666666666,\"#ed7953\"],[0.7777777777777778,\"#fb9f3a\"],[0.8888888888888888,\"#fdca26\"],[1.0,\"#f0f921\"]],\"type\":\"histogram2d\"}],\"histogram\":[{\"marker\":{\"pattern\":{\"fillmode\":\"overlay\",\"size\":10,\"solidity\":0.2}},\"type\":\"histogram\"}],\"mesh3d\":[{\"colorbar\":{\"outlinewidth\":0,\"ticks\":\"\"},\"type\":\"mesh3d\"}],\"parcoords\":[{\"line\":{\"colorbar\":{\"outlinewidth\":0,\"ticks\":\"\"}},\"type\":\"parcoords\"}],\"pie\":[{\"automargin\":true,\"type\":\"pie\"}],\"scatter3d\":[{\"line\":{\"colorbar\":{\"outlinewidth\":0,\"ticks\":\"\"}},\"marker\":{\"colorbar\":{\"outlinewidth\":0,\"ticks\":\"\"}},\"type\":\"scatter3d\"}],\"scattercarpet\":[{\"marker\":{\"colorbar\":{\"outlinewidth\":0,\"ticks\":\"\"}},\"type\":\"scattercarpet\"}],\"scattergeo\":[{\"marker\":{\"colorbar\":{\"outlinewidth\":0,\"ticks\":\"\"}},\"type\":\"scattergeo\"}],\"scattergl\":[{\"marker\":{\"colorbar\":{\"outlinewidth\":0,\"ticks\":\"\"}},\"type\":\"scattergl\"}],\"scattermapbox\":[{\"marker\":{\"colorbar\":{\"outlinewidth\":0,\"ticks\":\"\"}},\"type\":\"scattermapbox\"}],\"scatterpolargl\":[{\"marker\":{\"colorbar\":{\"outlinewidth\":0,\"ticks\":\"\"}},\"type\":\"scatterpolargl\"}],\"scatterpolar\":[{\"marker\":{\"colorbar\":{\"outlinewidth\":0,\"ticks\":\"\"}},\"type\":\"scatterpolar\"}],\"scatter\":[{\"fillpattern\":{\"fillmode\":\"overlay\",\"size\":10,\"solidity\":0.2},\"type\":\"scatter\"}],\"scatterternary\":[{\"marker\":{\"colorbar\":{\"outlinewidth\":0,\"ticks\":\"\"}},\"type\":\"scatterternary\"}],\"surface\":[{\"colorbar\":{\"outlinewidth\":0,\"ticks\":\"\"},\"colorscale\":[[0.0,\"#0d0887\"],[0.1111111111111111,\"#46039f\"],[0.2222222222222222,\"#7201a8\"],[0.3333333333333333,\"#9c179e\"],[0.4444444444444444,\"#bd3786\"],[0.5555555555555556,\"#d8576b\"],[0.6666666666666666,\"#ed7953\"],[0.7777777777777778,\"#fb9f3a\"],[0.8888888888888888,\"#fdca26\"],[1.0,\"#f0f921\"]],\"type\":\"surface\"}],\"table\":[{\"cells\":{\"fill\":{\"color\":\"#EBF0F8\"},\"line\":{\"color\":\"white\"}},\"header\":{\"fill\":{\"color\":\"#C8D4E3\"},\"line\":{\"color\":\"white\"}},\"type\":\"table\"}]},\"layout\":{\"annotationdefaults\":{\"arrowcolor\":\"#2a3f5f\",\"arrowhead\":0,\"arrowwidth\":1},\"autotypenumbers\":\"strict\",\"coloraxis\":{\"colorbar\":{\"outlinewidth\":0,\"ticks\":\"\"}},\"colorscale\":{\"diverging\":[[0,\"#8e0152\"],[0.1,\"#c51b7d\"],[0.2,\"#de77ae\"],[0.3,\"#f1b6da\"],[0.4,\"#fde0ef\"],[0.5,\"#f7f7f7\"],[0.6,\"#e6f5d0\"],[0.7,\"#b8e186\"],[0.8,\"#7fbc41\"],[0.9,\"#4d9221\"],[1,\"#276419\"]],\"sequential\":[[0.0,\"#0d0887\"],[0.1111111111111111,\"#46039f\"],[0.2222222222222222,\"#7201a8\"],[0.3333333333333333,\"#9c179e\"],[0.4444444444444444,\"#bd3786\"],[0.5555555555555556,\"#d8576b\"],[0.6666666666666666,\"#ed7953\"],[0.7777777777777778,\"#fb9f3a\"],[0.8888888888888888,\"#fdca26\"],[1.0,\"#f0f921\"]],\"sequentialminus\":[[0.0,\"#0d0887\"],[0.1111111111111111,\"#46039f\"],[0.2222222222222222,\"#7201a8\"],[0.3333333333333333,\"#9c179e\"],[0.4444444444444444,\"#bd3786\"],[0.5555555555555556,\"#d8576b\"],[0.6666666666666666,\"#ed7953\"],[0.7777777777777778,\"#fb9f3a\"],[0.8888888888888888,\"#fdca26\"],[1.0,\"#f0f921\"]]},\"colorway\":[\"#636efa\",\"#EF553B\",\"#00cc96\",\"#ab63fa\",\"#FFA15A\",\"#19d3f3\",\"#FF6692\",\"#B6E880\",\"#FF97FF\",\"#FECB52\"],\"font\":{\"color\":\"#2a3f5f\"},\"geo\":{\"bgcolor\":\"white\",\"lakecolor\":\"white\",\"landcolor\":\"#E5ECF6\",\"showlakes\":true,\"showland\":true,\"subunitcolor\":\"white\"},\"hoverlabel\":{\"align\":\"left\"},\"hovermode\":\"closest\",\"mapbox\":{\"style\":\"light\"},\"paper_bgcolor\":\"white\",\"plot_bgcolor\":\"#E5ECF6\",\"polar\":{\"angularaxis\":{\"gridcolor\":\"white\",\"linecolor\":\"white\",\"ticks\":\"\"},\"bgcolor\":\"#E5ECF6\",\"radialaxis\":{\"gridcolor\":\"white\",\"linecolor\":\"white\",\"ticks\":\"\"}},\"scene\":{\"xaxis\":{\"backgroundcolor\":\"#E5ECF6\",\"gridcolor\":\"white\",\"gridwidth\":2,\"linecolor\":\"white\",\"showbackground\":true,\"ticks\":\"\",\"zerolinecolor\":\"white\"},\"yaxis\":{\"backgroundcolor\":\"#E5ECF6\",\"gridcolor\":\"white\",\"gridwidth\":2,\"linecolor\":\"white\",\"showbackground\":true,\"ticks\":\"\",\"zerolinecolor\":\"white\"},\"zaxis\":{\"backgroundcolor\":\"#E5ECF6\",\"gridcolor\":\"white\",\"gridwidth\":2,\"linecolor\":\"white\",\"showbackground\":true,\"ticks\":\"\",\"zerolinecolor\":\"white\"}},\"shapedefaults\":{\"line\":{\"color\":\"#2a3f5f\"}},\"ternary\":{\"aaxis\":{\"gridcolor\":\"white\",\"linecolor\":\"white\",\"ticks\":\"\"},\"baxis\":{\"gridcolor\":\"white\",\"linecolor\":\"white\",\"ticks\":\"\"},\"bgcolor\":\"#E5ECF6\",\"caxis\":{\"gridcolor\":\"white\",\"linecolor\":\"white\",\"ticks\":\"\"}},\"title\":{\"x\":0.05},\"xaxis\":{\"automargin\":true,\"gridcolor\":\"white\",\"linecolor\":\"white\",\"ticks\":\"\",\"title\":{\"standoff\":15},\"zerolinecolor\":\"white\",\"zerolinewidth\":2},\"yaxis\":{\"automargin\":true,\"gridcolor\":\"white\",\"linecolor\":\"white\",\"ticks\":\"\",\"title\":{\"standoff\":15},\"zerolinecolor\":\"white\",\"zerolinewidth\":2}}},\"title\":{\"font\":{\"color\":\"#4D5663\"}},\"xaxis\":{\"gridcolor\":\"#E1E5ED\",\"showgrid\":true,\"tickfont\":{\"color\":\"#4D5663\"},\"title\":{\"font\":{\"color\":\"#4D5663\"},\"text\":\"\"},\"zerolinecolor\":\"#E1E5ED\"},\"yaxis\":{\"gridcolor\":\"#E1E5ED\",\"showgrid\":true,\"tickfont\":{\"color\":\"#4D5663\"},\"title\":{\"font\":{\"color\":\"#4D5663\"},\"text\":\"\"},\"zerolinecolor\":\"#E1E5ED\"}},                        {\"showLink\": true, \"linkText\": \"Export to plot.ly\", \"plotlyServerURL\": \"https://plot.ly\", \"responsive\": true}                    ).then(function(){\n",
       "                            \n",
       "var gd = document.getElementById('c01bb855-bee6-4c9a-b16e-ef0c2d301ed4');\n",
       "var x = new MutationObserver(function (mutations, observer) {{\n",
       "        var display = window.getComputedStyle(gd).display;\n",
       "        if (!display || display === 'none') {{\n",
       "            console.log([gd, 'removed!']);\n",
       "            Plotly.purge(gd);\n",
       "            observer.disconnect();\n",
       "        }}\n",
       "}});\n",
       "\n",
       "// Listen for the removal of the full notebook cells\n",
       "var notebookContainer = gd.closest('#notebook-container');\n",
       "if (notebookContainer) {{\n",
       "    x.observe(notebookContainer, {childList: true});\n",
       "}}\n",
       "\n",
       "// Listen for the clearing of the current output cell\n",
       "var outputEl = gd.closest('.output');\n",
       "if (outputEl) {{\n",
       "    x.observe(outputEl, {childList: true});\n",
       "}}\n",
       "\n",
       "                        })                };                });            </script>        </div>"
      ]
     },
     "metadata": {},
     "output_type": "display_data"
    }
   ],
   "source": [
    "df2.iplot(kind='bar',x='Category',y='values')"
   ]
  },
  {
   "cell_type": "code",
   "execution_count": 22,
   "id": "f363f000",
   "metadata": {},
   "outputs": [
    {
     "data": {
      "text/html": [
       "<div>\n",
       "<style scoped>\n",
       "    .dataframe tbody tr th:only-of-type {\n",
       "        vertical-align: middle;\n",
       "    }\n",
       "\n",
       "    .dataframe tbody tr th {\n",
       "        vertical-align: top;\n",
       "    }\n",
       "\n",
       "    .dataframe thead th {\n",
       "        text-align: right;\n",
       "    }\n",
       "</style>\n",
       "<table border=\"1\" class=\"dataframe\">\n",
       "  <thead>\n",
       "    <tr style=\"text-align: right;\">\n",
       "      <th></th>\n",
       "      <th>A</th>\n",
       "      <th>B</th>\n",
       "      <th>C</th>\n",
       "      <th>D</th>\n",
       "    </tr>\n",
       "  </thead>\n",
       "  <tbody>\n",
       "    <tr>\n",
       "      <th>0</th>\n",
       "      <td>0.358633</td>\n",
       "      <td>-1.059055</td>\n",
       "      <td>0.324290</td>\n",
       "      <td>-0.346459</td>\n",
       "    </tr>\n",
       "    <tr>\n",
       "      <th>1</th>\n",
       "      <td>-0.313044</td>\n",
       "      <td>-0.391902</td>\n",
       "      <td>1.187941</td>\n",
       "      <td>-0.647907</td>\n",
       "    </tr>\n",
       "    <tr>\n",
       "      <th>2</th>\n",
       "      <td>0.915550</td>\n",
       "      <td>0.296289</td>\n",
       "      <td>-0.380881</td>\n",
       "      <td>0.348678</td>\n",
       "    </tr>\n",
       "    <tr>\n",
       "      <th>3</th>\n",
       "      <td>-2.102063</td>\n",
       "      <td>-0.549058</td>\n",
       "      <td>0.148063</td>\n",
       "      <td>0.165786</td>\n",
       "    </tr>\n",
       "    <tr>\n",
       "      <th>4</th>\n",
       "      <td>0.408046</td>\n",
       "      <td>0.088335</td>\n",
       "      <td>-0.570917</td>\n",
       "      <td>-0.693080</td>\n",
       "    </tr>\n",
       "    <tr>\n",
       "      <th>...</th>\n",
       "      <td>...</td>\n",
       "      <td>...</td>\n",
       "      <td>...</td>\n",
       "      <td>...</td>\n",
       "    </tr>\n",
       "    <tr>\n",
       "      <th>95</th>\n",
       "      <td>0.367587</td>\n",
       "      <td>0.627018</td>\n",
       "      <td>1.208970</td>\n",
       "      <td>0.338544</td>\n",
       "    </tr>\n",
       "    <tr>\n",
       "      <th>96</th>\n",
       "      <td>-0.413589</td>\n",
       "      <td>-0.184508</td>\n",
       "      <td>-0.698413</td>\n",
       "      <td>0.229179</td>\n",
       "    </tr>\n",
       "    <tr>\n",
       "      <th>97</th>\n",
       "      <td>0.808478</td>\n",
       "      <td>2.294841</td>\n",
       "      <td>0.320590</td>\n",
       "      <td>-0.415680</td>\n",
       "    </tr>\n",
       "    <tr>\n",
       "      <th>98</th>\n",
       "      <td>1.633647</td>\n",
       "      <td>-1.889884</td>\n",
       "      <td>0.375747</td>\n",
       "      <td>-0.186847</td>\n",
       "    </tr>\n",
       "    <tr>\n",
       "      <th>99</th>\n",
       "      <td>2.230814</td>\n",
       "      <td>1.758211</td>\n",
       "      <td>0.309720</td>\n",
       "      <td>-0.165580</td>\n",
       "    </tr>\n",
       "  </tbody>\n",
       "</table>\n",
       "<p>100 rows × 4 columns</p>\n",
       "</div>"
      ],
      "text/plain": [
       "           A         B         C         D\n",
       "0   0.358633 -1.059055  0.324290 -0.346459\n",
       "1  -0.313044 -0.391902  1.187941 -0.647907\n",
       "2   0.915550  0.296289 -0.380881  0.348678\n",
       "3  -2.102063 -0.549058  0.148063  0.165786\n",
       "4   0.408046  0.088335 -0.570917 -0.693080\n",
       "..       ...       ...       ...       ...\n",
       "95  0.367587  0.627018  1.208970  0.338544\n",
       "96 -0.413589 -0.184508 -0.698413  0.229179\n",
       "97  0.808478  2.294841  0.320590 -0.415680\n",
       "98  1.633647 -1.889884  0.375747 -0.186847\n",
       "99  2.230814  1.758211  0.309720 -0.165580\n",
       "\n",
       "[100 rows x 4 columns]"
      ]
     },
     "execution_count": 22,
     "metadata": {},
     "output_type": "execute_result"
    }
   ],
   "source": [
    "df1"
   ]
  },
  {
   "cell_type": "code",
   "execution_count": 23,
   "id": "4494b1d4",
   "metadata": {},
   "outputs": [
    {
     "data": {
      "application/vnd.plotly.v1+json": {
       "config": {
        "linkText": "Export to plot.ly",
        "plotlyServerURL": "https://plot.ly",
        "showLink": true
       },
       "data": [
        {
         "marker": {
          "color": "rgba(255, 153, 51, 0.6)",
          "line": {
           "color": "rgba(255, 153, 51, 1.0)",
           "width": 1
          }
         },
         "name": "None",
         "orientation": "v",
         "text": "",
         "type": "bar",
         "x": [
          "A",
          "B",
          "C",
          "D"
         ],
         "y": [
          100,
          100,
          100,
          100
         ]
        }
       ],
       "layout": {
        "legend": {
         "bgcolor": "#F5F6F9",
         "font": {
          "color": "#4D5663"
         }
        },
        "paper_bgcolor": "#F5F6F9",
        "plot_bgcolor": "#F5F6F9",
        "template": {
         "data": {
          "bar": [
           {
            "error_x": {
             "color": "#2a3f5f"
            },
            "error_y": {
             "color": "#2a3f5f"
            },
            "marker": {
             "line": {
              "color": "#E5ECF6",
              "width": 0.5
             },
             "pattern": {
              "fillmode": "overlay",
              "size": 10,
              "solidity": 0.2
             }
            },
            "type": "bar"
           }
          ],
          "barpolar": [
           {
            "marker": {
             "line": {
              "color": "#E5ECF6",
              "width": 0.5
             },
             "pattern": {
              "fillmode": "overlay",
              "size": 10,
              "solidity": 0.2
             }
            },
            "type": "barpolar"
           }
          ],
          "carpet": [
           {
            "aaxis": {
             "endlinecolor": "#2a3f5f",
             "gridcolor": "white",
             "linecolor": "white",
             "minorgridcolor": "white",
             "startlinecolor": "#2a3f5f"
            },
            "baxis": {
             "endlinecolor": "#2a3f5f",
             "gridcolor": "white",
             "linecolor": "white",
             "minorgridcolor": "white",
             "startlinecolor": "#2a3f5f"
            },
            "type": "carpet"
           }
          ],
          "choropleth": [
           {
            "colorbar": {
             "outlinewidth": 0,
             "ticks": ""
            },
            "type": "choropleth"
           }
          ],
          "contour": [
           {
            "colorbar": {
             "outlinewidth": 0,
             "ticks": ""
            },
            "colorscale": [
             [
              0,
              "#0d0887"
             ],
             [
              0.1111111111111111,
              "#46039f"
             ],
             [
              0.2222222222222222,
              "#7201a8"
             ],
             [
              0.3333333333333333,
              "#9c179e"
             ],
             [
              0.4444444444444444,
              "#bd3786"
             ],
             [
              0.5555555555555556,
              "#d8576b"
             ],
             [
              0.6666666666666666,
              "#ed7953"
             ],
             [
              0.7777777777777778,
              "#fb9f3a"
             ],
             [
              0.8888888888888888,
              "#fdca26"
             ],
             [
              1,
              "#f0f921"
             ]
            ],
            "type": "contour"
           }
          ],
          "contourcarpet": [
           {
            "colorbar": {
             "outlinewidth": 0,
             "ticks": ""
            },
            "type": "contourcarpet"
           }
          ],
          "heatmap": [
           {
            "colorbar": {
             "outlinewidth": 0,
             "ticks": ""
            },
            "colorscale": [
             [
              0,
              "#0d0887"
             ],
             [
              0.1111111111111111,
              "#46039f"
             ],
             [
              0.2222222222222222,
              "#7201a8"
             ],
             [
              0.3333333333333333,
              "#9c179e"
             ],
             [
              0.4444444444444444,
              "#bd3786"
             ],
             [
              0.5555555555555556,
              "#d8576b"
             ],
             [
              0.6666666666666666,
              "#ed7953"
             ],
             [
              0.7777777777777778,
              "#fb9f3a"
             ],
             [
              0.8888888888888888,
              "#fdca26"
             ],
             [
              1,
              "#f0f921"
             ]
            ],
            "type": "heatmap"
           }
          ],
          "heatmapgl": [
           {
            "colorbar": {
             "outlinewidth": 0,
             "ticks": ""
            },
            "colorscale": [
             [
              0,
              "#0d0887"
             ],
             [
              0.1111111111111111,
              "#46039f"
             ],
             [
              0.2222222222222222,
              "#7201a8"
             ],
             [
              0.3333333333333333,
              "#9c179e"
             ],
             [
              0.4444444444444444,
              "#bd3786"
             ],
             [
              0.5555555555555556,
              "#d8576b"
             ],
             [
              0.6666666666666666,
              "#ed7953"
             ],
             [
              0.7777777777777778,
              "#fb9f3a"
             ],
             [
              0.8888888888888888,
              "#fdca26"
             ],
             [
              1,
              "#f0f921"
             ]
            ],
            "type": "heatmapgl"
           }
          ],
          "histogram": [
           {
            "marker": {
             "pattern": {
              "fillmode": "overlay",
              "size": 10,
              "solidity": 0.2
             }
            },
            "type": "histogram"
           }
          ],
          "histogram2d": [
           {
            "colorbar": {
             "outlinewidth": 0,
             "ticks": ""
            },
            "colorscale": [
             [
              0,
              "#0d0887"
             ],
             [
              0.1111111111111111,
              "#46039f"
             ],
             [
              0.2222222222222222,
              "#7201a8"
             ],
             [
              0.3333333333333333,
              "#9c179e"
             ],
             [
              0.4444444444444444,
              "#bd3786"
             ],
             [
              0.5555555555555556,
              "#d8576b"
             ],
             [
              0.6666666666666666,
              "#ed7953"
             ],
             [
              0.7777777777777778,
              "#fb9f3a"
             ],
             [
              0.8888888888888888,
              "#fdca26"
             ],
             [
              1,
              "#f0f921"
             ]
            ],
            "type": "histogram2d"
           }
          ],
          "histogram2dcontour": [
           {
            "colorbar": {
             "outlinewidth": 0,
             "ticks": ""
            },
            "colorscale": [
             [
              0,
              "#0d0887"
             ],
             [
              0.1111111111111111,
              "#46039f"
             ],
             [
              0.2222222222222222,
              "#7201a8"
             ],
             [
              0.3333333333333333,
              "#9c179e"
             ],
             [
              0.4444444444444444,
              "#bd3786"
             ],
             [
              0.5555555555555556,
              "#d8576b"
             ],
             [
              0.6666666666666666,
              "#ed7953"
             ],
             [
              0.7777777777777778,
              "#fb9f3a"
             ],
             [
              0.8888888888888888,
              "#fdca26"
             ],
             [
              1,
              "#f0f921"
             ]
            ],
            "type": "histogram2dcontour"
           }
          ],
          "mesh3d": [
           {
            "colorbar": {
             "outlinewidth": 0,
             "ticks": ""
            },
            "type": "mesh3d"
           }
          ],
          "parcoords": [
           {
            "line": {
             "colorbar": {
              "outlinewidth": 0,
              "ticks": ""
             }
            },
            "type": "parcoords"
           }
          ],
          "pie": [
           {
            "automargin": true,
            "type": "pie"
           }
          ],
          "scatter": [
           {
            "fillpattern": {
             "fillmode": "overlay",
             "size": 10,
             "solidity": 0.2
            },
            "type": "scatter"
           }
          ],
          "scatter3d": [
           {
            "line": {
             "colorbar": {
              "outlinewidth": 0,
              "ticks": ""
             }
            },
            "marker": {
             "colorbar": {
              "outlinewidth": 0,
              "ticks": ""
             }
            },
            "type": "scatter3d"
           }
          ],
          "scattercarpet": [
           {
            "marker": {
             "colorbar": {
              "outlinewidth": 0,
              "ticks": ""
             }
            },
            "type": "scattercarpet"
           }
          ],
          "scattergeo": [
           {
            "marker": {
             "colorbar": {
              "outlinewidth": 0,
              "ticks": ""
             }
            },
            "type": "scattergeo"
           }
          ],
          "scattergl": [
           {
            "marker": {
             "colorbar": {
              "outlinewidth": 0,
              "ticks": ""
             }
            },
            "type": "scattergl"
           }
          ],
          "scattermapbox": [
           {
            "marker": {
             "colorbar": {
              "outlinewidth": 0,
              "ticks": ""
             }
            },
            "type": "scattermapbox"
           }
          ],
          "scatterpolar": [
           {
            "marker": {
             "colorbar": {
              "outlinewidth": 0,
              "ticks": ""
             }
            },
            "type": "scatterpolar"
           }
          ],
          "scatterpolargl": [
           {
            "marker": {
             "colorbar": {
              "outlinewidth": 0,
              "ticks": ""
             }
            },
            "type": "scatterpolargl"
           }
          ],
          "scatterternary": [
           {
            "marker": {
             "colorbar": {
              "outlinewidth": 0,
              "ticks": ""
             }
            },
            "type": "scatterternary"
           }
          ],
          "surface": [
           {
            "colorbar": {
             "outlinewidth": 0,
             "ticks": ""
            },
            "colorscale": [
             [
              0,
              "#0d0887"
             ],
             [
              0.1111111111111111,
              "#46039f"
             ],
             [
              0.2222222222222222,
              "#7201a8"
             ],
             [
              0.3333333333333333,
              "#9c179e"
             ],
             [
              0.4444444444444444,
              "#bd3786"
             ],
             [
              0.5555555555555556,
              "#d8576b"
             ],
             [
              0.6666666666666666,
              "#ed7953"
             ],
             [
              0.7777777777777778,
              "#fb9f3a"
             ],
             [
              0.8888888888888888,
              "#fdca26"
             ],
             [
              1,
              "#f0f921"
             ]
            ],
            "type": "surface"
           }
          ],
          "table": [
           {
            "cells": {
             "fill": {
              "color": "#EBF0F8"
             },
             "line": {
              "color": "white"
             }
            },
            "header": {
             "fill": {
              "color": "#C8D4E3"
             },
             "line": {
              "color": "white"
             }
            },
            "type": "table"
           }
          ]
         },
         "layout": {
          "annotationdefaults": {
           "arrowcolor": "#2a3f5f",
           "arrowhead": 0,
           "arrowwidth": 1
          },
          "autotypenumbers": "strict",
          "coloraxis": {
           "colorbar": {
            "outlinewidth": 0,
            "ticks": ""
           }
          },
          "colorscale": {
           "diverging": [
            [
             0,
             "#8e0152"
            ],
            [
             0.1,
             "#c51b7d"
            ],
            [
             0.2,
             "#de77ae"
            ],
            [
             0.3,
             "#f1b6da"
            ],
            [
             0.4,
             "#fde0ef"
            ],
            [
             0.5,
             "#f7f7f7"
            ],
            [
             0.6,
             "#e6f5d0"
            ],
            [
             0.7,
             "#b8e186"
            ],
            [
             0.8,
             "#7fbc41"
            ],
            [
             0.9,
             "#4d9221"
            ],
            [
             1,
             "#276419"
            ]
           ],
           "sequential": [
            [
             0,
             "#0d0887"
            ],
            [
             0.1111111111111111,
             "#46039f"
            ],
            [
             0.2222222222222222,
             "#7201a8"
            ],
            [
             0.3333333333333333,
             "#9c179e"
            ],
            [
             0.4444444444444444,
             "#bd3786"
            ],
            [
             0.5555555555555556,
             "#d8576b"
            ],
            [
             0.6666666666666666,
             "#ed7953"
            ],
            [
             0.7777777777777778,
             "#fb9f3a"
            ],
            [
             0.8888888888888888,
             "#fdca26"
            ],
            [
             1,
             "#f0f921"
            ]
           ],
           "sequentialminus": [
            [
             0,
             "#0d0887"
            ],
            [
             0.1111111111111111,
             "#46039f"
            ],
            [
             0.2222222222222222,
             "#7201a8"
            ],
            [
             0.3333333333333333,
             "#9c179e"
            ],
            [
             0.4444444444444444,
             "#bd3786"
            ],
            [
             0.5555555555555556,
             "#d8576b"
            ],
            [
             0.6666666666666666,
             "#ed7953"
            ],
            [
             0.7777777777777778,
             "#fb9f3a"
            ],
            [
             0.8888888888888888,
             "#fdca26"
            ],
            [
             1,
             "#f0f921"
            ]
           ]
          },
          "colorway": [
           "#636efa",
           "#EF553B",
           "#00cc96",
           "#ab63fa",
           "#FFA15A",
           "#19d3f3",
           "#FF6692",
           "#B6E880",
           "#FF97FF",
           "#FECB52"
          ],
          "font": {
           "color": "#2a3f5f"
          },
          "geo": {
           "bgcolor": "white",
           "lakecolor": "white",
           "landcolor": "#E5ECF6",
           "showlakes": true,
           "showland": true,
           "subunitcolor": "white"
          },
          "hoverlabel": {
           "align": "left"
          },
          "hovermode": "closest",
          "mapbox": {
           "style": "light"
          },
          "paper_bgcolor": "white",
          "plot_bgcolor": "#E5ECF6",
          "polar": {
           "angularaxis": {
            "gridcolor": "white",
            "linecolor": "white",
            "ticks": ""
           },
           "bgcolor": "#E5ECF6",
           "radialaxis": {
            "gridcolor": "white",
            "linecolor": "white",
            "ticks": ""
           }
          },
          "scene": {
           "xaxis": {
            "backgroundcolor": "#E5ECF6",
            "gridcolor": "white",
            "gridwidth": 2,
            "linecolor": "white",
            "showbackground": true,
            "ticks": "",
            "zerolinecolor": "white"
           },
           "yaxis": {
            "backgroundcolor": "#E5ECF6",
            "gridcolor": "white",
            "gridwidth": 2,
            "linecolor": "white",
            "showbackground": true,
            "ticks": "",
            "zerolinecolor": "white"
           },
           "zaxis": {
            "backgroundcolor": "#E5ECF6",
            "gridcolor": "white",
            "gridwidth": 2,
            "linecolor": "white",
            "showbackground": true,
            "ticks": "",
            "zerolinecolor": "white"
           }
          },
          "shapedefaults": {
           "line": {
            "color": "#2a3f5f"
           }
          },
          "ternary": {
           "aaxis": {
            "gridcolor": "white",
            "linecolor": "white",
            "ticks": ""
           },
           "baxis": {
            "gridcolor": "white",
            "linecolor": "white",
            "ticks": ""
           },
           "bgcolor": "#E5ECF6",
           "caxis": {
            "gridcolor": "white",
            "linecolor": "white",
            "ticks": ""
           }
          },
          "title": {
           "x": 0.05
          },
          "xaxis": {
           "automargin": true,
           "gridcolor": "white",
           "linecolor": "white",
           "ticks": "",
           "title": {
            "standoff": 15
           },
           "zerolinecolor": "white",
           "zerolinewidth": 2
          },
          "yaxis": {
           "automargin": true,
           "gridcolor": "white",
           "linecolor": "white",
           "ticks": "",
           "title": {
            "standoff": 15
           },
           "zerolinecolor": "white",
           "zerolinewidth": 2
          }
         }
        },
        "title": {
         "font": {
          "color": "#4D5663"
         }
        },
        "xaxis": {
         "gridcolor": "#E1E5ED",
         "showgrid": true,
         "tickfont": {
          "color": "#4D5663"
         },
         "title": {
          "font": {
           "color": "#4D5663"
          },
          "text": ""
         },
         "zerolinecolor": "#E1E5ED"
        },
        "yaxis": {
         "gridcolor": "#E1E5ED",
         "showgrid": true,
         "tickfont": {
          "color": "#4D5663"
         },
         "title": {
          "font": {
           "color": "#4D5663"
          },
          "text": ""
         },
         "zerolinecolor": "#E1E5ED"
        }
       }
      },
      "text/html": [
       "<div>                            <div id=\"76ea0156-c443-44bc-9772-d696429559bc\" class=\"plotly-graph-div\" style=\"height:525px; width:100%;\"></div>            <script type=\"text/javascript\">                require([\"plotly\"], function(Plotly) {                    window.PLOTLYENV=window.PLOTLYENV || {};\n",
       "                    window.PLOTLYENV.BASE_URL='https://plot.ly';                                    if (document.getElementById(\"76ea0156-c443-44bc-9772-d696429559bc\")) {                    Plotly.newPlot(                        \"76ea0156-c443-44bc-9772-d696429559bc\",                        [{\"marker\":{\"color\":\"rgba(255, 153, 51, 0.6)\",\"line\":{\"color\":\"rgba(255, 153, 51, 1.0)\",\"width\":1}},\"name\":\"None\",\"orientation\":\"v\",\"text\":\"\",\"x\":[\"A\",\"B\",\"C\",\"D\"],\"y\":[100,100,100,100],\"type\":\"bar\"}],                        {\"legend\":{\"bgcolor\":\"#F5F6F9\",\"font\":{\"color\":\"#4D5663\"}},\"paper_bgcolor\":\"#F5F6F9\",\"plot_bgcolor\":\"#F5F6F9\",\"template\":{\"data\":{\"barpolar\":[{\"marker\":{\"line\":{\"color\":\"#E5ECF6\",\"width\":0.5},\"pattern\":{\"fillmode\":\"overlay\",\"size\":10,\"solidity\":0.2}},\"type\":\"barpolar\"}],\"bar\":[{\"error_x\":{\"color\":\"#2a3f5f\"},\"error_y\":{\"color\":\"#2a3f5f\"},\"marker\":{\"line\":{\"color\":\"#E5ECF6\",\"width\":0.5},\"pattern\":{\"fillmode\":\"overlay\",\"size\":10,\"solidity\":0.2}},\"type\":\"bar\"}],\"carpet\":[{\"aaxis\":{\"endlinecolor\":\"#2a3f5f\",\"gridcolor\":\"white\",\"linecolor\":\"white\",\"minorgridcolor\":\"white\",\"startlinecolor\":\"#2a3f5f\"},\"baxis\":{\"endlinecolor\":\"#2a3f5f\",\"gridcolor\":\"white\",\"linecolor\":\"white\",\"minorgridcolor\":\"white\",\"startlinecolor\":\"#2a3f5f\"},\"type\":\"carpet\"}],\"choropleth\":[{\"colorbar\":{\"outlinewidth\":0,\"ticks\":\"\"},\"type\":\"choropleth\"}],\"contourcarpet\":[{\"colorbar\":{\"outlinewidth\":0,\"ticks\":\"\"},\"type\":\"contourcarpet\"}],\"contour\":[{\"colorbar\":{\"outlinewidth\":0,\"ticks\":\"\"},\"colorscale\":[[0.0,\"#0d0887\"],[0.1111111111111111,\"#46039f\"],[0.2222222222222222,\"#7201a8\"],[0.3333333333333333,\"#9c179e\"],[0.4444444444444444,\"#bd3786\"],[0.5555555555555556,\"#d8576b\"],[0.6666666666666666,\"#ed7953\"],[0.7777777777777778,\"#fb9f3a\"],[0.8888888888888888,\"#fdca26\"],[1.0,\"#f0f921\"]],\"type\":\"contour\"}],\"heatmapgl\":[{\"colorbar\":{\"outlinewidth\":0,\"ticks\":\"\"},\"colorscale\":[[0.0,\"#0d0887\"],[0.1111111111111111,\"#46039f\"],[0.2222222222222222,\"#7201a8\"],[0.3333333333333333,\"#9c179e\"],[0.4444444444444444,\"#bd3786\"],[0.5555555555555556,\"#d8576b\"],[0.6666666666666666,\"#ed7953\"],[0.7777777777777778,\"#fb9f3a\"],[0.8888888888888888,\"#fdca26\"],[1.0,\"#f0f921\"]],\"type\":\"heatmapgl\"}],\"heatmap\":[{\"colorbar\":{\"outlinewidth\":0,\"ticks\":\"\"},\"colorscale\":[[0.0,\"#0d0887\"],[0.1111111111111111,\"#46039f\"],[0.2222222222222222,\"#7201a8\"],[0.3333333333333333,\"#9c179e\"],[0.4444444444444444,\"#bd3786\"],[0.5555555555555556,\"#d8576b\"],[0.6666666666666666,\"#ed7953\"],[0.7777777777777778,\"#fb9f3a\"],[0.8888888888888888,\"#fdca26\"],[1.0,\"#f0f921\"]],\"type\":\"heatmap\"}],\"histogram2dcontour\":[{\"colorbar\":{\"outlinewidth\":0,\"ticks\":\"\"},\"colorscale\":[[0.0,\"#0d0887\"],[0.1111111111111111,\"#46039f\"],[0.2222222222222222,\"#7201a8\"],[0.3333333333333333,\"#9c179e\"],[0.4444444444444444,\"#bd3786\"],[0.5555555555555556,\"#d8576b\"],[0.6666666666666666,\"#ed7953\"],[0.7777777777777778,\"#fb9f3a\"],[0.8888888888888888,\"#fdca26\"],[1.0,\"#f0f921\"]],\"type\":\"histogram2dcontour\"}],\"histogram2d\":[{\"colorbar\":{\"outlinewidth\":0,\"ticks\":\"\"},\"colorscale\":[[0.0,\"#0d0887\"],[0.1111111111111111,\"#46039f\"],[0.2222222222222222,\"#7201a8\"],[0.3333333333333333,\"#9c179e\"],[0.4444444444444444,\"#bd3786\"],[0.5555555555555556,\"#d8576b\"],[0.6666666666666666,\"#ed7953\"],[0.7777777777777778,\"#fb9f3a\"],[0.8888888888888888,\"#fdca26\"],[1.0,\"#f0f921\"]],\"type\":\"histogram2d\"}],\"histogram\":[{\"marker\":{\"pattern\":{\"fillmode\":\"overlay\",\"size\":10,\"solidity\":0.2}},\"type\":\"histogram\"}],\"mesh3d\":[{\"colorbar\":{\"outlinewidth\":0,\"ticks\":\"\"},\"type\":\"mesh3d\"}],\"parcoords\":[{\"line\":{\"colorbar\":{\"outlinewidth\":0,\"ticks\":\"\"}},\"type\":\"parcoords\"}],\"pie\":[{\"automargin\":true,\"type\":\"pie\"}],\"scatter3d\":[{\"line\":{\"colorbar\":{\"outlinewidth\":0,\"ticks\":\"\"}},\"marker\":{\"colorbar\":{\"outlinewidth\":0,\"ticks\":\"\"}},\"type\":\"scatter3d\"}],\"scattercarpet\":[{\"marker\":{\"colorbar\":{\"outlinewidth\":0,\"ticks\":\"\"}},\"type\":\"scattercarpet\"}],\"scattergeo\":[{\"marker\":{\"colorbar\":{\"outlinewidth\":0,\"ticks\":\"\"}},\"type\":\"scattergeo\"}],\"scattergl\":[{\"marker\":{\"colorbar\":{\"outlinewidth\":0,\"ticks\":\"\"}},\"type\":\"scattergl\"}],\"scattermapbox\":[{\"marker\":{\"colorbar\":{\"outlinewidth\":0,\"ticks\":\"\"}},\"type\":\"scattermapbox\"}],\"scatterpolargl\":[{\"marker\":{\"colorbar\":{\"outlinewidth\":0,\"ticks\":\"\"}},\"type\":\"scatterpolargl\"}],\"scatterpolar\":[{\"marker\":{\"colorbar\":{\"outlinewidth\":0,\"ticks\":\"\"}},\"type\":\"scatterpolar\"}],\"scatter\":[{\"fillpattern\":{\"fillmode\":\"overlay\",\"size\":10,\"solidity\":0.2},\"type\":\"scatter\"}],\"scatterternary\":[{\"marker\":{\"colorbar\":{\"outlinewidth\":0,\"ticks\":\"\"}},\"type\":\"scatterternary\"}],\"surface\":[{\"colorbar\":{\"outlinewidth\":0,\"ticks\":\"\"},\"colorscale\":[[0.0,\"#0d0887\"],[0.1111111111111111,\"#46039f\"],[0.2222222222222222,\"#7201a8\"],[0.3333333333333333,\"#9c179e\"],[0.4444444444444444,\"#bd3786\"],[0.5555555555555556,\"#d8576b\"],[0.6666666666666666,\"#ed7953\"],[0.7777777777777778,\"#fb9f3a\"],[0.8888888888888888,\"#fdca26\"],[1.0,\"#f0f921\"]],\"type\":\"surface\"}],\"table\":[{\"cells\":{\"fill\":{\"color\":\"#EBF0F8\"},\"line\":{\"color\":\"white\"}},\"header\":{\"fill\":{\"color\":\"#C8D4E3\"},\"line\":{\"color\":\"white\"}},\"type\":\"table\"}]},\"layout\":{\"annotationdefaults\":{\"arrowcolor\":\"#2a3f5f\",\"arrowhead\":0,\"arrowwidth\":1},\"autotypenumbers\":\"strict\",\"coloraxis\":{\"colorbar\":{\"outlinewidth\":0,\"ticks\":\"\"}},\"colorscale\":{\"diverging\":[[0,\"#8e0152\"],[0.1,\"#c51b7d\"],[0.2,\"#de77ae\"],[0.3,\"#f1b6da\"],[0.4,\"#fde0ef\"],[0.5,\"#f7f7f7\"],[0.6,\"#e6f5d0\"],[0.7,\"#b8e186\"],[0.8,\"#7fbc41\"],[0.9,\"#4d9221\"],[1,\"#276419\"]],\"sequential\":[[0.0,\"#0d0887\"],[0.1111111111111111,\"#46039f\"],[0.2222222222222222,\"#7201a8\"],[0.3333333333333333,\"#9c179e\"],[0.4444444444444444,\"#bd3786\"],[0.5555555555555556,\"#d8576b\"],[0.6666666666666666,\"#ed7953\"],[0.7777777777777778,\"#fb9f3a\"],[0.8888888888888888,\"#fdca26\"],[1.0,\"#f0f921\"]],\"sequentialminus\":[[0.0,\"#0d0887\"],[0.1111111111111111,\"#46039f\"],[0.2222222222222222,\"#7201a8\"],[0.3333333333333333,\"#9c179e\"],[0.4444444444444444,\"#bd3786\"],[0.5555555555555556,\"#d8576b\"],[0.6666666666666666,\"#ed7953\"],[0.7777777777777778,\"#fb9f3a\"],[0.8888888888888888,\"#fdca26\"],[1.0,\"#f0f921\"]]},\"colorway\":[\"#636efa\",\"#EF553B\",\"#00cc96\",\"#ab63fa\",\"#FFA15A\",\"#19d3f3\",\"#FF6692\",\"#B6E880\",\"#FF97FF\",\"#FECB52\"],\"font\":{\"color\":\"#2a3f5f\"},\"geo\":{\"bgcolor\":\"white\",\"lakecolor\":\"white\",\"landcolor\":\"#E5ECF6\",\"showlakes\":true,\"showland\":true,\"subunitcolor\":\"white\"},\"hoverlabel\":{\"align\":\"left\"},\"hovermode\":\"closest\",\"mapbox\":{\"style\":\"light\"},\"paper_bgcolor\":\"white\",\"plot_bgcolor\":\"#E5ECF6\",\"polar\":{\"angularaxis\":{\"gridcolor\":\"white\",\"linecolor\":\"white\",\"ticks\":\"\"},\"bgcolor\":\"#E5ECF6\",\"radialaxis\":{\"gridcolor\":\"white\",\"linecolor\":\"white\",\"ticks\":\"\"}},\"scene\":{\"xaxis\":{\"backgroundcolor\":\"#E5ECF6\",\"gridcolor\":\"white\",\"gridwidth\":2,\"linecolor\":\"white\",\"showbackground\":true,\"ticks\":\"\",\"zerolinecolor\":\"white\"},\"yaxis\":{\"backgroundcolor\":\"#E5ECF6\",\"gridcolor\":\"white\",\"gridwidth\":2,\"linecolor\":\"white\",\"showbackground\":true,\"ticks\":\"\",\"zerolinecolor\":\"white\"},\"zaxis\":{\"backgroundcolor\":\"#E5ECF6\",\"gridcolor\":\"white\",\"gridwidth\":2,\"linecolor\":\"white\",\"showbackground\":true,\"ticks\":\"\",\"zerolinecolor\":\"white\"}},\"shapedefaults\":{\"line\":{\"color\":\"#2a3f5f\"}},\"ternary\":{\"aaxis\":{\"gridcolor\":\"white\",\"linecolor\":\"white\",\"ticks\":\"\"},\"baxis\":{\"gridcolor\":\"white\",\"linecolor\":\"white\",\"ticks\":\"\"},\"bgcolor\":\"#E5ECF6\",\"caxis\":{\"gridcolor\":\"white\",\"linecolor\":\"white\",\"ticks\":\"\"}},\"title\":{\"x\":0.05},\"xaxis\":{\"automargin\":true,\"gridcolor\":\"white\",\"linecolor\":\"white\",\"ticks\":\"\",\"title\":{\"standoff\":15},\"zerolinecolor\":\"white\",\"zerolinewidth\":2},\"yaxis\":{\"automargin\":true,\"gridcolor\":\"white\",\"linecolor\":\"white\",\"ticks\":\"\",\"title\":{\"standoff\":15},\"zerolinecolor\":\"white\",\"zerolinewidth\":2}}},\"title\":{\"font\":{\"color\":\"#4D5663\"}},\"xaxis\":{\"gridcolor\":\"#E1E5ED\",\"showgrid\":true,\"tickfont\":{\"color\":\"#4D5663\"},\"title\":{\"font\":{\"color\":\"#4D5663\"},\"text\":\"\"},\"zerolinecolor\":\"#E1E5ED\"},\"yaxis\":{\"gridcolor\":\"#E1E5ED\",\"showgrid\":true,\"tickfont\":{\"color\":\"#4D5663\"},\"title\":{\"font\":{\"color\":\"#4D5663\"},\"text\":\"\"},\"zerolinecolor\":\"#E1E5ED\"}},                        {\"showLink\": true, \"linkText\": \"Export to plot.ly\", \"plotlyServerURL\": \"https://plot.ly\", \"responsive\": true}                    ).then(function(){\n",
       "                            \n",
       "var gd = document.getElementById('76ea0156-c443-44bc-9772-d696429559bc');\n",
       "var x = new MutationObserver(function (mutations, observer) {{\n",
       "        var display = window.getComputedStyle(gd).display;\n",
       "        if (!display || display === 'none') {{\n",
       "            console.log([gd, 'removed!']);\n",
       "            Plotly.purge(gd);\n",
       "            observer.disconnect();\n",
       "        }}\n",
       "}});\n",
       "\n",
       "// Listen for the removal of the full notebook cells\n",
       "var notebookContainer = gd.closest('#notebook-container');\n",
       "if (notebookContainer) {{\n",
       "    x.observe(notebookContainer, {childList: true});\n",
       "}}\n",
       "\n",
       "// Listen for the clearing of the current output cell\n",
       "var outputEl = gd.closest('.output');\n",
       "if (outputEl) {{\n",
       "    x.observe(outputEl, {childList: true});\n",
       "}}\n",
       "\n",
       "                        })                };                });            </script>        </div>"
      ]
     },
     "metadata": {},
     "output_type": "display_data"
    }
   ],
   "source": [
    "df1.count().iplot(kind='bar')#all 4 column has 100 elements"
   ]
  },
  {
   "cell_type": "code",
   "execution_count": 24,
   "id": "e6332c08",
   "metadata": {},
   "outputs": [
    {
     "data": {
      "application/vnd.plotly.v1+json": {
       "config": {
        "linkText": "Export to plot.ly",
        "plotlyServerURL": "https://plot.ly",
        "showLink": true
       },
       "data": [
        {
         "marker": {
          "color": "rgba(255, 153, 51, 0.6)",
          "line": {
           "color": "rgba(255, 153, 51, 1.0)",
           "width": 1
          }
         },
         "name": "None",
         "orientation": "v",
         "text": "",
         "type": "bar",
         "x": [
          "A",
          "B",
          "C",
          "D"
         ],
         "y": [
          6.098462271377697,
          0.8078920749450846,
          16.557001947961883,
          -2.07949183365258
         ]
        }
       ],
       "layout": {
        "legend": {
         "bgcolor": "#F5F6F9",
         "font": {
          "color": "#4D5663"
         }
        },
        "paper_bgcolor": "#F5F6F9",
        "plot_bgcolor": "#F5F6F9",
        "template": {
         "data": {
          "bar": [
           {
            "error_x": {
             "color": "#2a3f5f"
            },
            "error_y": {
             "color": "#2a3f5f"
            },
            "marker": {
             "line": {
              "color": "#E5ECF6",
              "width": 0.5
             },
             "pattern": {
              "fillmode": "overlay",
              "size": 10,
              "solidity": 0.2
             }
            },
            "type": "bar"
           }
          ],
          "barpolar": [
           {
            "marker": {
             "line": {
              "color": "#E5ECF6",
              "width": 0.5
             },
             "pattern": {
              "fillmode": "overlay",
              "size": 10,
              "solidity": 0.2
             }
            },
            "type": "barpolar"
           }
          ],
          "carpet": [
           {
            "aaxis": {
             "endlinecolor": "#2a3f5f",
             "gridcolor": "white",
             "linecolor": "white",
             "minorgridcolor": "white",
             "startlinecolor": "#2a3f5f"
            },
            "baxis": {
             "endlinecolor": "#2a3f5f",
             "gridcolor": "white",
             "linecolor": "white",
             "minorgridcolor": "white",
             "startlinecolor": "#2a3f5f"
            },
            "type": "carpet"
           }
          ],
          "choropleth": [
           {
            "colorbar": {
             "outlinewidth": 0,
             "ticks": ""
            },
            "type": "choropleth"
           }
          ],
          "contour": [
           {
            "colorbar": {
             "outlinewidth": 0,
             "ticks": ""
            },
            "colorscale": [
             [
              0,
              "#0d0887"
             ],
             [
              0.1111111111111111,
              "#46039f"
             ],
             [
              0.2222222222222222,
              "#7201a8"
             ],
             [
              0.3333333333333333,
              "#9c179e"
             ],
             [
              0.4444444444444444,
              "#bd3786"
             ],
             [
              0.5555555555555556,
              "#d8576b"
             ],
             [
              0.6666666666666666,
              "#ed7953"
             ],
             [
              0.7777777777777778,
              "#fb9f3a"
             ],
             [
              0.8888888888888888,
              "#fdca26"
             ],
             [
              1,
              "#f0f921"
             ]
            ],
            "type": "contour"
           }
          ],
          "contourcarpet": [
           {
            "colorbar": {
             "outlinewidth": 0,
             "ticks": ""
            },
            "type": "contourcarpet"
           }
          ],
          "heatmap": [
           {
            "colorbar": {
             "outlinewidth": 0,
             "ticks": ""
            },
            "colorscale": [
             [
              0,
              "#0d0887"
             ],
             [
              0.1111111111111111,
              "#46039f"
             ],
             [
              0.2222222222222222,
              "#7201a8"
             ],
             [
              0.3333333333333333,
              "#9c179e"
             ],
             [
              0.4444444444444444,
              "#bd3786"
             ],
             [
              0.5555555555555556,
              "#d8576b"
             ],
             [
              0.6666666666666666,
              "#ed7953"
             ],
             [
              0.7777777777777778,
              "#fb9f3a"
             ],
             [
              0.8888888888888888,
              "#fdca26"
             ],
             [
              1,
              "#f0f921"
             ]
            ],
            "type": "heatmap"
           }
          ],
          "heatmapgl": [
           {
            "colorbar": {
             "outlinewidth": 0,
             "ticks": ""
            },
            "colorscale": [
             [
              0,
              "#0d0887"
             ],
             [
              0.1111111111111111,
              "#46039f"
             ],
             [
              0.2222222222222222,
              "#7201a8"
             ],
             [
              0.3333333333333333,
              "#9c179e"
             ],
             [
              0.4444444444444444,
              "#bd3786"
             ],
             [
              0.5555555555555556,
              "#d8576b"
             ],
             [
              0.6666666666666666,
              "#ed7953"
             ],
             [
              0.7777777777777778,
              "#fb9f3a"
             ],
             [
              0.8888888888888888,
              "#fdca26"
             ],
             [
              1,
              "#f0f921"
             ]
            ],
            "type": "heatmapgl"
           }
          ],
          "histogram": [
           {
            "marker": {
             "pattern": {
              "fillmode": "overlay",
              "size": 10,
              "solidity": 0.2
             }
            },
            "type": "histogram"
           }
          ],
          "histogram2d": [
           {
            "colorbar": {
             "outlinewidth": 0,
             "ticks": ""
            },
            "colorscale": [
             [
              0,
              "#0d0887"
             ],
             [
              0.1111111111111111,
              "#46039f"
             ],
             [
              0.2222222222222222,
              "#7201a8"
             ],
             [
              0.3333333333333333,
              "#9c179e"
             ],
             [
              0.4444444444444444,
              "#bd3786"
             ],
             [
              0.5555555555555556,
              "#d8576b"
             ],
             [
              0.6666666666666666,
              "#ed7953"
             ],
             [
              0.7777777777777778,
              "#fb9f3a"
             ],
             [
              0.8888888888888888,
              "#fdca26"
             ],
             [
              1,
              "#f0f921"
             ]
            ],
            "type": "histogram2d"
           }
          ],
          "histogram2dcontour": [
           {
            "colorbar": {
             "outlinewidth": 0,
             "ticks": ""
            },
            "colorscale": [
             [
              0,
              "#0d0887"
             ],
             [
              0.1111111111111111,
              "#46039f"
             ],
             [
              0.2222222222222222,
              "#7201a8"
             ],
             [
              0.3333333333333333,
              "#9c179e"
             ],
             [
              0.4444444444444444,
              "#bd3786"
             ],
             [
              0.5555555555555556,
              "#d8576b"
             ],
             [
              0.6666666666666666,
              "#ed7953"
             ],
             [
              0.7777777777777778,
              "#fb9f3a"
             ],
             [
              0.8888888888888888,
              "#fdca26"
             ],
             [
              1,
              "#f0f921"
             ]
            ],
            "type": "histogram2dcontour"
           }
          ],
          "mesh3d": [
           {
            "colorbar": {
             "outlinewidth": 0,
             "ticks": ""
            },
            "type": "mesh3d"
           }
          ],
          "parcoords": [
           {
            "line": {
             "colorbar": {
              "outlinewidth": 0,
              "ticks": ""
             }
            },
            "type": "parcoords"
           }
          ],
          "pie": [
           {
            "automargin": true,
            "type": "pie"
           }
          ],
          "scatter": [
           {
            "fillpattern": {
             "fillmode": "overlay",
             "size": 10,
             "solidity": 0.2
            },
            "type": "scatter"
           }
          ],
          "scatter3d": [
           {
            "line": {
             "colorbar": {
              "outlinewidth": 0,
              "ticks": ""
             }
            },
            "marker": {
             "colorbar": {
              "outlinewidth": 0,
              "ticks": ""
             }
            },
            "type": "scatter3d"
           }
          ],
          "scattercarpet": [
           {
            "marker": {
             "colorbar": {
              "outlinewidth": 0,
              "ticks": ""
             }
            },
            "type": "scattercarpet"
           }
          ],
          "scattergeo": [
           {
            "marker": {
             "colorbar": {
              "outlinewidth": 0,
              "ticks": ""
             }
            },
            "type": "scattergeo"
           }
          ],
          "scattergl": [
           {
            "marker": {
             "colorbar": {
              "outlinewidth": 0,
              "ticks": ""
             }
            },
            "type": "scattergl"
           }
          ],
          "scattermapbox": [
           {
            "marker": {
             "colorbar": {
              "outlinewidth": 0,
              "ticks": ""
             }
            },
            "type": "scattermapbox"
           }
          ],
          "scatterpolar": [
           {
            "marker": {
             "colorbar": {
              "outlinewidth": 0,
              "ticks": ""
             }
            },
            "type": "scatterpolar"
           }
          ],
          "scatterpolargl": [
           {
            "marker": {
             "colorbar": {
              "outlinewidth": 0,
              "ticks": ""
             }
            },
            "type": "scatterpolargl"
           }
          ],
          "scatterternary": [
           {
            "marker": {
             "colorbar": {
              "outlinewidth": 0,
              "ticks": ""
             }
            },
            "type": "scatterternary"
           }
          ],
          "surface": [
           {
            "colorbar": {
             "outlinewidth": 0,
             "ticks": ""
            },
            "colorscale": [
             [
              0,
              "#0d0887"
             ],
             [
              0.1111111111111111,
              "#46039f"
             ],
             [
              0.2222222222222222,
              "#7201a8"
             ],
             [
              0.3333333333333333,
              "#9c179e"
             ],
             [
              0.4444444444444444,
              "#bd3786"
             ],
             [
              0.5555555555555556,
              "#d8576b"
             ],
             [
              0.6666666666666666,
              "#ed7953"
             ],
             [
              0.7777777777777778,
              "#fb9f3a"
             ],
             [
              0.8888888888888888,
              "#fdca26"
             ],
             [
              1,
              "#f0f921"
             ]
            ],
            "type": "surface"
           }
          ],
          "table": [
           {
            "cells": {
             "fill": {
              "color": "#EBF0F8"
             },
             "line": {
              "color": "white"
             }
            },
            "header": {
             "fill": {
              "color": "#C8D4E3"
             },
             "line": {
              "color": "white"
             }
            },
            "type": "table"
           }
          ]
         },
         "layout": {
          "annotationdefaults": {
           "arrowcolor": "#2a3f5f",
           "arrowhead": 0,
           "arrowwidth": 1
          },
          "autotypenumbers": "strict",
          "coloraxis": {
           "colorbar": {
            "outlinewidth": 0,
            "ticks": ""
           }
          },
          "colorscale": {
           "diverging": [
            [
             0,
             "#8e0152"
            ],
            [
             0.1,
             "#c51b7d"
            ],
            [
             0.2,
             "#de77ae"
            ],
            [
             0.3,
             "#f1b6da"
            ],
            [
             0.4,
             "#fde0ef"
            ],
            [
             0.5,
             "#f7f7f7"
            ],
            [
             0.6,
             "#e6f5d0"
            ],
            [
             0.7,
             "#b8e186"
            ],
            [
             0.8,
             "#7fbc41"
            ],
            [
             0.9,
             "#4d9221"
            ],
            [
             1,
             "#276419"
            ]
           ],
           "sequential": [
            [
             0,
             "#0d0887"
            ],
            [
             0.1111111111111111,
             "#46039f"
            ],
            [
             0.2222222222222222,
             "#7201a8"
            ],
            [
             0.3333333333333333,
             "#9c179e"
            ],
            [
             0.4444444444444444,
             "#bd3786"
            ],
            [
             0.5555555555555556,
             "#d8576b"
            ],
            [
             0.6666666666666666,
             "#ed7953"
            ],
            [
             0.7777777777777778,
             "#fb9f3a"
            ],
            [
             0.8888888888888888,
             "#fdca26"
            ],
            [
             1,
             "#f0f921"
            ]
           ],
           "sequentialminus": [
            [
             0,
             "#0d0887"
            ],
            [
             0.1111111111111111,
             "#46039f"
            ],
            [
             0.2222222222222222,
             "#7201a8"
            ],
            [
             0.3333333333333333,
             "#9c179e"
            ],
            [
             0.4444444444444444,
             "#bd3786"
            ],
            [
             0.5555555555555556,
             "#d8576b"
            ],
            [
             0.6666666666666666,
             "#ed7953"
            ],
            [
             0.7777777777777778,
             "#fb9f3a"
            ],
            [
             0.8888888888888888,
             "#fdca26"
            ],
            [
             1,
             "#f0f921"
            ]
           ]
          },
          "colorway": [
           "#636efa",
           "#EF553B",
           "#00cc96",
           "#ab63fa",
           "#FFA15A",
           "#19d3f3",
           "#FF6692",
           "#B6E880",
           "#FF97FF",
           "#FECB52"
          ],
          "font": {
           "color": "#2a3f5f"
          },
          "geo": {
           "bgcolor": "white",
           "lakecolor": "white",
           "landcolor": "#E5ECF6",
           "showlakes": true,
           "showland": true,
           "subunitcolor": "white"
          },
          "hoverlabel": {
           "align": "left"
          },
          "hovermode": "closest",
          "mapbox": {
           "style": "light"
          },
          "paper_bgcolor": "white",
          "plot_bgcolor": "#E5ECF6",
          "polar": {
           "angularaxis": {
            "gridcolor": "white",
            "linecolor": "white",
            "ticks": ""
           },
           "bgcolor": "#E5ECF6",
           "radialaxis": {
            "gridcolor": "white",
            "linecolor": "white",
            "ticks": ""
           }
          },
          "scene": {
           "xaxis": {
            "backgroundcolor": "#E5ECF6",
            "gridcolor": "white",
            "gridwidth": 2,
            "linecolor": "white",
            "showbackground": true,
            "ticks": "",
            "zerolinecolor": "white"
           },
           "yaxis": {
            "backgroundcolor": "#E5ECF6",
            "gridcolor": "white",
            "gridwidth": 2,
            "linecolor": "white",
            "showbackground": true,
            "ticks": "",
            "zerolinecolor": "white"
           },
           "zaxis": {
            "backgroundcolor": "#E5ECF6",
            "gridcolor": "white",
            "gridwidth": 2,
            "linecolor": "white",
            "showbackground": true,
            "ticks": "",
            "zerolinecolor": "white"
           }
          },
          "shapedefaults": {
           "line": {
            "color": "#2a3f5f"
           }
          },
          "ternary": {
           "aaxis": {
            "gridcolor": "white",
            "linecolor": "white",
            "ticks": ""
           },
           "baxis": {
            "gridcolor": "white",
            "linecolor": "white",
            "ticks": ""
           },
           "bgcolor": "#E5ECF6",
           "caxis": {
            "gridcolor": "white",
            "linecolor": "white",
            "ticks": ""
           }
          },
          "title": {
           "x": 0.05
          },
          "xaxis": {
           "automargin": true,
           "gridcolor": "white",
           "linecolor": "white",
           "ticks": "",
           "title": {
            "standoff": 15
           },
           "zerolinecolor": "white",
           "zerolinewidth": 2
          },
          "yaxis": {
           "automargin": true,
           "gridcolor": "white",
           "linecolor": "white",
           "ticks": "",
           "title": {
            "standoff": 15
           },
           "zerolinecolor": "white",
           "zerolinewidth": 2
          }
         }
        },
        "title": {
         "font": {
          "color": "#4D5663"
         }
        },
        "xaxis": {
         "gridcolor": "#E1E5ED",
         "showgrid": true,
         "tickfont": {
          "color": "#4D5663"
         },
         "title": {
          "font": {
           "color": "#4D5663"
          },
          "text": ""
         },
         "zerolinecolor": "#E1E5ED"
        },
        "yaxis": {
         "gridcolor": "#E1E5ED",
         "showgrid": true,
         "tickfont": {
          "color": "#4D5663"
         },
         "title": {
          "font": {
           "color": "#4D5663"
          },
          "text": ""
         },
         "zerolinecolor": "#E1E5ED"
        }
       }
      },
      "text/html": [
       "<div>                            <div id=\"02287694-5930-4f77-b23c-cfd7332cc620\" class=\"plotly-graph-div\" style=\"height:525px; width:100%;\"></div>            <script type=\"text/javascript\">                require([\"plotly\"], function(Plotly) {                    window.PLOTLYENV=window.PLOTLYENV || {};\n",
       "                    window.PLOTLYENV.BASE_URL='https://plot.ly';                                    if (document.getElementById(\"02287694-5930-4f77-b23c-cfd7332cc620\")) {                    Plotly.newPlot(                        \"02287694-5930-4f77-b23c-cfd7332cc620\",                        [{\"marker\":{\"color\":\"rgba(255, 153, 51, 0.6)\",\"line\":{\"color\":\"rgba(255, 153, 51, 1.0)\",\"width\":1}},\"name\":\"None\",\"orientation\":\"v\",\"text\":\"\",\"x\":[\"A\",\"B\",\"C\",\"D\"],\"y\":[6.098462271377697,0.8078920749450846,16.557001947961883,-2.07949183365258],\"type\":\"bar\"}],                        {\"legend\":{\"bgcolor\":\"#F5F6F9\",\"font\":{\"color\":\"#4D5663\"}},\"paper_bgcolor\":\"#F5F6F9\",\"plot_bgcolor\":\"#F5F6F9\",\"template\":{\"data\":{\"barpolar\":[{\"marker\":{\"line\":{\"color\":\"#E5ECF6\",\"width\":0.5},\"pattern\":{\"fillmode\":\"overlay\",\"size\":10,\"solidity\":0.2}},\"type\":\"barpolar\"}],\"bar\":[{\"error_x\":{\"color\":\"#2a3f5f\"},\"error_y\":{\"color\":\"#2a3f5f\"},\"marker\":{\"line\":{\"color\":\"#E5ECF6\",\"width\":0.5},\"pattern\":{\"fillmode\":\"overlay\",\"size\":10,\"solidity\":0.2}},\"type\":\"bar\"}],\"carpet\":[{\"aaxis\":{\"endlinecolor\":\"#2a3f5f\",\"gridcolor\":\"white\",\"linecolor\":\"white\",\"minorgridcolor\":\"white\",\"startlinecolor\":\"#2a3f5f\"},\"baxis\":{\"endlinecolor\":\"#2a3f5f\",\"gridcolor\":\"white\",\"linecolor\":\"white\",\"minorgridcolor\":\"white\",\"startlinecolor\":\"#2a3f5f\"},\"type\":\"carpet\"}],\"choropleth\":[{\"colorbar\":{\"outlinewidth\":0,\"ticks\":\"\"},\"type\":\"choropleth\"}],\"contourcarpet\":[{\"colorbar\":{\"outlinewidth\":0,\"ticks\":\"\"},\"type\":\"contourcarpet\"}],\"contour\":[{\"colorbar\":{\"outlinewidth\":0,\"ticks\":\"\"},\"colorscale\":[[0.0,\"#0d0887\"],[0.1111111111111111,\"#46039f\"],[0.2222222222222222,\"#7201a8\"],[0.3333333333333333,\"#9c179e\"],[0.4444444444444444,\"#bd3786\"],[0.5555555555555556,\"#d8576b\"],[0.6666666666666666,\"#ed7953\"],[0.7777777777777778,\"#fb9f3a\"],[0.8888888888888888,\"#fdca26\"],[1.0,\"#f0f921\"]],\"type\":\"contour\"}],\"heatmapgl\":[{\"colorbar\":{\"outlinewidth\":0,\"ticks\":\"\"},\"colorscale\":[[0.0,\"#0d0887\"],[0.1111111111111111,\"#46039f\"],[0.2222222222222222,\"#7201a8\"],[0.3333333333333333,\"#9c179e\"],[0.4444444444444444,\"#bd3786\"],[0.5555555555555556,\"#d8576b\"],[0.6666666666666666,\"#ed7953\"],[0.7777777777777778,\"#fb9f3a\"],[0.8888888888888888,\"#fdca26\"],[1.0,\"#f0f921\"]],\"type\":\"heatmapgl\"}],\"heatmap\":[{\"colorbar\":{\"outlinewidth\":0,\"ticks\":\"\"},\"colorscale\":[[0.0,\"#0d0887\"],[0.1111111111111111,\"#46039f\"],[0.2222222222222222,\"#7201a8\"],[0.3333333333333333,\"#9c179e\"],[0.4444444444444444,\"#bd3786\"],[0.5555555555555556,\"#d8576b\"],[0.6666666666666666,\"#ed7953\"],[0.7777777777777778,\"#fb9f3a\"],[0.8888888888888888,\"#fdca26\"],[1.0,\"#f0f921\"]],\"type\":\"heatmap\"}],\"histogram2dcontour\":[{\"colorbar\":{\"outlinewidth\":0,\"ticks\":\"\"},\"colorscale\":[[0.0,\"#0d0887\"],[0.1111111111111111,\"#46039f\"],[0.2222222222222222,\"#7201a8\"],[0.3333333333333333,\"#9c179e\"],[0.4444444444444444,\"#bd3786\"],[0.5555555555555556,\"#d8576b\"],[0.6666666666666666,\"#ed7953\"],[0.7777777777777778,\"#fb9f3a\"],[0.8888888888888888,\"#fdca26\"],[1.0,\"#f0f921\"]],\"type\":\"histogram2dcontour\"}],\"histogram2d\":[{\"colorbar\":{\"outlinewidth\":0,\"ticks\":\"\"},\"colorscale\":[[0.0,\"#0d0887\"],[0.1111111111111111,\"#46039f\"],[0.2222222222222222,\"#7201a8\"],[0.3333333333333333,\"#9c179e\"],[0.4444444444444444,\"#bd3786\"],[0.5555555555555556,\"#d8576b\"],[0.6666666666666666,\"#ed7953\"],[0.7777777777777778,\"#fb9f3a\"],[0.8888888888888888,\"#fdca26\"],[1.0,\"#f0f921\"]],\"type\":\"histogram2d\"}],\"histogram\":[{\"marker\":{\"pattern\":{\"fillmode\":\"overlay\",\"size\":10,\"solidity\":0.2}},\"type\":\"histogram\"}],\"mesh3d\":[{\"colorbar\":{\"outlinewidth\":0,\"ticks\":\"\"},\"type\":\"mesh3d\"}],\"parcoords\":[{\"line\":{\"colorbar\":{\"outlinewidth\":0,\"ticks\":\"\"}},\"type\":\"parcoords\"}],\"pie\":[{\"automargin\":true,\"type\":\"pie\"}],\"scatter3d\":[{\"line\":{\"colorbar\":{\"outlinewidth\":0,\"ticks\":\"\"}},\"marker\":{\"colorbar\":{\"outlinewidth\":0,\"ticks\":\"\"}},\"type\":\"scatter3d\"}],\"scattercarpet\":[{\"marker\":{\"colorbar\":{\"outlinewidth\":0,\"ticks\":\"\"}},\"type\":\"scattercarpet\"}],\"scattergeo\":[{\"marker\":{\"colorbar\":{\"outlinewidth\":0,\"ticks\":\"\"}},\"type\":\"scattergeo\"}],\"scattergl\":[{\"marker\":{\"colorbar\":{\"outlinewidth\":0,\"ticks\":\"\"}},\"type\":\"scattergl\"}],\"scattermapbox\":[{\"marker\":{\"colorbar\":{\"outlinewidth\":0,\"ticks\":\"\"}},\"type\":\"scattermapbox\"}],\"scatterpolargl\":[{\"marker\":{\"colorbar\":{\"outlinewidth\":0,\"ticks\":\"\"}},\"type\":\"scatterpolargl\"}],\"scatterpolar\":[{\"marker\":{\"colorbar\":{\"outlinewidth\":0,\"ticks\":\"\"}},\"type\":\"scatterpolar\"}],\"scatter\":[{\"fillpattern\":{\"fillmode\":\"overlay\",\"size\":10,\"solidity\":0.2},\"type\":\"scatter\"}],\"scatterternary\":[{\"marker\":{\"colorbar\":{\"outlinewidth\":0,\"ticks\":\"\"}},\"type\":\"scatterternary\"}],\"surface\":[{\"colorbar\":{\"outlinewidth\":0,\"ticks\":\"\"},\"colorscale\":[[0.0,\"#0d0887\"],[0.1111111111111111,\"#46039f\"],[0.2222222222222222,\"#7201a8\"],[0.3333333333333333,\"#9c179e\"],[0.4444444444444444,\"#bd3786\"],[0.5555555555555556,\"#d8576b\"],[0.6666666666666666,\"#ed7953\"],[0.7777777777777778,\"#fb9f3a\"],[0.8888888888888888,\"#fdca26\"],[1.0,\"#f0f921\"]],\"type\":\"surface\"}],\"table\":[{\"cells\":{\"fill\":{\"color\":\"#EBF0F8\"},\"line\":{\"color\":\"white\"}},\"header\":{\"fill\":{\"color\":\"#C8D4E3\"},\"line\":{\"color\":\"white\"}},\"type\":\"table\"}]},\"layout\":{\"annotationdefaults\":{\"arrowcolor\":\"#2a3f5f\",\"arrowhead\":0,\"arrowwidth\":1},\"autotypenumbers\":\"strict\",\"coloraxis\":{\"colorbar\":{\"outlinewidth\":0,\"ticks\":\"\"}},\"colorscale\":{\"diverging\":[[0,\"#8e0152\"],[0.1,\"#c51b7d\"],[0.2,\"#de77ae\"],[0.3,\"#f1b6da\"],[0.4,\"#fde0ef\"],[0.5,\"#f7f7f7\"],[0.6,\"#e6f5d0\"],[0.7,\"#b8e186\"],[0.8,\"#7fbc41\"],[0.9,\"#4d9221\"],[1,\"#276419\"]],\"sequential\":[[0.0,\"#0d0887\"],[0.1111111111111111,\"#46039f\"],[0.2222222222222222,\"#7201a8\"],[0.3333333333333333,\"#9c179e\"],[0.4444444444444444,\"#bd3786\"],[0.5555555555555556,\"#d8576b\"],[0.6666666666666666,\"#ed7953\"],[0.7777777777777778,\"#fb9f3a\"],[0.8888888888888888,\"#fdca26\"],[1.0,\"#f0f921\"]],\"sequentialminus\":[[0.0,\"#0d0887\"],[0.1111111111111111,\"#46039f\"],[0.2222222222222222,\"#7201a8\"],[0.3333333333333333,\"#9c179e\"],[0.4444444444444444,\"#bd3786\"],[0.5555555555555556,\"#d8576b\"],[0.6666666666666666,\"#ed7953\"],[0.7777777777777778,\"#fb9f3a\"],[0.8888888888888888,\"#fdca26\"],[1.0,\"#f0f921\"]]},\"colorway\":[\"#636efa\",\"#EF553B\",\"#00cc96\",\"#ab63fa\",\"#FFA15A\",\"#19d3f3\",\"#FF6692\",\"#B6E880\",\"#FF97FF\",\"#FECB52\"],\"font\":{\"color\":\"#2a3f5f\"},\"geo\":{\"bgcolor\":\"white\",\"lakecolor\":\"white\",\"landcolor\":\"#E5ECF6\",\"showlakes\":true,\"showland\":true,\"subunitcolor\":\"white\"},\"hoverlabel\":{\"align\":\"left\"},\"hovermode\":\"closest\",\"mapbox\":{\"style\":\"light\"},\"paper_bgcolor\":\"white\",\"plot_bgcolor\":\"#E5ECF6\",\"polar\":{\"angularaxis\":{\"gridcolor\":\"white\",\"linecolor\":\"white\",\"ticks\":\"\"},\"bgcolor\":\"#E5ECF6\",\"radialaxis\":{\"gridcolor\":\"white\",\"linecolor\":\"white\",\"ticks\":\"\"}},\"scene\":{\"xaxis\":{\"backgroundcolor\":\"#E5ECF6\",\"gridcolor\":\"white\",\"gridwidth\":2,\"linecolor\":\"white\",\"showbackground\":true,\"ticks\":\"\",\"zerolinecolor\":\"white\"},\"yaxis\":{\"backgroundcolor\":\"#E5ECF6\",\"gridcolor\":\"white\",\"gridwidth\":2,\"linecolor\":\"white\",\"showbackground\":true,\"ticks\":\"\",\"zerolinecolor\":\"white\"},\"zaxis\":{\"backgroundcolor\":\"#E5ECF6\",\"gridcolor\":\"white\",\"gridwidth\":2,\"linecolor\":\"white\",\"showbackground\":true,\"ticks\":\"\",\"zerolinecolor\":\"white\"}},\"shapedefaults\":{\"line\":{\"color\":\"#2a3f5f\"}},\"ternary\":{\"aaxis\":{\"gridcolor\":\"white\",\"linecolor\":\"white\",\"ticks\":\"\"},\"baxis\":{\"gridcolor\":\"white\",\"linecolor\":\"white\",\"ticks\":\"\"},\"bgcolor\":\"#E5ECF6\",\"caxis\":{\"gridcolor\":\"white\",\"linecolor\":\"white\",\"ticks\":\"\"}},\"title\":{\"x\":0.05},\"xaxis\":{\"automargin\":true,\"gridcolor\":\"white\",\"linecolor\":\"white\",\"ticks\":\"\",\"title\":{\"standoff\":15},\"zerolinecolor\":\"white\",\"zerolinewidth\":2},\"yaxis\":{\"automargin\":true,\"gridcolor\":\"white\",\"linecolor\":\"white\",\"ticks\":\"\",\"title\":{\"standoff\":15},\"zerolinecolor\":\"white\",\"zerolinewidth\":2}}},\"title\":{\"font\":{\"color\":\"#4D5663\"}},\"xaxis\":{\"gridcolor\":\"#E1E5ED\",\"showgrid\":true,\"tickfont\":{\"color\":\"#4D5663\"},\"title\":{\"font\":{\"color\":\"#4D5663\"},\"text\":\"\"},\"zerolinecolor\":\"#E1E5ED\"},\"yaxis\":{\"gridcolor\":\"#E1E5ED\",\"showgrid\":true,\"tickfont\":{\"color\":\"#4D5663\"},\"title\":{\"font\":{\"color\":\"#4D5663\"},\"text\":\"\"},\"zerolinecolor\":\"#E1E5ED\"}},                        {\"showLink\": true, \"linkText\": \"Export to plot.ly\", \"plotlyServerURL\": \"https://plot.ly\", \"responsive\": true}                    ).then(function(){\n",
       "                            \n",
       "var gd = document.getElementById('02287694-5930-4f77-b23c-cfd7332cc620');\n",
       "var x = new MutationObserver(function (mutations, observer) {{\n",
       "        var display = window.getComputedStyle(gd).display;\n",
       "        if (!display || display === 'none') {{\n",
       "            console.log([gd, 'removed!']);\n",
       "            Plotly.purge(gd);\n",
       "            observer.disconnect();\n",
       "        }}\n",
       "}});\n",
       "\n",
       "// Listen for the removal of the full notebook cells\n",
       "var notebookContainer = gd.closest('#notebook-container');\n",
       "if (notebookContainer) {{\n",
       "    x.observe(notebookContainer, {childList: true});\n",
       "}}\n",
       "\n",
       "// Listen for the clearing of the current output cell\n",
       "var outputEl = gd.closest('.output');\n",
       "if (outputEl) {{\n",
       "    x.observe(outputEl, {childList: true});\n",
       "}}\n",
       "\n",
       "                        })                };                });            </script>        </div>"
      ]
     },
     "metadata": {},
     "output_type": "display_data"
    }
   ],
   "source": [
    "df1.sum().iplot(kind='bar')"
   ]
  },
  {
   "cell_type": "code",
   "execution_count": 25,
   "id": "de732680",
   "metadata": {},
   "outputs": [
    {
     "data": {
      "application/vnd.plotly.v1+json": {
       "config": {
        "linkText": "Export to plot.ly",
        "plotlyServerURL": "https://plot.ly",
        "showLink": true
       },
       "data": [
        {
         "boxpoints": false,
         "line": {
          "width": 1.3
         },
         "marker": {
          "color": "rgba(255, 153, 51, 1.0)"
         },
         "name": "A",
         "orientation": "v",
         "type": "box",
         "y": [
          0.3586331746624718,
          -0.31304376044741095,
          0.9155501015715358,
          -2.102062606588993,
          0.408045526206134,
          -0.2653937053424654,
          -1.0608144632061376,
          0.8320160290835785,
          -0.9049475285738797,
          -0.17744210477049197,
          -1.4540758255989237,
          1.4257420406209662,
          -0.5205046343083947,
          -0.05769834283630299,
          0.47701003735893915,
          -0.04203967170773101,
          0.5954054803347232,
          0.5082602104081628,
          1.5464874830525634,
          0.03252793321033726,
          0.02470780179975145,
          -0.43883588421253367,
          0.7655553628093557,
          0.08479713396327594,
          -0.061697794787186545,
          -1.670028936339304,
          -0.44654185078945124,
          0.3424303635259183,
          -1.4760687974593132,
          1.00411471917094,
          -0.05524154132328517,
          0.014428830329574913,
          -0.3383435301323882,
          1.5183470766720768,
          -0.027803842073751618,
          1.7202240294648374,
          0.0659563768324742,
          0.8220356160516542,
          -0.5351973075051546,
          -0.15985840887473127,
          0.9323610128235857,
          0.6006660833479411,
          -0.8184884530933983,
          0.5152778925589065,
          2.5445342396284483,
          -0.03483860975117482,
          0.5162424224318293,
          0.9591449980497241,
          0.17777377052477863,
          -0.13969697340984139,
          -0.8569053896082983,
          0.2698446001276596,
          -0.19793090917579773,
          0.4250458772262773,
          0.3538791331723721,
          -2.2000463413342275,
          0.4181696188358884,
          -0.5901820888816727,
          0.020414193883099955,
          -0.6489481062883675,
          -0.3821890735220406,
          -0.32985879985063243,
          1.3954598123304571,
          0.05505854723609142,
          -0.6488143149635798,
          -0.21044309167380512,
          0.9436186500108769,
          -0.1344901082326483,
          0.4913203377664391,
          0.3285827524381691,
          -0.22242713380610743,
          -0.4202007414637871,
          0.10092135204452221,
          -0.516654392511781,
          -1.135954562451008,
          -0.7944885228365225,
          -0.8423266383457392,
          -1.359632784546133,
          0.7546560920413921,
          0.6516002595799931,
          0.8126667585524782,
          0.22038804422076191,
          0.054500146304780554,
          0.2125059915603282,
          -0.5119263987642447,
          0.46617177548286015,
          -1.375963954761399,
          0.4262163349180895,
          -1.205184119983154,
          -0.31379656718450993,
          0.4138625705495997,
          0.7663575825164424,
          -2.1174139409310984,
          0.5178801297938571,
          1.780572268688464,
          0.36758656402424283,
          -0.4135886115249514,
          0.8084776519283191,
          1.6336469314010316,
          2.230813714022468
         ]
        },
        {
         "boxpoints": false,
         "line": {
          "width": 1.3
         },
         "marker": {
          "color": "rgba(55, 128, 191, 1.0)"
         },
         "name": "B",
         "orientation": "v",
         "type": "box",
         "y": [
          -1.0590548720581747,
          -0.39190242572096723,
          0.2962891691222517,
          -0.5490583168335752,
          0.0883346775218682,
          -0.6114291879106363,
          -0.6373993095400021,
          -1.3757372678673856,
          0.7710307905294411,
          -0.7952282574924998,
          -1.0665821766458694,
          1.069364678832217,
          1.1469578718082771,
          -0.25199465875749505,
          0.7048053127514355,
          -0.70141193883703,
          -0.9687943837773987,
          -0.5179377536668606,
          1.0367137748339337,
          -0.926940875305391,
          -0.6431803601851102,
          -0.008176871309322228,
          -0.9552975301203914,
          -0.7588749739508795,
          0.8832832893949047,
          1.1755358794506057,
          -0.20549235635876878,
          -0.7491598214547203,
          -0.5734776537078125,
          0.49246483038810485,
          1.1571408435365964,
          0.35950239520271465,
          -0.9814813990037048,
          -0.3302371152060421,
          1.4279786237553096,
          0.09368539541218573,
          -0.05148049977783981,
          2.3212174669434593,
          -0.1741133687184468,
          1.1003712836406296,
          1.632706051966583,
          1.3341292330096408,
          1.2792614080957836,
          -0.9846673910400024,
          1.9008435066570037,
          0.8600680929881195,
          -0.6027765692000642,
          -0.46044062423880017,
          0.2036331641753118,
          1.6091632381996916,
          0.8319891984314672,
          -2.106481912504469,
          1.1587762643350736,
          0.4378282837245897,
          -0.6787113924870258,
          -1.3015491673560238,
          -0.4699970597901284,
          0.03448216204286796,
          -0.3921004216330228,
          0.4011602423714026,
          0.964934167991005,
          -1.5316121923083093,
          -2.708464465730562,
          0.1739441911266945,
          -0.24987881590183947,
          0.09772182633380014,
          0.7974157087788826,
          -0.06760707005609054,
          -1.0605788914082304,
          -1.0922449732655897,
          -0.46724550141681537,
          -1.311758303544521,
          1.5805631331227574,
          -2.7451393680018104,
          1.590657386425081,
          2.1594987472119085,
          0.8093209994861948,
          1.1872539693294126,
          -0.9376083371748265,
          -1.9880405933877292,
          -0.016931850993996047,
          0.19283107581930145,
          -1.2621201220902507,
          1.4219944905623008,
          0.03945646289475185,
          1.3468725540679272,
          0.3352148321341624,
          -0.7607245053299654,
          -1.3632969757334765,
          -0.25955811948574004,
          0.45549145421093473,
          -0.1296347833779436,
          0.04802303523424992,
          0.31671978263710604,
          -0.8908041289921246,
          0.6270179003637465,
          -0.1845078406753882,
          2.294840618932753,
          -1.8898838801321691,
          1.758211240623883
         ]
        },
        {
         "boxpoints": false,
         "line": {
          "width": 1.3
         },
         "marker": {
          "color": "rgba(50, 171, 96, 1.0)"
         },
         "name": "C",
         "orientation": "v",
         "type": "box",
         "y": [
          0.32429037739075883,
          1.1879409631045386,
          -0.38088091795317913,
          0.14806323550316,
          -0.5709168393551085,
          1.3853505290062362,
          0.030960518731206272,
          0.3938230637983112,
          0.6773066094802366,
          -0.1163003670518374,
          -0.7582509421132919,
          -0.38467937176662037,
          0.9367872426180641,
          0.3094300782732029,
          0.09601419265197059,
          0.5995511429549369,
          1.4439688168872717,
          -1.0965528579612354,
          -0.40781181780874987,
          -0.5913778404732251,
          0.7295991376359017,
          1.5579853159921473,
          0.05803394864840696,
          -1.248098266950036,
          1.4794877768861923,
          -2.394365890320898,
          0.874562873382905,
          -0.6699357548158725,
          -0.6961017168474808,
          -0.36174763518653275,
          1.4517901086461655,
          0.660505118013835,
          0.622063497987493,
          -0.054301146606529675,
          -0.37886913279578677,
          -0.008960006479370229,
          0.21263647906035765,
          0.14148615088666414,
          0.037315302544217124,
          0.6002888863566334,
          1.3398864669756754,
          0.5632927848357131,
          0.43994020088676306,
          -0.6424879662806519,
          0.8414231989301041,
          -0.263665109298404,
          1.0650209103243846,
          -0.4987174826350073,
          -0.029727275897059015,
          0.4811271849515231,
          -1.0639989151092917,
          2.7269733913483805,
          0.4202847481492167,
          0.23013615231109463,
          -0.19052950306876407,
          -0.07535647639230537,
          -0.10870803868613195,
          -1.7764691803724073,
          -0.20847521854327986,
          -0.9683394823778462,
          0.35115001230946635,
          1.6892276963651842,
          1.3804853265597006,
          2.921534826638845,
          -0.4309883401900627,
          -0.8817523768739174,
          0.27541040786185467,
          -0.3747113263296264,
          0.9740657170289369,
          -0.9702017630654753,
          -0.04811530584331376,
          -0.5383813969987241,
          0.16096932939744013,
          0.15306539136772737,
          -1.4896596280606906,
          -0.041852603529642,
          -1.2837275685397316,
          0.08498459969796693,
          0.6932661399547978,
          -0.48656111657997136,
          0.03244938448296639,
          0.5707242925265023,
          0.9752035089851828,
          1.5493900379188106,
          0.8698503692117641,
          -0.42065578813403187,
          -1.5706299711399163,
          -0.2347536852870114,
          -1.450009680526141,
          -0.5572941809131361,
          1.7607885483739076,
          0.1642451193947591,
          1.3806465480402927,
          0.5900768079783596,
          1.120446209170726,
          1.2089700577352944,
          -0.6984128021106067,
          0.3205901289951289,
          0.37574731970374725,
          0.30972045037775137
         ]
        },
        {
         "boxpoints": false,
         "line": {
          "width": 1.3
         },
         "marker": {
          "color": "rgba(128, 0, 128, 1.0)"
         },
         "name": "D",
         "orientation": "v",
         "type": "box",
         "y": [
          -0.3464588048417761,
          -0.647906547324458,
          0.3486779613719423,
          0.16578621922162767,
          -0.6930802152809857,
          -0.27001530192403844,
          2.199341644606675,
          0.6100190730886883,
          2.102550400217976,
          1.3032923422411529,
          -0.049762067909215585,
          1.0518251360175972,
          2.606214122416171,
          -0.2623492398003455,
          -3.1647169619393614,
          -0.372542819978809,
          0.14946434187215132,
          0.06191615910061245,
          -1.1814026933119086,
          -0.2766721067868842,
          -0.9524484776847364,
          0.890087121411412,
          0.16536143007143075,
          2.0950209738087247,
          0.6678254539418913,
          -2.4541658108616398,
          0.7272111499537395,
          -1.0632955813088365,
          0.5563393644310032,
          0.7007756021443959,
          -0.7634004670299073,
          -1.0366226598965147,
          0.8013304757037002,
          -0.9575358416562028,
          -1.2219996303846936,
          0.8411087011278587,
          -2.6876492176403706,
          0.21697871372465866,
          0.8661761718498764,
          -0.004477953671440384,
          -0.24156899072457647,
          -1.191982405527518,
          -1.830769949480394,
          -0.3603791966519778,
          -1.8541561044408092,
          -0.8269509146760182,
          1.2351690456101407,
          -0.7374726976400329,
          1.1496626540716828,
          0.11539306667485381,
          -0.5874759092324688,
          -0.29647288445001413,
          0.8043685590974445,
          -0.25129479981146213,
          -0.009082767107194573,
          0.8249201350185461,
          -0.9041916236427177,
          -0.2598132126343078,
          2.5209152581221406,
          -0.7414821119261477,
          0.6528585246841945,
          0.4727346988738507,
          -0.4255885388211691,
          -0.33523865860121993,
          0.002340531266801451,
          1.1677113148248681,
          0.4436607499705828,
          -1.1378815712598933,
          -0.9528152338377582,
          1.3354358098041545,
          -0.4143195912799377,
          -0.27195585863102767,
          -0.5128124546494139,
          1.1933581947975167,
          -1.0426560248342713,
          0.08732828643538657,
          0.3329346714021422,
          0.015406732187095097,
          -1.2208821836590111,
          1.37925115599276,
          -0.0021740284364161677,
          -0.7139241821707765,
          -0.19727820197878954,
          0.8372822892101166,
          1.0594670766221612,
          1.1254072337082799,
          1.427965150259643,
          0.3496471642051402,
          -0.7616288308439892,
          -1.1845313919354337,
          -0.17747967699706843,
          0.649994802912574,
          0.3041126587233753,
          -1.172829688566211,
          -1.4701448507469361,
          0.33854444006522966,
          0.22917881846691687,
          -0.4156796942910539,
          -0.18684705250454173,
          -0.16557973376077886
         ]
        }
       ],
       "layout": {
        "legend": {
         "bgcolor": "#F5F6F9",
         "font": {
          "color": "#4D5663"
         }
        },
        "paper_bgcolor": "#F5F6F9",
        "plot_bgcolor": "#F5F6F9",
        "template": {
         "data": {
          "bar": [
           {
            "error_x": {
             "color": "#2a3f5f"
            },
            "error_y": {
             "color": "#2a3f5f"
            },
            "marker": {
             "line": {
              "color": "#E5ECF6",
              "width": 0.5
             },
             "pattern": {
              "fillmode": "overlay",
              "size": 10,
              "solidity": 0.2
             }
            },
            "type": "bar"
           }
          ],
          "barpolar": [
           {
            "marker": {
             "line": {
              "color": "#E5ECF6",
              "width": 0.5
             },
             "pattern": {
              "fillmode": "overlay",
              "size": 10,
              "solidity": 0.2
             }
            },
            "type": "barpolar"
           }
          ],
          "carpet": [
           {
            "aaxis": {
             "endlinecolor": "#2a3f5f",
             "gridcolor": "white",
             "linecolor": "white",
             "minorgridcolor": "white",
             "startlinecolor": "#2a3f5f"
            },
            "baxis": {
             "endlinecolor": "#2a3f5f",
             "gridcolor": "white",
             "linecolor": "white",
             "minorgridcolor": "white",
             "startlinecolor": "#2a3f5f"
            },
            "type": "carpet"
           }
          ],
          "choropleth": [
           {
            "colorbar": {
             "outlinewidth": 0,
             "ticks": ""
            },
            "type": "choropleth"
           }
          ],
          "contour": [
           {
            "colorbar": {
             "outlinewidth": 0,
             "ticks": ""
            },
            "colorscale": [
             [
              0,
              "#0d0887"
             ],
             [
              0.1111111111111111,
              "#46039f"
             ],
             [
              0.2222222222222222,
              "#7201a8"
             ],
             [
              0.3333333333333333,
              "#9c179e"
             ],
             [
              0.4444444444444444,
              "#bd3786"
             ],
             [
              0.5555555555555556,
              "#d8576b"
             ],
             [
              0.6666666666666666,
              "#ed7953"
             ],
             [
              0.7777777777777778,
              "#fb9f3a"
             ],
             [
              0.8888888888888888,
              "#fdca26"
             ],
             [
              1,
              "#f0f921"
             ]
            ],
            "type": "contour"
           }
          ],
          "contourcarpet": [
           {
            "colorbar": {
             "outlinewidth": 0,
             "ticks": ""
            },
            "type": "contourcarpet"
           }
          ],
          "heatmap": [
           {
            "colorbar": {
             "outlinewidth": 0,
             "ticks": ""
            },
            "colorscale": [
             [
              0,
              "#0d0887"
             ],
             [
              0.1111111111111111,
              "#46039f"
             ],
             [
              0.2222222222222222,
              "#7201a8"
             ],
             [
              0.3333333333333333,
              "#9c179e"
             ],
             [
              0.4444444444444444,
              "#bd3786"
             ],
             [
              0.5555555555555556,
              "#d8576b"
             ],
             [
              0.6666666666666666,
              "#ed7953"
             ],
             [
              0.7777777777777778,
              "#fb9f3a"
             ],
             [
              0.8888888888888888,
              "#fdca26"
             ],
             [
              1,
              "#f0f921"
             ]
            ],
            "type": "heatmap"
           }
          ],
          "heatmapgl": [
           {
            "colorbar": {
             "outlinewidth": 0,
             "ticks": ""
            },
            "colorscale": [
             [
              0,
              "#0d0887"
             ],
             [
              0.1111111111111111,
              "#46039f"
             ],
             [
              0.2222222222222222,
              "#7201a8"
             ],
             [
              0.3333333333333333,
              "#9c179e"
             ],
             [
              0.4444444444444444,
              "#bd3786"
             ],
             [
              0.5555555555555556,
              "#d8576b"
             ],
             [
              0.6666666666666666,
              "#ed7953"
             ],
             [
              0.7777777777777778,
              "#fb9f3a"
             ],
             [
              0.8888888888888888,
              "#fdca26"
             ],
             [
              1,
              "#f0f921"
             ]
            ],
            "type": "heatmapgl"
           }
          ],
          "histogram": [
           {
            "marker": {
             "pattern": {
              "fillmode": "overlay",
              "size": 10,
              "solidity": 0.2
             }
            },
            "type": "histogram"
           }
          ],
          "histogram2d": [
           {
            "colorbar": {
             "outlinewidth": 0,
             "ticks": ""
            },
            "colorscale": [
             [
              0,
              "#0d0887"
             ],
             [
              0.1111111111111111,
              "#46039f"
             ],
             [
              0.2222222222222222,
              "#7201a8"
             ],
             [
              0.3333333333333333,
              "#9c179e"
             ],
             [
              0.4444444444444444,
              "#bd3786"
             ],
             [
              0.5555555555555556,
              "#d8576b"
             ],
             [
              0.6666666666666666,
              "#ed7953"
             ],
             [
              0.7777777777777778,
              "#fb9f3a"
             ],
             [
              0.8888888888888888,
              "#fdca26"
             ],
             [
              1,
              "#f0f921"
             ]
            ],
            "type": "histogram2d"
           }
          ],
          "histogram2dcontour": [
           {
            "colorbar": {
             "outlinewidth": 0,
             "ticks": ""
            },
            "colorscale": [
             [
              0,
              "#0d0887"
             ],
             [
              0.1111111111111111,
              "#46039f"
             ],
             [
              0.2222222222222222,
              "#7201a8"
             ],
             [
              0.3333333333333333,
              "#9c179e"
             ],
             [
              0.4444444444444444,
              "#bd3786"
             ],
             [
              0.5555555555555556,
              "#d8576b"
             ],
             [
              0.6666666666666666,
              "#ed7953"
             ],
             [
              0.7777777777777778,
              "#fb9f3a"
             ],
             [
              0.8888888888888888,
              "#fdca26"
             ],
             [
              1,
              "#f0f921"
             ]
            ],
            "type": "histogram2dcontour"
           }
          ],
          "mesh3d": [
           {
            "colorbar": {
             "outlinewidth": 0,
             "ticks": ""
            },
            "type": "mesh3d"
           }
          ],
          "parcoords": [
           {
            "line": {
             "colorbar": {
              "outlinewidth": 0,
              "ticks": ""
             }
            },
            "type": "parcoords"
           }
          ],
          "pie": [
           {
            "automargin": true,
            "type": "pie"
           }
          ],
          "scatter": [
           {
            "fillpattern": {
             "fillmode": "overlay",
             "size": 10,
             "solidity": 0.2
            },
            "type": "scatter"
           }
          ],
          "scatter3d": [
           {
            "line": {
             "colorbar": {
              "outlinewidth": 0,
              "ticks": ""
             }
            },
            "marker": {
             "colorbar": {
              "outlinewidth": 0,
              "ticks": ""
             }
            },
            "type": "scatter3d"
           }
          ],
          "scattercarpet": [
           {
            "marker": {
             "colorbar": {
              "outlinewidth": 0,
              "ticks": ""
             }
            },
            "type": "scattercarpet"
           }
          ],
          "scattergeo": [
           {
            "marker": {
             "colorbar": {
              "outlinewidth": 0,
              "ticks": ""
             }
            },
            "type": "scattergeo"
           }
          ],
          "scattergl": [
           {
            "marker": {
             "colorbar": {
              "outlinewidth": 0,
              "ticks": ""
             }
            },
            "type": "scattergl"
           }
          ],
          "scattermapbox": [
           {
            "marker": {
             "colorbar": {
              "outlinewidth": 0,
              "ticks": ""
             }
            },
            "type": "scattermapbox"
           }
          ],
          "scatterpolar": [
           {
            "marker": {
             "colorbar": {
              "outlinewidth": 0,
              "ticks": ""
             }
            },
            "type": "scatterpolar"
           }
          ],
          "scatterpolargl": [
           {
            "marker": {
             "colorbar": {
              "outlinewidth": 0,
              "ticks": ""
             }
            },
            "type": "scatterpolargl"
           }
          ],
          "scatterternary": [
           {
            "marker": {
             "colorbar": {
              "outlinewidth": 0,
              "ticks": ""
             }
            },
            "type": "scatterternary"
           }
          ],
          "surface": [
           {
            "colorbar": {
             "outlinewidth": 0,
             "ticks": ""
            },
            "colorscale": [
             [
              0,
              "#0d0887"
             ],
             [
              0.1111111111111111,
              "#46039f"
             ],
             [
              0.2222222222222222,
              "#7201a8"
             ],
             [
              0.3333333333333333,
              "#9c179e"
             ],
             [
              0.4444444444444444,
              "#bd3786"
             ],
             [
              0.5555555555555556,
              "#d8576b"
             ],
             [
              0.6666666666666666,
              "#ed7953"
             ],
             [
              0.7777777777777778,
              "#fb9f3a"
             ],
             [
              0.8888888888888888,
              "#fdca26"
             ],
             [
              1,
              "#f0f921"
             ]
            ],
            "type": "surface"
           }
          ],
          "table": [
           {
            "cells": {
             "fill": {
              "color": "#EBF0F8"
             },
             "line": {
              "color": "white"
             }
            },
            "header": {
             "fill": {
              "color": "#C8D4E3"
             },
             "line": {
              "color": "white"
             }
            },
            "type": "table"
           }
          ]
         },
         "layout": {
          "annotationdefaults": {
           "arrowcolor": "#2a3f5f",
           "arrowhead": 0,
           "arrowwidth": 1
          },
          "autotypenumbers": "strict",
          "coloraxis": {
           "colorbar": {
            "outlinewidth": 0,
            "ticks": ""
           }
          },
          "colorscale": {
           "diverging": [
            [
             0,
             "#8e0152"
            ],
            [
             0.1,
             "#c51b7d"
            ],
            [
             0.2,
             "#de77ae"
            ],
            [
             0.3,
             "#f1b6da"
            ],
            [
             0.4,
             "#fde0ef"
            ],
            [
             0.5,
             "#f7f7f7"
            ],
            [
             0.6,
             "#e6f5d0"
            ],
            [
             0.7,
             "#b8e186"
            ],
            [
             0.8,
             "#7fbc41"
            ],
            [
             0.9,
             "#4d9221"
            ],
            [
             1,
             "#276419"
            ]
           ],
           "sequential": [
            [
             0,
             "#0d0887"
            ],
            [
             0.1111111111111111,
             "#46039f"
            ],
            [
             0.2222222222222222,
             "#7201a8"
            ],
            [
             0.3333333333333333,
             "#9c179e"
            ],
            [
             0.4444444444444444,
             "#bd3786"
            ],
            [
             0.5555555555555556,
             "#d8576b"
            ],
            [
             0.6666666666666666,
             "#ed7953"
            ],
            [
             0.7777777777777778,
             "#fb9f3a"
            ],
            [
             0.8888888888888888,
             "#fdca26"
            ],
            [
             1,
             "#f0f921"
            ]
           ],
           "sequentialminus": [
            [
             0,
             "#0d0887"
            ],
            [
             0.1111111111111111,
             "#46039f"
            ],
            [
             0.2222222222222222,
             "#7201a8"
            ],
            [
             0.3333333333333333,
             "#9c179e"
            ],
            [
             0.4444444444444444,
             "#bd3786"
            ],
            [
             0.5555555555555556,
             "#d8576b"
            ],
            [
             0.6666666666666666,
             "#ed7953"
            ],
            [
             0.7777777777777778,
             "#fb9f3a"
            ],
            [
             0.8888888888888888,
             "#fdca26"
            ],
            [
             1,
             "#f0f921"
            ]
           ]
          },
          "colorway": [
           "#636efa",
           "#EF553B",
           "#00cc96",
           "#ab63fa",
           "#FFA15A",
           "#19d3f3",
           "#FF6692",
           "#B6E880",
           "#FF97FF",
           "#FECB52"
          ],
          "font": {
           "color": "#2a3f5f"
          },
          "geo": {
           "bgcolor": "white",
           "lakecolor": "white",
           "landcolor": "#E5ECF6",
           "showlakes": true,
           "showland": true,
           "subunitcolor": "white"
          },
          "hoverlabel": {
           "align": "left"
          },
          "hovermode": "closest",
          "mapbox": {
           "style": "light"
          },
          "paper_bgcolor": "white",
          "plot_bgcolor": "#E5ECF6",
          "polar": {
           "angularaxis": {
            "gridcolor": "white",
            "linecolor": "white",
            "ticks": ""
           },
           "bgcolor": "#E5ECF6",
           "radialaxis": {
            "gridcolor": "white",
            "linecolor": "white",
            "ticks": ""
           }
          },
          "scene": {
           "xaxis": {
            "backgroundcolor": "#E5ECF6",
            "gridcolor": "white",
            "gridwidth": 2,
            "linecolor": "white",
            "showbackground": true,
            "ticks": "",
            "zerolinecolor": "white"
           },
           "yaxis": {
            "backgroundcolor": "#E5ECF6",
            "gridcolor": "white",
            "gridwidth": 2,
            "linecolor": "white",
            "showbackground": true,
            "ticks": "",
            "zerolinecolor": "white"
           },
           "zaxis": {
            "backgroundcolor": "#E5ECF6",
            "gridcolor": "white",
            "gridwidth": 2,
            "linecolor": "white",
            "showbackground": true,
            "ticks": "",
            "zerolinecolor": "white"
           }
          },
          "shapedefaults": {
           "line": {
            "color": "#2a3f5f"
           }
          },
          "ternary": {
           "aaxis": {
            "gridcolor": "white",
            "linecolor": "white",
            "ticks": ""
           },
           "baxis": {
            "gridcolor": "white",
            "linecolor": "white",
            "ticks": ""
           },
           "bgcolor": "#E5ECF6",
           "caxis": {
            "gridcolor": "white",
            "linecolor": "white",
            "ticks": ""
           }
          },
          "title": {
           "x": 0.05
          },
          "xaxis": {
           "automargin": true,
           "gridcolor": "white",
           "linecolor": "white",
           "ticks": "",
           "title": {
            "standoff": 15
           },
           "zerolinecolor": "white",
           "zerolinewidth": 2
          },
          "yaxis": {
           "automargin": true,
           "gridcolor": "white",
           "linecolor": "white",
           "ticks": "",
           "title": {
            "standoff": 15
           },
           "zerolinecolor": "white",
           "zerolinewidth": 2
          }
         }
        },
        "title": {
         "font": {
          "color": "#4D5663"
         }
        },
        "xaxis": {
         "gridcolor": "#E1E5ED",
         "showgrid": true,
         "tickfont": {
          "color": "#4D5663"
         },
         "title": {
          "font": {
           "color": "#4D5663"
          },
          "text": ""
         },
         "zerolinecolor": "#E1E5ED"
        },
        "yaxis": {
         "gridcolor": "#E1E5ED",
         "showgrid": true,
         "tickfont": {
          "color": "#4D5663"
         },
         "title": {
          "font": {
           "color": "#4D5663"
          },
          "text": ""
         },
         "zerolinecolor": "#E1E5ED"
        }
       }
      },
      "text/html": [
       "<div>                            <div id=\"aea6c83c-d4cb-4b68-bd8d-414604af391b\" class=\"plotly-graph-div\" style=\"height:525px; width:100%;\"></div>            <script type=\"text/javascript\">                require([\"plotly\"], function(Plotly) {                    window.PLOTLYENV=window.PLOTLYENV || {};\n",
       "                    window.PLOTLYENV.BASE_URL='https://plot.ly';                                    if (document.getElementById(\"aea6c83c-d4cb-4b68-bd8d-414604af391b\")) {                    Plotly.newPlot(                        \"aea6c83c-d4cb-4b68-bd8d-414604af391b\",                        [{\"boxpoints\":false,\"line\":{\"width\":1.3},\"marker\":{\"color\":\"rgba(255, 153, 51, 1.0)\"},\"name\":\"A\",\"orientation\":\"v\",\"y\":[0.3586331746624718,-0.31304376044741095,0.9155501015715358,-2.102062606588993,0.408045526206134,-0.2653937053424654,-1.0608144632061376,0.8320160290835785,-0.9049475285738797,-0.17744210477049197,-1.4540758255989237,1.4257420406209662,-0.5205046343083947,-0.05769834283630299,0.47701003735893915,-0.04203967170773101,0.5954054803347232,0.5082602104081628,1.5464874830525634,0.03252793321033726,0.02470780179975145,-0.43883588421253367,0.7655553628093557,0.08479713396327594,-0.061697794787186545,-1.670028936339304,-0.44654185078945124,0.3424303635259183,-1.4760687974593132,1.00411471917094,-0.05524154132328517,0.014428830329574913,-0.3383435301323882,1.5183470766720768,-0.027803842073751618,1.7202240294648374,0.0659563768324742,0.8220356160516542,-0.5351973075051546,-0.15985840887473127,0.9323610128235857,0.6006660833479411,-0.8184884530933983,0.5152778925589065,2.5445342396284483,-0.03483860975117482,0.5162424224318293,0.9591449980497241,0.17777377052477863,-0.13969697340984139,-0.8569053896082983,0.2698446001276596,-0.19793090917579773,0.4250458772262773,0.3538791331723721,-2.2000463413342275,0.4181696188358884,-0.5901820888816727,0.020414193883099955,-0.6489481062883675,-0.3821890735220406,-0.32985879985063243,1.3954598123304571,0.05505854723609142,-0.6488143149635798,-0.21044309167380512,0.9436186500108769,-0.1344901082326483,0.4913203377664391,0.3285827524381691,-0.22242713380610743,-0.4202007414637871,0.10092135204452221,-0.516654392511781,-1.135954562451008,-0.7944885228365225,-0.8423266383457392,-1.359632784546133,0.7546560920413921,0.6516002595799931,0.8126667585524782,0.22038804422076191,0.054500146304780554,0.2125059915603282,-0.5119263987642447,0.46617177548286015,-1.375963954761399,0.4262163349180895,-1.205184119983154,-0.31379656718450993,0.4138625705495997,0.7663575825164424,-2.1174139409310984,0.5178801297938571,1.780572268688464,0.36758656402424283,-0.4135886115249514,0.8084776519283191,1.6336469314010316,2.230813714022468],\"type\":\"box\"},{\"boxpoints\":false,\"line\":{\"width\":1.3},\"marker\":{\"color\":\"rgba(55, 128, 191, 1.0)\"},\"name\":\"B\",\"orientation\":\"v\",\"y\":[-1.0590548720581747,-0.39190242572096723,0.2962891691222517,-0.5490583168335752,0.0883346775218682,-0.6114291879106363,-0.6373993095400021,-1.3757372678673856,0.7710307905294411,-0.7952282574924998,-1.0665821766458694,1.069364678832217,1.1469578718082771,-0.25199465875749505,0.7048053127514355,-0.70141193883703,-0.9687943837773987,-0.5179377536668606,1.0367137748339337,-0.926940875305391,-0.6431803601851102,-0.008176871309322228,-0.9552975301203914,-0.7588749739508795,0.8832832893949047,1.1755358794506057,-0.20549235635876878,-0.7491598214547203,-0.5734776537078125,0.49246483038810485,1.1571408435365964,0.35950239520271465,-0.9814813990037048,-0.3302371152060421,1.4279786237553096,0.09368539541218573,-0.05148049977783981,2.3212174669434593,-0.1741133687184468,1.1003712836406296,1.632706051966583,1.3341292330096408,1.2792614080957836,-0.9846673910400024,1.9008435066570037,0.8600680929881195,-0.6027765692000642,-0.46044062423880017,0.2036331641753118,1.6091632381996916,0.8319891984314672,-2.106481912504469,1.1587762643350736,0.4378282837245897,-0.6787113924870258,-1.3015491673560238,-0.4699970597901284,0.03448216204286796,-0.3921004216330228,0.4011602423714026,0.964934167991005,-1.5316121923083093,-2.708464465730562,0.1739441911266945,-0.24987881590183947,0.09772182633380014,0.7974157087788826,-0.06760707005609054,-1.0605788914082304,-1.0922449732655897,-0.46724550141681537,-1.311758303544521,1.5805631331227574,-2.7451393680018104,1.590657386425081,2.1594987472119085,0.8093209994861948,1.1872539693294126,-0.9376083371748265,-1.9880405933877292,-0.016931850993996047,0.19283107581930145,-1.2621201220902507,1.4219944905623008,0.03945646289475185,1.3468725540679272,0.3352148321341624,-0.7607245053299654,-1.3632969757334765,-0.25955811948574004,0.45549145421093473,-0.1296347833779436,0.04802303523424992,0.31671978263710604,-0.8908041289921246,0.6270179003637465,-0.1845078406753882,2.294840618932753,-1.8898838801321691,1.758211240623883],\"type\":\"box\"},{\"boxpoints\":false,\"line\":{\"width\":1.3},\"marker\":{\"color\":\"rgba(50, 171, 96, 1.0)\"},\"name\":\"C\",\"orientation\":\"v\",\"y\":[0.32429037739075883,1.1879409631045386,-0.38088091795317913,0.14806323550316,-0.5709168393551085,1.3853505290062362,0.030960518731206272,0.3938230637983112,0.6773066094802366,-0.1163003670518374,-0.7582509421132919,-0.38467937176662037,0.9367872426180641,0.3094300782732029,0.09601419265197059,0.5995511429549369,1.4439688168872717,-1.0965528579612354,-0.40781181780874987,-0.5913778404732251,0.7295991376359017,1.5579853159921473,0.05803394864840696,-1.248098266950036,1.4794877768861923,-2.394365890320898,0.874562873382905,-0.6699357548158725,-0.6961017168474808,-0.36174763518653275,1.4517901086461655,0.660505118013835,0.622063497987493,-0.054301146606529675,-0.37886913279578677,-0.008960006479370229,0.21263647906035765,0.14148615088666414,0.037315302544217124,0.6002888863566334,1.3398864669756754,0.5632927848357131,0.43994020088676306,-0.6424879662806519,0.8414231989301041,-0.263665109298404,1.0650209103243846,-0.4987174826350073,-0.029727275897059015,0.4811271849515231,-1.0639989151092917,2.7269733913483805,0.4202847481492167,0.23013615231109463,-0.19052950306876407,-0.07535647639230537,-0.10870803868613195,-1.7764691803724073,-0.20847521854327986,-0.9683394823778462,0.35115001230946635,1.6892276963651842,1.3804853265597006,2.921534826638845,-0.4309883401900627,-0.8817523768739174,0.27541040786185467,-0.3747113263296264,0.9740657170289369,-0.9702017630654753,-0.04811530584331376,-0.5383813969987241,0.16096932939744013,0.15306539136772737,-1.4896596280606906,-0.041852603529642,-1.2837275685397316,0.08498459969796693,0.6932661399547978,-0.48656111657997136,0.03244938448296639,0.5707242925265023,0.9752035089851828,1.5493900379188106,0.8698503692117641,-0.42065578813403187,-1.5706299711399163,-0.2347536852870114,-1.450009680526141,-0.5572941809131361,1.7607885483739076,0.1642451193947591,1.3806465480402927,0.5900768079783596,1.120446209170726,1.2089700577352944,-0.6984128021106067,0.3205901289951289,0.37574731970374725,0.30972045037775137],\"type\":\"box\"},{\"boxpoints\":false,\"line\":{\"width\":1.3},\"marker\":{\"color\":\"rgba(128, 0, 128, 1.0)\"},\"name\":\"D\",\"orientation\":\"v\",\"y\":[-0.3464588048417761,-0.647906547324458,0.3486779613719423,0.16578621922162767,-0.6930802152809857,-0.27001530192403844,2.199341644606675,0.6100190730886883,2.102550400217976,1.3032923422411529,-0.049762067909215585,1.0518251360175972,2.606214122416171,-0.2623492398003455,-3.1647169619393614,-0.372542819978809,0.14946434187215132,0.06191615910061245,-1.1814026933119086,-0.2766721067868842,-0.9524484776847364,0.890087121411412,0.16536143007143075,2.0950209738087247,0.6678254539418913,-2.4541658108616398,0.7272111499537395,-1.0632955813088365,0.5563393644310032,0.7007756021443959,-0.7634004670299073,-1.0366226598965147,0.8013304757037002,-0.9575358416562028,-1.2219996303846936,0.8411087011278587,-2.6876492176403706,0.21697871372465866,0.8661761718498764,-0.004477953671440384,-0.24156899072457647,-1.191982405527518,-1.830769949480394,-0.3603791966519778,-1.8541561044408092,-0.8269509146760182,1.2351690456101407,-0.7374726976400329,1.1496626540716828,0.11539306667485381,-0.5874759092324688,-0.29647288445001413,0.8043685590974445,-0.25129479981146213,-0.009082767107194573,0.8249201350185461,-0.9041916236427177,-0.2598132126343078,2.5209152581221406,-0.7414821119261477,0.6528585246841945,0.4727346988738507,-0.4255885388211691,-0.33523865860121993,0.002340531266801451,1.1677113148248681,0.4436607499705828,-1.1378815712598933,-0.9528152338377582,1.3354358098041545,-0.4143195912799377,-0.27195585863102767,-0.5128124546494139,1.1933581947975167,-1.0426560248342713,0.08732828643538657,0.3329346714021422,0.015406732187095097,-1.2208821836590111,1.37925115599276,-0.0021740284364161677,-0.7139241821707765,-0.19727820197878954,0.8372822892101166,1.0594670766221612,1.1254072337082799,1.427965150259643,0.3496471642051402,-0.7616288308439892,-1.1845313919354337,-0.17747967699706843,0.649994802912574,0.3041126587233753,-1.172829688566211,-1.4701448507469361,0.33854444006522966,0.22917881846691687,-0.4156796942910539,-0.18684705250454173,-0.16557973376077886],\"type\":\"box\"}],                        {\"legend\":{\"bgcolor\":\"#F5F6F9\",\"font\":{\"color\":\"#4D5663\"}},\"paper_bgcolor\":\"#F5F6F9\",\"plot_bgcolor\":\"#F5F6F9\",\"template\":{\"data\":{\"barpolar\":[{\"marker\":{\"line\":{\"color\":\"#E5ECF6\",\"width\":0.5},\"pattern\":{\"fillmode\":\"overlay\",\"size\":10,\"solidity\":0.2}},\"type\":\"barpolar\"}],\"bar\":[{\"error_x\":{\"color\":\"#2a3f5f\"},\"error_y\":{\"color\":\"#2a3f5f\"},\"marker\":{\"line\":{\"color\":\"#E5ECF6\",\"width\":0.5},\"pattern\":{\"fillmode\":\"overlay\",\"size\":10,\"solidity\":0.2}},\"type\":\"bar\"}],\"carpet\":[{\"aaxis\":{\"endlinecolor\":\"#2a3f5f\",\"gridcolor\":\"white\",\"linecolor\":\"white\",\"minorgridcolor\":\"white\",\"startlinecolor\":\"#2a3f5f\"},\"baxis\":{\"endlinecolor\":\"#2a3f5f\",\"gridcolor\":\"white\",\"linecolor\":\"white\",\"minorgridcolor\":\"white\",\"startlinecolor\":\"#2a3f5f\"},\"type\":\"carpet\"}],\"choropleth\":[{\"colorbar\":{\"outlinewidth\":0,\"ticks\":\"\"},\"type\":\"choropleth\"}],\"contourcarpet\":[{\"colorbar\":{\"outlinewidth\":0,\"ticks\":\"\"},\"type\":\"contourcarpet\"}],\"contour\":[{\"colorbar\":{\"outlinewidth\":0,\"ticks\":\"\"},\"colorscale\":[[0.0,\"#0d0887\"],[0.1111111111111111,\"#46039f\"],[0.2222222222222222,\"#7201a8\"],[0.3333333333333333,\"#9c179e\"],[0.4444444444444444,\"#bd3786\"],[0.5555555555555556,\"#d8576b\"],[0.6666666666666666,\"#ed7953\"],[0.7777777777777778,\"#fb9f3a\"],[0.8888888888888888,\"#fdca26\"],[1.0,\"#f0f921\"]],\"type\":\"contour\"}],\"heatmapgl\":[{\"colorbar\":{\"outlinewidth\":0,\"ticks\":\"\"},\"colorscale\":[[0.0,\"#0d0887\"],[0.1111111111111111,\"#46039f\"],[0.2222222222222222,\"#7201a8\"],[0.3333333333333333,\"#9c179e\"],[0.4444444444444444,\"#bd3786\"],[0.5555555555555556,\"#d8576b\"],[0.6666666666666666,\"#ed7953\"],[0.7777777777777778,\"#fb9f3a\"],[0.8888888888888888,\"#fdca26\"],[1.0,\"#f0f921\"]],\"type\":\"heatmapgl\"}],\"heatmap\":[{\"colorbar\":{\"outlinewidth\":0,\"ticks\":\"\"},\"colorscale\":[[0.0,\"#0d0887\"],[0.1111111111111111,\"#46039f\"],[0.2222222222222222,\"#7201a8\"],[0.3333333333333333,\"#9c179e\"],[0.4444444444444444,\"#bd3786\"],[0.5555555555555556,\"#d8576b\"],[0.6666666666666666,\"#ed7953\"],[0.7777777777777778,\"#fb9f3a\"],[0.8888888888888888,\"#fdca26\"],[1.0,\"#f0f921\"]],\"type\":\"heatmap\"}],\"histogram2dcontour\":[{\"colorbar\":{\"outlinewidth\":0,\"ticks\":\"\"},\"colorscale\":[[0.0,\"#0d0887\"],[0.1111111111111111,\"#46039f\"],[0.2222222222222222,\"#7201a8\"],[0.3333333333333333,\"#9c179e\"],[0.4444444444444444,\"#bd3786\"],[0.5555555555555556,\"#d8576b\"],[0.6666666666666666,\"#ed7953\"],[0.7777777777777778,\"#fb9f3a\"],[0.8888888888888888,\"#fdca26\"],[1.0,\"#f0f921\"]],\"type\":\"histogram2dcontour\"}],\"histogram2d\":[{\"colorbar\":{\"outlinewidth\":0,\"ticks\":\"\"},\"colorscale\":[[0.0,\"#0d0887\"],[0.1111111111111111,\"#46039f\"],[0.2222222222222222,\"#7201a8\"],[0.3333333333333333,\"#9c179e\"],[0.4444444444444444,\"#bd3786\"],[0.5555555555555556,\"#d8576b\"],[0.6666666666666666,\"#ed7953\"],[0.7777777777777778,\"#fb9f3a\"],[0.8888888888888888,\"#fdca26\"],[1.0,\"#f0f921\"]],\"type\":\"histogram2d\"}],\"histogram\":[{\"marker\":{\"pattern\":{\"fillmode\":\"overlay\",\"size\":10,\"solidity\":0.2}},\"type\":\"histogram\"}],\"mesh3d\":[{\"colorbar\":{\"outlinewidth\":0,\"ticks\":\"\"},\"type\":\"mesh3d\"}],\"parcoords\":[{\"line\":{\"colorbar\":{\"outlinewidth\":0,\"ticks\":\"\"}},\"type\":\"parcoords\"}],\"pie\":[{\"automargin\":true,\"type\":\"pie\"}],\"scatter3d\":[{\"line\":{\"colorbar\":{\"outlinewidth\":0,\"ticks\":\"\"}},\"marker\":{\"colorbar\":{\"outlinewidth\":0,\"ticks\":\"\"}},\"type\":\"scatter3d\"}],\"scattercarpet\":[{\"marker\":{\"colorbar\":{\"outlinewidth\":0,\"ticks\":\"\"}},\"type\":\"scattercarpet\"}],\"scattergeo\":[{\"marker\":{\"colorbar\":{\"outlinewidth\":0,\"ticks\":\"\"}},\"type\":\"scattergeo\"}],\"scattergl\":[{\"marker\":{\"colorbar\":{\"outlinewidth\":0,\"ticks\":\"\"}},\"type\":\"scattergl\"}],\"scattermapbox\":[{\"marker\":{\"colorbar\":{\"outlinewidth\":0,\"ticks\":\"\"}},\"type\":\"scattermapbox\"}],\"scatterpolargl\":[{\"marker\":{\"colorbar\":{\"outlinewidth\":0,\"ticks\":\"\"}},\"type\":\"scatterpolargl\"}],\"scatterpolar\":[{\"marker\":{\"colorbar\":{\"outlinewidth\":0,\"ticks\":\"\"}},\"type\":\"scatterpolar\"}],\"scatter\":[{\"fillpattern\":{\"fillmode\":\"overlay\",\"size\":10,\"solidity\":0.2},\"type\":\"scatter\"}],\"scatterternary\":[{\"marker\":{\"colorbar\":{\"outlinewidth\":0,\"ticks\":\"\"}},\"type\":\"scatterternary\"}],\"surface\":[{\"colorbar\":{\"outlinewidth\":0,\"ticks\":\"\"},\"colorscale\":[[0.0,\"#0d0887\"],[0.1111111111111111,\"#46039f\"],[0.2222222222222222,\"#7201a8\"],[0.3333333333333333,\"#9c179e\"],[0.4444444444444444,\"#bd3786\"],[0.5555555555555556,\"#d8576b\"],[0.6666666666666666,\"#ed7953\"],[0.7777777777777778,\"#fb9f3a\"],[0.8888888888888888,\"#fdca26\"],[1.0,\"#f0f921\"]],\"type\":\"surface\"}],\"table\":[{\"cells\":{\"fill\":{\"color\":\"#EBF0F8\"},\"line\":{\"color\":\"white\"}},\"header\":{\"fill\":{\"color\":\"#C8D4E3\"},\"line\":{\"color\":\"white\"}},\"type\":\"table\"}]},\"layout\":{\"annotationdefaults\":{\"arrowcolor\":\"#2a3f5f\",\"arrowhead\":0,\"arrowwidth\":1},\"autotypenumbers\":\"strict\",\"coloraxis\":{\"colorbar\":{\"outlinewidth\":0,\"ticks\":\"\"}},\"colorscale\":{\"diverging\":[[0,\"#8e0152\"],[0.1,\"#c51b7d\"],[0.2,\"#de77ae\"],[0.3,\"#f1b6da\"],[0.4,\"#fde0ef\"],[0.5,\"#f7f7f7\"],[0.6,\"#e6f5d0\"],[0.7,\"#b8e186\"],[0.8,\"#7fbc41\"],[0.9,\"#4d9221\"],[1,\"#276419\"]],\"sequential\":[[0.0,\"#0d0887\"],[0.1111111111111111,\"#46039f\"],[0.2222222222222222,\"#7201a8\"],[0.3333333333333333,\"#9c179e\"],[0.4444444444444444,\"#bd3786\"],[0.5555555555555556,\"#d8576b\"],[0.6666666666666666,\"#ed7953\"],[0.7777777777777778,\"#fb9f3a\"],[0.8888888888888888,\"#fdca26\"],[1.0,\"#f0f921\"]],\"sequentialminus\":[[0.0,\"#0d0887\"],[0.1111111111111111,\"#46039f\"],[0.2222222222222222,\"#7201a8\"],[0.3333333333333333,\"#9c179e\"],[0.4444444444444444,\"#bd3786\"],[0.5555555555555556,\"#d8576b\"],[0.6666666666666666,\"#ed7953\"],[0.7777777777777778,\"#fb9f3a\"],[0.8888888888888888,\"#fdca26\"],[1.0,\"#f0f921\"]]},\"colorway\":[\"#636efa\",\"#EF553B\",\"#00cc96\",\"#ab63fa\",\"#FFA15A\",\"#19d3f3\",\"#FF6692\",\"#B6E880\",\"#FF97FF\",\"#FECB52\"],\"font\":{\"color\":\"#2a3f5f\"},\"geo\":{\"bgcolor\":\"white\",\"lakecolor\":\"white\",\"landcolor\":\"#E5ECF6\",\"showlakes\":true,\"showland\":true,\"subunitcolor\":\"white\"},\"hoverlabel\":{\"align\":\"left\"},\"hovermode\":\"closest\",\"mapbox\":{\"style\":\"light\"},\"paper_bgcolor\":\"white\",\"plot_bgcolor\":\"#E5ECF6\",\"polar\":{\"angularaxis\":{\"gridcolor\":\"white\",\"linecolor\":\"white\",\"ticks\":\"\"},\"bgcolor\":\"#E5ECF6\",\"radialaxis\":{\"gridcolor\":\"white\",\"linecolor\":\"white\",\"ticks\":\"\"}},\"scene\":{\"xaxis\":{\"backgroundcolor\":\"#E5ECF6\",\"gridcolor\":\"white\",\"gridwidth\":2,\"linecolor\":\"white\",\"showbackground\":true,\"ticks\":\"\",\"zerolinecolor\":\"white\"},\"yaxis\":{\"backgroundcolor\":\"#E5ECF6\",\"gridcolor\":\"white\",\"gridwidth\":2,\"linecolor\":\"white\",\"showbackground\":true,\"ticks\":\"\",\"zerolinecolor\":\"white\"},\"zaxis\":{\"backgroundcolor\":\"#E5ECF6\",\"gridcolor\":\"white\",\"gridwidth\":2,\"linecolor\":\"white\",\"showbackground\":true,\"ticks\":\"\",\"zerolinecolor\":\"white\"}},\"shapedefaults\":{\"line\":{\"color\":\"#2a3f5f\"}},\"ternary\":{\"aaxis\":{\"gridcolor\":\"white\",\"linecolor\":\"white\",\"ticks\":\"\"},\"baxis\":{\"gridcolor\":\"white\",\"linecolor\":\"white\",\"ticks\":\"\"},\"bgcolor\":\"#E5ECF6\",\"caxis\":{\"gridcolor\":\"white\",\"linecolor\":\"white\",\"ticks\":\"\"}},\"title\":{\"x\":0.05},\"xaxis\":{\"automargin\":true,\"gridcolor\":\"white\",\"linecolor\":\"white\",\"ticks\":\"\",\"title\":{\"standoff\":15},\"zerolinecolor\":\"white\",\"zerolinewidth\":2},\"yaxis\":{\"automargin\":true,\"gridcolor\":\"white\",\"linecolor\":\"white\",\"ticks\":\"\",\"title\":{\"standoff\":15},\"zerolinecolor\":\"white\",\"zerolinewidth\":2}}},\"title\":{\"font\":{\"color\":\"#4D5663\"}},\"xaxis\":{\"gridcolor\":\"#E1E5ED\",\"showgrid\":true,\"tickfont\":{\"color\":\"#4D5663\"},\"title\":{\"font\":{\"color\":\"#4D5663\"},\"text\":\"\"},\"zerolinecolor\":\"#E1E5ED\"},\"yaxis\":{\"gridcolor\":\"#E1E5ED\",\"showgrid\":true,\"tickfont\":{\"color\":\"#4D5663\"},\"title\":{\"font\":{\"color\":\"#4D5663\"},\"text\":\"\"},\"zerolinecolor\":\"#E1E5ED\"}},                        {\"showLink\": true, \"linkText\": \"Export to plot.ly\", \"plotlyServerURL\": \"https://plot.ly\", \"responsive\": true}                    ).then(function(){\n",
       "                            \n",
       "var gd = document.getElementById('aea6c83c-d4cb-4b68-bd8d-414604af391b');\n",
       "var x = new MutationObserver(function (mutations, observer) {{\n",
       "        var display = window.getComputedStyle(gd).display;\n",
       "        if (!display || display === 'none') {{\n",
       "            console.log([gd, 'removed!']);\n",
       "            Plotly.purge(gd);\n",
       "            observer.disconnect();\n",
       "        }}\n",
       "}});\n",
       "\n",
       "// Listen for the removal of the full notebook cells\n",
       "var notebookContainer = gd.closest('#notebook-container');\n",
       "if (notebookContainer) {{\n",
       "    x.observe(notebookContainer, {childList: true});\n",
       "}}\n",
       "\n",
       "// Listen for the clearing of the current output cell\n",
       "var outputEl = gd.closest('.output');\n",
       "if (outputEl) {{\n",
       "    x.observe(outputEl, {childList: true});\n",
       "}}\n",
       "\n",
       "                        })                };                });            </script>        </div>"
      ]
     },
     "metadata": {},
     "output_type": "display_data"
    }
   ],
   "source": [
    "df1.iplot(kind='box')"
   ]
  },
  {
   "cell_type": "code",
   "execution_count": 33,
   "id": "0326e1b4",
   "metadata": {},
   "outputs": [],
   "source": [
    "df3=pd.DataFrame({'x':[1,2,3,4,5],'y':[10,20,30,20,10],'z':[5,4,3,2,4]})"
   ]
  },
  {
   "cell_type": "code",
   "execution_count": 34,
   "id": "b76cc021",
   "metadata": {},
   "outputs": [
    {
     "data": {
      "text/html": [
       "<div>\n",
       "<style scoped>\n",
       "    .dataframe tbody tr th:only-of-type {\n",
       "        vertical-align: middle;\n",
       "    }\n",
       "\n",
       "    .dataframe tbody tr th {\n",
       "        vertical-align: top;\n",
       "    }\n",
       "\n",
       "    .dataframe thead th {\n",
       "        text-align: right;\n",
       "    }\n",
       "</style>\n",
       "<table border=\"1\" class=\"dataframe\">\n",
       "  <thead>\n",
       "    <tr style=\"text-align: right;\">\n",
       "      <th></th>\n",
       "      <th>x</th>\n",
       "      <th>y</th>\n",
       "      <th>z</th>\n",
       "    </tr>\n",
       "  </thead>\n",
       "  <tbody>\n",
       "    <tr>\n",
       "      <th>0</th>\n",
       "      <td>1</td>\n",
       "      <td>10</td>\n",
       "      <td>5</td>\n",
       "    </tr>\n",
       "    <tr>\n",
       "      <th>1</th>\n",
       "      <td>2</td>\n",
       "      <td>20</td>\n",
       "      <td>4</td>\n",
       "    </tr>\n",
       "    <tr>\n",
       "      <th>2</th>\n",
       "      <td>3</td>\n",
       "      <td>30</td>\n",
       "      <td>3</td>\n",
       "    </tr>\n",
       "    <tr>\n",
       "      <th>3</th>\n",
       "      <td>4</td>\n",
       "      <td>20</td>\n",
       "      <td>2</td>\n",
       "    </tr>\n",
       "    <tr>\n",
       "      <th>4</th>\n",
       "      <td>5</td>\n",
       "      <td>10</td>\n",
       "      <td>4</td>\n",
       "    </tr>\n",
       "  </tbody>\n",
       "</table>\n",
       "</div>"
      ],
      "text/plain": [
       "   x   y  z\n",
       "0  1  10  5\n",
       "1  2  20  4\n",
       "2  3  30  3\n",
       "3  4  20  2\n",
       "4  5  10  4"
      ]
     },
     "execution_count": 34,
     "metadata": {},
     "output_type": "execute_result"
    }
   ],
   "source": [
    "df3"
   ]
  },
  {
   "cell_type": "code",
   "execution_count": 36,
   "id": "e4611eb7",
   "metadata": {},
   "outputs": [
    {
     "data": {
      "application/vnd.plotly.v1+json": {
       "config": {
        "linkText": "Export to plot.ly",
        "plotlyServerURL": "https://plot.ly",
        "showLink": true
       },
       "data": [
        {
         "colorscale": [
          [
           0,
           "rgb(165,0,38)"
          ],
          [
           0.1,
           "rgb(215,48,39)"
          ],
          [
           0.2,
           "rgb(244,109,67)"
          ],
          [
           0.3,
           "rgb(253,174,97)"
          ],
          [
           0.4,
           "rgb(254,224,144)"
          ],
          [
           0.5,
           "rgb(255,255,191)"
          ],
          [
           0.6,
           "rgb(224,243,248)"
          ],
          [
           0.7,
           "rgb(171,217,233)"
          ],
          [
           0.8,
           "rgb(116,173,209)"
          ],
          [
           0.9,
           "rgb(69,117,180)"
          ],
          [
           1,
           "rgb(49,54,149)"
          ]
         ],
         "type": "surface",
         "x": [
          0,
          1,
          2,
          3,
          4
         ],
         "y": [
          "x",
          "y",
          "z"
         ],
         "z": [
          [
           1,
           2,
           3,
           4,
           5
          ],
          [
           10,
           20,
           30,
           20,
           10
          ],
          [
           5,
           4,
           3,
           2,
           4
          ]
         ]
        }
       ],
       "layout": {
        "legend": {
         "bgcolor": "#F5F6F9",
         "font": {
          "color": "#4D5663"
         }
        },
        "paper_bgcolor": "#F5F6F9",
        "plot_bgcolor": "#F5F6F9",
        "template": {
         "data": {
          "bar": [
           {
            "error_x": {
             "color": "#2a3f5f"
            },
            "error_y": {
             "color": "#2a3f5f"
            },
            "marker": {
             "line": {
              "color": "#E5ECF6",
              "width": 0.5
             },
             "pattern": {
              "fillmode": "overlay",
              "size": 10,
              "solidity": 0.2
             }
            },
            "type": "bar"
           }
          ],
          "barpolar": [
           {
            "marker": {
             "line": {
              "color": "#E5ECF6",
              "width": 0.5
             },
             "pattern": {
              "fillmode": "overlay",
              "size": 10,
              "solidity": 0.2
             }
            },
            "type": "barpolar"
           }
          ],
          "carpet": [
           {
            "aaxis": {
             "endlinecolor": "#2a3f5f",
             "gridcolor": "white",
             "linecolor": "white",
             "minorgridcolor": "white",
             "startlinecolor": "#2a3f5f"
            },
            "baxis": {
             "endlinecolor": "#2a3f5f",
             "gridcolor": "white",
             "linecolor": "white",
             "minorgridcolor": "white",
             "startlinecolor": "#2a3f5f"
            },
            "type": "carpet"
           }
          ],
          "choropleth": [
           {
            "colorbar": {
             "outlinewidth": 0,
             "ticks": ""
            },
            "type": "choropleth"
           }
          ],
          "contour": [
           {
            "colorbar": {
             "outlinewidth": 0,
             "ticks": ""
            },
            "colorscale": [
             [
              0,
              "#0d0887"
             ],
             [
              0.1111111111111111,
              "#46039f"
             ],
             [
              0.2222222222222222,
              "#7201a8"
             ],
             [
              0.3333333333333333,
              "#9c179e"
             ],
             [
              0.4444444444444444,
              "#bd3786"
             ],
             [
              0.5555555555555556,
              "#d8576b"
             ],
             [
              0.6666666666666666,
              "#ed7953"
             ],
             [
              0.7777777777777778,
              "#fb9f3a"
             ],
             [
              0.8888888888888888,
              "#fdca26"
             ],
             [
              1,
              "#f0f921"
             ]
            ],
            "type": "contour"
           }
          ],
          "contourcarpet": [
           {
            "colorbar": {
             "outlinewidth": 0,
             "ticks": ""
            },
            "type": "contourcarpet"
           }
          ],
          "heatmap": [
           {
            "colorbar": {
             "outlinewidth": 0,
             "ticks": ""
            },
            "colorscale": [
             [
              0,
              "#0d0887"
             ],
             [
              0.1111111111111111,
              "#46039f"
             ],
             [
              0.2222222222222222,
              "#7201a8"
             ],
             [
              0.3333333333333333,
              "#9c179e"
             ],
             [
              0.4444444444444444,
              "#bd3786"
             ],
             [
              0.5555555555555556,
              "#d8576b"
             ],
             [
              0.6666666666666666,
              "#ed7953"
             ],
             [
              0.7777777777777778,
              "#fb9f3a"
             ],
             [
              0.8888888888888888,
              "#fdca26"
             ],
             [
              1,
              "#f0f921"
             ]
            ],
            "type": "heatmap"
           }
          ],
          "heatmapgl": [
           {
            "colorbar": {
             "outlinewidth": 0,
             "ticks": ""
            },
            "colorscale": [
             [
              0,
              "#0d0887"
             ],
             [
              0.1111111111111111,
              "#46039f"
             ],
             [
              0.2222222222222222,
              "#7201a8"
             ],
             [
              0.3333333333333333,
              "#9c179e"
             ],
             [
              0.4444444444444444,
              "#bd3786"
             ],
             [
              0.5555555555555556,
              "#d8576b"
             ],
             [
              0.6666666666666666,
              "#ed7953"
             ],
             [
              0.7777777777777778,
              "#fb9f3a"
             ],
             [
              0.8888888888888888,
              "#fdca26"
             ],
             [
              1,
              "#f0f921"
             ]
            ],
            "type": "heatmapgl"
           }
          ],
          "histogram": [
           {
            "marker": {
             "pattern": {
              "fillmode": "overlay",
              "size": 10,
              "solidity": 0.2
             }
            },
            "type": "histogram"
           }
          ],
          "histogram2d": [
           {
            "colorbar": {
             "outlinewidth": 0,
             "ticks": ""
            },
            "colorscale": [
             [
              0,
              "#0d0887"
             ],
             [
              0.1111111111111111,
              "#46039f"
             ],
             [
              0.2222222222222222,
              "#7201a8"
             ],
             [
              0.3333333333333333,
              "#9c179e"
             ],
             [
              0.4444444444444444,
              "#bd3786"
             ],
             [
              0.5555555555555556,
              "#d8576b"
             ],
             [
              0.6666666666666666,
              "#ed7953"
             ],
             [
              0.7777777777777778,
              "#fb9f3a"
             ],
             [
              0.8888888888888888,
              "#fdca26"
             ],
             [
              1,
              "#f0f921"
             ]
            ],
            "type": "histogram2d"
           }
          ],
          "histogram2dcontour": [
           {
            "colorbar": {
             "outlinewidth": 0,
             "ticks": ""
            },
            "colorscale": [
             [
              0,
              "#0d0887"
             ],
             [
              0.1111111111111111,
              "#46039f"
             ],
             [
              0.2222222222222222,
              "#7201a8"
             ],
             [
              0.3333333333333333,
              "#9c179e"
             ],
             [
              0.4444444444444444,
              "#bd3786"
             ],
             [
              0.5555555555555556,
              "#d8576b"
             ],
             [
              0.6666666666666666,
              "#ed7953"
             ],
             [
              0.7777777777777778,
              "#fb9f3a"
             ],
             [
              0.8888888888888888,
              "#fdca26"
             ],
             [
              1,
              "#f0f921"
             ]
            ],
            "type": "histogram2dcontour"
           }
          ],
          "mesh3d": [
           {
            "colorbar": {
             "outlinewidth": 0,
             "ticks": ""
            },
            "type": "mesh3d"
           }
          ],
          "parcoords": [
           {
            "line": {
             "colorbar": {
              "outlinewidth": 0,
              "ticks": ""
             }
            },
            "type": "parcoords"
           }
          ],
          "pie": [
           {
            "automargin": true,
            "type": "pie"
           }
          ],
          "scatter": [
           {
            "fillpattern": {
             "fillmode": "overlay",
             "size": 10,
             "solidity": 0.2
            },
            "type": "scatter"
           }
          ],
          "scatter3d": [
           {
            "line": {
             "colorbar": {
              "outlinewidth": 0,
              "ticks": ""
             }
            },
            "marker": {
             "colorbar": {
              "outlinewidth": 0,
              "ticks": ""
             }
            },
            "type": "scatter3d"
           }
          ],
          "scattercarpet": [
           {
            "marker": {
             "colorbar": {
              "outlinewidth": 0,
              "ticks": ""
             }
            },
            "type": "scattercarpet"
           }
          ],
          "scattergeo": [
           {
            "marker": {
             "colorbar": {
              "outlinewidth": 0,
              "ticks": ""
             }
            },
            "type": "scattergeo"
           }
          ],
          "scattergl": [
           {
            "marker": {
             "colorbar": {
              "outlinewidth": 0,
              "ticks": ""
             }
            },
            "type": "scattergl"
           }
          ],
          "scattermapbox": [
           {
            "marker": {
             "colorbar": {
              "outlinewidth": 0,
              "ticks": ""
             }
            },
            "type": "scattermapbox"
           }
          ],
          "scatterpolar": [
           {
            "marker": {
             "colorbar": {
              "outlinewidth": 0,
              "ticks": ""
             }
            },
            "type": "scatterpolar"
           }
          ],
          "scatterpolargl": [
           {
            "marker": {
             "colorbar": {
              "outlinewidth": 0,
              "ticks": ""
             }
            },
            "type": "scatterpolargl"
           }
          ],
          "scatterternary": [
           {
            "marker": {
             "colorbar": {
              "outlinewidth": 0,
              "ticks": ""
             }
            },
            "type": "scatterternary"
           }
          ],
          "surface": [
           {
            "colorbar": {
             "outlinewidth": 0,
             "ticks": ""
            },
            "colorscale": [
             [
              0,
              "#0d0887"
             ],
             [
              0.1111111111111111,
              "#46039f"
             ],
             [
              0.2222222222222222,
              "#7201a8"
             ],
             [
              0.3333333333333333,
              "#9c179e"
             ],
             [
              0.4444444444444444,
              "#bd3786"
             ],
             [
              0.5555555555555556,
              "#d8576b"
             ],
             [
              0.6666666666666666,
              "#ed7953"
             ],
             [
              0.7777777777777778,
              "#fb9f3a"
             ],
             [
              0.8888888888888888,
              "#fdca26"
             ],
             [
              1,
              "#f0f921"
             ]
            ],
            "type": "surface"
           }
          ],
          "table": [
           {
            "cells": {
             "fill": {
              "color": "#EBF0F8"
             },
             "line": {
              "color": "white"
             }
            },
            "header": {
             "fill": {
              "color": "#C8D4E3"
             },
             "line": {
              "color": "white"
             }
            },
            "type": "table"
           }
          ]
         },
         "layout": {
          "annotationdefaults": {
           "arrowcolor": "#2a3f5f",
           "arrowhead": 0,
           "arrowwidth": 1
          },
          "autotypenumbers": "strict",
          "coloraxis": {
           "colorbar": {
            "outlinewidth": 0,
            "ticks": ""
           }
          },
          "colorscale": {
           "diverging": [
            [
             0,
             "#8e0152"
            ],
            [
             0.1,
             "#c51b7d"
            ],
            [
             0.2,
             "#de77ae"
            ],
            [
             0.3,
             "#f1b6da"
            ],
            [
             0.4,
             "#fde0ef"
            ],
            [
             0.5,
             "#f7f7f7"
            ],
            [
             0.6,
             "#e6f5d0"
            ],
            [
             0.7,
             "#b8e186"
            ],
            [
             0.8,
             "#7fbc41"
            ],
            [
             0.9,
             "#4d9221"
            ],
            [
             1,
             "#276419"
            ]
           ],
           "sequential": [
            [
             0,
             "#0d0887"
            ],
            [
             0.1111111111111111,
             "#46039f"
            ],
            [
             0.2222222222222222,
             "#7201a8"
            ],
            [
             0.3333333333333333,
             "#9c179e"
            ],
            [
             0.4444444444444444,
             "#bd3786"
            ],
            [
             0.5555555555555556,
             "#d8576b"
            ],
            [
             0.6666666666666666,
             "#ed7953"
            ],
            [
             0.7777777777777778,
             "#fb9f3a"
            ],
            [
             0.8888888888888888,
             "#fdca26"
            ],
            [
             1,
             "#f0f921"
            ]
           ],
           "sequentialminus": [
            [
             0,
             "#0d0887"
            ],
            [
             0.1111111111111111,
             "#46039f"
            ],
            [
             0.2222222222222222,
             "#7201a8"
            ],
            [
             0.3333333333333333,
             "#9c179e"
            ],
            [
             0.4444444444444444,
             "#bd3786"
            ],
            [
             0.5555555555555556,
             "#d8576b"
            ],
            [
             0.6666666666666666,
             "#ed7953"
            ],
            [
             0.7777777777777778,
             "#fb9f3a"
            ],
            [
             0.8888888888888888,
             "#fdca26"
            ],
            [
             1,
             "#f0f921"
            ]
           ]
          },
          "colorway": [
           "#636efa",
           "#EF553B",
           "#00cc96",
           "#ab63fa",
           "#FFA15A",
           "#19d3f3",
           "#FF6692",
           "#B6E880",
           "#FF97FF",
           "#FECB52"
          ],
          "font": {
           "color": "#2a3f5f"
          },
          "geo": {
           "bgcolor": "white",
           "lakecolor": "white",
           "landcolor": "#E5ECF6",
           "showlakes": true,
           "showland": true,
           "subunitcolor": "white"
          },
          "hoverlabel": {
           "align": "left"
          },
          "hovermode": "closest",
          "mapbox": {
           "style": "light"
          },
          "paper_bgcolor": "white",
          "plot_bgcolor": "#E5ECF6",
          "polar": {
           "angularaxis": {
            "gridcolor": "white",
            "linecolor": "white",
            "ticks": ""
           },
           "bgcolor": "#E5ECF6",
           "radialaxis": {
            "gridcolor": "white",
            "linecolor": "white",
            "ticks": ""
           }
          },
          "scene": {
           "xaxis": {
            "backgroundcolor": "#E5ECF6",
            "gridcolor": "white",
            "gridwidth": 2,
            "linecolor": "white",
            "showbackground": true,
            "ticks": "",
            "zerolinecolor": "white"
           },
           "yaxis": {
            "backgroundcolor": "#E5ECF6",
            "gridcolor": "white",
            "gridwidth": 2,
            "linecolor": "white",
            "showbackground": true,
            "ticks": "",
            "zerolinecolor": "white"
           },
           "zaxis": {
            "backgroundcolor": "#E5ECF6",
            "gridcolor": "white",
            "gridwidth": 2,
            "linecolor": "white",
            "showbackground": true,
            "ticks": "",
            "zerolinecolor": "white"
           }
          },
          "shapedefaults": {
           "line": {
            "color": "#2a3f5f"
           }
          },
          "ternary": {
           "aaxis": {
            "gridcolor": "white",
            "linecolor": "white",
            "ticks": ""
           },
           "baxis": {
            "gridcolor": "white",
            "linecolor": "white",
            "ticks": ""
           },
           "bgcolor": "#E5ECF6",
           "caxis": {
            "gridcolor": "white",
            "linecolor": "white",
            "ticks": ""
           }
          },
          "title": {
           "x": 0.05
          },
          "xaxis": {
           "automargin": true,
           "gridcolor": "white",
           "linecolor": "white",
           "ticks": "",
           "title": {
            "standoff": 15
           },
           "zerolinecolor": "white",
           "zerolinewidth": 2
          },
          "yaxis": {
           "automargin": true,
           "gridcolor": "white",
           "linecolor": "white",
           "ticks": "",
           "title": {
            "standoff": 15
           },
           "zerolinecolor": "white",
           "zerolinewidth": 2
          }
         }
        },
        "title": {
         "font": {
          "color": "#4D5663"
         }
        },
        "xaxis": {
         "gridcolor": "#E1E5ED",
         "showgrid": true,
         "tickfont": {
          "color": "#4D5663"
         },
         "title": {
          "font": {
           "color": "#4D5663"
          },
          "text": ""
         },
         "zerolinecolor": "#E1E5ED"
        },
        "yaxis": {
         "gridcolor": "#E1E5ED",
         "showgrid": true,
         "tickfont": {
          "color": "#4D5663"
         },
         "title": {
          "font": {
           "color": "#4D5663"
          },
          "text": ""
         },
         "zerolinecolor": "#E1E5ED"
        }
       }
      },
      "text/html": [
       "<div>                            <div id=\"b6979a06-d241-4d34-a6ee-9cffbe21979b\" class=\"plotly-graph-div\" style=\"height:525px; width:100%;\"></div>            <script type=\"text/javascript\">                require([\"plotly\"], function(Plotly) {                    window.PLOTLYENV=window.PLOTLYENV || {};\n",
       "                    window.PLOTLYENV.BASE_URL='https://plot.ly';                                    if (document.getElementById(\"b6979a06-d241-4d34-a6ee-9cffbe21979b\")) {                    Plotly.newPlot(                        \"b6979a06-d241-4d34-a6ee-9cffbe21979b\",                        [{\"colorscale\":[[0.0,\"rgb(165,0,38)\"],[0.1,\"rgb(215,48,39)\"],[0.2,\"rgb(244,109,67)\"],[0.3,\"rgb(253,174,97)\"],[0.4,\"rgb(254,224,144)\"],[0.5,\"rgb(255,255,191)\"],[0.6,\"rgb(224,243,248)\"],[0.7,\"rgb(171,217,233)\"],[0.8,\"rgb(116,173,209)\"],[0.9,\"rgb(69,117,180)\"],[1.0,\"rgb(49,54,149)\"]],\"x\":[0,1,2,3,4],\"y\":[\"x\",\"y\",\"z\"],\"z\":[[1,2,3,4,5],[10,20,30,20,10],[5,4,3,2,4]],\"type\":\"surface\"}],                        {\"legend\":{\"bgcolor\":\"#F5F6F9\",\"font\":{\"color\":\"#4D5663\"}},\"paper_bgcolor\":\"#F5F6F9\",\"plot_bgcolor\":\"#F5F6F9\",\"template\":{\"data\":{\"barpolar\":[{\"marker\":{\"line\":{\"color\":\"#E5ECF6\",\"width\":0.5},\"pattern\":{\"fillmode\":\"overlay\",\"size\":10,\"solidity\":0.2}},\"type\":\"barpolar\"}],\"bar\":[{\"error_x\":{\"color\":\"#2a3f5f\"},\"error_y\":{\"color\":\"#2a3f5f\"},\"marker\":{\"line\":{\"color\":\"#E5ECF6\",\"width\":0.5},\"pattern\":{\"fillmode\":\"overlay\",\"size\":10,\"solidity\":0.2}},\"type\":\"bar\"}],\"carpet\":[{\"aaxis\":{\"endlinecolor\":\"#2a3f5f\",\"gridcolor\":\"white\",\"linecolor\":\"white\",\"minorgridcolor\":\"white\",\"startlinecolor\":\"#2a3f5f\"},\"baxis\":{\"endlinecolor\":\"#2a3f5f\",\"gridcolor\":\"white\",\"linecolor\":\"white\",\"minorgridcolor\":\"white\",\"startlinecolor\":\"#2a3f5f\"},\"type\":\"carpet\"}],\"choropleth\":[{\"colorbar\":{\"outlinewidth\":0,\"ticks\":\"\"},\"type\":\"choropleth\"}],\"contourcarpet\":[{\"colorbar\":{\"outlinewidth\":0,\"ticks\":\"\"},\"type\":\"contourcarpet\"}],\"contour\":[{\"colorbar\":{\"outlinewidth\":0,\"ticks\":\"\"},\"colorscale\":[[0.0,\"#0d0887\"],[0.1111111111111111,\"#46039f\"],[0.2222222222222222,\"#7201a8\"],[0.3333333333333333,\"#9c179e\"],[0.4444444444444444,\"#bd3786\"],[0.5555555555555556,\"#d8576b\"],[0.6666666666666666,\"#ed7953\"],[0.7777777777777778,\"#fb9f3a\"],[0.8888888888888888,\"#fdca26\"],[1.0,\"#f0f921\"]],\"type\":\"contour\"}],\"heatmapgl\":[{\"colorbar\":{\"outlinewidth\":0,\"ticks\":\"\"},\"colorscale\":[[0.0,\"#0d0887\"],[0.1111111111111111,\"#46039f\"],[0.2222222222222222,\"#7201a8\"],[0.3333333333333333,\"#9c179e\"],[0.4444444444444444,\"#bd3786\"],[0.5555555555555556,\"#d8576b\"],[0.6666666666666666,\"#ed7953\"],[0.7777777777777778,\"#fb9f3a\"],[0.8888888888888888,\"#fdca26\"],[1.0,\"#f0f921\"]],\"type\":\"heatmapgl\"}],\"heatmap\":[{\"colorbar\":{\"outlinewidth\":0,\"ticks\":\"\"},\"colorscale\":[[0.0,\"#0d0887\"],[0.1111111111111111,\"#46039f\"],[0.2222222222222222,\"#7201a8\"],[0.3333333333333333,\"#9c179e\"],[0.4444444444444444,\"#bd3786\"],[0.5555555555555556,\"#d8576b\"],[0.6666666666666666,\"#ed7953\"],[0.7777777777777778,\"#fb9f3a\"],[0.8888888888888888,\"#fdca26\"],[1.0,\"#f0f921\"]],\"type\":\"heatmap\"}],\"histogram2dcontour\":[{\"colorbar\":{\"outlinewidth\":0,\"ticks\":\"\"},\"colorscale\":[[0.0,\"#0d0887\"],[0.1111111111111111,\"#46039f\"],[0.2222222222222222,\"#7201a8\"],[0.3333333333333333,\"#9c179e\"],[0.4444444444444444,\"#bd3786\"],[0.5555555555555556,\"#d8576b\"],[0.6666666666666666,\"#ed7953\"],[0.7777777777777778,\"#fb9f3a\"],[0.8888888888888888,\"#fdca26\"],[1.0,\"#f0f921\"]],\"type\":\"histogram2dcontour\"}],\"histogram2d\":[{\"colorbar\":{\"outlinewidth\":0,\"ticks\":\"\"},\"colorscale\":[[0.0,\"#0d0887\"],[0.1111111111111111,\"#46039f\"],[0.2222222222222222,\"#7201a8\"],[0.3333333333333333,\"#9c179e\"],[0.4444444444444444,\"#bd3786\"],[0.5555555555555556,\"#d8576b\"],[0.6666666666666666,\"#ed7953\"],[0.7777777777777778,\"#fb9f3a\"],[0.8888888888888888,\"#fdca26\"],[1.0,\"#f0f921\"]],\"type\":\"histogram2d\"}],\"histogram\":[{\"marker\":{\"pattern\":{\"fillmode\":\"overlay\",\"size\":10,\"solidity\":0.2}},\"type\":\"histogram\"}],\"mesh3d\":[{\"colorbar\":{\"outlinewidth\":0,\"ticks\":\"\"},\"type\":\"mesh3d\"}],\"parcoords\":[{\"line\":{\"colorbar\":{\"outlinewidth\":0,\"ticks\":\"\"}},\"type\":\"parcoords\"}],\"pie\":[{\"automargin\":true,\"type\":\"pie\"}],\"scatter3d\":[{\"line\":{\"colorbar\":{\"outlinewidth\":0,\"ticks\":\"\"}},\"marker\":{\"colorbar\":{\"outlinewidth\":0,\"ticks\":\"\"}},\"type\":\"scatter3d\"}],\"scattercarpet\":[{\"marker\":{\"colorbar\":{\"outlinewidth\":0,\"ticks\":\"\"}},\"type\":\"scattercarpet\"}],\"scattergeo\":[{\"marker\":{\"colorbar\":{\"outlinewidth\":0,\"ticks\":\"\"}},\"type\":\"scattergeo\"}],\"scattergl\":[{\"marker\":{\"colorbar\":{\"outlinewidth\":0,\"ticks\":\"\"}},\"type\":\"scattergl\"}],\"scattermapbox\":[{\"marker\":{\"colorbar\":{\"outlinewidth\":0,\"ticks\":\"\"}},\"type\":\"scattermapbox\"}],\"scatterpolargl\":[{\"marker\":{\"colorbar\":{\"outlinewidth\":0,\"ticks\":\"\"}},\"type\":\"scatterpolargl\"}],\"scatterpolar\":[{\"marker\":{\"colorbar\":{\"outlinewidth\":0,\"ticks\":\"\"}},\"type\":\"scatterpolar\"}],\"scatter\":[{\"fillpattern\":{\"fillmode\":\"overlay\",\"size\":10,\"solidity\":0.2},\"type\":\"scatter\"}],\"scatterternary\":[{\"marker\":{\"colorbar\":{\"outlinewidth\":0,\"ticks\":\"\"}},\"type\":\"scatterternary\"}],\"surface\":[{\"colorbar\":{\"outlinewidth\":0,\"ticks\":\"\"},\"colorscale\":[[0.0,\"#0d0887\"],[0.1111111111111111,\"#46039f\"],[0.2222222222222222,\"#7201a8\"],[0.3333333333333333,\"#9c179e\"],[0.4444444444444444,\"#bd3786\"],[0.5555555555555556,\"#d8576b\"],[0.6666666666666666,\"#ed7953\"],[0.7777777777777778,\"#fb9f3a\"],[0.8888888888888888,\"#fdca26\"],[1.0,\"#f0f921\"]],\"type\":\"surface\"}],\"table\":[{\"cells\":{\"fill\":{\"color\":\"#EBF0F8\"},\"line\":{\"color\":\"white\"}},\"header\":{\"fill\":{\"color\":\"#C8D4E3\"},\"line\":{\"color\":\"white\"}},\"type\":\"table\"}]},\"layout\":{\"annotationdefaults\":{\"arrowcolor\":\"#2a3f5f\",\"arrowhead\":0,\"arrowwidth\":1},\"autotypenumbers\":\"strict\",\"coloraxis\":{\"colorbar\":{\"outlinewidth\":0,\"ticks\":\"\"}},\"colorscale\":{\"diverging\":[[0,\"#8e0152\"],[0.1,\"#c51b7d\"],[0.2,\"#de77ae\"],[0.3,\"#f1b6da\"],[0.4,\"#fde0ef\"],[0.5,\"#f7f7f7\"],[0.6,\"#e6f5d0\"],[0.7,\"#b8e186\"],[0.8,\"#7fbc41\"],[0.9,\"#4d9221\"],[1,\"#276419\"]],\"sequential\":[[0.0,\"#0d0887\"],[0.1111111111111111,\"#46039f\"],[0.2222222222222222,\"#7201a8\"],[0.3333333333333333,\"#9c179e\"],[0.4444444444444444,\"#bd3786\"],[0.5555555555555556,\"#d8576b\"],[0.6666666666666666,\"#ed7953\"],[0.7777777777777778,\"#fb9f3a\"],[0.8888888888888888,\"#fdca26\"],[1.0,\"#f0f921\"]],\"sequentialminus\":[[0.0,\"#0d0887\"],[0.1111111111111111,\"#46039f\"],[0.2222222222222222,\"#7201a8\"],[0.3333333333333333,\"#9c179e\"],[0.4444444444444444,\"#bd3786\"],[0.5555555555555556,\"#d8576b\"],[0.6666666666666666,\"#ed7953\"],[0.7777777777777778,\"#fb9f3a\"],[0.8888888888888888,\"#fdca26\"],[1.0,\"#f0f921\"]]},\"colorway\":[\"#636efa\",\"#EF553B\",\"#00cc96\",\"#ab63fa\",\"#FFA15A\",\"#19d3f3\",\"#FF6692\",\"#B6E880\",\"#FF97FF\",\"#FECB52\"],\"font\":{\"color\":\"#2a3f5f\"},\"geo\":{\"bgcolor\":\"white\",\"lakecolor\":\"white\",\"landcolor\":\"#E5ECF6\",\"showlakes\":true,\"showland\":true,\"subunitcolor\":\"white\"},\"hoverlabel\":{\"align\":\"left\"},\"hovermode\":\"closest\",\"mapbox\":{\"style\":\"light\"},\"paper_bgcolor\":\"white\",\"plot_bgcolor\":\"#E5ECF6\",\"polar\":{\"angularaxis\":{\"gridcolor\":\"white\",\"linecolor\":\"white\",\"ticks\":\"\"},\"bgcolor\":\"#E5ECF6\",\"radialaxis\":{\"gridcolor\":\"white\",\"linecolor\":\"white\",\"ticks\":\"\"}},\"scene\":{\"xaxis\":{\"backgroundcolor\":\"#E5ECF6\",\"gridcolor\":\"white\",\"gridwidth\":2,\"linecolor\":\"white\",\"showbackground\":true,\"ticks\":\"\",\"zerolinecolor\":\"white\"},\"yaxis\":{\"backgroundcolor\":\"#E5ECF6\",\"gridcolor\":\"white\",\"gridwidth\":2,\"linecolor\":\"white\",\"showbackground\":true,\"ticks\":\"\",\"zerolinecolor\":\"white\"},\"zaxis\":{\"backgroundcolor\":\"#E5ECF6\",\"gridcolor\":\"white\",\"gridwidth\":2,\"linecolor\":\"white\",\"showbackground\":true,\"ticks\":\"\",\"zerolinecolor\":\"white\"}},\"shapedefaults\":{\"line\":{\"color\":\"#2a3f5f\"}},\"ternary\":{\"aaxis\":{\"gridcolor\":\"white\",\"linecolor\":\"white\",\"ticks\":\"\"},\"baxis\":{\"gridcolor\":\"white\",\"linecolor\":\"white\",\"ticks\":\"\"},\"bgcolor\":\"#E5ECF6\",\"caxis\":{\"gridcolor\":\"white\",\"linecolor\":\"white\",\"ticks\":\"\"}},\"title\":{\"x\":0.05},\"xaxis\":{\"automargin\":true,\"gridcolor\":\"white\",\"linecolor\":\"white\",\"ticks\":\"\",\"title\":{\"standoff\":15},\"zerolinecolor\":\"white\",\"zerolinewidth\":2},\"yaxis\":{\"automargin\":true,\"gridcolor\":\"white\",\"linecolor\":\"white\",\"ticks\":\"\",\"title\":{\"standoff\":15},\"zerolinecolor\":\"white\",\"zerolinewidth\":2}}},\"title\":{\"font\":{\"color\":\"#4D5663\"}},\"xaxis\":{\"gridcolor\":\"#E1E5ED\",\"showgrid\":true,\"tickfont\":{\"color\":\"#4D5663\"},\"title\":{\"font\":{\"color\":\"#4D5663\"},\"text\":\"\"},\"zerolinecolor\":\"#E1E5ED\"},\"yaxis\":{\"gridcolor\":\"#E1E5ED\",\"showgrid\":true,\"tickfont\":{\"color\":\"#4D5663\"},\"title\":{\"font\":{\"color\":\"#4D5663\"},\"text\":\"\"},\"zerolinecolor\":\"#E1E5ED\"}},                        {\"showLink\": true, \"linkText\": \"Export to plot.ly\", \"plotlyServerURL\": \"https://plot.ly\", \"responsive\": true}                    ).then(function(){\n",
       "                            \n",
       "var gd = document.getElementById('b6979a06-d241-4d34-a6ee-9cffbe21979b');\n",
       "var x = new MutationObserver(function (mutations, observer) {{\n",
       "        var display = window.getComputedStyle(gd).display;\n",
       "        if (!display || display === 'none') {{\n",
       "            console.log([gd, 'removed!']);\n",
       "            Plotly.purge(gd);\n",
       "            observer.disconnect();\n",
       "        }}\n",
       "}});\n",
       "\n",
       "// Listen for the removal of the full notebook cells\n",
       "var notebookContainer = gd.closest('#notebook-container');\n",
       "if (notebookContainer) {{\n",
       "    x.observe(notebookContainer, {childList: true});\n",
       "}}\n",
       "\n",
       "// Listen for the clearing of the current output cell\n",
       "var outputEl = gd.closest('.output');\n",
       "if (outputEl) {{\n",
       "    x.observe(outputEl, {childList: true});\n",
       "}}\n",
       "\n",
       "                        })                };                });            </script>        </div>"
      ]
     },
     "metadata": {},
     "output_type": "display_data"
    }
   ],
   "source": [
    "df3.iplot(kind='surface',colorscale='rdylbu')"
   ]
  },
  {
   "cell_type": "code",
   "execution_count": 37,
   "id": "308b02b9",
   "metadata": {},
   "outputs": [
    {
     "data": {
      "application/vnd.plotly.v1+json": {
       "config": {
        "linkText": "Export to plot.ly",
        "plotlyServerURL": "https://plot.ly",
        "showLink": true
       },
       "data": [
        {
         "histfunc": "count",
         "histnorm": "",
         "marker": {
          "color": "rgba(255, 153, 51, 1.0)",
          "line": {
           "color": "#4D5663",
           "width": 1.3
          }
         },
         "name": "A",
         "nbinsx": 50,
         "opacity": 0.8,
         "orientation": "v",
         "type": "histogram",
         "x": [
          0.3586331746624718,
          -0.31304376044741095,
          0.9155501015715358,
          -2.102062606588993,
          0.408045526206134,
          -0.2653937053424654,
          -1.0608144632061376,
          0.8320160290835785,
          -0.9049475285738797,
          -0.17744210477049197,
          -1.4540758255989237,
          1.4257420406209662,
          -0.5205046343083947,
          -0.05769834283630299,
          0.47701003735893915,
          -0.04203967170773101,
          0.5954054803347232,
          0.5082602104081628,
          1.5464874830525634,
          0.03252793321033726,
          0.02470780179975145,
          -0.43883588421253367,
          0.7655553628093557,
          0.08479713396327594,
          -0.061697794787186545,
          -1.670028936339304,
          -0.44654185078945124,
          0.3424303635259183,
          -1.4760687974593132,
          1.00411471917094,
          -0.05524154132328517,
          0.014428830329574913,
          -0.3383435301323882,
          1.5183470766720768,
          -0.027803842073751618,
          1.7202240294648374,
          0.0659563768324742,
          0.8220356160516542,
          -0.5351973075051546,
          -0.15985840887473127,
          0.9323610128235857,
          0.6006660833479411,
          -0.8184884530933983,
          0.5152778925589065,
          2.5445342396284483,
          -0.03483860975117482,
          0.5162424224318293,
          0.9591449980497241,
          0.17777377052477863,
          -0.13969697340984139,
          -0.8569053896082983,
          0.2698446001276596,
          -0.19793090917579773,
          0.4250458772262773,
          0.3538791331723721,
          -2.2000463413342275,
          0.4181696188358884,
          -0.5901820888816727,
          0.020414193883099955,
          -0.6489481062883675,
          -0.3821890735220406,
          -0.32985879985063243,
          1.3954598123304571,
          0.05505854723609142,
          -0.6488143149635798,
          -0.21044309167380512,
          0.9436186500108769,
          -0.1344901082326483,
          0.4913203377664391,
          0.3285827524381691,
          -0.22242713380610743,
          -0.4202007414637871,
          0.10092135204452221,
          -0.516654392511781,
          -1.135954562451008,
          -0.7944885228365225,
          -0.8423266383457392,
          -1.359632784546133,
          0.7546560920413921,
          0.6516002595799931,
          0.8126667585524782,
          0.22038804422076191,
          0.054500146304780554,
          0.2125059915603282,
          -0.5119263987642447,
          0.46617177548286015,
          -1.375963954761399,
          0.4262163349180895,
          -1.205184119983154,
          -0.31379656718450993,
          0.4138625705495997,
          0.7663575825164424,
          -2.1174139409310984,
          0.5178801297938571,
          1.780572268688464,
          0.36758656402424283,
          -0.4135886115249514,
          0.8084776519283191,
          1.6336469314010316,
          2.230813714022468
         ]
        }
       ],
       "layout": {
        "barmode": "overlay",
        "legend": {
         "bgcolor": "#F5F6F9",
         "font": {
          "color": "#4D5663"
         }
        },
        "paper_bgcolor": "#F5F6F9",
        "plot_bgcolor": "#F5F6F9",
        "template": {
         "data": {
          "bar": [
           {
            "error_x": {
             "color": "#2a3f5f"
            },
            "error_y": {
             "color": "#2a3f5f"
            },
            "marker": {
             "line": {
              "color": "#E5ECF6",
              "width": 0.5
             },
             "pattern": {
              "fillmode": "overlay",
              "size": 10,
              "solidity": 0.2
             }
            },
            "type": "bar"
           }
          ],
          "barpolar": [
           {
            "marker": {
             "line": {
              "color": "#E5ECF6",
              "width": 0.5
             },
             "pattern": {
              "fillmode": "overlay",
              "size": 10,
              "solidity": 0.2
             }
            },
            "type": "barpolar"
           }
          ],
          "carpet": [
           {
            "aaxis": {
             "endlinecolor": "#2a3f5f",
             "gridcolor": "white",
             "linecolor": "white",
             "minorgridcolor": "white",
             "startlinecolor": "#2a3f5f"
            },
            "baxis": {
             "endlinecolor": "#2a3f5f",
             "gridcolor": "white",
             "linecolor": "white",
             "minorgridcolor": "white",
             "startlinecolor": "#2a3f5f"
            },
            "type": "carpet"
           }
          ],
          "choropleth": [
           {
            "colorbar": {
             "outlinewidth": 0,
             "ticks": ""
            },
            "type": "choropleth"
           }
          ],
          "contour": [
           {
            "colorbar": {
             "outlinewidth": 0,
             "ticks": ""
            },
            "colorscale": [
             [
              0,
              "#0d0887"
             ],
             [
              0.1111111111111111,
              "#46039f"
             ],
             [
              0.2222222222222222,
              "#7201a8"
             ],
             [
              0.3333333333333333,
              "#9c179e"
             ],
             [
              0.4444444444444444,
              "#bd3786"
             ],
             [
              0.5555555555555556,
              "#d8576b"
             ],
             [
              0.6666666666666666,
              "#ed7953"
             ],
             [
              0.7777777777777778,
              "#fb9f3a"
             ],
             [
              0.8888888888888888,
              "#fdca26"
             ],
             [
              1,
              "#f0f921"
             ]
            ],
            "type": "contour"
           }
          ],
          "contourcarpet": [
           {
            "colorbar": {
             "outlinewidth": 0,
             "ticks": ""
            },
            "type": "contourcarpet"
           }
          ],
          "heatmap": [
           {
            "colorbar": {
             "outlinewidth": 0,
             "ticks": ""
            },
            "colorscale": [
             [
              0,
              "#0d0887"
             ],
             [
              0.1111111111111111,
              "#46039f"
             ],
             [
              0.2222222222222222,
              "#7201a8"
             ],
             [
              0.3333333333333333,
              "#9c179e"
             ],
             [
              0.4444444444444444,
              "#bd3786"
             ],
             [
              0.5555555555555556,
              "#d8576b"
             ],
             [
              0.6666666666666666,
              "#ed7953"
             ],
             [
              0.7777777777777778,
              "#fb9f3a"
             ],
             [
              0.8888888888888888,
              "#fdca26"
             ],
             [
              1,
              "#f0f921"
             ]
            ],
            "type": "heatmap"
           }
          ],
          "heatmapgl": [
           {
            "colorbar": {
             "outlinewidth": 0,
             "ticks": ""
            },
            "colorscale": [
             [
              0,
              "#0d0887"
             ],
             [
              0.1111111111111111,
              "#46039f"
             ],
             [
              0.2222222222222222,
              "#7201a8"
             ],
             [
              0.3333333333333333,
              "#9c179e"
             ],
             [
              0.4444444444444444,
              "#bd3786"
             ],
             [
              0.5555555555555556,
              "#d8576b"
             ],
             [
              0.6666666666666666,
              "#ed7953"
             ],
             [
              0.7777777777777778,
              "#fb9f3a"
             ],
             [
              0.8888888888888888,
              "#fdca26"
             ],
             [
              1,
              "#f0f921"
             ]
            ],
            "type": "heatmapgl"
           }
          ],
          "histogram": [
           {
            "marker": {
             "pattern": {
              "fillmode": "overlay",
              "size": 10,
              "solidity": 0.2
             }
            },
            "type": "histogram"
           }
          ],
          "histogram2d": [
           {
            "colorbar": {
             "outlinewidth": 0,
             "ticks": ""
            },
            "colorscale": [
             [
              0,
              "#0d0887"
             ],
             [
              0.1111111111111111,
              "#46039f"
             ],
             [
              0.2222222222222222,
              "#7201a8"
             ],
             [
              0.3333333333333333,
              "#9c179e"
             ],
             [
              0.4444444444444444,
              "#bd3786"
             ],
             [
              0.5555555555555556,
              "#d8576b"
             ],
             [
              0.6666666666666666,
              "#ed7953"
             ],
             [
              0.7777777777777778,
              "#fb9f3a"
             ],
             [
              0.8888888888888888,
              "#fdca26"
             ],
             [
              1,
              "#f0f921"
             ]
            ],
            "type": "histogram2d"
           }
          ],
          "histogram2dcontour": [
           {
            "colorbar": {
             "outlinewidth": 0,
             "ticks": ""
            },
            "colorscale": [
             [
              0,
              "#0d0887"
             ],
             [
              0.1111111111111111,
              "#46039f"
             ],
             [
              0.2222222222222222,
              "#7201a8"
             ],
             [
              0.3333333333333333,
              "#9c179e"
             ],
             [
              0.4444444444444444,
              "#bd3786"
             ],
             [
              0.5555555555555556,
              "#d8576b"
             ],
             [
              0.6666666666666666,
              "#ed7953"
             ],
             [
              0.7777777777777778,
              "#fb9f3a"
             ],
             [
              0.8888888888888888,
              "#fdca26"
             ],
             [
              1,
              "#f0f921"
             ]
            ],
            "type": "histogram2dcontour"
           }
          ],
          "mesh3d": [
           {
            "colorbar": {
             "outlinewidth": 0,
             "ticks": ""
            },
            "type": "mesh3d"
           }
          ],
          "parcoords": [
           {
            "line": {
             "colorbar": {
              "outlinewidth": 0,
              "ticks": ""
             }
            },
            "type": "parcoords"
           }
          ],
          "pie": [
           {
            "automargin": true,
            "type": "pie"
           }
          ],
          "scatter": [
           {
            "fillpattern": {
             "fillmode": "overlay",
             "size": 10,
             "solidity": 0.2
            },
            "type": "scatter"
           }
          ],
          "scatter3d": [
           {
            "line": {
             "colorbar": {
              "outlinewidth": 0,
              "ticks": ""
             }
            },
            "marker": {
             "colorbar": {
              "outlinewidth": 0,
              "ticks": ""
             }
            },
            "type": "scatter3d"
           }
          ],
          "scattercarpet": [
           {
            "marker": {
             "colorbar": {
              "outlinewidth": 0,
              "ticks": ""
             }
            },
            "type": "scattercarpet"
           }
          ],
          "scattergeo": [
           {
            "marker": {
             "colorbar": {
              "outlinewidth": 0,
              "ticks": ""
             }
            },
            "type": "scattergeo"
           }
          ],
          "scattergl": [
           {
            "marker": {
             "colorbar": {
              "outlinewidth": 0,
              "ticks": ""
             }
            },
            "type": "scattergl"
           }
          ],
          "scattermapbox": [
           {
            "marker": {
             "colorbar": {
              "outlinewidth": 0,
              "ticks": ""
             }
            },
            "type": "scattermapbox"
           }
          ],
          "scatterpolar": [
           {
            "marker": {
             "colorbar": {
              "outlinewidth": 0,
              "ticks": ""
             }
            },
            "type": "scatterpolar"
           }
          ],
          "scatterpolargl": [
           {
            "marker": {
             "colorbar": {
              "outlinewidth": 0,
              "ticks": ""
             }
            },
            "type": "scatterpolargl"
           }
          ],
          "scatterternary": [
           {
            "marker": {
             "colorbar": {
              "outlinewidth": 0,
              "ticks": ""
             }
            },
            "type": "scatterternary"
           }
          ],
          "surface": [
           {
            "colorbar": {
             "outlinewidth": 0,
             "ticks": ""
            },
            "colorscale": [
             [
              0,
              "#0d0887"
             ],
             [
              0.1111111111111111,
              "#46039f"
             ],
             [
              0.2222222222222222,
              "#7201a8"
             ],
             [
              0.3333333333333333,
              "#9c179e"
             ],
             [
              0.4444444444444444,
              "#bd3786"
             ],
             [
              0.5555555555555556,
              "#d8576b"
             ],
             [
              0.6666666666666666,
              "#ed7953"
             ],
             [
              0.7777777777777778,
              "#fb9f3a"
             ],
             [
              0.8888888888888888,
              "#fdca26"
             ],
             [
              1,
              "#f0f921"
             ]
            ],
            "type": "surface"
           }
          ],
          "table": [
           {
            "cells": {
             "fill": {
              "color": "#EBF0F8"
             },
             "line": {
              "color": "white"
             }
            },
            "header": {
             "fill": {
              "color": "#C8D4E3"
             },
             "line": {
              "color": "white"
             }
            },
            "type": "table"
           }
          ]
         },
         "layout": {
          "annotationdefaults": {
           "arrowcolor": "#2a3f5f",
           "arrowhead": 0,
           "arrowwidth": 1
          },
          "autotypenumbers": "strict",
          "coloraxis": {
           "colorbar": {
            "outlinewidth": 0,
            "ticks": ""
           }
          },
          "colorscale": {
           "diverging": [
            [
             0,
             "#8e0152"
            ],
            [
             0.1,
             "#c51b7d"
            ],
            [
             0.2,
             "#de77ae"
            ],
            [
             0.3,
             "#f1b6da"
            ],
            [
             0.4,
             "#fde0ef"
            ],
            [
             0.5,
             "#f7f7f7"
            ],
            [
             0.6,
             "#e6f5d0"
            ],
            [
             0.7,
             "#b8e186"
            ],
            [
             0.8,
             "#7fbc41"
            ],
            [
             0.9,
             "#4d9221"
            ],
            [
             1,
             "#276419"
            ]
           ],
           "sequential": [
            [
             0,
             "#0d0887"
            ],
            [
             0.1111111111111111,
             "#46039f"
            ],
            [
             0.2222222222222222,
             "#7201a8"
            ],
            [
             0.3333333333333333,
             "#9c179e"
            ],
            [
             0.4444444444444444,
             "#bd3786"
            ],
            [
             0.5555555555555556,
             "#d8576b"
            ],
            [
             0.6666666666666666,
             "#ed7953"
            ],
            [
             0.7777777777777778,
             "#fb9f3a"
            ],
            [
             0.8888888888888888,
             "#fdca26"
            ],
            [
             1,
             "#f0f921"
            ]
           ],
           "sequentialminus": [
            [
             0,
             "#0d0887"
            ],
            [
             0.1111111111111111,
             "#46039f"
            ],
            [
             0.2222222222222222,
             "#7201a8"
            ],
            [
             0.3333333333333333,
             "#9c179e"
            ],
            [
             0.4444444444444444,
             "#bd3786"
            ],
            [
             0.5555555555555556,
             "#d8576b"
            ],
            [
             0.6666666666666666,
             "#ed7953"
            ],
            [
             0.7777777777777778,
             "#fb9f3a"
            ],
            [
             0.8888888888888888,
             "#fdca26"
            ],
            [
             1,
             "#f0f921"
            ]
           ]
          },
          "colorway": [
           "#636efa",
           "#EF553B",
           "#00cc96",
           "#ab63fa",
           "#FFA15A",
           "#19d3f3",
           "#FF6692",
           "#B6E880",
           "#FF97FF",
           "#FECB52"
          ],
          "font": {
           "color": "#2a3f5f"
          },
          "geo": {
           "bgcolor": "white",
           "lakecolor": "white",
           "landcolor": "#E5ECF6",
           "showlakes": true,
           "showland": true,
           "subunitcolor": "white"
          },
          "hoverlabel": {
           "align": "left"
          },
          "hovermode": "closest",
          "mapbox": {
           "style": "light"
          },
          "paper_bgcolor": "white",
          "plot_bgcolor": "#E5ECF6",
          "polar": {
           "angularaxis": {
            "gridcolor": "white",
            "linecolor": "white",
            "ticks": ""
           },
           "bgcolor": "#E5ECF6",
           "radialaxis": {
            "gridcolor": "white",
            "linecolor": "white",
            "ticks": ""
           }
          },
          "scene": {
           "xaxis": {
            "backgroundcolor": "#E5ECF6",
            "gridcolor": "white",
            "gridwidth": 2,
            "linecolor": "white",
            "showbackground": true,
            "ticks": "",
            "zerolinecolor": "white"
           },
           "yaxis": {
            "backgroundcolor": "#E5ECF6",
            "gridcolor": "white",
            "gridwidth": 2,
            "linecolor": "white",
            "showbackground": true,
            "ticks": "",
            "zerolinecolor": "white"
           },
           "zaxis": {
            "backgroundcolor": "#E5ECF6",
            "gridcolor": "white",
            "gridwidth": 2,
            "linecolor": "white",
            "showbackground": true,
            "ticks": "",
            "zerolinecolor": "white"
           }
          },
          "shapedefaults": {
           "line": {
            "color": "#2a3f5f"
           }
          },
          "ternary": {
           "aaxis": {
            "gridcolor": "white",
            "linecolor": "white",
            "ticks": ""
           },
           "baxis": {
            "gridcolor": "white",
            "linecolor": "white",
            "ticks": ""
           },
           "bgcolor": "#E5ECF6",
           "caxis": {
            "gridcolor": "white",
            "linecolor": "white",
            "ticks": ""
           }
          },
          "title": {
           "x": 0.05
          },
          "xaxis": {
           "automargin": true,
           "gridcolor": "white",
           "linecolor": "white",
           "ticks": "",
           "title": {
            "standoff": 15
           },
           "zerolinecolor": "white",
           "zerolinewidth": 2
          },
          "yaxis": {
           "automargin": true,
           "gridcolor": "white",
           "linecolor": "white",
           "ticks": "",
           "title": {
            "standoff": 15
           },
           "zerolinecolor": "white",
           "zerolinewidth": 2
          }
         }
        },
        "title": {
         "font": {
          "color": "#4D5663"
         }
        },
        "xaxis": {
         "gridcolor": "#E1E5ED",
         "showgrid": true,
         "tickfont": {
          "color": "#4D5663"
         },
         "title": {
          "font": {
           "color": "#4D5663"
          },
          "text": ""
         },
         "zerolinecolor": "#E1E5ED"
        },
        "yaxis": {
         "gridcolor": "#E1E5ED",
         "showgrid": true,
         "tickfont": {
          "color": "#4D5663"
         },
         "title": {
          "font": {
           "color": "#4D5663"
          },
          "text": ""
         },
         "zerolinecolor": "#E1E5ED"
        }
       }
      },
      "text/html": [
       "<div>                            <div id=\"5536e4fd-50d8-4540-87b3-5d28db9ec2c5\" class=\"plotly-graph-div\" style=\"height:525px; width:100%;\"></div>            <script type=\"text/javascript\">                require([\"plotly\"], function(Plotly) {                    window.PLOTLYENV=window.PLOTLYENV || {};\n",
       "                    window.PLOTLYENV.BASE_URL='https://plot.ly';                                    if (document.getElementById(\"5536e4fd-50d8-4540-87b3-5d28db9ec2c5\")) {                    Plotly.newPlot(                        \"5536e4fd-50d8-4540-87b3-5d28db9ec2c5\",                        [{\"histfunc\":\"count\",\"histnorm\":\"\",\"marker\":{\"color\":\"rgba(255, 153, 51, 1.0)\",\"line\":{\"color\":\"#4D5663\",\"width\":1.3}},\"name\":\"A\",\"nbinsx\":50,\"opacity\":0.8,\"orientation\":\"v\",\"x\":[0.3586331746624718,-0.31304376044741095,0.9155501015715358,-2.102062606588993,0.408045526206134,-0.2653937053424654,-1.0608144632061376,0.8320160290835785,-0.9049475285738797,-0.17744210477049197,-1.4540758255989237,1.4257420406209662,-0.5205046343083947,-0.05769834283630299,0.47701003735893915,-0.04203967170773101,0.5954054803347232,0.5082602104081628,1.5464874830525634,0.03252793321033726,0.02470780179975145,-0.43883588421253367,0.7655553628093557,0.08479713396327594,-0.061697794787186545,-1.670028936339304,-0.44654185078945124,0.3424303635259183,-1.4760687974593132,1.00411471917094,-0.05524154132328517,0.014428830329574913,-0.3383435301323882,1.5183470766720768,-0.027803842073751618,1.7202240294648374,0.0659563768324742,0.8220356160516542,-0.5351973075051546,-0.15985840887473127,0.9323610128235857,0.6006660833479411,-0.8184884530933983,0.5152778925589065,2.5445342396284483,-0.03483860975117482,0.5162424224318293,0.9591449980497241,0.17777377052477863,-0.13969697340984139,-0.8569053896082983,0.2698446001276596,-0.19793090917579773,0.4250458772262773,0.3538791331723721,-2.2000463413342275,0.4181696188358884,-0.5901820888816727,0.020414193883099955,-0.6489481062883675,-0.3821890735220406,-0.32985879985063243,1.3954598123304571,0.05505854723609142,-0.6488143149635798,-0.21044309167380512,0.9436186500108769,-0.1344901082326483,0.4913203377664391,0.3285827524381691,-0.22242713380610743,-0.4202007414637871,0.10092135204452221,-0.516654392511781,-1.135954562451008,-0.7944885228365225,-0.8423266383457392,-1.359632784546133,0.7546560920413921,0.6516002595799931,0.8126667585524782,0.22038804422076191,0.054500146304780554,0.2125059915603282,-0.5119263987642447,0.46617177548286015,-1.375963954761399,0.4262163349180895,-1.205184119983154,-0.31379656718450993,0.4138625705495997,0.7663575825164424,-2.1174139409310984,0.5178801297938571,1.780572268688464,0.36758656402424283,-0.4135886115249514,0.8084776519283191,1.6336469314010316,2.230813714022468],\"type\":\"histogram\"}],                        {\"barmode\":\"overlay\",\"legend\":{\"bgcolor\":\"#F5F6F9\",\"font\":{\"color\":\"#4D5663\"}},\"paper_bgcolor\":\"#F5F6F9\",\"plot_bgcolor\":\"#F5F6F9\",\"template\":{\"data\":{\"barpolar\":[{\"marker\":{\"line\":{\"color\":\"#E5ECF6\",\"width\":0.5},\"pattern\":{\"fillmode\":\"overlay\",\"size\":10,\"solidity\":0.2}},\"type\":\"barpolar\"}],\"bar\":[{\"error_x\":{\"color\":\"#2a3f5f\"},\"error_y\":{\"color\":\"#2a3f5f\"},\"marker\":{\"line\":{\"color\":\"#E5ECF6\",\"width\":0.5},\"pattern\":{\"fillmode\":\"overlay\",\"size\":10,\"solidity\":0.2}},\"type\":\"bar\"}],\"carpet\":[{\"aaxis\":{\"endlinecolor\":\"#2a3f5f\",\"gridcolor\":\"white\",\"linecolor\":\"white\",\"minorgridcolor\":\"white\",\"startlinecolor\":\"#2a3f5f\"},\"baxis\":{\"endlinecolor\":\"#2a3f5f\",\"gridcolor\":\"white\",\"linecolor\":\"white\",\"minorgridcolor\":\"white\",\"startlinecolor\":\"#2a3f5f\"},\"type\":\"carpet\"}],\"choropleth\":[{\"colorbar\":{\"outlinewidth\":0,\"ticks\":\"\"},\"type\":\"choropleth\"}],\"contourcarpet\":[{\"colorbar\":{\"outlinewidth\":0,\"ticks\":\"\"},\"type\":\"contourcarpet\"}],\"contour\":[{\"colorbar\":{\"outlinewidth\":0,\"ticks\":\"\"},\"colorscale\":[[0.0,\"#0d0887\"],[0.1111111111111111,\"#46039f\"],[0.2222222222222222,\"#7201a8\"],[0.3333333333333333,\"#9c179e\"],[0.4444444444444444,\"#bd3786\"],[0.5555555555555556,\"#d8576b\"],[0.6666666666666666,\"#ed7953\"],[0.7777777777777778,\"#fb9f3a\"],[0.8888888888888888,\"#fdca26\"],[1.0,\"#f0f921\"]],\"type\":\"contour\"}],\"heatmapgl\":[{\"colorbar\":{\"outlinewidth\":0,\"ticks\":\"\"},\"colorscale\":[[0.0,\"#0d0887\"],[0.1111111111111111,\"#46039f\"],[0.2222222222222222,\"#7201a8\"],[0.3333333333333333,\"#9c179e\"],[0.4444444444444444,\"#bd3786\"],[0.5555555555555556,\"#d8576b\"],[0.6666666666666666,\"#ed7953\"],[0.7777777777777778,\"#fb9f3a\"],[0.8888888888888888,\"#fdca26\"],[1.0,\"#f0f921\"]],\"type\":\"heatmapgl\"}],\"heatmap\":[{\"colorbar\":{\"outlinewidth\":0,\"ticks\":\"\"},\"colorscale\":[[0.0,\"#0d0887\"],[0.1111111111111111,\"#46039f\"],[0.2222222222222222,\"#7201a8\"],[0.3333333333333333,\"#9c179e\"],[0.4444444444444444,\"#bd3786\"],[0.5555555555555556,\"#d8576b\"],[0.6666666666666666,\"#ed7953\"],[0.7777777777777778,\"#fb9f3a\"],[0.8888888888888888,\"#fdca26\"],[1.0,\"#f0f921\"]],\"type\":\"heatmap\"}],\"histogram2dcontour\":[{\"colorbar\":{\"outlinewidth\":0,\"ticks\":\"\"},\"colorscale\":[[0.0,\"#0d0887\"],[0.1111111111111111,\"#46039f\"],[0.2222222222222222,\"#7201a8\"],[0.3333333333333333,\"#9c179e\"],[0.4444444444444444,\"#bd3786\"],[0.5555555555555556,\"#d8576b\"],[0.6666666666666666,\"#ed7953\"],[0.7777777777777778,\"#fb9f3a\"],[0.8888888888888888,\"#fdca26\"],[1.0,\"#f0f921\"]],\"type\":\"histogram2dcontour\"}],\"histogram2d\":[{\"colorbar\":{\"outlinewidth\":0,\"ticks\":\"\"},\"colorscale\":[[0.0,\"#0d0887\"],[0.1111111111111111,\"#46039f\"],[0.2222222222222222,\"#7201a8\"],[0.3333333333333333,\"#9c179e\"],[0.4444444444444444,\"#bd3786\"],[0.5555555555555556,\"#d8576b\"],[0.6666666666666666,\"#ed7953\"],[0.7777777777777778,\"#fb9f3a\"],[0.8888888888888888,\"#fdca26\"],[1.0,\"#f0f921\"]],\"type\":\"histogram2d\"}],\"histogram\":[{\"marker\":{\"pattern\":{\"fillmode\":\"overlay\",\"size\":10,\"solidity\":0.2}},\"type\":\"histogram\"}],\"mesh3d\":[{\"colorbar\":{\"outlinewidth\":0,\"ticks\":\"\"},\"type\":\"mesh3d\"}],\"parcoords\":[{\"line\":{\"colorbar\":{\"outlinewidth\":0,\"ticks\":\"\"}},\"type\":\"parcoords\"}],\"pie\":[{\"automargin\":true,\"type\":\"pie\"}],\"scatter3d\":[{\"line\":{\"colorbar\":{\"outlinewidth\":0,\"ticks\":\"\"}},\"marker\":{\"colorbar\":{\"outlinewidth\":0,\"ticks\":\"\"}},\"type\":\"scatter3d\"}],\"scattercarpet\":[{\"marker\":{\"colorbar\":{\"outlinewidth\":0,\"ticks\":\"\"}},\"type\":\"scattercarpet\"}],\"scattergeo\":[{\"marker\":{\"colorbar\":{\"outlinewidth\":0,\"ticks\":\"\"}},\"type\":\"scattergeo\"}],\"scattergl\":[{\"marker\":{\"colorbar\":{\"outlinewidth\":0,\"ticks\":\"\"}},\"type\":\"scattergl\"}],\"scattermapbox\":[{\"marker\":{\"colorbar\":{\"outlinewidth\":0,\"ticks\":\"\"}},\"type\":\"scattermapbox\"}],\"scatterpolargl\":[{\"marker\":{\"colorbar\":{\"outlinewidth\":0,\"ticks\":\"\"}},\"type\":\"scatterpolargl\"}],\"scatterpolar\":[{\"marker\":{\"colorbar\":{\"outlinewidth\":0,\"ticks\":\"\"}},\"type\":\"scatterpolar\"}],\"scatter\":[{\"fillpattern\":{\"fillmode\":\"overlay\",\"size\":10,\"solidity\":0.2},\"type\":\"scatter\"}],\"scatterternary\":[{\"marker\":{\"colorbar\":{\"outlinewidth\":0,\"ticks\":\"\"}},\"type\":\"scatterternary\"}],\"surface\":[{\"colorbar\":{\"outlinewidth\":0,\"ticks\":\"\"},\"colorscale\":[[0.0,\"#0d0887\"],[0.1111111111111111,\"#46039f\"],[0.2222222222222222,\"#7201a8\"],[0.3333333333333333,\"#9c179e\"],[0.4444444444444444,\"#bd3786\"],[0.5555555555555556,\"#d8576b\"],[0.6666666666666666,\"#ed7953\"],[0.7777777777777778,\"#fb9f3a\"],[0.8888888888888888,\"#fdca26\"],[1.0,\"#f0f921\"]],\"type\":\"surface\"}],\"table\":[{\"cells\":{\"fill\":{\"color\":\"#EBF0F8\"},\"line\":{\"color\":\"white\"}},\"header\":{\"fill\":{\"color\":\"#C8D4E3\"},\"line\":{\"color\":\"white\"}},\"type\":\"table\"}]},\"layout\":{\"annotationdefaults\":{\"arrowcolor\":\"#2a3f5f\",\"arrowhead\":0,\"arrowwidth\":1},\"autotypenumbers\":\"strict\",\"coloraxis\":{\"colorbar\":{\"outlinewidth\":0,\"ticks\":\"\"}},\"colorscale\":{\"diverging\":[[0,\"#8e0152\"],[0.1,\"#c51b7d\"],[0.2,\"#de77ae\"],[0.3,\"#f1b6da\"],[0.4,\"#fde0ef\"],[0.5,\"#f7f7f7\"],[0.6,\"#e6f5d0\"],[0.7,\"#b8e186\"],[0.8,\"#7fbc41\"],[0.9,\"#4d9221\"],[1,\"#276419\"]],\"sequential\":[[0.0,\"#0d0887\"],[0.1111111111111111,\"#46039f\"],[0.2222222222222222,\"#7201a8\"],[0.3333333333333333,\"#9c179e\"],[0.4444444444444444,\"#bd3786\"],[0.5555555555555556,\"#d8576b\"],[0.6666666666666666,\"#ed7953\"],[0.7777777777777778,\"#fb9f3a\"],[0.8888888888888888,\"#fdca26\"],[1.0,\"#f0f921\"]],\"sequentialminus\":[[0.0,\"#0d0887\"],[0.1111111111111111,\"#46039f\"],[0.2222222222222222,\"#7201a8\"],[0.3333333333333333,\"#9c179e\"],[0.4444444444444444,\"#bd3786\"],[0.5555555555555556,\"#d8576b\"],[0.6666666666666666,\"#ed7953\"],[0.7777777777777778,\"#fb9f3a\"],[0.8888888888888888,\"#fdca26\"],[1.0,\"#f0f921\"]]},\"colorway\":[\"#636efa\",\"#EF553B\",\"#00cc96\",\"#ab63fa\",\"#FFA15A\",\"#19d3f3\",\"#FF6692\",\"#B6E880\",\"#FF97FF\",\"#FECB52\"],\"font\":{\"color\":\"#2a3f5f\"},\"geo\":{\"bgcolor\":\"white\",\"lakecolor\":\"white\",\"landcolor\":\"#E5ECF6\",\"showlakes\":true,\"showland\":true,\"subunitcolor\":\"white\"},\"hoverlabel\":{\"align\":\"left\"},\"hovermode\":\"closest\",\"mapbox\":{\"style\":\"light\"},\"paper_bgcolor\":\"white\",\"plot_bgcolor\":\"#E5ECF6\",\"polar\":{\"angularaxis\":{\"gridcolor\":\"white\",\"linecolor\":\"white\",\"ticks\":\"\"},\"bgcolor\":\"#E5ECF6\",\"radialaxis\":{\"gridcolor\":\"white\",\"linecolor\":\"white\",\"ticks\":\"\"}},\"scene\":{\"xaxis\":{\"backgroundcolor\":\"#E5ECF6\",\"gridcolor\":\"white\",\"gridwidth\":2,\"linecolor\":\"white\",\"showbackground\":true,\"ticks\":\"\",\"zerolinecolor\":\"white\"},\"yaxis\":{\"backgroundcolor\":\"#E5ECF6\",\"gridcolor\":\"white\",\"gridwidth\":2,\"linecolor\":\"white\",\"showbackground\":true,\"ticks\":\"\",\"zerolinecolor\":\"white\"},\"zaxis\":{\"backgroundcolor\":\"#E5ECF6\",\"gridcolor\":\"white\",\"gridwidth\":2,\"linecolor\":\"white\",\"showbackground\":true,\"ticks\":\"\",\"zerolinecolor\":\"white\"}},\"shapedefaults\":{\"line\":{\"color\":\"#2a3f5f\"}},\"ternary\":{\"aaxis\":{\"gridcolor\":\"white\",\"linecolor\":\"white\",\"ticks\":\"\"},\"baxis\":{\"gridcolor\":\"white\",\"linecolor\":\"white\",\"ticks\":\"\"},\"bgcolor\":\"#E5ECF6\",\"caxis\":{\"gridcolor\":\"white\",\"linecolor\":\"white\",\"ticks\":\"\"}},\"title\":{\"x\":0.05},\"xaxis\":{\"automargin\":true,\"gridcolor\":\"white\",\"linecolor\":\"white\",\"ticks\":\"\",\"title\":{\"standoff\":15},\"zerolinecolor\":\"white\",\"zerolinewidth\":2},\"yaxis\":{\"automargin\":true,\"gridcolor\":\"white\",\"linecolor\":\"white\",\"ticks\":\"\",\"title\":{\"standoff\":15},\"zerolinecolor\":\"white\",\"zerolinewidth\":2}}},\"title\":{\"font\":{\"color\":\"#4D5663\"}},\"xaxis\":{\"gridcolor\":\"#E1E5ED\",\"showgrid\":true,\"tickfont\":{\"color\":\"#4D5663\"},\"title\":{\"font\":{\"color\":\"#4D5663\"},\"text\":\"\"},\"zerolinecolor\":\"#E1E5ED\"},\"yaxis\":{\"gridcolor\":\"#E1E5ED\",\"showgrid\":true,\"tickfont\":{\"color\":\"#4D5663\"},\"title\":{\"font\":{\"color\":\"#4D5663\"},\"text\":\"\"},\"zerolinecolor\":\"#E1E5ED\"}},                        {\"showLink\": true, \"linkText\": \"Export to plot.ly\", \"plotlyServerURL\": \"https://plot.ly\", \"responsive\": true}                    ).then(function(){\n",
       "                            \n",
       "var gd = document.getElementById('5536e4fd-50d8-4540-87b3-5d28db9ec2c5');\n",
       "var x = new MutationObserver(function (mutations, observer) {{\n",
       "        var display = window.getComputedStyle(gd).display;\n",
       "        if (!display || display === 'none') {{\n",
       "            console.log([gd, 'removed!']);\n",
       "            Plotly.purge(gd);\n",
       "            observer.disconnect();\n",
       "        }}\n",
       "}});\n",
       "\n",
       "// Listen for the removal of the full notebook cells\n",
       "var notebookContainer = gd.closest('#notebook-container');\n",
       "if (notebookContainer) {{\n",
       "    x.observe(notebookContainer, {childList: true});\n",
       "}}\n",
       "\n",
       "// Listen for the clearing of the current output cell\n",
       "var outputEl = gd.closest('.output');\n",
       "if (outputEl) {{\n",
       "    x.observe(outputEl, {childList: true});\n",
       "}}\n",
       "\n",
       "                        })                };                });            </script>        </div>"
      ]
     },
     "metadata": {},
     "output_type": "display_data"
    }
   ],
   "source": [
    "df1['A'].iplot(kind='hist',bins=50)"
   ]
  },
  {
   "cell_type": "code",
   "execution_count": 38,
   "id": "71a9b8f1",
   "metadata": {},
   "outputs": [
    {
     "data": {
      "application/vnd.plotly.v1+json": {
       "config": {
        "linkText": "Export to plot.ly",
        "plotlyServerURL": "https://plot.ly",
        "showLink": true
       },
       "data": [
        {
         "histfunc": "count",
         "histnorm": "",
         "marker": {
          "color": "rgba(255, 153, 51, 1.0)",
          "line": {
           "color": "#4D5663",
           "width": 1.3
          }
         },
         "name": "A",
         "opacity": 0.8,
         "orientation": "v",
         "type": "histogram",
         "x": [
          0.3586331746624718,
          -0.31304376044741095,
          0.9155501015715358,
          -2.102062606588993,
          0.408045526206134,
          -0.2653937053424654,
          -1.0608144632061376,
          0.8320160290835785,
          -0.9049475285738797,
          -0.17744210477049197,
          -1.4540758255989237,
          1.4257420406209662,
          -0.5205046343083947,
          -0.05769834283630299,
          0.47701003735893915,
          -0.04203967170773101,
          0.5954054803347232,
          0.5082602104081628,
          1.5464874830525634,
          0.03252793321033726,
          0.02470780179975145,
          -0.43883588421253367,
          0.7655553628093557,
          0.08479713396327594,
          -0.061697794787186545,
          -1.670028936339304,
          -0.44654185078945124,
          0.3424303635259183,
          -1.4760687974593132,
          1.00411471917094,
          -0.05524154132328517,
          0.014428830329574913,
          -0.3383435301323882,
          1.5183470766720768,
          -0.027803842073751618,
          1.7202240294648374,
          0.0659563768324742,
          0.8220356160516542,
          -0.5351973075051546,
          -0.15985840887473127,
          0.9323610128235857,
          0.6006660833479411,
          -0.8184884530933983,
          0.5152778925589065,
          2.5445342396284483,
          -0.03483860975117482,
          0.5162424224318293,
          0.9591449980497241,
          0.17777377052477863,
          -0.13969697340984139,
          -0.8569053896082983,
          0.2698446001276596,
          -0.19793090917579773,
          0.4250458772262773,
          0.3538791331723721,
          -2.2000463413342275,
          0.4181696188358884,
          -0.5901820888816727,
          0.020414193883099955,
          -0.6489481062883675,
          -0.3821890735220406,
          -0.32985879985063243,
          1.3954598123304571,
          0.05505854723609142,
          -0.6488143149635798,
          -0.21044309167380512,
          0.9436186500108769,
          -0.1344901082326483,
          0.4913203377664391,
          0.3285827524381691,
          -0.22242713380610743,
          -0.4202007414637871,
          0.10092135204452221,
          -0.516654392511781,
          -1.135954562451008,
          -0.7944885228365225,
          -0.8423266383457392,
          -1.359632784546133,
          0.7546560920413921,
          0.6516002595799931,
          0.8126667585524782,
          0.22038804422076191,
          0.054500146304780554,
          0.2125059915603282,
          -0.5119263987642447,
          0.46617177548286015,
          -1.375963954761399,
          0.4262163349180895,
          -1.205184119983154,
          -0.31379656718450993,
          0.4138625705495997,
          0.7663575825164424,
          -2.1174139409310984,
          0.5178801297938571,
          1.780572268688464,
          0.36758656402424283,
          -0.4135886115249514,
          0.8084776519283191,
          1.6336469314010316,
          2.230813714022468
         ]
        },
        {
         "histfunc": "count",
         "histnorm": "",
         "marker": {
          "color": "rgba(55, 128, 191, 1.0)",
          "line": {
           "color": "#4D5663",
           "width": 1.3
          }
         },
         "name": "B",
         "opacity": 0.8,
         "orientation": "v",
         "type": "histogram",
         "x": [
          -1.0590548720581747,
          -0.39190242572096723,
          0.2962891691222517,
          -0.5490583168335752,
          0.0883346775218682,
          -0.6114291879106363,
          -0.6373993095400021,
          -1.3757372678673856,
          0.7710307905294411,
          -0.7952282574924998,
          -1.0665821766458694,
          1.069364678832217,
          1.1469578718082771,
          -0.25199465875749505,
          0.7048053127514355,
          -0.70141193883703,
          -0.9687943837773987,
          -0.5179377536668606,
          1.0367137748339337,
          -0.926940875305391,
          -0.6431803601851102,
          -0.008176871309322228,
          -0.9552975301203914,
          -0.7588749739508795,
          0.8832832893949047,
          1.1755358794506057,
          -0.20549235635876878,
          -0.7491598214547203,
          -0.5734776537078125,
          0.49246483038810485,
          1.1571408435365964,
          0.35950239520271465,
          -0.9814813990037048,
          -0.3302371152060421,
          1.4279786237553096,
          0.09368539541218573,
          -0.05148049977783981,
          2.3212174669434593,
          -0.1741133687184468,
          1.1003712836406296,
          1.632706051966583,
          1.3341292330096408,
          1.2792614080957836,
          -0.9846673910400024,
          1.9008435066570037,
          0.8600680929881195,
          -0.6027765692000642,
          -0.46044062423880017,
          0.2036331641753118,
          1.6091632381996916,
          0.8319891984314672,
          -2.106481912504469,
          1.1587762643350736,
          0.4378282837245897,
          -0.6787113924870258,
          -1.3015491673560238,
          -0.4699970597901284,
          0.03448216204286796,
          -0.3921004216330228,
          0.4011602423714026,
          0.964934167991005,
          -1.5316121923083093,
          -2.708464465730562,
          0.1739441911266945,
          -0.24987881590183947,
          0.09772182633380014,
          0.7974157087788826,
          -0.06760707005609054,
          -1.0605788914082304,
          -1.0922449732655897,
          -0.46724550141681537,
          -1.311758303544521,
          1.5805631331227574,
          -2.7451393680018104,
          1.590657386425081,
          2.1594987472119085,
          0.8093209994861948,
          1.1872539693294126,
          -0.9376083371748265,
          -1.9880405933877292,
          -0.016931850993996047,
          0.19283107581930145,
          -1.2621201220902507,
          1.4219944905623008,
          0.03945646289475185,
          1.3468725540679272,
          0.3352148321341624,
          -0.7607245053299654,
          -1.3632969757334765,
          -0.25955811948574004,
          0.45549145421093473,
          -0.1296347833779436,
          0.04802303523424992,
          0.31671978263710604,
          -0.8908041289921246,
          0.6270179003637465,
          -0.1845078406753882,
          2.294840618932753,
          -1.8898838801321691,
          1.758211240623883
         ]
        },
        {
         "histfunc": "count",
         "histnorm": "",
         "marker": {
          "color": "rgba(50, 171, 96, 1.0)",
          "line": {
           "color": "#4D5663",
           "width": 1.3
          }
         },
         "name": "C",
         "opacity": 0.8,
         "orientation": "v",
         "type": "histogram",
         "x": [
          0.32429037739075883,
          1.1879409631045386,
          -0.38088091795317913,
          0.14806323550316,
          -0.5709168393551085,
          1.3853505290062362,
          0.030960518731206272,
          0.3938230637983112,
          0.6773066094802366,
          -0.1163003670518374,
          -0.7582509421132919,
          -0.38467937176662037,
          0.9367872426180641,
          0.3094300782732029,
          0.09601419265197059,
          0.5995511429549369,
          1.4439688168872717,
          -1.0965528579612354,
          -0.40781181780874987,
          -0.5913778404732251,
          0.7295991376359017,
          1.5579853159921473,
          0.05803394864840696,
          -1.248098266950036,
          1.4794877768861923,
          -2.394365890320898,
          0.874562873382905,
          -0.6699357548158725,
          -0.6961017168474808,
          -0.36174763518653275,
          1.4517901086461655,
          0.660505118013835,
          0.622063497987493,
          -0.054301146606529675,
          -0.37886913279578677,
          -0.008960006479370229,
          0.21263647906035765,
          0.14148615088666414,
          0.037315302544217124,
          0.6002888863566334,
          1.3398864669756754,
          0.5632927848357131,
          0.43994020088676306,
          -0.6424879662806519,
          0.8414231989301041,
          -0.263665109298404,
          1.0650209103243846,
          -0.4987174826350073,
          -0.029727275897059015,
          0.4811271849515231,
          -1.0639989151092917,
          2.7269733913483805,
          0.4202847481492167,
          0.23013615231109463,
          -0.19052950306876407,
          -0.07535647639230537,
          -0.10870803868613195,
          -1.7764691803724073,
          -0.20847521854327986,
          -0.9683394823778462,
          0.35115001230946635,
          1.6892276963651842,
          1.3804853265597006,
          2.921534826638845,
          -0.4309883401900627,
          -0.8817523768739174,
          0.27541040786185467,
          -0.3747113263296264,
          0.9740657170289369,
          -0.9702017630654753,
          -0.04811530584331376,
          -0.5383813969987241,
          0.16096932939744013,
          0.15306539136772737,
          -1.4896596280606906,
          -0.041852603529642,
          -1.2837275685397316,
          0.08498459969796693,
          0.6932661399547978,
          -0.48656111657997136,
          0.03244938448296639,
          0.5707242925265023,
          0.9752035089851828,
          1.5493900379188106,
          0.8698503692117641,
          -0.42065578813403187,
          -1.5706299711399163,
          -0.2347536852870114,
          -1.450009680526141,
          -0.5572941809131361,
          1.7607885483739076,
          0.1642451193947591,
          1.3806465480402927,
          0.5900768079783596,
          1.120446209170726,
          1.2089700577352944,
          -0.6984128021106067,
          0.3205901289951289,
          0.37574731970374725,
          0.30972045037775137
         ]
        },
        {
         "histfunc": "count",
         "histnorm": "",
         "marker": {
          "color": "rgba(128, 0, 128, 1.0)",
          "line": {
           "color": "#4D5663",
           "width": 1.3
          }
         },
         "name": "D",
         "opacity": 0.8,
         "orientation": "v",
         "type": "histogram",
         "x": [
          -0.3464588048417761,
          -0.647906547324458,
          0.3486779613719423,
          0.16578621922162767,
          -0.6930802152809857,
          -0.27001530192403844,
          2.199341644606675,
          0.6100190730886883,
          2.102550400217976,
          1.3032923422411529,
          -0.049762067909215585,
          1.0518251360175972,
          2.606214122416171,
          -0.2623492398003455,
          -3.1647169619393614,
          -0.372542819978809,
          0.14946434187215132,
          0.06191615910061245,
          -1.1814026933119086,
          -0.2766721067868842,
          -0.9524484776847364,
          0.890087121411412,
          0.16536143007143075,
          2.0950209738087247,
          0.6678254539418913,
          -2.4541658108616398,
          0.7272111499537395,
          -1.0632955813088365,
          0.5563393644310032,
          0.7007756021443959,
          -0.7634004670299073,
          -1.0366226598965147,
          0.8013304757037002,
          -0.9575358416562028,
          -1.2219996303846936,
          0.8411087011278587,
          -2.6876492176403706,
          0.21697871372465866,
          0.8661761718498764,
          -0.004477953671440384,
          -0.24156899072457647,
          -1.191982405527518,
          -1.830769949480394,
          -0.3603791966519778,
          -1.8541561044408092,
          -0.8269509146760182,
          1.2351690456101407,
          -0.7374726976400329,
          1.1496626540716828,
          0.11539306667485381,
          -0.5874759092324688,
          -0.29647288445001413,
          0.8043685590974445,
          -0.25129479981146213,
          -0.009082767107194573,
          0.8249201350185461,
          -0.9041916236427177,
          -0.2598132126343078,
          2.5209152581221406,
          -0.7414821119261477,
          0.6528585246841945,
          0.4727346988738507,
          -0.4255885388211691,
          -0.33523865860121993,
          0.002340531266801451,
          1.1677113148248681,
          0.4436607499705828,
          -1.1378815712598933,
          -0.9528152338377582,
          1.3354358098041545,
          -0.4143195912799377,
          -0.27195585863102767,
          -0.5128124546494139,
          1.1933581947975167,
          -1.0426560248342713,
          0.08732828643538657,
          0.3329346714021422,
          0.015406732187095097,
          -1.2208821836590111,
          1.37925115599276,
          -0.0021740284364161677,
          -0.7139241821707765,
          -0.19727820197878954,
          0.8372822892101166,
          1.0594670766221612,
          1.1254072337082799,
          1.427965150259643,
          0.3496471642051402,
          -0.7616288308439892,
          -1.1845313919354337,
          -0.17747967699706843,
          0.649994802912574,
          0.3041126587233753,
          -1.172829688566211,
          -1.4701448507469361,
          0.33854444006522966,
          0.22917881846691687,
          -0.4156796942910539,
          -0.18684705250454173,
          -0.16557973376077886
         ]
        }
       ],
       "layout": {
        "barmode": "overlay",
        "legend": {
         "bgcolor": "#F5F6F9",
         "font": {
          "color": "#4D5663"
         }
        },
        "paper_bgcolor": "#F5F6F9",
        "plot_bgcolor": "#F5F6F9",
        "template": {
         "data": {
          "bar": [
           {
            "error_x": {
             "color": "#2a3f5f"
            },
            "error_y": {
             "color": "#2a3f5f"
            },
            "marker": {
             "line": {
              "color": "#E5ECF6",
              "width": 0.5
             },
             "pattern": {
              "fillmode": "overlay",
              "size": 10,
              "solidity": 0.2
             }
            },
            "type": "bar"
           }
          ],
          "barpolar": [
           {
            "marker": {
             "line": {
              "color": "#E5ECF6",
              "width": 0.5
             },
             "pattern": {
              "fillmode": "overlay",
              "size": 10,
              "solidity": 0.2
             }
            },
            "type": "barpolar"
           }
          ],
          "carpet": [
           {
            "aaxis": {
             "endlinecolor": "#2a3f5f",
             "gridcolor": "white",
             "linecolor": "white",
             "minorgridcolor": "white",
             "startlinecolor": "#2a3f5f"
            },
            "baxis": {
             "endlinecolor": "#2a3f5f",
             "gridcolor": "white",
             "linecolor": "white",
             "minorgridcolor": "white",
             "startlinecolor": "#2a3f5f"
            },
            "type": "carpet"
           }
          ],
          "choropleth": [
           {
            "colorbar": {
             "outlinewidth": 0,
             "ticks": ""
            },
            "type": "choropleth"
           }
          ],
          "contour": [
           {
            "colorbar": {
             "outlinewidth": 0,
             "ticks": ""
            },
            "colorscale": [
             [
              0,
              "#0d0887"
             ],
             [
              0.1111111111111111,
              "#46039f"
             ],
             [
              0.2222222222222222,
              "#7201a8"
             ],
             [
              0.3333333333333333,
              "#9c179e"
             ],
             [
              0.4444444444444444,
              "#bd3786"
             ],
             [
              0.5555555555555556,
              "#d8576b"
             ],
             [
              0.6666666666666666,
              "#ed7953"
             ],
             [
              0.7777777777777778,
              "#fb9f3a"
             ],
             [
              0.8888888888888888,
              "#fdca26"
             ],
             [
              1,
              "#f0f921"
             ]
            ],
            "type": "contour"
           }
          ],
          "contourcarpet": [
           {
            "colorbar": {
             "outlinewidth": 0,
             "ticks": ""
            },
            "type": "contourcarpet"
           }
          ],
          "heatmap": [
           {
            "colorbar": {
             "outlinewidth": 0,
             "ticks": ""
            },
            "colorscale": [
             [
              0,
              "#0d0887"
             ],
             [
              0.1111111111111111,
              "#46039f"
             ],
             [
              0.2222222222222222,
              "#7201a8"
             ],
             [
              0.3333333333333333,
              "#9c179e"
             ],
             [
              0.4444444444444444,
              "#bd3786"
             ],
             [
              0.5555555555555556,
              "#d8576b"
             ],
             [
              0.6666666666666666,
              "#ed7953"
             ],
             [
              0.7777777777777778,
              "#fb9f3a"
             ],
             [
              0.8888888888888888,
              "#fdca26"
             ],
             [
              1,
              "#f0f921"
             ]
            ],
            "type": "heatmap"
           }
          ],
          "heatmapgl": [
           {
            "colorbar": {
             "outlinewidth": 0,
             "ticks": ""
            },
            "colorscale": [
             [
              0,
              "#0d0887"
             ],
             [
              0.1111111111111111,
              "#46039f"
             ],
             [
              0.2222222222222222,
              "#7201a8"
             ],
             [
              0.3333333333333333,
              "#9c179e"
             ],
             [
              0.4444444444444444,
              "#bd3786"
             ],
             [
              0.5555555555555556,
              "#d8576b"
             ],
             [
              0.6666666666666666,
              "#ed7953"
             ],
             [
              0.7777777777777778,
              "#fb9f3a"
             ],
             [
              0.8888888888888888,
              "#fdca26"
             ],
             [
              1,
              "#f0f921"
             ]
            ],
            "type": "heatmapgl"
           }
          ],
          "histogram": [
           {
            "marker": {
             "pattern": {
              "fillmode": "overlay",
              "size": 10,
              "solidity": 0.2
             }
            },
            "type": "histogram"
           }
          ],
          "histogram2d": [
           {
            "colorbar": {
             "outlinewidth": 0,
             "ticks": ""
            },
            "colorscale": [
             [
              0,
              "#0d0887"
             ],
             [
              0.1111111111111111,
              "#46039f"
             ],
             [
              0.2222222222222222,
              "#7201a8"
             ],
             [
              0.3333333333333333,
              "#9c179e"
             ],
             [
              0.4444444444444444,
              "#bd3786"
             ],
             [
              0.5555555555555556,
              "#d8576b"
             ],
             [
              0.6666666666666666,
              "#ed7953"
             ],
             [
              0.7777777777777778,
              "#fb9f3a"
             ],
             [
              0.8888888888888888,
              "#fdca26"
             ],
             [
              1,
              "#f0f921"
             ]
            ],
            "type": "histogram2d"
           }
          ],
          "histogram2dcontour": [
           {
            "colorbar": {
             "outlinewidth": 0,
             "ticks": ""
            },
            "colorscale": [
             [
              0,
              "#0d0887"
             ],
             [
              0.1111111111111111,
              "#46039f"
             ],
             [
              0.2222222222222222,
              "#7201a8"
             ],
             [
              0.3333333333333333,
              "#9c179e"
             ],
             [
              0.4444444444444444,
              "#bd3786"
             ],
             [
              0.5555555555555556,
              "#d8576b"
             ],
             [
              0.6666666666666666,
              "#ed7953"
             ],
             [
              0.7777777777777778,
              "#fb9f3a"
             ],
             [
              0.8888888888888888,
              "#fdca26"
             ],
             [
              1,
              "#f0f921"
             ]
            ],
            "type": "histogram2dcontour"
           }
          ],
          "mesh3d": [
           {
            "colorbar": {
             "outlinewidth": 0,
             "ticks": ""
            },
            "type": "mesh3d"
           }
          ],
          "parcoords": [
           {
            "line": {
             "colorbar": {
              "outlinewidth": 0,
              "ticks": ""
             }
            },
            "type": "parcoords"
           }
          ],
          "pie": [
           {
            "automargin": true,
            "type": "pie"
           }
          ],
          "scatter": [
           {
            "fillpattern": {
             "fillmode": "overlay",
             "size": 10,
             "solidity": 0.2
            },
            "type": "scatter"
           }
          ],
          "scatter3d": [
           {
            "line": {
             "colorbar": {
              "outlinewidth": 0,
              "ticks": ""
             }
            },
            "marker": {
             "colorbar": {
              "outlinewidth": 0,
              "ticks": ""
             }
            },
            "type": "scatter3d"
           }
          ],
          "scattercarpet": [
           {
            "marker": {
             "colorbar": {
              "outlinewidth": 0,
              "ticks": ""
             }
            },
            "type": "scattercarpet"
           }
          ],
          "scattergeo": [
           {
            "marker": {
             "colorbar": {
              "outlinewidth": 0,
              "ticks": ""
             }
            },
            "type": "scattergeo"
           }
          ],
          "scattergl": [
           {
            "marker": {
             "colorbar": {
              "outlinewidth": 0,
              "ticks": ""
             }
            },
            "type": "scattergl"
           }
          ],
          "scattermapbox": [
           {
            "marker": {
             "colorbar": {
              "outlinewidth": 0,
              "ticks": ""
             }
            },
            "type": "scattermapbox"
           }
          ],
          "scatterpolar": [
           {
            "marker": {
             "colorbar": {
              "outlinewidth": 0,
              "ticks": ""
             }
            },
            "type": "scatterpolar"
           }
          ],
          "scatterpolargl": [
           {
            "marker": {
             "colorbar": {
              "outlinewidth": 0,
              "ticks": ""
             }
            },
            "type": "scatterpolargl"
           }
          ],
          "scatterternary": [
           {
            "marker": {
             "colorbar": {
              "outlinewidth": 0,
              "ticks": ""
             }
            },
            "type": "scatterternary"
           }
          ],
          "surface": [
           {
            "colorbar": {
             "outlinewidth": 0,
             "ticks": ""
            },
            "colorscale": [
             [
              0,
              "#0d0887"
             ],
             [
              0.1111111111111111,
              "#46039f"
             ],
             [
              0.2222222222222222,
              "#7201a8"
             ],
             [
              0.3333333333333333,
              "#9c179e"
             ],
             [
              0.4444444444444444,
              "#bd3786"
             ],
             [
              0.5555555555555556,
              "#d8576b"
             ],
             [
              0.6666666666666666,
              "#ed7953"
             ],
             [
              0.7777777777777778,
              "#fb9f3a"
             ],
             [
              0.8888888888888888,
              "#fdca26"
             ],
             [
              1,
              "#f0f921"
             ]
            ],
            "type": "surface"
           }
          ],
          "table": [
           {
            "cells": {
             "fill": {
              "color": "#EBF0F8"
             },
             "line": {
              "color": "white"
             }
            },
            "header": {
             "fill": {
              "color": "#C8D4E3"
             },
             "line": {
              "color": "white"
             }
            },
            "type": "table"
           }
          ]
         },
         "layout": {
          "annotationdefaults": {
           "arrowcolor": "#2a3f5f",
           "arrowhead": 0,
           "arrowwidth": 1
          },
          "autotypenumbers": "strict",
          "coloraxis": {
           "colorbar": {
            "outlinewidth": 0,
            "ticks": ""
           }
          },
          "colorscale": {
           "diverging": [
            [
             0,
             "#8e0152"
            ],
            [
             0.1,
             "#c51b7d"
            ],
            [
             0.2,
             "#de77ae"
            ],
            [
             0.3,
             "#f1b6da"
            ],
            [
             0.4,
             "#fde0ef"
            ],
            [
             0.5,
             "#f7f7f7"
            ],
            [
             0.6,
             "#e6f5d0"
            ],
            [
             0.7,
             "#b8e186"
            ],
            [
             0.8,
             "#7fbc41"
            ],
            [
             0.9,
             "#4d9221"
            ],
            [
             1,
             "#276419"
            ]
           ],
           "sequential": [
            [
             0,
             "#0d0887"
            ],
            [
             0.1111111111111111,
             "#46039f"
            ],
            [
             0.2222222222222222,
             "#7201a8"
            ],
            [
             0.3333333333333333,
             "#9c179e"
            ],
            [
             0.4444444444444444,
             "#bd3786"
            ],
            [
             0.5555555555555556,
             "#d8576b"
            ],
            [
             0.6666666666666666,
             "#ed7953"
            ],
            [
             0.7777777777777778,
             "#fb9f3a"
            ],
            [
             0.8888888888888888,
             "#fdca26"
            ],
            [
             1,
             "#f0f921"
            ]
           ],
           "sequentialminus": [
            [
             0,
             "#0d0887"
            ],
            [
             0.1111111111111111,
             "#46039f"
            ],
            [
             0.2222222222222222,
             "#7201a8"
            ],
            [
             0.3333333333333333,
             "#9c179e"
            ],
            [
             0.4444444444444444,
             "#bd3786"
            ],
            [
             0.5555555555555556,
             "#d8576b"
            ],
            [
             0.6666666666666666,
             "#ed7953"
            ],
            [
             0.7777777777777778,
             "#fb9f3a"
            ],
            [
             0.8888888888888888,
             "#fdca26"
            ],
            [
             1,
             "#f0f921"
            ]
           ]
          },
          "colorway": [
           "#636efa",
           "#EF553B",
           "#00cc96",
           "#ab63fa",
           "#FFA15A",
           "#19d3f3",
           "#FF6692",
           "#B6E880",
           "#FF97FF",
           "#FECB52"
          ],
          "font": {
           "color": "#2a3f5f"
          },
          "geo": {
           "bgcolor": "white",
           "lakecolor": "white",
           "landcolor": "#E5ECF6",
           "showlakes": true,
           "showland": true,
           "subunitcolor": "white"
          },
          "hoverlabel": {
           "align": "left"
          },
          "hovermode": "closest",
          "mapbox": {
           "style": "light"
          },
          "paper_bgcolor": "white",
          "plot_bgcolor": "#E5ECF6",
          "polar": {
           "angularaxis": {
            "gridcolor": "white",
            "linecolor": "white",
            "ticks": ""
           },
           "bgcolor": "#E5ECF6",
           "radialaxis": {
            "gridcolor": "white",
            "linecolor": "white",
            "ticks": ""
           }
          },
          "scene": {
           "xaxis": {
            "backgroundcolor": "#E5ECF6",
            "gridcolor": "white",
            "gridwidth": 2,
            "linecolor": "white",
            "showbackground": true,
            "ticks": "",
            "zerolinecolor": "white"
           },
           "yaxis": {
            "backgroundcolor": "#E5ECF6",
            "gridcolor": "white",
            "gridwidth": 2,
            "linecolor": "white",
            "showbackground": true,
            "ticks": "",
            "zerolinecolor": "white"
           },
           "zaxis": {
            "backgroundcolor": "#E5ECF6",
            "gridcolor": "white",
            "gridwidth": 2,
            "linecolor": "white",
            "showbackground": true,
            "ticks": "",
            "zerolinecolor": "white"
           }
          },
          "shapedefaults": {
           "line": {
            "color": "#2a3f5f"
           }
          },
          "ternary": {
           "aaxis": {
            "gridcolor": "white",
            "linecolor": "white",
            "ticks": ""
           },
           "baxis": {
            "gridcolor": "white",
            "linecolor": "white",
            "ticks": ""
           },
           "bgcolor": "#E5ECF6",
           "caxis": {
            "gridcolor": "white",
            "linecolor": "white",
            "ticks": ""
           }
          },
          "title": {
           "x": 0.05
          },
          "xaxis": {
           "automargin": true,
           "gridcolor": "white",
           "linecolor": "white",
           "ticks": "",
           "title": {
            "standoff": 15
           },
           "zerolinecolor": "white",
           "zerolinewidth": 2
          },
          "yaxis": {
           "automargin": true,
           "gridcolor": "white",
           "linecolor": "white",
           "ticks": "",
           "title": {
            "standoff": 15
           },
           "zerolinecolor": "white",
           "zerolinewidth": 2
          }
         }
        },
        "title": {
         "font": {
          "color": "#4D5663"
         }
        },
        "xaxis": {
         "gridcolor": "#E1E5ED",
         "showgrid": true,
         "tickfont": {
          "color": "#4D5663"
         },
         "title": {
          "font": {
           "color": "#4D5663"
          },
          "text": ""
         },
         "zerolinecolor": "#E1E5ED"
        },
        "yaxis": {
         "gridcolor": "#E1E5ED",
         "showgrid": true,
         "tickfont": {
          "color": "#4D5663"
         },
         "title": {
          "font": {
           "color": "#4D5663"
          },
          "text": ""
         },
         "zerolinecolor": "#E1E5ED"
        }
       }
      },
      "text/html": [
       "<div>                            <div id=\"78390e4e-8d8d-497b-a460-b34e6c1eeb60\" class=\"plotly-graph-div\" style=\"height:525px; width:100%;\"></div>            <script type=\"text/javascript\">                require([\"plotly\"], function(Plotly) {                    window.PLOTLYENV=window.PLOTLYENV || {};\n",
       "                    window.PLOTLYENV.BASE_URL='https://plot.ly';                                    if (document.getElementById(\"78390e4e-8d8d-497b-a460-b34e6c1eeb60\")) {                    Plotly.newPlot(                        \"78390e4e-8d8d-497b-a460-b34e6c1eeb60\",                        [{\"histfunc\":\"count\",\"histnorm\":\"\",\"marker\":{\"color\":\"rgba(255, 153, 51, 1.0)\",\"line\":{\"color\":\"#4D5663\",\"width\":1.3}},\"name\":\"A\",\"opacity\":0.8,\"orientation\":\"v\",\"x\":[0.3586331746624718,-0.31304376044741095,0.9155501015715358,-2.102062606588993,0.408045526206134,-0.2653937053424654,-1.0608144632061376,0.8320160290835785,-0.9049475285738797,-0.17744210477049197,-1.4540758255989237,1.4257420406209662,-0.5205046343083947,-0.05769834283630299,0.47701003735893915,-0.04203967170773101,0.5954054803347232,0.5082602104081628,1.5464874830525634,0.03252793321033726,0.02470780179975145,-0.43883588421253367,0.7655553628093557,0.08479713396327594,-0.061697794787186545,-1.670028936339304,-0.44654185078945124,0.3424303635259183,-1.4760687974593132,1.00411471917094,-0.05524154132328517,0.014428830329574913,-0.3383435301323882,1.5183470766720768,-0.027803842073751618,1.7202240294648374,0.0659563768324742,0.8220356160516542,-0.5351973075051546,-0.15985840887473127,0.9323610128235857,0.6006660833479411,-0.8184884530933983,0.5152778925589065,2.5445342396284483,-0.03483860975117482,0.5162424224318293,0.9591449980497241,0.17777377052477863,-0.13969697340984139,-0.8569053896082983,0.2698446001276596,-0.19793090917579773,0.4250458772262773,0.3538791331723721,-2.2000463413342275,0.4181696188358884,-0.5901820888816727,0.020414193883099955,-0.6489481062883675,-0.3821890735220406,-0.32985879985063243,1.3954598123304571,0.05505854723609142,-0.6488143149635798,-0.21044309167380512,0.9436186500108769,-0.1344901082326483,0.4913203377664391,0.3285827524381691,-0.22242713380610743,-0.4202007414637871,0.10092135204452221,-0.516654392511781,-1.135954562451008,-0.7944885228365225,-0.8423266383457392,-1.359632784546133,0.7546560920413921,0.6516002595799931,0.8126667585524782,0.22038804422076191,0.054500146304780554,0.2125059915603282,-0.5119263987642447,0.46617177548286015,-1.375963954761399,0.4262163349180895,-1.205184119983154,-0.31379656718450993,0.4138625705495997,0.7663575825164424,-2.1174139409310984,0.5178801297938571,1.780572268688464,0.36758656402424283,-0.4135886115249514,0.8084776519283191,1.6336469314010316,2.230813714022468],\"type\":\"histogram\"},{\"histfunc\":\"count\",\"histnorm\":\"\",\"marker\":{\"color\":\"rgba(55, 128, 191, 1.0)\",\"line\":{\"color\":\"#4D5663\",\"width\":1.3}},\"name\":\"B\",\"opacity\":0.8,\"orientation\":\"v\",\"x\":[-1.0590548720581747,-0.39190242572096723,0.2962891691222517,-0.5490583168335752,0.0883346775218682,-0.6114291879106363,-0.6373993095400021,-1.3757372678673856,0.7710307905294411,-0.7952282574924998,-1.0665821766458694,1.069364678832217,1.1469578718082771,-0.25199465875749505,0.7048053127514355,-0.70141193883703,-0.9687943837773987,-0.5179377536668606,1.0367137748339337,-0.926940875305391,-0.6431803601851102,-0.008176871309322228,-0.9552975301203914,-0.7588749739508795,0.8832832893949047,1.1755358794506057,-0.20549235635876878,-0.7491598214547203,-0.5734776537078125,0.49246483038810485,1.1571408435365964,0.35950239520271465,-0.9814813990037048,-0.3302371152060421,1.4279786237553096,0.09368539541218573,-0.05148049977783981,2.3212174669434593,-0.1741133687184468,1.1003712836406296,1.632706051966583,1.3341292330096408,1.2792614080957836,-0.9846673910400024,1.9008435066570037,0.8600680929881195,-0.6027765692000642,-0.46044062423880017,0.2036331641753118,1.6091632381996916,0.8319891984314672,-2.106481912504469,1.1587762643350736,0.4378282837245897,-0.6787113924870258,-1.3015491673560238,-0.4699970597901284,0.03448216204286796,-0.3921004216330228,0.4011602423714026,0.964934167991005,-1.5316121923083093,-2.708464465730562,0.1739441911266945,-0.24987881590183947,0.09772182633380014,0.7974157087788826,-0.06760707005609054,-1.0605788914082304,-1.0922449732655897,-0.46724550141681537,-1.311758303544521,1.5805631331227574,-2.7451393680018104,1.590657386425081,2.1594987472119085,0.8093209994861948,1.1872539693294126,-0.9376083371748265,-1.9880405933877292,-0.016931850993996047,0.19283107581930145,-1.2621201220902507,1.4219944905623008,0.03945646289475185,1.3468725540679272,0.3352148321341624,-0.7607245053299654,-1.3632969757334765,-0.25955811948574004,0.45549145421093473,-0.1296347833779436,0.04802303523424992,0.31671978263710604,-0.8908041289921246,0.6270179003637465,-0.1845078406753882,2.294840618932753,-1.8898838801321691,1.758211240623883],\"type\":\"histogram\"},{\"histfunc\":\"count\",\"histnorm\":\"\",\"marker\":{\"color\":\"rgba(50, 171, 96, 1.0)\",\"line\":{\"color\":\"#4D5663\",\"width\":1.3}},\"name\":\"C\",\"opacity\":0.8,\"orientation\":\"v\",\"x\":[0.32429037739075883,1.1879409631045386,-0.38088091795317913,0.14806323550316,-0.5709168393551085,1.3853505290062362,0.030960518731206272,0.3938230637983112,0.6773066094802366,-0.1163003670518374,-0.7582509421132919,-0.38467937176662037,0.9367872426180641,0.3094300782732029,0.09601419265197059,0.5995511429549369,1.4439688168872717,-1.0965528579612354,-0.40781181780874987,-0.5913778404732251,0.7295991376359017,1.5579853159921473,0.05803394864840696,-1.248098266950036,1.4794877768861923,-2.394365890320898,0.874562873382905,-0.6699357548158725,-0.6961017168474808,-0.36174763518653275,1.4517901086461655,0.660505118013835,0.622063497987493,-0.054301146606529675,-0.37886913279578677,-0.008960006479370229,0.21263647906035765,0.14148615088666414,0.037315302544217124,0.6002888863566334,1.3398864669756754,0.5632927848357131,0.43994020088676306,-0.6424879662806519,0.8414231989301041,-0.263665109298404,1.0650209103243846,-0.4987174826350073,-0.029727275897059015,0.4811271849515231,-1.0639989151092917,2.7269733913483805,0.4202847481492167,0.23013615231109463,-0.19052950306876407,-0.07535647639230537,-0.10870803868613195,-1.7764691803724073,-0.20847521854327986,-0.9683394823778462,0.35115001230946635,1.6892276963651842,1.3804853265597006,2.921534826638845,-0.4309883401900627,-0.8817523768739174,0.27541040786185467,-0.3747113263296264,0.9740657170289369,-0.9702017630654753,-0.04811530584331376,-0.5383813969987241,0.16096932939744013,0.15306539136772737,-1.4896596280606906,-0.041852603529642,-1.2837275685397316,0.08498459969796693,0.6932661399547978,-0.48656111657997136,0.03244938448296639,0.5707242925265023,0.9752035089851828,1.5493900379188106,0.8698503692117641,-0.42065578813403187,-1.5706299711399163,-0.2347536852870114,-1.450009680526141,-0.5572941809131361,1.7607885483739076,0.1642451193947591,1.3806465480402927,0.5900768079783596,1.120446209170726,1.2089700577352944,-0.6984128021106067,0.3205901289951289,0.37574731970374725,0.30972045037775137],\"type\":\"histogram\"},{\"histfunc\":\"count\",\"histnorm\":\"\",\"marker\":{\"color\":\"rgba(128, 0, 128, 1.0)\",\"line\":{\"color\":\"#4D5663\",\"width\":1.3}},\"name\":\"D\",\"opacity\":0.8,\"orientation\":\"v\",\"x\":[-0.3464588048417761,-0.647906547324458,0.3486779613719423,0.16578621922162767,-0.6930802152809857,-0.27001530192403844,2.199341644606675,0.6100190730886883,2.102550400217976,1.3032923422411529,-0.049762067909215585,1.0518251360175972,2.606214122416171,-0.2623492398003455,-3.1647169619393614,-0.372542819978809,0.14946434187215132,0.06191615910061245,-1.1814026933119086,-0.2766721067868842,-0.9524484776847364,0.890087121411412,0.16536143007143075,2.0950209738087247,0.6678254539418913,-2.4541658108616398,0.7272111499537395,-1.0632955813088365,0.5563393644310032,0.7007756021443959,-0.7634004670299073,-1.0366226598965147,0.8013304757037002,-0.9575358416562028,-1.2219996303846936,0.8411087011278587,-2.6876492176403706,0.21697871372465866,0.8661761718498764,-0.004477953671440384,-0.24156899072457647,-1.191982405527518,-1.830769949480394,-0.3603791966519778,-1.8541561044408092,-0.8269509146760182,1.2351690456101407,-0.7374726976400329,1.1496626540716828,0.11539306667485381,-0.5874759092324688,-0.29647288445001413,0.8043685590974445,-0.25129479981146213,-0.009082767107194573,0.8249201350185461,-0.9041916236427177,-0.2598132126343078,2.5209152581221406,-0.7414821119261477,0.6528585246841945,0.4727346988738507,-0.4255885388211691,-0.33523865860121993,0.002340531266801451,1.1677113148248681,0.4436607499705828,-1.1378815712598933,-0.9528152338377582,1.3354358098041545,-0.4143195912799377,-0.27195585863102767,-0.5128124546494139,1.1933581947975167,-1.0426560248342713,0.08732828643538657,0.3329346714021422,0.015406732187095097,-1.2208821836590111,1.37925115599276,-0.0021740284364161677,-0.7139241821707765,-0.19727820197878954,0.8372822892101166,1.0594670766221612,1.1254072337082799,1.427965150259643,0.3496471642051402,-0.7616288308439892,-1.1845313919354337,-0.17747967699706843,0.649994802912574,0.3041126587233753,-1.172829688566211,-1.4701448507469361,0.33854444006522966,0.22917881846691687,-0.4156796942910539,-0.18684705250454173,-0.16557973376077886],\"type\":\"histogram\"}],                        {\"barmode\":\"overlay\",\"legend\":{\"bgcolor\":\"#F5F6F9\",\"font\":{\"color\":\"#4D5663\"}},\"paper_bgcolor\":\"#F5F6F9\",\"plot_bgcolor\":\"#F5F6F9\",\"template\":{\"data\":{\"barpolar\":[{\"marker\":{\"line\":{\"color\":\"#E5ECF6\",\"width\":0.5},\"pattern\":{\"fillmode\":\"overlay\",\"size\":10,\"solidity\":0.2}},\"type\":\"barpolar\"}],\"bar\":[{\"error_x\":{\"color\":\"#2a3f5f\"},\"error_y\":{\"color\":\"#2a3f5f\"},\"marker\":{\"line\":{\"color\":\"#E5ECF6\",\"width\":0.5},\"pattern\":{\"fillmode\":\"overlay\",\"size\":10,\"solidity\":0.2}},\"type\":\"bar\"}],\"carpet\":[{\"aaxis\":{\"endlinecolor\":\"#2a3f5f\",\"gridcolor\":\"white\",\"linecolor\":\"white\",\"minorgridcolor\":\"white\",\"startlinecolor\":\"#2a3f5f\"},\"baxis\":{\"endlinecolor\":\"#2a3f5f\",\"gridcolor\":\"white\",\"linecolor\":\"white\",\"minorgridcolor\":\"white\",\"startlinecolor\":\"#2a3f5f\"},\"type\":\"carpet\"}],\"choropleth\":[{\"colorbar\":{\"outlinewidth\":0,\"ticks\":\"\"},\"type\":\"choropleth\"}],\"contourcarpet\":[{\"colorbar\":{\"outlinewidth\":0,\"ticks\":\"\"},\"type\":\"contourcarpet\"}],\"contour\":[{\"colorbar\":{\"outlinewidth\":0,\"ticks\":\"\"},\"colorscale\":[[0.0,\"#0d0887\"],[0.1111111111111111,\"#46039f\"],[0.2222222222222222,\"#7201a8\"],[0.3333333333333333,\"#9c179e\"],[0.4444444444444444,\"#bd3786\"],[0.5555555555555556,\"#d8576b\"],[0.6666666666666666,\"#ed7953\"],[0.7777777777777778,\"#fb9f3a\"],[0.8888888888888888,\"#fdca26\"],[1.0,\"#f0f921\"]],\"type\":\"contour\"}],\"heatmapgl\":[{\"colorbar\":{\"outlinewidth\":0,\"ticks\":\"\"},\"colorscale\":[[0.0,\"#0d0887\"],[0.1111111111111111,\"#46039f\"],[0.2222222222222222,\"#7201a8\"],[0.3333333333333333,\"#9c179e\"],[0.4444444444444444,\"#bd3786\"],[0.5555555555555556,\"#d8576b\"],[0.6666666666666666,\"#ed7953\"],[0.7777777777777778,\"#fb9f3a\"],[0.8888888888888888,\"#fdca26\"],[1.0,\"#f0f921\"]],\"type\":\"heatmapgl\"}],\"heatmap\":[{\"colorbar\":{\"outlinewidth\":0,\"ticks\":\"\"},\"colorscale\":[[0.0,\"#0d0887\"],[0.1111111111111111,\"#46039f\"],[0.2222222222222222,\"#7201a8\"],[0.3333333333333333,\"#9c179e\"],[0.4444444444444444,\"#bd3786\"],[0.5555555555555556,\"#d8576b\"],[0.6666666666666666,\"#ed7953\"],[0.7777777777777778,\"#fb9f3a\"],[0.8888888888888888,\"#fdca26\"],[1.0,\"#f0f921\"]],\"type\":\"heatmap\"}],\"histogram2dcontour\":[{\"colorbar\":{\"outlinewidth\":0,\"ticks\":\"\"},\"colorscale\":[[0.0,\"#0d0887\"],[0.1111111111111111,\"#46039f\"],[0.2222222222222222,\"#7201a8\"],[0.3333333333333333,\"#9c179e\"],[0.4444444444444444,\"#bd3786\"],[0.5555555555555556,\"#d8576b\"],[0.6666666666666666,\"#ed7953\"],[0.7777777777777778,\"#fb9f3a\"],[0.8888888888888888,\"#fdca26\"],[1.0,\"#f0f921\"]],\"type\":\"histogram2dcontour\"}],\"histogram2d\":[{\"colorbar\":{\"outlinewidth\":0,\"ticks\":\"\"},\"colorscale\":[[0.0,\"#0d0887\"],[0.1111111111111111,\"#46039f\"],[0.2222222222222222,\"#7201a8\"],[0.3333333333333333,\"#9c179e\"],[0.4444444444444444,\"#bd3786\"],[0.5555555555555556,\"#d8576b\"],[0.6666666666666666,\"#ed7953\"],[0.7777777777777778,\"#fb9f3a\"],[0.8888888888888888,\"#fdca26\"],[1.0,\"#f0f921\"]],\"type\":\"histogram2d\"}],\"histogram\":[{\"marker\":{\"pattern\":{\"fillmode\":\"overlay\",\"size\":10,\"solidity\":0.2}},\"type\":\"histogram\"}],\"mesh3d\":[{\"colorbar\":{\"outlinewidth\":0,\"ticks\":\"\"},\"type\":\"mesh3d\"}],\"parcoords\":[{\"line\":{\"colorbar\":{\"outlinewidth\":0,\"ticks\":\"\"}},\"type\":\"parcoords\"}],\"pie\":[{\"automargin\":true,\"type\":\"pie\"}],\"scatter3d\":[{\"line\":{\"colorbar\":{\"outlinewidth\":0,\"ticks\":\"\"}},\"marker\":{\"colorbar\":{\"outlinewidth\":0,\"ticks\":\"\"}},\"type\":\"scatter3d\"}],\"scattercarpet\":[{\"marker\":{\"colorbar\":{\"outlinewidth\":0,\"ticks\":\"\"}},\"type\":\"scattercarpet\"}],\"scattergeo\":[{\"marker\":{\"colorbar\":{\"outlinewidth\":0,\"ticks\":\"\"}},\"type\":\"scattergeo\"}],\"scattergl\":[{\"marker\":{\"colorbar\":{\"outlinewidth\":0,\"ticks\":\"\"}},\"type\":\"scattergl\"}],\"scattermapbox\":[{\"marker\":{\"colorbar\":{\"outlinewidth\":0,\"ticks\":\"\"}},\"type\":\"scattermapbox\"}],\"scatterpolargl\":[{\"marker\":{\"colorbar\":{\"outlinewidth\":0,\"ticks\":\"\"}},\"type\":\"scatterpolargl\"}],\"scatterpolar\":[{\"marker\":{\"colorbar\":{\"outlinewidth\":0,\"ticks\":\"\"}},\"type\":\"scatterpolar\"}],\"scatter\":[{\"fillpattern\":{\"fillmode\":\"overlay\",\"size\":10,\"solidity\":0.2},\"type\":\"scatter\"}],\"scatterternary\":[{\"marker\":{\"colorbar\":{\"outlinewidth\":0,\"ticks\":\"\"}},\"type\":\"scatterternary\"}],\"surface\":[{\"colorbar\":{\"outlinewidth\":0,\"ticks\":\"\"},\"colorscale\":[[0.0,\"#0d0887\"],[0.1111111111111111,\"#46039f\"],[0.2222222222222222,\"#7201a8\"],[0.3333333333333333,\"#9c179e\"],[0.4444444444444444,\"#bd3786\"],[0.5555555555555556,\"#d8576b\"],[0.6666666666666666,\"#ed7953\"],[0.7777777777777778,\"#fb9f3a\"],[0.8888888888888888,\"#fdca26\"],[1.0,\"#f0f921\"]],\"type\":\"surface\"}],\"table\":[{\"cells\":{\"fill\":{\"color\":\"#EBF0F8\"},\"line\":{\"color\":\"white\"}},\"header\":{\"fill\":{\"color\":\"#C8D4E3\"},\"line\":{\"color\":\"white\"}},\"type\":\"table\"}]},\"layout\":{\"annotationdefaults\":{\"arrowcolor\":\"#2a3f5f\",\"arrowhead\":0,\"arrowwidth\":1},\"autotypenumbers\":\"strict\",\"coloraxis\":{\"colorbar\":{\"outlinewidth\":0,\"ticks\":\"\"}},\"colorscale\":{\"diverging\":[[0,\"#8e0152\"],[0.1,\"#c51b7d\"],[0.2,\"#de77ae\"],[0.3,\"#f1b6da\"],[0.4,\"#fde0ef\"],[0.5,\"#f7f7f7\"],[0.6,\"#e6f5d0\"],[0.7,\"#b8e186\"],[0.8,\"#7fbc41\"],[0.9,\"#4d9221\"],[1,\"#276419\"]],\"sequential\":[[0.0,\"#0d0887\"],[0.1111111111111111,\"#46039f\"],[0.2222222222222222,\"#7201a8\"],[0.3333333333333333,\"#9c179e\"],[0.4444444444444444,\"#bd3786\"],[0.5555555555555556,\"#d8576b\"],[0.6666666666666666,\"#ed7953\"],[0.7777777777777778,\"#fb9f3a\"],[0.8888888888888888,\"#fdca26\"],[1.0,\"#f0f921\"]],\"sequentialminus\":[[0.0,\"#0d0887\"],[0.1111111111111111,\"#46039f\"],[0.2222222222222222,\"#7201a8\"],[0.3333333333333333,\"#9c179e\"],[0.4444444444444444,\"#bd3786\"],[0.5555555555555556,\"#d8576b\"],[0.6666666666666666,\"#ed7953\"],[0.7777777777777778,\"#fb9f3a\"],[0.8888888888888888,\"#fdca26\"],[1.0,\"#f0f921\"]]},\"colorway\":[\"#636efa\",\"#EF553B\",\"#00cc96\",\"#ab63fa\",\"#FFA15A\",\"#19d3f3\",\"#FF6692\",\"#B6E880\",\"#FF97FF\",\"#FECB52\"],\"font\":{\"color\":\"#2a3f5f\"},\"geo\":{\"bgcolor\":\"white\",\"lakecolor\":\"white\",\"landcolor\":\"#E5ECF6\",\"showlakes\":true,\"showland\":true,\"subunitcolor\":\"white\"},\"hoverlabel\":{\"align\":\"left\"},\"hovermode\":\"closest\",\"mapbox\":{\"style\":\"light\"},\"paper_bgcolor\":\"white\",\"plot_bgcolor\":\"#E5ECF6\",\"polar\":{\"angularaxis\":{\"gridcolor\":\"white\",\"linecolor\":\"white\",\"ticks\":\"\"},\"bgcolor\":\"#E5ECF6\",\"radialaxis\":{\"gridcolor\":\"white\",\"linecolor\":\"white\",\"ticks\":\"\"}},\"scene\":{\"xaxis\":{\"backgroundcolor\":\"#E5ECF6\",\"gridcolor\":\"white\",\"gridwidth\":2,\"linecolor\":\"white\",\"showbackground\":true,\"ticks\":\"\",\"zerolinecolor\":\"white\"},\"yaxis\":{\"backgroundcolor\":\"#E5ECF6\",\"gridcolor\":\"white\",\"gridwidth\":2,\"linecolor\":\"white\",\"showbackground\":true,\"ticks\":\"\",\"zerolinecolor\":\"white\"},\"zaxis\":{\"backgroundcolor\":\"#E5ECF6\",\"gridcolor\":\"white\",\"gridwidth\":2,\"linecolor\":\"white\",\"showbackground\":true,\"ticks\":\"\",\"zerolinecolor\":\"white\"}},\"shapedefaults\":{\"line\":{\"color\":\"#2a3f5f\"}},\"ternary\":{\"aaxis\":{\"gridcolor\":\"white\",\"linecolor\":\"white\",\"ticks\":\"\"},\"baxis\":{\"gridcolor\":\"white\",\"linecolor\":\"white\",\"ticks\":\"\"},\"bgcolor\":\"#E5ECF6\",\"caxis\":{\"gridcolor\":\"white\",\"linecolor\":\"white\",\"ticks\":\"\"}},\"title\":{\"x\":0.05},\"xaxis\":{\"automargin\":true,\"gridcolor\":\"white\",\"linecolor\":\"white\",\"ticks\":\"\",\"title\":{\"standoff\":15},\"zerolinecolor\":\"white\",\"zerolinewidth\":2},\"yaxis\":{\"automargin\":true,\"gridcolor\":\"white\",\"linecolor\":\"white\",\"ticks\":\"\",\"title\":{\"standoff\":15},\"zerolinecolor\":\"white\",\"zerolinewidth\":2}}},\"title\":{\"font\":{\"color\":\"#4D5663\"}},\"xaxis\":{\"gridcolor\":\"#E1E5ED\",\"showgrid\":true,\"tickfont\":{\"color\":\"#4D5663\"},\"title\":{\"font\":{\"color\":\"#4D5663\"},\"text\":\"\"},\"zerolinecolor\":\"#E1E5ED\"},\"yaxis\":{\"gridcolor\":\"#E1E5ED\",\"showgrid\":true,\"tickfont\":{\"color\":\"#4D5663\"},\"title\":{\"font\":{\"color\":\"#4D5663\"},\"text\":\"\"},\"zerolinecolor\":\"#E1E5ED\"}},                        {\"showLink\": true, \"linkText\": \"Export to plot.ly\", \"plotlyServerURL\": \"https://plot.ly\", \"responsive\": true}                    ).then(function(){\n",
       "                            \n",
       "var gd = document.getElementById('78390e4e-8d8d-497b-a460-b34e6c1eeb60');\n",
       "var x = new MutationObserver(function (mutations, observer) {{\n",
       "        var display = window.getComputedStyle(gd).display;\n",
       "        if (!display || display === 'none') {{\n",
       "            console.log([gd, 'removed!']);\n",
       "            Plotly.purge(gd);\n",
       "            observer.disconnect();\n",
       "        }}\n",
       "}});\n",
       "\n",
       "// Listen for the removal of the full notebook cells\n",
       "var notebookContainer = gd.closest('#notebook-container');\n",
       "if (notebookContainer) {{\n",
       "    x.observe(notebookContainer, {childList: true});\n",
       "}}\n",
       "\n",
       "// Listen for the clearing of the current output cell\n",
       "var outputEl = gd.closest('.output');\n",
       "if (outputEl) {{\n",
       "    x.observe(outputEl, {childList: true});\n",
       "}}\n",
       "\n",
       "                        })                };                });            </script>        </div>"
      ]
     },
     "metadata": {},
     "output_type": "display_data"
    }
   ],
   "source": [
    "df1.iplot(kind='hist')#all columns"
   ]
  },
  {
   "cell_type": "code",
   "execution_count": 40,
   "id": "36b06cd7",
   "metadata": {},
   "outputs": [
    {
     "name": "stderr",
     "output_type": "stream",
     "text": [
      "C:\\Users\\syed usama ilyas\\anaconda3\\lib\\site-packages\\cufflinks\\plotlytools.py:849: FutureWarning:\n",
      "\n",
      "The pandas.np module is deprecated and will be removed from pandas in a future version. Import numpy directly instead\n",
      "\n",
      "C:\\Users\\syed usama ilyas\\anaconda3\\lib\\site-packages\\cufflinks\\plotlytools.py:850: FutureWarning:\n",
      "\n",
      "The pandas.np module is deprecated and will be removed from pandas in a future version. Import numpy directly instead\n",
      "\n"
     ]
    },
    {
     "data": {
      "application/vnd.plotly.v1+json": {
       "config": {
        "linkText": "Export to plot.ly",
        "plotlyServerURL": "https://plot.ly",
        "showLink": true
       },
       "data": [
        {
         "line": {
          "color": "rgba(255, 153, 51, 1.0)",
          "dash": "solid",
          "shape": "linear",
          "width": 1.3
         },
         "mode": "lines",
         "name": "A",
         "text": "",
         "type": "scatter",
         "x": [
          0,
          1,
          2,
          3,
          4,
          5,
          6,
          7,
          8,
          9,
          10,
          11,
          12,
          13,
          14,
          15,
          16,
          17,
          18,
          19,
          20,
          21,
          22,
          23,
          24,
          25,
          26,
          27,
          28,
          29,
          30,
          31,
          32,
          33,
          34,
          35,
          36,
          37,
          38,
          39,
          40,
          41,
          42,
          43,
          44,
          45,
          46,
          47,
          48,
          49,
          50,
          51,
          52,
          53,
          54,
          55,
          56,
          57,
          58,
          59,
          60,
          61,
          62,
          63,
          64,
          65,
          66,
          67,
          68,
          69,
          70,
          71,
          72,
          73,
          74,
          75,
          76,
          77,
          78,
          79,
          80,
          81,
          82,
          83,
          84,
          85,
          86,
          87,
          88,
          89,
          90,
          91,
          92,
          93,
          94,
          95,
          96,
          97,
          98,
          99
         ],
         "y": [
          0.3586331746624718,
          -0.31304376044741095,
          0.9155501015715358,
          -2.102062606588993,
          0.408045526206134,
          -0.2653937053424654,
          -1.0608144632061376,
          0.8320160290835785,
          -0.9049475285738797,
          -0.17744210477049197,
          -1.4540758255989237,
          1.4257420406209662,
          -0.5205046343083947,
          -0.05769834283630299,
          0.47701003735893915,
          -0.04203967170773101,
          0.5954054803347232,
          0.5082602104081628,
          1.5464874830525634,
          0.03252793321033726,
          0.02470780179975145,
          -0.43883588421253367,
          0.7655553628093557,
          0.08479713396327594,
          -0.061697794787186545,
          -1.670028936339304,
          -0.44654185078945124,
          0.3424303635259183,
          -1.4760687974593132,
          1.00411471917094,
          -0.05524154132328517,
          0.014428830329574913,
          -0.3383435301323882,
          1.5183470766720768,
          -0.027803842073751618,
          1.7202240294648374,
          0.0659563768324742,
          0.8220356160516542,
          -0.5351973075051546,
          -0.15985840887473127,
          0.9323610128235857,
          0.6006660833479411,
          -0.8184884530933983,
          0.5152778925589065,
          2.5445342396284483,
          -0.03483860975117482,
          0.5162424224318293,
          0.9591449980497241,
          0.17777377052477863,
          -0.13969697340984139,
          -0.8569053896082983,
          0.2698446001276596,
          -0.19793090917579773,
          0.4250458772262773,
          0.3538791331723721,
          -2.2000463413342275,
          0.4181696188358884,
          -0.5901820888816727,
          0.020414193883099955,
          -0.6489481062883675,
          -0.3821890735220406,
          -0.32985879985063243,
          1.3954598123304571,
          0.05505854723609142,
          -0.6488143149635798,
          -0.21044309167380512,
          0.9436186500108769,
          -0.1344901082326483,
          0.4913203377664391,
          0.3285827524381691,
          -0.22242713380610743,
          -0.4202007414637871,
          0.10092135204452221,
          -0.516654392511781,
          -1.135954562451008,
          -0.7944885228365225,
          -0.8423266383457392,
          -1.359632784546133,
          0.7546560920413921,
          0.6516002595799931,
          0.8126667585524782,
          0.22038804422076191,
          0.054500146304780554,
          0.2125059915603282,
          -0.5119263987642447,
          0.46617177548286015,
          -1.375963954761399,
          0.4262163349180895,
          -1.205184119983154,
          -0.31379656718450993,
          0.4138625705495997,
          0.7663575825164424,
          -2.1174139409310984,
          0.5178801297938571,
          1.780572268688464,
          0.36758656402424283,
          -0.4135886115249514,
          0.8084776519283191,
          1.6336469314010316,
          2.230813714022468
         ]
        },
        {
         "line": {
          "color": "rgba(55, 128, 191, 1.0)",
          "dash": "solid",
          "shape": "linear",
          "width": 1.3
         },
         "mode": "lines",
         "name": "B",
         "text": "",
         "type": "scatter",
         "x": [
          0,
          1,
          2,
          3,
          4,
          5,
          6,
          7,
          8,
          9,
          10,
          11,
          12,
          13,
          14,
          15,
          16,
          17,
          18,
          19,
          20,
          21,
          22,
          23,
          24,
          25,
          26,
          27,
          28,
          29,
          30,
          31,
          32,
          33,
          34,
          35,
          36,
          37,
          38,
          39,
          40,
          41,
          42,
          43,
          44,
          45,
          46,
          47,
          48,
          49,
          50,
          51,
          52,
          53,
          54,
          55,
          56,
          57,
          58,
          59,
          60,
          61,
          62,
          63,
          64,
          65,
          66,
          67,
          68,
          69,
          70,
          71,
          72,
          73,
          74,
          75,
          76,
          77,
          78,
          79,
          80,
          81,
          82,
          83,
          84,
          85,
          86,
          87,
          88,
          89,
          90,
          91,
          92,
          93,
          94,
          95,
          96,
          97,
          98,
          99
         ],
         "y": [
          -1.0590548720581747,
          -0.39190242572096723,
          0.2962891691222517,
          -0.5490583168335752,
          0.0883346775218682,
          -0.6114291879106363,
          -0.6373993095400021,
          -1.3757372678673856,
          0.7710307905294411,
          -0.7952282574924998,
          -1.0665821766458694,
          1.069364678832217,
          1.1469578718082771,
          -0.25199465875749505,
          0.7048053127514355,
          -0.70141193883703,
          -0.9687943837773987,
          -0.5179377536668606,
          1.0367137748339337,
          -0.926940875305391,
          -0.6431803601851102,
          -0.008176871309322228,
          -0.9552975301203914,
          -0.7588749739508795,
          0.8832832893949047,
          1.1755358794506057,
          -0.20549235635876878,
          -0.7491598214547203,
          -0.5734776537078125,
          0.49246483038810485,
          1.1571408435365964,
          0.35950239520271465,
          -0.9814813990037048,
          -0.3302371152060421,
          1.4279786237553096,
          0.09368539541218573,
          -0.05148049977783981,
          2.3212174669434593,
          -0.1741133687184468,
          1.1003712836406296,
          1.632706051966583,
          1.3341292330096408,
          1.2792614080957836,
          -0.9846673910400024,
          1.9008435066570037,
          0.8600680929881195,
          -0.6027765692000642,
          -0.46044062423880017,
          0.2036331641753118,
          1.6091632381996916,
          0.8319891984314672,
          -2.106481912504469,
          1.1587762643350736,
          0.4378282837245897,
          -0.6787113924870258,
          -1.3015491673560238,
          -0.4699970597901284,
          0.03448216204286796,
          -0.3921004216330228,
          0.4011602423714026,
          0.964934167991005,
          -1.5316121923083093,
          -2.708464465730562,
          0.1739441911266945,
          -0.24987881590183947,
          0.09772182633380014,
          0.7974157087788826,
          -0.06760707005609054,
          -1.0605788914082304,
          -1.0922449732655897,
          -0.46724550141681537,
          -1.311758303544521,
          1.5805631331227574,
          -2.7451393680018104,
          1.590657386425081,
          2.1594987472119085,
          0.8093209994861948,
          1.1872539693294126,
          -0.9376083371748265,
          -1.9880405933877292,
          -0.016931850993996047,
          0.19283107581930145,
          -1.2621201220902507,
          1.4219944905623008,
          0.03945646289475185,
          1.3468725540679272,
          0.3352148321341624,
          -0.7607245053299654,
          -1.3632969757334765,
          -0.25955811948574004,
          0.45549145421093473,
          -0.1296347833779436,
          0.04802303523424992,
          0.31671978263710604,
          -0.8908041289921246,
          0.6270179003637465,
          -0.1845078406753882,
          2.294840618932753,
          -1.8898838801321691,
          1.758211240623883
         ]
        },
        {
         "connectgaps": false,
         "fill": "tozeroy",
         "line": {
          "color": "green",
          "dash": "solid",
          "shape": "linear",
          "width": 0.5
         },
         "mode": "lines",
         "name": "Spread",
         "showlegend": false,
         "type": "scatter",
         "x": [
          0,
          1,
          2,
          3,
          4,
          5,
          6,
          7,
          8,
          9,
          10,
          11,
          12,
          13,
          14,
          15,
          16,
          17,
          18,
          19,
          20,
          21,
          22,
          23,
          24,
          25,
          26,
          27,
          28,
          29,
          30,
          31,
          32,
          33,
          34,
          35,
          36,
          37,
          38,
          39,
          40,
          41,
          42,
          43,
          44,
          45,
          46,
          47,
          48,
          49,
          50,
          51,
          52,
          53,
          54,
          55,
          56,
          57,
          58,
          59,
          60,
          61,
          62,
          63,
          64,
          65,
          66,
          67,
          68,
          69,
          70,
          71,
          72,
          73,
          74,
          75,
          76,
          77,
          78,
          79,
          80,
          81,
          82,
          83,
          84,
          85,
          86,
          87,
          88,
          89,
          90,
          91,
          92,
          93,
          94,
          95,
          96,
          97,
          98,
          99
         ],
         "xaxis": "x2",
         "y": [
          1.4176880467206465,
          0.07885866527355628,
          0.6192609324492842,
          "",
          0.3197108486842658,
          0.34603548256817085,
          "",
          2.207753296950964,
          "",
          0.6177861527220079,
          "",
          0.3563773617887491,
          "",
          0.19429631592119206,
          "",
          0.659372267129299,
          1.5641998641121218,
          1.0261979640750234,
          0.5097737082186298,
          0.9594688085157284,
          0.6678881619848616,
          "",
          1.720852892929747,
          0.8436721079141555,
          "",
          "",
          "",
          1.0915901849806386,
          "",
          0.5116498887828352,
          "",
          "",
          0.6431378688713165,
          1.848584191878119,
          "",
          1.6265386340526518,
          0.11743687661031402,
          "",
          "",
          "",
          "",
          "",
          "",
          1.499945283598909,
          0.6436907329714445,
          "",
          1.1190189916318936,
          1.4195856222885244,
          "",
          "",
          "",
          2.3763265126321285,
          "",
          "",
          1.032590525659398,
          "",
          0.8881666786260167,
          "",
          0.41251461551612273,
          "",
          "",
          1.2017533924576769,
          4.103924278061019,
          "",
          "",
          "",
          0.1462029412319943,
          "",
          1.5518992291746694,
          1.4208277257037587,
          0.24481836761070794,
          0.8915575620807339,
          "",
          2.228484975490029,
          "",
          "",
          "",
          "",
          1.6922644292162186,
          2.639640852967722,
          0.8295986095464742,
          0.027556968401460463,
          1.3166202683950312,
          "",
          "",
          "",
          "",
          1.186940840248055,
          0.15811285575032263,
          "",
          "",
          0.895992365894386,
          "",
          0.20116034715675107,
          2.6713763976805884,
          "",
          "",
          "",
          3.5235308115332007,
          0.4726024733985852
         ],
         "yaxis": "y2"
        },
        {
         "connectgaps": false,
         "fill": "tozeroy",
         "line": {
          "color": "red",
          "dash": "solid",
          "shape": "linear",
          "width": 0.5
         },
         "mode": "lines",
         "name": "Spread",
         "showlegend": false,
         "type": "scatter",
         "x": [
          0,
          1,
          2,
          3,
          4,
          5,
          6,
          7,
          8,
          9,
          10,
          11,
          12,
          13,
          14,
          15,
          16,
          17,
          18,
          19,
          20,
          21,
          22,
          23,
          24,
          25,
          26,
          27,
          28,
          29,
          30,
          31,
          32,
          33,
          34,
          35,
          36,
          37,
          38,
          39,
          40,
          41,
          42,
          43,
          44,
          45,
          46,
          47,
          48,
          49,
          50,
          51,
          52,
          53,
          54,
          55,
          56,
          57,
          58,
          59,
          60,
          61,
          62,
          63,
          64,
          65,
          66,
          67,
          68,
          69,
          70,
          71,
          72,
          73,
          74,
          75,
          76,
          77,
          78,
          79,
          80,
          81,
          82,
          83,
          84,
          85,
          86,
          87,
          88,
          89,
          90,
          91,
          92,
          93,
          94,
          95,
          96,
          97,
          98,
          99
         ],
         "xaxis": "x2",
         "y": [
          "",
          "",
          "",
          -1.5530042897554177,
          "",
          "",
          -0.42341515366613547,
          "",
          -1.6759783191033208,
          "",
          -0.38749364895305427,
          "",
          -1.6674625061166717,
          "",
          -0.2277952753924964,
          "",
          "",
          "",
          "",
          "",
          "",
          -0.43065901290321146,
          "",
          "",
          -0.9449810841820913,
          -2.84556481578991,
          -0.24104949443068246,
          "",
          -0.9025911437515007,
          "",
          -1.2123823848598816,
          -0.3450735648731397,
          "",
          "",
          -1.4557824658290612,
          "",
          "",
          -1.4991818508918051,
          -0.3610839387867078,
          -1.2602296925153609,
          -0.7003450391429973,
          -0.7334631496616997,
          -2.097749861189182,
          "",
          "",
          -0.8949067027392943,
          "",
          "",
          -0.025859393650533163,
          -1.748860211609533,
          -1.6888945880397657,
          "",
          -1.3567071735108713,
          -0.012782406498312415,
          "",
          -0.8984971739782037,
          "",
          -0.6246642509245406,
          "",
          -1.0501083486597702,
          -1.3471232415130456,
          "",
          "",
          -0.11888564389060308,
          -0.3989354990617403,
          -0.30816491800760526,
          "",
          -0.06688303817655775,
          "",
          "",
          "",
          "",
          -1.4796417810782352,
          "",
          -2.726611948876089,
          -2.953987270048431,
          -1.651647637831934,
          -2.5468867538755458,
          "",
          "",
          "",
          "",
          "",
          -1.2094884990019725,
          -0.5513828616589965,
          -0.880700778585067,
          -1.7111787868955615,
          "",
          "",
          -0.0542384476987699,
          -0.04162888366133505,
          "",
          -2.1654369761653482,
          "",
          "",
          -0.25943133633950366,
          -0.22908077084956321,
          -1.4863629670044336,
          "",
          ""
         ],
         "yaxis": "y2"
        }
       ],
       "layout": {
        "hovermode": "x",
        "legend": {
         "bgcolor": "#F5F6F9",
         "font": {
          "color": "#4D5663"
         }
        },
        "paper_bgcolor": "#F5F6F9",
        "plot_bgcolor": "#F5F6F9",
        "template": {
         "data": {
          "bar": [
           {
            "error_x": {
             "color": "#2a3f5f"
            },
            "error_y": {
             "color": "#2a3f5f"
            },
            "marker": {
             "line": {
              "color": "#E5ECF6",
              "width": 0.5
             },
             "pattern": {
              "fillmode": "overlay",
              "size": 10,
              "solidity": 0.2
             }
            },
            "type": "bar"
           }
          ],
          "barpolar": [
           {
            "marker": {
             "line": {
              "color": "#E5ECF6",
              "width": 0.5
             },
             "pattern": {
              "fillmode": "overlay",
              "size": 10,
              "solidity": 0.2
             }
            },
            "type": "barpolar"
           }
          ],
          "carpet": [
           {
            "aaxis": {
             "endlinecolor": "#2a3f5f",
             "gridcolor": "white",
             "linecolor": "white",
             "minorgridcolor": "white",
             "startlinecolor": "#2a3f5f"
            },
            "baxis": {
             "endlinecolor": "#2a3f5f",
             "gridcolor": "white",
             "linecolor": "white",
             "minorgridcolor": "white",
             "startlinecolor": "#2a3f5f"
            },
            "type": "carpet"
           }
          ],
          "choropleth": [
           {
            "colorbar": {
             "outlinewidth": 0,
             "ticks": ""
            },
            "type": "choropleth"
           }
          ],
          "contour": [
           {
            "colorbar": {
             "outlinewidth": 0,
             "ticks": ""
            },
            "colorscale": [
             [
              0,
              "#0d0887"
             ],
             [
              0.1111111111111111,
              "#46039f"
             ],
             [
              0.2222222222222222,
              "#7201a8"
             ],
             [
              0.3333333333333333,
              "#9c179e"
             ],
             [
              0.4444444444444444,
              "#bd3786"
             ],
             [
              0.5555555555555556,
              "#d8576b"
             ],
             [
              0.6666666666666666,
              "#ed7953"
             ],
             [
              0.7777777777777778,
              "#fb9f3a"
             ],
             [
              0.8888888888888888,
              "#fdca26"
             ],
             [
              1,
              "#f0f921"
             ]
            ],
            "type": "contour"
           }
          ],
          "contourcarpet": [
           {
            "colorbar": {
             "outlinewidth": 0,
             "ticks": ""
            },
            "type": "contourcarpet"
           }
          ],
          "heatmap": [
           {
            "colorbar": {
             "outlinewidth": 0,
             "ticks": ""
            },
            "colorscale": [
             [
              0,
              "#0d0887"
             ],
             [
              0.1111111111111111,
              "#46039f"
             ],
             [
              0.2222222222222222,
              "#7201a8"
             ],
             [
              0.3333333333333333,
              "#9c179e"
             ],
             [
              0.4444444444444444,
              "#bd3786"
             ],
             [
              0.5555555555555556,
              "#d8576b"
             ],
             [
              0.6666666666666666,
              "#ed7953"
             ],
             [
              0.7777777777777778,
              "#fb9f3a"
             ],
             [
              0.8888888888888888,
              "#fdca26"
             ],
             [
              1,
              "#f0f921"
             ]
            ],
            "type": "heatmap"
           }
          ],
          "heatmapgl": [
           {
            "colorbar": {
             "outlinewidth": 0,
             "ticks": ""
            },
            "colorscale": [
             [
              0,
              "#0d0887"
             ],
             [
              0.1111111111111111,
              "#46039f"
             ],
             [
              0.2222222222222222,
              "#7201a8"
             ],
             [
              0.3333333333333333,
              "#9c179e"
             ],
             [
              0.4444444444444444,
              "#bd3786"
             ],
             [
              0.5555555555555556,
              "#d8576b"
             ],
             [
              0.6666666666666666,
              "#ed7953"
             ],
             [
              0.7777777777777778,
              "#fb9f3a"
             ],
             [
              0.8888888888888888,
              "#fdca26"
             ],
             [
              1,
              "#f0f921"
             ]
            ],
            "type": "heatmapgl"
           }
          ],
          "histogram": [
           {
            "marker": {
             "pattern": {
              "fillmode": "overlay",
              "size": 10,
              "solidity": 0.2
             }
            },
            "type": "histogram"
           }
          ],
          "histogram2d": [
           {
            "colorbar": {
             "outlinewidth": 0,
             "ticks": ""
            },
            "colorscale": [
             [
              0,
              "#0d0887"
             ],
             [
              0.1111111111111111,
              "#46039f"
             ],
             [
              0.2222222222222222,
              "#7201a8"
             ],
             [
              0.3333333333333333,
              "#9c179e"
             ],
             [
              0.4444444444444444,
              "#bd3786"
             ],
             [
              0.5555555555555556,
              "#d8576b"
             ],
             [
              0.6666666666666666,
              "#ed7953"
             ],
             [
              0.7777777777777778,
              "#fb9f3a"
             ],
             [
              0.8888888888888888,
              "#fdca26"
             ],
             [
              1,
              "#f0f921"
             ]
            ],
            "type": "histogram2d"
           }
          ],
          "histogram2dcontour": [
           {
            "colorbar": {
             "outlinewidth": 0,
             "ticks": ""
            },
            "colorscale": [
             [
              0,
              "#0d0887"
             ],
             [
              0.1111111111111111,
              "#46039f"
             ],
             [
              0.2222222222222222,
              "#7201a8"
             ],
             [
              0.3333333333333333,
              "#9c179e"
             ],
             [
              0.4444444444444444,
              "#bd3786"
             ],
             [
              0.5555555555555556,
              "#d8576b"
             ],
             [
              0.6666666666666666,
              "#ed7953"
             ],
             [
              0.7777777777777778,
              "#fb9f3a"
             ],
             [
              0.8888888888888888,
              "#fdca26"
             ],
             [
              1,
              "#f0f921"
             ]
            ],
            "type": "histogram2dcontour"
           }
          ],
          "mesh3d": [
           {
            "colorbar": {
             "outlinewidth": 0,
             "ticks": ""
            },
            "type": "mesh3d"
           }
          ],
          "parcoords": [
           {
            "line": {
             "colorbar": {
              "outlinewidth": 0,
              "ticks": ""
             }
            },
            "type": "parcoords"
           }
          ],
          "pie": [
           {
            "automargin": true,
            "type": "pie"
           }
          ],
          "scatter": [
           {
            "fillpattern": {
             "fillmode": "overlay",
             "size": 10,
             "solidity": 0.2
            },
            "type": "scatter"
           }
          ],
          "scatter3d": [
           {
            "line": {
             "colorbar": {
              "outlinewidth": 0,
              "ticks": ""
             }
            },
            "marker": {
             "colorbar": {
              "outlinewidth": 0,
              "ticks": ""
             }
            },
            "type": "scatter3d"
           }
          ],
          "scattercarpet": [
           {
            "marker": {
             "colorbar": {
              "outlinewidth": 0,
              "ticks": ""
             }
            },
            "type": "scattercarpet"
           }
          ],
          "scattergeo": [
           {
            "marker": {
             "colorbar": {
              "outlinewidth": 0,
              "ticks": ""
             }
            },
            "type": "scattergeo"
           }
          ],
          "scattergl": [
           {
            "marker": {
             "colorbar": {
              "outlinewidth": 0,
              "ticks": ""
             }
            },
            "type": "scattergl"
           }
          ],
          "scattermapbox": [
           {
            "marker": {
             "colorbar": {
              "outlinewidth": 0,
              "ticks": ""
             }
            },
            "type": "scattermapbox"
           }
          ],
          "scatterpolar": [
           {
            "marker": {
             "colorbar": {
              "outlinewidth": 0,
              "ticks": ""
             }
            },
            "type": "scatterpolar"
           }
          ],
          "scatterpolargl": [
           {
            "marker": {
             "colorbar": {
              "outlinewidth": 0,
              "ticks": ""
             }
            },
            "type": "scatterpolargl"
           }
          ],
          "scatterternary": [
           {
            "marker": {
             "colorbar": {
              "outlinewidth": 0,
              "ticks": ""
             }
            },
            "type": "scatterternary"
           }
          ],
          "surface": [
           {
            "colorbar": {
             "outlinewidth": 0,
             "ticks": ""
            },
            "colorscale": [
             [
              0,
              "#0d0887"
             ],
             [
              0.1111111111111111,
              "#46039f"
             ],
             [
              0.2222222222222222,
              "#7201a8"
             ],
             [
              0.3333333333333333,
              "#9c179e"
             ],
             [
              0.4444444444444444,
              "#bd3786"
             ],
             [
              0.5555555555555556,
              "#d8576b"
             ],
             [
              0.6666666666666666,
              "#ed7953"
             ],
             [
              0.7777777777777778,
              "#fb9f3a"
             ],
             [
              0.8888888888888888,
              "#fdca26"
             ],
             [
              1,
              "#f0f921"
             ]
            ],
            "type": "surface"
           }
          ],
          "table": [
           {
            "cells": {
             "fill": {
              "color": "#EBF0F8"
             },
             "line": {
              "color": "white"
             }
            },
            "header": {
             "fill": {
              "color": "#C8D4E3"
             },
             "line": {
              "color": "white"
             }
            },
            "type": "table"
           }
          ]
         },
         "layout": {
          "annotationdefaults": {
           "arrowcolor": "#2a3f5f",
           "arrowhead": 0,
           "arrowwidth": 1
          },
          "autotypenumbers": "strict",
          "coloraxis": {
           "colorbar": {
            "outlinewidth": 0,
            "ticks": ""
           }
          },
          "colorscale": {
           "diverging": [
            [
             0,
             "#8e0152"
            ],
            [
             0.1,
             "#c51b7d"
            ],
            [
             0.2,
             "#de77ae"
            ],
            [
             0.3,
             "#f1b6da"
            ],
            [
             0.4,
             "#fde0ef"
            ],
            [
             0.5,
             "#f7f7f7"
            ],
            [
             0.6,
             "#e6f5d0"
            ],
            [
             0.7,
             "#b8e186"
            ],
            [
             0.8,
             "#7fbc41"
            ],
            [
             0.9,
             "#4d9221"
            ],
            [
             1,
             "#276419"
            ]
           ],
           "sequential": [
            [
             0,
             "#0d0887"
            ],
            [
             0.1111111111111111,
             "#46039f"
            ],
            [
             0.2222222222222222,
             "#7201a8"
            ],
            [
             0.3333333333333333,
             "#9c179e"
            ],
            [
             0.4444444444444444,
             "#bd3786"
            ],
            [
             0.5555555555555556,
             "#d8576b"
            ],
            [
             0.6666666666666666,
             "#ed7953"
            ],
            [
             0.7777777777777778,
             "#fb9f3a"
            ],
            [
             0.8888888888888888,
             "#fdca26"
            ],
            [
             1,
             "#f0f921"
            ]
           ],
           "sequentialminus": [
            [
             0,
             "#0d0887"
            ],
            [
             0.1111111111111111,
             "#46039f"
            ],
            [
             0.2222222222222222,
             "#7201a8"
            ],
            [
             0.3333333333333333,
             "#9c179e"
            ],
            [
             0.4444444444444444,
             "#bd3786"
            ],
            [
             0.5555555555555556,
             "#d8576b"
            ],
            [
             0.6666666666666666,
             "#ed7953"
            ],
            [
             0.7777777777777778,
             "#fb9f3a"
            ],
            [
             0.8888888888888888,
             "#fdca26"
            ],
            [
             1,
             "#f0f921"
            ]
           ]
          },
          "colorway": [
           "#636efa",
           "#EF553B",
           "#00cc96",
           "#ab63fa",
           "#FFA15A",
           "#19d3f3",
           "#FF6692",
           "#B6E880",
           "#FF97FF",
           "#FECB52"
          ],
          "font": {
           "color": "#2a3f5f"
          },
          "geo": {
           "bgcolor": "white",
           "lakecolor": "white",
           "landcolor": "#E5ECF6",
           "showlakes": true,
           "showland": true,
           "subunitcolor": "white"
          },
          "hoverlabel": {
           "align": "left"
          },
          "hovermode": "closest",
          "mapbox": {
           "style": "light"
          },
          "paper_bgcolor": "white",
          "plot_bgcolor": "#E5ECF6",
          "polar": {
           "angularaxis": {
            "gridcolor": "white",
            "linecolor": "white",
            "ticks": ""
           },
           "bgcolor": "#E5ECF6",
           "radialaxis": {
            "gridcolor": "white",
            "linecolor": "white",
            "ticks": ""
           }
          },
          "scene": {
           "xaxis": {
            "backgroundcolor": "#E5ECF6",
            "gridcolor": "white",
            "gridwidth": 2,
            "linecolor": "white",
            "showbackground": true,
            "ticks": "",
            "zerolinecolor": "white"
           },
           "yaxis": {
            "backgroundcolor": "#E5ECF6",
            "gridcolor": "white",
            "gridwidth": 2,
            "linecolor": "white",
            "showbackground": true,
            "ticks": "",
            "zerolinecolor": "white"
           },
           "zaxis": {
            "backgroundcolor": "#E5ECF6",
            "gridcolor": "white",
            "gridwidth": 2,
            "linecolor": "white",
            "showbackground": true,
            "ticks": "",
            "zerolinecolor": "white"
           }
          },
          "shapedefaults": {
           "line": {
            "color": "#2a3f5f"
           }
          },
          "ternary": {
           "aaxis": {
            "gridcolor": "white",
            "linecolor": "white",
            "ticks": ""
           },
           "baxis": {
            "gridcolor": "white",
            "linecolor": "white",
            "ticks": ""
           },
           "bgcolor": "#E5ECF6",
           "caxis": {
            "gridcolor": "white",
            "linecolor": "white",
            "ticks": ""
           }
          },
          "title": {
           "x": 0.05
          },
          "xaxis": {
           "automargin": true,
           "gridcolor": "white",
           "linecolor": "white",
           "ticks": "",
           "title": {
            "standoff": 15
           },
           "zerolinecolor": "white",
           "zerolinewidth": 2
          },
          "yaxis": {
           "automargin": true,
           "gridcolor": "white",
           "linecolor": "white",
           "ticks": "",
           "title": {
            "standoff": 15
           },
           "zerolinecolor": "white",
           "zerolinewidth": 2
          }
         }
        },
        "title": {
         "font": {
          "color": "#4D5663"
         }
        },
        "xaxis": {
         "gridcolor": "#E1E5ED",
         "showgrid": true,
         "tickfont": {
          "color": "#4D5663"
         },
         "title": {
          "font": {
           "color": "#4D5663"
          },
          "text": ""
         },
         "zerolinecolor": "#E1E5ED"
        },
        "xaxis2": {
         "anchor": "y2",
         "gridcolor": "#E1E5ED",
         "showgrid": true,
         "showticklabels": false,
         "tickfont": {
          "color": "#4D5663"
         },
         "title": {
          "font": {
           "color": "#4D5663"
          },
          "text": ""
         },
         "zerolinecolor": "#E1E5ED"
        },
        "yaxis": {
         "domain": [
          0.3,
          1
         ],
         "gridcolor": "#E1E5ED",
         "showgrid": true,
         "tickfont": {
          "color": "#4D5663"
         },
         "title": {
          "font": {
           "color": "#4D5663"
          },
          "text": ""
         },
         "zerolinecolor": "#E1E5ED"
        },
        "yaxis2": {
         "domain": [
          0,
          0.25
         ],
         "gridcolor": "#E1E5ED",
         "showgrid": true,
         "tickfont": {
          "color": "#4D5663"
         },
         "title": {
          "font": {
           "color": "#4D5663"
          },
          "text": "Spread"
         },
         "zerolinecolor": "#E1E5ED"
        }
       }
      },
      "text/html": [
       "<div>                            <div id=\"3055056f-d112-4ed2-b3f7-6846ce5bb79c\" class=\"plotly-graph-div\" style=\"height:525px; width:100%;\"></div>            <script type=\"text/javascript\">                require([\"plotly\"], function(Plotly) {                    window.PLOTLYENV=window.PLOTLYENV || {};\n",
       "                    window.PLOTLYENV.BASE_URL='https://plot.ly';                                    if (document.getElementById(\"3055056f-d112-4ed2-b3f7-6846ce5bb79c\")) {                    Plotly.newPlot(                        \"3055056f-d112-4ed2-b3f7-6846ce5bb79c\",                        [{\"line\":{\"color\":\"rgba(255, 153, 51, 1.0)\",\"dash\":\"solid\",\"shape\":\"linear\",\"width\":1.3},\"mode\":\"lines\",\"name\":\"A\",\"text\":\"\",\"x\":[0,1,2,3,4,5,6,7,8,9,10,11,12,13,14,15,16,17,18,19,20,21,22,23,24,25,26,27,28,29,30,31,32,33,34,35,36,37,38,39,40,41,42,43,44,45,46,47,48,49,50,51,52,53,54,55,56,57,58,59,60,61,62,63,64,65,66,67,68,69,70,71,72,73,74,75,76,77,78,79,80,81,82,83,84,85,86,87,88,89,90,91,92,93,94,95,96,97,98,99],\"y\":[0.3586331746624718,-0.31304376044741095,0.9155501015715358,-2.102062606588993,0.408045526206134,-0.2653937053424654,-1.0608144632061376,0.8320160290835785,-0.9049475285738797,-0.17744210477049197,-1.4540758255989237,1.4257420406209662,-0.5205046343083947,-0.05769834283630299,0.47701003735893915,-0.04203967170773101,0.5954054803347232,0.5082602104081628,1.5464874830525634,0.03252793321033726,0.02470780179975145,-0.43883588421253367,0.7655553628093557,0.08479713396327594,-0.061697794787186545,-1.670028936339304,-0.44654185078945124,0.3424303635259183,-1.4760687974593132,1.00411471917094,-0.05524154132328517,0.014428830329574913,-0.3383435301323882,1.5183470766720768,-0.027803842073751618,1.7202240294648374,0.0659563768324742,0.8220356160516542,-0.5351973075051546,-0.15985840887473127,0.9323610128235857,0.6006660833479411,-0.8184884530933983,0.5152778925589065,2.5445342396284483,-0.03483860975117482,0.5162424224318293,0.9591449980497241,0.17777377052477863,-0.13969697340984139,-0.8569053896082983,0.2698446001276596,-0.19793090917579773,0.4250458772262773,0.3538791331723721,-2.2000463413342275,0.4181696188358884,-0.5901820888816727,0.020414193883099955,-0.6489481062883675,-0.3821890735220406,-0.32985879985063243,1.3954598123304571,0.05505854723609142,-0.6488143149635798,-0.21044309167380512,0.9436186500108769,-0.1344901082326483,0.4913203377664391,0.3285827524381691,-0.22242713380610743,-0.4202007414637871,0.10092135204452221,-0.516654392511781,-1.135954562451008,-0.7944885228365225,-0.8423266383457392,-1.359632784546133,0.7546560920413921,0.6516002595799931,0.8126667585524782,0.22038804422076191,0.054500146304780554,0.2125059915603282,-0.5119263987642447,0.46617177548286015,-1.375963954761399,0.4262163349180895,-1.205184119983154,-0.31379656718450993,0.4138625705495997,0.7663575825164424,-2.1174139409310984,0.5178801297938571,1.780572268688464,0.36758656402424283,-0.4135886115249514,0.8084776519283191,1.6336469314010316,2.230813714022468],\"type\":\"scatter\"},{\"line\":{\"color\":\"rgba(55, 128, 191, 1.0)\",\"dash\":\"solid\",\"shape\":\"linear\",\"width\":1.3},\"mode\":\"lines\",\"name\":\"B\",\"text\":\"\",\"x\":[0,1,2,3,4,5,6,7,8,9,10,11,12,13,14,15,16,17,18,19,20,21,22,23,24,25,26,27,28,29,30,31,32,33,34,35,36,37,38,39,40,41,42,43,44,45,46,47,48,49,50,51,52,53,54,55,56,57,58,59,60,61,62,63,64,65,66,67,68,69,70,71,72,73,74,75,76,77,78,79,80,81,82,83,84,85,86,87,88,89,90,91,92,93,94,95,96,97,98,99],\"y\":[-1.0590548720581747,-0.39190242572096723,0.2962891691222517,-0.5490583168335752,0.0883346775218682,-0.6114291879106363,-0.6373993095400021,-1.3757372678673856,0.7710307905294411,-0.7952282574924998,-1.0665821766458694,1.069364678832217,1.1469578718082771,-0.25199465875749505,0.7048053127514355,-0.70141193883703,-0.9687943837773987,-0.5179377536668606,1.0367137748339337,-0.926940875305391,-0.6431803601851102,-0.008176871309322228,-0.9552975301203914,-0.7588749739508795,0.8832832893949047,1.1755358794506057,-0.20549235635876878,-0.7491598214547203,-0.5734776537078125,0.49246483038810485,1.1571408435365964,0.35950239520271465,-0.9814813990037048,-0.3302371152060421,1.4279786237553096,0.09368539541218573,-0.05148049977783981,2.3212174669434593,-0.1741133687184468,1.1003712836406296,1.632706051966583,1.3341292330096408,1.2792614080957836,-0.9846673910400024,1.9008435066570037,0.8600680929881195,-0.6027765692000642,-0.46044062423880017,0.2036331641753118,1.6091632381996916,0.8319891984314672,-2.106481912504469,1.1587762643350736,0.4378282837245897,-0.6787113924870258,-1.3015491673560238,-0.4699970597901284,0.03448216204286796,-0.3921004216330228,0.4011602423714026,0.964934167991005,-1.5316121923083093,-2.708464465730562,0.1739441911266945,-0.24987881590183947,0.09772182633380014,0.7974157087788826,-0.06760707005609054,-1.0605788914082304,-1.0922449732655897,-0.46724550141681537,-1.311758303544521,1.5805631331227574,-2.7451393680018104,1.590657386425081,2.1594987472119085,0.8093209994861948,1.1872539693294126,-0.9376083371748265,-1.9880405933877292,-0.016931850993996047,0.19283107581930145,-1.2621201220902507,1.4219944905623008,0.03945646289475185,1.3468725540679272,0.3352148321341624,-0.7607245053299654,-1.3632969757334765,-0.25955811948574004,0.45549145421093473,-0.1296347833779436,0.04802303523424992,0.31671978263710604,-0.8908041289921246,0.6270179003637465,-0.1845078406753882,2.294840618932753,-1.8898838801321691,1.758211240623883],\"type\":\"scatter\"},{\"connectgaps\":false,\"fill\":\"tozeroy\",\"line\":{\"color\":\"green\",\"dash\":\"solid\",\"shape\":\"linear\",\"width\":0.5},\"mode\":\"lines\",\"name\":\"Spread\",\"showlegend\":false,\"x\":[0,1,2,3,4,5,6,7,8,9,10,11,12,13,14,15,16,17,18,19,20,21,22,23,24,25,26,27,28,29,30,31,32,33,34,35,36,37,38,39,40,41,42,43,44,45,46,47,48,49,50,51,52,53,54,55,56,57,58,59,60,61,62,63,64,65,66,67,68,69,70,71,72,73,74,75,76,77,78,79,80,81,82,83,84,85,86,87,88,89,90,91,92,93,94,95,96,97,98,99],\"xaxis\":\"x2\",\"y\":[1.4176880467206465,0.07885866527355628,0.6192609324492842,\"\",0.3197108486842658,0.34603548256817085,\"\",2.207753296950964,\"\",0.6177861527220079,\"\",0.3563773617887491,\"\",0.19429631592119206,\"\",0.659372267129299,1.5641998641121218,1.0261979640750234,0.5097737082186298,0.9594688085157284,0.6678881619848616,\"\",1.720852892929747,0.8436721079141555,\"\",\"\",\"\",1.0915901849806386,\"\",0.5116498887828352,\"\",\"\",0.6431378688713165,1.848584191878119,\"\",1.6265386340526518,0.11743687661031402,\"\",\"\",\"\",\"\",\"\",\"\",1.499945283598909,0.6436907329714445,\"\",1.1190189916318936,1.4195856222885244,\"\",\"\",\"\",2.3763265126321285,\"\",\"\",1.032590525659398,\"\",0.8881666786260167,\"\",0.41251461551612273,\"\",\"\",1.2017533924576769,4.103924278061019,\"\",\"\",\"\",0.1462029412319943,\"\",1.5518992291746694,1.4208277257037587,0.24481836761070794,0.8915575620807339,\"\",2.228484975490029,\"\",\"\",\"\",\"\",1.6922644292162186,2.639640852967722,0.8295986095464742,0.027556968401460463,1.3166202683950312,\"\",\"\",\"\",\"\",1.186940840248055,0.15811285575032263,\"\",\"\",0.895992365894386,\"\",0.20116034715675107,2.6713763976805884,\"\",\"\",\"\",3.5235308115332007,0.4726024733985852],\"yaxis\":\"y2\",\"type\":\"scatter\"},{\"connectgaps\":false,\"fill\":\"tozeroy\",\"line\":{\"color\":\"red\",\"dash\":\"solid\",\"shape\":\"linear\",\"width\":0.5},\"mode\":\"lines\",\"name\":\"Spread\",\"showlegend\":false,\"x\":[0,1,2,3,4,5,6,7,8,9,10,11,12,13,14,15,16,17,18,19,20,21,22,23,24,25,26,27,28,29,30,31,32,33,34,35,36,37,38,39,40,41,42,43,44,45,46,47,48,49,50,51,52,53,54,55,56,57,58,59,60,61,62,63,64,65,66,67,68,69,70,71,72,73,74,75,76,77,78,79,80,81,82,83,84,85,86,87,88,89,90,91,92,93,94,95,96,97,98,99],\"xaxis\":\"x2\",\"y\":[\"\",\"\",\"\",-1.5530042897554177,\"\",\"\",-0.42341515366613547,\"\",-1.6759783191033208,\"\",-0.38749364895305427,\"\",-1.6674625061166717,\"\",-0.2277952753924964,\"\",\"\",\"\",\"\",\"\",\"\",-0.43065901290321146,\"\",\"\",-0.9449810841820913,-2.84556481578991,-0.24104949443068246,\"\",-0.9025911437515007,\"\",-1.2123823848598816,-0.3450735648731397,\"\",\"\",-1.4557824658290612,\"\",\"\",-1.4991818508918051,-0.3610839387867078,-1.2602296925153609,-0.7003450391429973,-0.7334631496616997,-2.097749861189182,\"\",\"\",-0.8949067027392943,\"\",\"\",-0.025859393650533163,-1.748860211609533,-1.6888945880397657,\"\",-1.3567071735108713,-0.012782406498312415,\"\",-0.8984971739782037,\"\",-0.6246642509245406,\"\",-1.0501083486597702,-1.3471232415130456,\"\",\"\",-0.11888564389060308,-0.3989354990617403,-0.30816491800760526,\"\",-0.06688303817655775,\"\",\"\",\"\",\"\",-1.4796417810782352,\"\",-2.726611948876089,-2.953987270048431,-1.651647637831934,-2.5468867538755458,\"\",\"\",\"\",\"\",\"\",-1.2094884990019725,-0.5513828616589965,-0.880700778585067,-1.7111787868955615,\"\",\"\",-0.0542384476987699,-0.04162888366133505,\"\",-2.1654369761653482,\"\",\"\",-0.25943133633950366,-0.22908077084956321,-1.4863629670044336,\"\",\"\"],\"yaxis\":\"y2\",\"type\":\"scatter\"}],                        {\"hovermode\":\"x\",\"legend\":{\"bgcolor\":\"#F5F6F9\",\"font\":{\"color\":\"#4D5663\"}},\"paper_bgcolor\":\"#F5F6F9\",\"plot_bgcolor\":\"#F5F6F9\",\"template\":{\"data\":{\"barpolar\":[{\"marker\":{\"line\":{\"color\":\"#E5ECF6\",\"width\":0.5},\"pattern\":{\"fillmode\":\"overlay\",\"size\":10,\"solidity\":0.2}},\"type\":\"barpolar\"}],\"bar\":[{\"error_x\":{\"color\":\"#2a3f5f\"},\"error_y\":{\"color\":\"#2a3f5f\"},\"marker\":{\"line\":{\"color\":\"#E5ECF6\",\"width\":0.5},\"pattern\":{\"fillmode\":\"overlay\",\"size\":10,\"solidity\":0.2}},\"type\":\"bar\"}],\"carpet\":[{\"aaxis\":{\"endlinecolor\":\"#2a3f5f\",\"gridcolor\":\"white\",\"linecolor\":\"white\",\"minorgridcolor\":\"white\",\"startlinecolor\":\"#2a3f5f\"},\"baxis\":{\"endlinecolor\":\"#2a3f5f\",\"gridcolor\":\"white\",\"linecolor\":\"white\",\"minorgridcolor\":\"white\",\"startlinecolor\":\"#2a3f5f\"},\"type\":\"carpet\"}],\"choropleth\":[{\"colorbar\":{\"outlinewidth\":0,\"ticks\":\"\"},\"type\":\"choropleth\"}],\"contourcarpet\":[{\"colorbar\":{\"outlinewidth\":0,\"ticks\":\"\"},\"type\":\"contourcarpet\"}],\"contour\":[{\"colorbar\":{\"outlinewidth\":0,\"ticks\":\"\"},\"colorscale\":[[0.0,\"#0d0887\"],[0.1111111111111111,\"#46039f\"],[0.2222222222222222,\"#7201a8\"],[0.3333333333333333,\"#9c179e\"],[0.4444444444444444,\"#bd3786\"],[0.5555555555555556,\"#d8576b\"],[0.6666666666666666,\"#ed7953\"],[0.7777777777777778,\"#fb9f3a\"],[0.8888888888888888,\"#fdca26\"],[1.0,\"#f0f921\"]],\"type\":\"contour\"}],\"heatmapgl\":[{\"colorbar\":{\"outlinewidth\":0,\"ticks\":\"\"},\"colorscale\":[[0.0,\"#0d0887\"],[0.1111111111111111,\"#46039f\"],[0.2222222222222222,\"#7201a8\"],[0.3333333333333333,\"#9c179e\"],[0.4444444444444444,\"#bd3786\"],[0.5555555555555556,\"#d8576b\"],[0.6666666666666666,\"#ed7953\"],[0.7777777777777778,\"#fb9f3a\"],[0.8888888888888888,\"#fdca26\"],[1.0,\"#f0f921\"]],\"type\":\"heatmapgl\"}],\"heatmap\":[{\"colorbar\":{\"outlinewidth\":0,\"ticks\":\"\"},\"colorscale\":[[0.0,\"#0d0887\"],[0.1111111111111111,\"#46039f\"],[0.2222222222222222,\"#7201a8\"],[0.3333333333333333,\"#9c179e\"],[0.4444444444444444,\"#bd3786\"],[0.5555555555555556,\"#d8576b\"],[0.6666666666666666,\"#ed7953\"],[0.7777777777777778,\"#fb9f3a\"],[0.8888888888888888,\"#fdca26\"],[1.0,\"#f0f921\"]],\"type\":\"heatmap\"}],\"histogram2dcontour\":[{\"colorbar\":{\"outlinewidth\":0,\"ticks\":\"\"},\"colorscale\":[[0.0,\"#0d0887\"],[0.1111111111111111,\"#46039f\"],[0.2222222222222222,\"#7201a8\"],[0.3333333333333333,\"#9c179e\"],[0.4444444444444444,\"#bd3786\"],[0.5555555555555556,\"#d8576b\"],[0.6666666666666666,\"#ed7953\"],[0.7777777777777778,\"#fb9f3a\"],[0.8888888888888888,\"#fdca26\"],[1.0,\"#f0f921\"]],\"type\":\"histogram2dcontour\"}],\"histogram2d\":[{\"colorbar\":{\"outlinewidth\":0,\"ticks\":\"\"},\"colorscale\":[[0.0,\"#0d0887\"],[0.1111111111111111,\"#46039f\"],[0.2222222222222222,\"#7201a8\"],[0.3333333333333333,\"#9c179e\"],[0.4444444444444444,\"#bd3786\"],[0.5555555555555556,\"#d8576b\"],[0.6666666666666666,\"#ed7953\"],[0.7777777777777778,\"#fb9f3a\"],[0.8888888888888888,\"#fdca26\"],[1.0,\"#f0f921\"]],\"type\":\"histogram2d\"}],\"histogram\":[{\"marker\":{\"pattern\":{\"fillmode\":\"overlay\",\"size\":10,\"solidity\":0.2}},\"type\":\"histogram\"}],\"mesh3d\":[{\"colorbar\":{\"outlinewidth\":0,\"ticks\":\"\"},\"type\":\"mesh3d\"}],\"parcoords\":[{\"line\":{\"colorbar\":{\"outlinewidth\":0,\"ticks\":\"\"}},\"type\":\"parcoords\"}],\"pie\":[{\"automargin\":true,\"type\":\"pie\"}],\"scatter3d\":[{\"line\":{\"colorbar\":{\"outlinewidth\":0,\"ticks\":\"\"}},\"marker\":{\"colorbar\":{\"outlinewidth\":0,\"ticks\":\"\"}},\"type\":\"scatter3d\"}],\"scattercarpet\":[{\"marker\":{\"colorbar\":{\"outlinewidth\":0,\"ticks\":\"\"}},\"type\":\"scattercarpet\"}],\"scattergeo\":[{\"marker\":{\"colorbar\":{\"outlinewidth\":0,\"ticks\":\"\"}},\"type\":\"scattergeo\"}],\"scattergl\":[{\"marker\":{\"colorbar\":{\"outlinewidth\":0,\"ticks\":\"\"}},\"type\":\"scattergl\"}],\"scattermapbox\":[{\"marker\":{\"colorbar\":{\"outlinewidth\":0,\"ticks\":\"\"}},\"type\":\"scattermapbox\"}],\"scatterpolargl\":[{\"marker\":{\"colorbar\":{\"outlinewidth\":0,\"ticks\":\"\"}},\"type\":\"scatterpolargl\"}],\"scatterpolar\":[{\"marker\":{\"colorbar\":{\"outlinewidth\":0,\"ticks\":\"\"}},\"type\":\"scatterpolar\"}],\"scatter\":[{\"fillpattern\":{\"fillmode\":\"overlay\",\"size\":10,\"solidity\":0.2},\"type\":\"scatter\"}],\"scatterternary\":[{\"marker\":{\"colorbar\":{\"outlinewidth\":0,\"ticks\":\"\"}},\"type\":\"scatterternary\"}],\"surface\":[{\"colorbar\":{\"outlinewidth\":0,\"ticks\":\"\"},\"colorscale\":[[0.0,\"#0d0887\"],[0.1111111111111111,\"#46039f\"],[0.2222222222222222,\"#7201a8\"],[0.3333333333333333,\"#9c179e\"],[0.4444444444444444,\"#bd3786\"],[0.5555555555555556,\"#d8576b\"],[0.6666666666666666,\"#ed7953\"],[0.7777777777777778,\"#fb9f3a\"],[0.8888888888888888,\"#fdca26\"],[1.0,\"#f0f921\"]],\"type\":\"surface\"}],\"table\":[{\"cells\":{\"fill\":{\"color\":\"#EBF0F8\"},\"line\":{\"color\":\"white\"}},\"header\":{\"fill\":{\"color\":\"#C8D4E3\"},\"line\":{\"color\":\"white\"}},\"type\":\"table\"}]},\"layout\":{\"annotationdefaults\":{\"arrowcolor\":\"#2a3f5f\",\"arrowhead\":0,\"arrowwidth\":1},\"autotypenumbers\":\"strict\",\"coloraxis\":{\"colorbar\":{\"outlinewidth\":0,\"ticks\":\"\"}},\"colorscale\":{\"diverging\":[[0,\"#8e0152\"],[0.1,\"#c51b7d\"],[0.2,\"#de77ae\"],[0.3,\"#f1b6da\"],[0.4,\"#fde0ef\"],[0.5,\"#f7f7f7\"],[0.6,\"#e6f5d0\"],[0.7,\"#b8e186\"],[0.8,\"#7fbc41\"],[0.9,\"#4d9221\"],[1,\"#276419\"]],\"sequential\":[[0.0,\"#0d0887\"],[0.1111111111111111,\"#46039f\"],[0.2222222222222222,\"#7201a8\"],[0.3333333333333333,\"#9c179e\"],[0.4444444444444444,\"#bd3786\"],[0.5555555555555556,\"#d8576b\"],[0.6666666666666666,\"#ed7953\"],[0.7777777777777778,\"#fb9f3a\"],[0.8888888888888888,\"#fdca26\"],[1.0,\"#f0f921\"]],\"sequentialminus\":[[0.0,\"#0d0887\"],[0.1111111111111111,\"#46039f\"],[0.2222222222222222,\"#7201a8\"],[0.3333333333333333,\"#9c179e\"],[0.4444444444444444,\"#bd3786\"],[0.5555555555555556,\"#d8576b\"],[0.6666666666666666,\"#ed7953\"],[0.7777777777777778,\"#fb9f3a\"],[0.8888888888888888,\"#fdca26\"],[1.0,\"#f0f921\"]]},\"colorway\":[\"#636efa\",\"#EF553B\",\"#00cc96\",\"#ab63fa\",\"#FFA15A\",\"#19d3f3\",\"#FF6692\",\"#B6E880\",\"#FF97FF\",\"#FECB52\"],\"font\":{\"color\":\"#2a3f5f\"},\"geo\":{\"bgcolor\":\"white\",\"lakecolor\":\"white\",\"landcolor\":\"#E5ECF6\",\"showlakes\":true,\"showland\":true,\"subunitcolor\":\"white\"},\"hoverlabel\":{\"align\":\"left\"},\"hovermode\":\"closest\",\"mapbox\":{\"style\":\"light\"},\"paper_bgcolor\":\"white\",\"plot_bgcolor\":\"#E5ECF6\",\"polar\":{\"angularaxis\":{\"gridcolor\":\"white\",\"linecolor\":\"white\",\"ticks\":\"\"},\"bgcolor\":\"#E5ECF6\",\"radialaxis\":{\"gridcolor\":\"white\",\"linecolor\":\"white\",\"ticks\":\"\"}},\"scene\":{\"xaxis\":{\"backgroundcolor\":\"#E5ECF6\",\"gridcolor\":\"white\",\"gridwidth\":2,\"linecolor\":\"white\",\"showbackground\":true,\"ticks\":\"\",\"zerolinecolor\":\"white\"},\"yaxis\":{\"backgroundcolor\":\"#E5ECF6\",\"gridcolor\":\"white\",\"gridwidth\":2,\"linecolor\":\"white\",\"showbackground\":true,\"ticks\":\"\",\"zerolinecolor\":\"white\"},\"zaxis\":{\"backgroundcolor\":\"#E5ECF6\",\"gridcolor\":\"white\",\"gridwidth\":2,\"linecolor\":\"white\",\"showbackground\":true,\"ticks\":\"\",\"zerolinecolor\":\"white\"}},\"shapedefaults\":{\"line\":{\"color\":\"#2a3f5f\"}},\"ternary\":{\"aaxis\":{\"gridcolor\":\"white\",\"linecolor\":\"white\",\"ticks\":\"\"},\"baxis\":{\"gridcolor\":\"white\",\"linecolor\":\"white\",\"ticks\":\"\"},\"bgcolor\":\"#E5ECF6\",\"caxis\":{\"gridcolor\":\"white\",\"linecolor\":\"white\",\"ticks\":\"\"}},\"title\":{\"x\":0.05},\"xaxis\":{\"automargin\":true,\"gridcolor\":\"white\",\"linecolor\":\"white\",\"ticks\":\"\",\"title\":{\"standoff\":15},\"zerolinecolor\":\"white\",\"zerolinewidth\":2},\"yaxis\":{\"automargin\":true,\"gridcolor\":\"white\",\"linecolor\":\"white\",\"ticks\":\"\",\"title\":{\"standoff\":15},\"zerolinecolor\":\"white\",\"zerolinewidth\":2}}},\"title\":{\"font\":{\"color\":\"#4D5663\"}},\"xaxis\":{\"gridcolor\":\"#E1E5ED\",\"showgrid\":true,\"tickfont\":{\"color\":\"#4D5663\"},\"title\":{\"font\":{\"color\":\"#4D5663\"},\"text\":\"\"},\"zerolinecolor\":\"#E1E5ED\"},\"yaxis\":{\"domain\":[0.3,1],\"gridcolor\":\"#E1E5ED\",\"showgrid\":true,\"tickfont\":{\"color\":\"#4D5663\"},\"title\":{\"font\":{\"color\":\"#4D5663\"},\"text\":\"\"},\"zerolinecolor\":\"#E1E5ED\"},\"yaxis2\":{\"domain\":[0,0.25],\"gridcolor\":\"#E1E5ED\",\"showgrid\":true,\"tickfont\":{\"color\":\"#4D5663\"},\"title\":{\"font\":{\"color\":\"#4D5663\"},\"text\":\"Spread\"},\"zerolinecolor\":\"#E1E5ED\"},\"xaxis2\":{\"anchor\":\"y2\",\"gridcolor\":\"#E1E5ED\",\"showgrid\":true,\"showticklabels\":false,\"tickfont\":{\"color\":\"#4D5663\"},\"title\":{\"font\":{\"color\":\"#4D5663\"},\"text\":\"\"},\"zerolinecolor\":\"#E1E5ED\"}},                        {\"showLink\": true, \"linkText\": \"Export to plot.ly\", \"plotlyServerURL\": \"https://plot.ly\", \"responsive\": true}                    ).then(function(){\n",
       "                            \n",
       "var gd = document.getElementById('3055056f-d112-4ed2-b3f7-6846ce5bb79c');\n",
       "var x = new MutationObserver(function (mutations, observer) {{\n",
       "        var display = window.getComputedStyle(gd).display;\n",
       "        if (!display || display === 'none') {{\n",
       "            console.log([gd, 'removed!']);\n",
       "            Plotly.purge(gd);\n",
       "            observer.disconnect();\n",
       "        }}\n",
       "}});\n",
       "\n",
       "// Listen for the removal of the full notebook cells\n",
       "var notebookContainer = gd.closest('#notebook-container');\n",
       "if (notebookContainer) {{\n",
       "    x.observe(notebookContainer, {childList: true});\n",
       "}}\n",
       "\n",
       "// Listen for the clearing of the current output cell\n",
       "var outputEl = gd.closest('.output');\n",
       "if (outputEl) {{\n",
       "    x.observe(outputEl, {childList: true});\n",
       "}}\n",
       "\n",
       "                        })                };                });            </script>        </div>"
      ]
     },
     "metadata": {},
     "output_type": "display_data"
    }
   ],
   "source": [
    "df1[['A','B']].iplot(kind='spread')"
   ]
  },
  {
   "cell_type": "code",
   "execution_count": 41,
   "id": "3a1996f2",
   "metadata": {},
   "outputs": [
    {
     "data": {
      "application/vnd.plotly.v1+json": {
       "config": {
        "linkText": "Export to plot.ly",
        "plotlyServerURL": "https://plot.ly",
        "showLink": true
       },
       "data": [
        {
         "marker": {
          "color": [
           "rgb(255, 153, 51)",
           "rgb(55, 128, 191)",
           "rgb(50, 171, 96)",
           "rgb(128, 0, 128)",
           "rgb(219, 64, 82)",
           "rgb(0, 128, 128)",
           "rgb(255, 255, 51)",
           "rgb(128, 128, 0)",
           "rgb(251, 128, 114)",
           "rgb(128, 177, 211)"
          ],
          "line": {
           "width": 1.3
          },
          "size": [
           63,
           79,
           49,
           59,
           46,
           83,
           57,
           64,
           69,
           54,
           42,
           49,
           74,
           62,
           58,
           68,
           84,
           36,
           49,
           45,
           70,
           86,
           58,
           33,
           84,
           12,
           73,
           44,
           43,
           50,
           84,
           69,
           68,
           56,
           49,
           56,
           61,
           59,
           57,
           68,
           82,
           67,
           65,
           44,
           72,
           52,
           77,
           47,
           56,
           66,
           37,
           108,
           64,
           61,
           53,
           55,
           54,
           23,
           53,
           38,
           63,
           88,
           83,
           111,
           48,
           40,
           62,
           49,
           75,
           38,
           56,
           46,
           60,
           59,
           29,
           56,
           32,
           58,
           70,
           47,
           57,
           67,
           75,
           86,
           73,
           49,
           27,
           52,
           29,
           46,
           90,
           60,
           83,
           68,
           78,
           79,
           43,
           63,
           64,
           62
          ],
          "symbol": "circle"
         },
         "mode": "markers",
         "text": "",
         "type": "scatter",
         "x": [
          0.3586331746624718,
          -0.31304376044741095,
          0.9155501015715358,
          -2.102062606588993,
          0.408045526206134,
          -0.2653937053424654,
          -1.0608144632061376,
          0.8320160290835785,
          -0.9049475285738797,
          -0.17744210477049197,
          -1.4540758255989237,
          1.4257420406209662,
          -0.5205046343083947,
          -0.05769834283630299,
          0.47701003735893915,
          -0.04203967170773101,
          0.5954054803347232,
          0.5082602104081628,
          1.5464874830525634,
          0.03252793321033726,
          0.02470780179975145,
          -0.43883588421253367,
          0.7655553628093557,
          0.08479713396327594,
          -0.061697794787186545,
          -1.670028936339304,
          -0.44654185078945124,
          0.3424303635259183,
          -1.4760687974593132,
          1.00411471917094,
          -0.05524154132328517,
          0.014428830329574913,
          -0.3383435301323882,
          1.5183470766720768,
          -0.027803842073751618,
          1.7202240294648374,
          0.0659563768324742,
          0.8220356160516542,
          -0.5351973075051546,
          -0.15985840887473127,
          0.9323610128235857,
          0.6006660833479411,
          -0.8184884530933983,
          0.5152778925589065,
          2.5445342396284483,
          -0.03483860975117482,
          0.5162424224318293,
          0.9591449980497241,
          0.17777377052477863,
          -0.13969697340984139,
          -0.8569053896082983,
          0.2698446001276596,
          -0.19793090917579773,
          0.4250458772262773,
          0.3538791331723721,
          -2.2000463413342275,
          0.4181696188358884,
          -0.5901820888816727,
          0.020414193883099955,
          -0.6489481062883675,
          -0.3821890735220406,
          -0.32985879985063243,
          1.3954598123304571,
          0.05505854723609142,
          -0.6488143149635798,
          -0.21044309167380512,
          0.9436186500108769,
          -0.1344901082326483,
          0.4913203377664391,
          0.3285827524381691,
          -0.22242713380610743,
          -0.4202007414637871,
          0.10092135204452221,
          -0.516654392511781,
          -1.135954562451008,
          -0.7944885228365225,
          -0.8423266383457392,
          -1.359632784546133,
          0.7546560920413921,
          0.6516002595799931,
          0.8126667585524782,
          0.22038804422076191,
          0.054500146304780554,
          0.2125059915603282,
          -0.5119263987642447,
          0.46617177548286015,
          -1.375963954761399,
          0.4262163349180895,
          -1.205184119983154,
          -0.31379656718450993,
          0.4138625705495997,
          0.7663575825164424,
          -2.1174139409310984,
          0.5178801297938571,
          1.780572268688464,
          0.36758656402424283,
          -0.4135886115249514,
          0.8084776519283191,
          1.6336469314010316,
          2.230813714022468
         ],
         "y": [
          -1.0590548720581747,
          -0.39190242572096723,
          0.2962891691222517,
          -0.5490583168335752,
          0.0883346775218682,
          -0.6114291879106363,
          -0.6373993095400021,
          -1.3757372678673856,
          0.7710307905294411,
          -0.7952282574924998,
          -1.0665821766458694,
          1.069364678832217,
          1.1469578718082771,
          -0.25199465875749505,
          0.7048053127514355,
          -0.70141193883703,
          -0.9687943837773987,
          -0.5179377536668606,
          1.0367137748339337,
          -0.926940875305391,
          -0.6431803601851102,
          -0.008176871309322228,
          -0.9552975301203914,
          -0.7588749739508795,
          0.8832832893949047,
          1.1755358794506057,
          -0.20549235635876878,
          -0.7491598214547203,
          -0.5734776537078125,
          0.49246483038810485,
          1.1571408435365964,
          0.35950239520271465,
          -0.9814813990037048,
          -0.3302371152060421,
          1.4279786237553096,
          0.09368539541218573,
          -0.05148049977783981,
          2.3212174669434593,
          -0.1741133687184468,
          1.1003712836406296,
          1.632706051966583,
          1.3341292330096408,
          1.2792614080957836,
          -0.9846673910400024,
          1.9008435066570037,
          0.8600680929881195,
          -0.6027765692000642,
          -0.46044062423880017,
          0.2036331641753118,
          1.6091632381996916,
          0.8319891984314672,
          -2.106481912504469,
          1.1587762643350736,
          0.4378282837245897,
          -0.6787113924870258,
          -1.3015491673560238,
          -0.4699970597901284,
          0.03448216204286796,
          -0.3921004216330228,
          0.4011602423714026,
          0.964934167991005,
          -1.5316121923083093,
          -2.708464465730562,
          0.1739441911266945,
          -0.24987881590183947,
          0.09772182633380014,
          0.7974157087788826,
          -0.06760707005609054,
          -1.0605788914082304,
          -1.0922449732655897,
          -0.46724550141681537,
          -1.311758303544521,
          1.5805631331227574,
          -2.7451393680018104,
          1.590657386425081,
          2.1594987472119085,
          0.8093209994861948,
          1.1872539693294126,
          -0.9376083371748265,
          -1.9880405933877292,
          -0.016931850993996047,
          0.19283107581930145,
          -1.2621201220902507,
          1.4219944905623008,
          0.03945646289475185,
          1.3468725540679272,
          0.3352148321341624,
          -0.7607245053299654,
          -1.3632969757334765,
          -0.25955811948574004,
          0.45549145421093473,
          -0.1296347833779436,
          0.04802303523424992,
          0.31671978263710604,
          -0.8908041289921246,
          0.6270179003637465,
          -0.1845078406753882,
          2.294840618932753,
          -1.8898838801321691,
          1.758211240623883
         ]
        }
       ],
       "layout": {
        "legend": {
         "bgcolor": "#F5F6F9",
         "font": {
          "color": "#4D5663"
         }
        },
        "paper_bgcolor": "#F5F6F9",
        "plot_bgcolor": "#F5F6F9",
        "template": {
         "data": {
          "bar": [
           {
            "error_x": {
             "color": "#2a3f5f"
            },
            "error_y": {
             "color": "#2a3f5f"
            },
            "marker": {
             "line": {
              "color": "#E5ECF6",
              "width": 0.5
             },
             "pattern": {
              "fillmode": "overlay",
              "size": 10,
              "solidity": 0.2
             }
            },
            "type": "bar"
           }
          ],
          "barpolar": [
           {
            "marker": {
             "line": {
              "color": "#E5ECF6",
              "width": 0.5
             },
             "pattern": {
              "fillmode": "overlay",
              "size": 10,
              "solidity": 0.2
             }
            },
            "type": "barpolar"
           }
          ],
          "carpet": [
           {
            "aaxis": {
             "endlinecolor": "#2a3f5f",
             "gridcolor": "white",
             "linecolor": "white",
             "minorgridcolor": "white",
             "startlinecolor": "#2a3f5f"
            },
            "baxis": {
             "endlinecolor": "#2a3f5f",
             "gridcolor": "white",
             "linecolor": "white",
             "minorgridcolor": "white",
             "startlinecolor": "#2a3f5f"
            },
            "type": "carpet"
           }
          ],
          "choropleth": [
           {
            "colorbar": {
             "outlinewidth": 0,
             "ticks": ""
            },
            "type": "choropleth"
           }
          ],
          "contour": [
           {
            "colorbar": {
             "outlinewidth": 0,
             "ticks": ""
            },
            "colorscale": [
             [
              0,
              "#0d0887"
             ],
             [
              0.1111111111111111,
              "#46039f"
             ],
             [
              0.2222222222222222,
              "#7201a8"
             ],
             [
              0.3333333333333333,
              "#9c179e"
             ],
             [
              0.4444444444444444,
              "#bd3786"
             ],
             [
              0.5555555555555556,
              "#d8576b"
             ],
             [
              0.6666666666666666,
              "#ed7953"
             ],
             [
              0.7777777777777778,
              "#fb9f3a"
             ],
             [
              0.8888888888888888,
              "#fdca26"
             ],
             [
              1,
              "#f0f921"
             ]
            ],
            "type": "contour"
           }
          ],
          "contourcarpet": [
           {
            "colorbar": {
             "outlinewidth": 0,
             "ticks": ""
            },
            "type": "contourcarpet"
           }
          ],
          "heatmap": [
           {
            "colorbar": {
             "outlinewidth": 0,
             "ticks": ""
            },
            "colorscale": [
             [
              0,
              "#0d0887"
             ],
             [
              0.1111111111111111,
              "#46039f"
             ],
             [
              0.2222222222222222,
              "#7201a8"
             ],
             [
              0.3333333333333333,
              "#9c179e"
             ],
             [
              0.4444444444444444,
              "#bd3786"
             ],
             [
              0.5555555555555556,
              "#d8576b"
             ],
             [
              0.6666666666666666,
              "#ed7953"
             ],
             [
              0.7777777777777778,
              "#fb9f3a"
             ],
             [
              0.8888888888888888,
              "#fdca26"
             ],
             [
              1,
              "#f0f921"
             ]
            ],
            "type": "heatmap"
           }
          ],
          "heatmapgl": [
           {
            "colorbar": {
             "outlinewidth": 0,
             "ticks": ""
            },
            "colorscale": [
             [
              0,
              "#0d0887"
             ],
             [
              0.1111111111111111,
              "#46039f"
             ],
             [
              0.2222222222222222,
              "#7201a8"
             ],
             [
              0.3333333333333333,
              "#9c179e"
             ],
             [
              0.4444444444444444,
              "#bd3786"
             ],
             [
              0.5555555555555556,
              "#d8576b"
             ],
             [
              0.6666666666666666,
              "#ed7953"
             ],
             [
              0.7777777777777778,
              "#fb9f3a"
             ],
             [
              0.8888888888888888,
              "#fdca26"
             ],
             [
              1,
              "#f0f921"
             ]
            ],
            "type": "heatmapgl"
           }
          ],
          "histogram": [
           {
            "marker": {
             "pattern": {
              "fillmode": "overlay",
              "size": 10,
              "solidity": 0.2
             }
            },
            "type": "histogram"
           }
          ],
          "histogram2d": [
           {
            "colorbar": {
             "outlinewidth": 0,
             "ticks": ""
            },
            "colorscale": [
             [
              0,
              "#0d0887"
             ],
             [
              0.1111111111111111,
              "#46039f"
             ],
             [
              0.2222222222222222,
              "#7201a8"
             ],
             [
              0.3333333333333333,
              "#9c179e"
             ],
             [
              0.4444444444444444,
              "#bd3786"
             ],
             [
              0.5555555555555556,
              "#d8576b"
             ],
             [
              0.6666666666666666,
              "#ed7953"
             ],
             [
              0.7777777777777778,
              "#fb9f3a"
             ],
             [
              0.8888888888888888,
              "#fdca26"
             ],
             [
              1,
              "#f0f921"
             ]
            ],
            "type": "histogram2d"
           }
          ],
          "histogram2dcontour": [
           {
            "colorbar": {
             "outlinewidth": 0,
             "ticks": ""
            },
            "colorscale": [
             [
              0,
              "#0d0887"
             ],
             [
              0.1111111111111111,
              "#46039f"
             ],
             [
              0.2222222222222222,
              "#7201a8"
             ],
             [
              0.3333333333333333,
              "#9c179e"
             ],
             [
              0.4444444444444444,
              "#bd3786"
             ],
             [
              0.5555555555555556,
              "#d8576b"
             ],
             [
              0.6666666666666666,
              "#ed7953"
             ],
             [
              0.7777777777777778,
              "#fb9f3a"
             ],
             [
              0.8888888888888888,
              "#fdca26"
             ],
             [
              1,
              "#f0f921"
             ]
            ],
            "type": "histogram2dcontour"
           }
          ],
          "mesh3d": [
           {
            "colorbar": {
             "outlinewidth": 0,
             "ticks": ""
            },
            "type": "mesh3d"
           }
          ],
          "parcoords": [
           {
            "line": {
             "colorbar": {
              "outlinewidth": 0,
              "ticks": ""
             }
            },
            "type": "parcoords"
           }
          ],
          "pie": [
           {
            "automargin": true,
            "type": "pie"
           }
          ],
          "scatter": [
           {
            "fillpattern": {
             "fillmode": "overlay",
             "size": 10,
             "solidity": 0.2
            },
            "type": "scatter"
           }
          ],
          "scatter3d": [
           {
            "line": {
             "colorbar": {
              "outlinewidth": 0,
              "ticks": ""
             }
            },
            "marker": {
             "colorbar": {
              "outlinewidth": 0,
              "ticks": ""
             }
            },
            "type": "scatter3d"
           }
          ],
          "scattercarpet": [
           {
            "marker": {
             "colorbar": {
              "outlinewidth": 0,
              "ticks": ""
             }
            },
            "type": "scattercarpet"
           }
          ],
          "scattergeo": [
           {
            "marker": {
             "colorbar": {
              "outlinewidth": 0,
              "ticks": ""
             }
            },
            "type": "scattergeo"
           }
          ],
          "scattergl": [
           {
            "marker": {
             "colorbar": {
              "outlinewidth": 0,
              "ticks": ""
             }
            },
            "type": "scattergl"
           }
          ],
          "scattermapbox": [
           {
            "marker": {
             "colorbar": {
              "outlinewidth": 0,
              "ticks": ""
             }
            },
            "type": "scattermapbox"
           }
          ],
          "scatterpolar": [
           {
            "marker": {
             "colorbar": {
              "outlinewidth": 0,
              "ticks": ""
             }
            },
            "type": "scatterpolar"
           }
          ],
          "scatterpolargl": [
           {
            "marker": {
             "colorbar": {
              "outlinewidth": 0,
              "ticks": ""
             }
            },
            "type": "scatterpolargl"
           }
          ],
          "scatterternary": [
           {
            "marker": {
             "colorbar": {
              "outlinewidth": 0,
              "ticks": ""
             }
            },
            "type": "scatterternary"
           }
          ],
          "surface": [
           {
            "colorbar": {
             "outlinewidth": 0,
             "ticks": ""
            },
            "colorscale": [
             [
              0,
              "#0d0887"
             ],
             [
              0.1111111111111111,
              "#46039f"
             ],
             [
              0.2222222222222222,
              "#7201a8"
             ],
             [
              0.3333333333333333,
              "#9c179e"
             ],
             [
              0.4444444444444444,
              "#bd3786"
             ],
             [
              0.5555555555555556,
              "#d8576b"
             ],
             [
              0.6666666666666666,
              "#ed7953"
             ],
             [
              0.7777777777777778,
              "#fb9f3a"
             ],
             [
              0.8888888888888888,
              "#fdca26"
             ],
             [
              1,
              "#f0f921"
             ]
            ],
            "type": "surface"
           }
          ],
          "table": [
           {
            "cells": {
             "fill": {
              "color": "#EBF0F8"
             },
             "line": {
              "color": "white"
             }
            },
            "header": {
             "fill": {
              "color": "#C8D4E3"
             },
             "line": {
              "color": "white"
             }
            },
            "type": "table"
           }
          ]
         },
         "layout": {
          "annotationdefaults": {
           "arrowcolor": "#2a3f5f",
           "arrowhead": 0,
           "arrowwidth": 1
          },
          "autotypenumbers": "strict",
          "coloraxis": {
           "colorbar": {
            "outlinewidth": 0,
            "ticks": ""
           }
          },
          "colorscale": {
           "diverging": [
            [
             0,
             "#8e0152"
            ],
            [
             0.1,
             "#c51b7d"
            ],
            [
             0.2,
             "#de77ae"
            ],
            [
             0.3,
             "#f1b6da"
            ],
            [
             0.4,
             "#fde0ef"
            ],
            [
             0.5,
             "#f7f7f7"
            ],
            [
             0.6,
             "#e6f5d0"
            ],
            [
             0.7,
             "#b8e186"
            ],
            [
             0.8,
             "#7fbc41"
            ],
            [
             0.9,
             "#4d9221"
            ],
            [
             1,
             "#276419"
            ]
           ],
           "sequential": [
            [
             0,
             "#0d0887"
            ],
            [
             0.1111111111111111,
             "#46039f"
            ],
            [
             0.2222222222222222,
             "#7201a8"
            ],
            [
             0.3333333333333333,
             "#9c179e"
            ],
            [
             0.4444444444444444,
             "#bd3786"
            ],
            [
             0.5555555555555556,
             "#d8576b"
            ],
            [
             0.6666666666666666,
             "#ed7953"
            ],
            [
             0.7777777777777778,
             "#fb9f3a"
            ],
            [
             0.8888888888888888,
             "#fdca26"
            ],
            [
             1,
             "#f0f921"
            ]
           ],
           "sequentialminus": [
            [
             0,
             "#0d0887"
            ],
            [
             0.1111111111111111,
             "#46039f"
            ],
            [
             0.2222222222222222,
             "#7201a8"
            ],
            [
             0.3333333333333333,
             "#9c179e"
            ],
            [
             0.4444444444444444,
             "#bd3786"
            ],
            [
             0.5555555555555556,
             "#d8576b"
            ],
            [
             0.6666666666666666,
             "#ed7953"
            ],
            [
             0.7777777777777778,
             "#fb9f3a"
            ],
            [
             0.8888888888888888,
             "#fdca26"
            ],
            [
             1,
             "#f0f921"
            ]
           ]
          },
          "colorway": [
           "#636efa",
           "#EF553B",
           "#00cc96",
           "#ab63fa",
           "#FFA15A",
           "#19d3f3",
           "#FF6692",
           "#B6E880",
           "#FF97FF",
           "#FECB52"
          ],
          "font": {
           "color": "#2a3f5f"
          },
          "geo": {
           "bgcolor": "white",
           "lakecolor": "white",
           "landcolor": "#E5ECF6",
           "showlakes": true,
           "showland": true,
           "subunitcolor": "white"
          },
          "hoverlabel": {
           "align": "left"
          },
          "hovermode": "closest",
          "mapbox": {
           "style": "light"
          },
          "paper_bgcolor": "white",
          "plot_bgcolor": "#E5ECF6",
          "polar": {
           "angularaxis": {
            "gridcolor": "white",
            "linecolor": "white",
            "ticks": ""
           },
           "bgcolor": "#E5ECF6",
           "radialaxis": {
            "gridcolor": "white",
            "linecolor": "white",
            "ticks": ""
           }
          },
          "scene": {
           "xaxis": {
            "backgroundcolor": "#E5ECF6",
            "gridcolor": "white",
            "gridwidth": 2,
            "linecolor": "white",
            "showbackground": true,
            "ticks": "",
            "zerolinecolor": "white"
           },
           "yaxis": {
            "backgroundcolor": "#E5ECF6",
            "gridcolor": "white",
            "gridwidth": 2,
            "linecolor": "white",
            "showbackground": true,
            "ticks": "",
            "zerolinecolor": "white"
           },
           "zaxis": {
            "backgroundcolor": "#E5ECF6",
            "gridcolor": "white",
            "gridwidth": 2,
            "linecolor": "white",
            "showbackground": true,
            "ticks": "",
            "zerolinecolor": "white"
           }
          },
          "shapedefaults": {
           "line": {
            "color": "#2a3f5f"
           }
          },
          "ternary": {
           "aaxis": {
            "gridcolor": "white",
            "linecolor": "white",
            "ticks": ""
           },
           "baxis": {
            "gridcolor": "white",
            "linecolor": "white",
            "ticks": ""
           },
           "bgcolor": "#E5ECF6",
           "caxis": {
            "gridcolor": "white",
            "linecolor": "white",
            "ticks": ""
           }
          },
          "title": {
           "x": 0.05
          },
          "xaxis": {
           "automargin": true,
           "gridcolor": "white",
           "linecolor": "white",
           "ticks": "",
           "title": {
            "standoff": 15
           },
           "zerolinecolor": "white",
           "zerolinewidth": 2
          },
          "yaxis": {
           "automargin": true,
           "gridcolor": "white",
           "linecolor": "white",
           "ticks": "",
           "title": {
            "standoff": 15
           },
           "zerolinecolor": "white",
           "zerolinewidth": 2
          }
         }
        },
        "title": {
         "font": {
          "color": "#4D5663"
         }
        },
        "xaxis": {
         "gridcolor": "#E1E5ED",
         "showgrid": true,
         "tickfont": {
          "color": "#4D5663"
         },
         "title": {
          "font": {
           "color": "#4D5663"
          },
          "text": ""
         },
         "zerolinecolor": "#E1E5ED"
        },
        "yaxis": {
         "gridcolor": "#E1E5ED",
         "showgrid": true,
         "tickfont": {
          "color": "#4D5663"
         },
         "title": {
          "font": {
           "color": "#4D5663"
          },
          "text": ""
         },
         "zerolinecolor": "#E1E5ED"
        }
       }
      },
      "text/html": [
       "<div>                            <div id=\"a0a38498-24d0-431e-ba63-0ecce0c1605e\" class=\"plotly-graph-div\" style=\"height:525px; width:100%;\"></div>            <script type=\"text/javascript\">                require([\"plotly\"], function(Plotly) {                    window.PLOTLYENV=window.PLOTLYENV || {};\n",
       "                    window.PLOTLYENV.BASE_URL='https://plot.ly';                                    if (document.getElementById(\"a0a38498-24d0-431e-ba63-0ecce0c1605e\")) {                    Plotly.newPlot(                        \"a0a38498-24d0-431e-ba63-0ecce0c1605e\",                        [{\"marker\":{\"color\":[\"rgb(255, 153, 51)\",\"rgb(55, 128, 191)\",\"rgb(50, 171, 96)\",\"rgb(128, 0, 128)\",\"rgb(219, 64, 82)\",\"rgb(0, 128, 128)\",\"rgb(255, 255, 51)\",\"rgb(128, 128, 0)\",\"rgb(251, 128, 114)\",\"rgb(128, 177, 211)\"],\"line\":{\"width\":1.3},\"size\":[63,79,49,59,46,83,57,64,69,54,42,49,74,62,58,68,84,36,49,45,70,86,58,33,84,12,73,44,43,50,84,69,68,56,49,56,61,59,57,68,82,67,65,44,72,52,77,47,56,66,37,108,64,61,53,55,54,23,53,38,63,88,83,111,48,40,62,49,75,38,56,46,60,59,29,56,32,58,70,47,57,67,75,86,73,49,27,52,29,46,90,60,83,68,78,79,43,63,64,62],\"symbol\":\"circle\"},\"mode\":\"markers\",\"text\":\"\",\"x\":[0.3586331746624718,-0.31304376044741095,0.9155501015715358,-2.102062606588993,0.408045526206134,-0.2653937053424654,-1.0608144632061376,0.8320160290835785,-0.9049475285738797,-0.17744210477049197,-1.4540758255989237,1.4257420406209662,-0.5205046343083947,-0.05769834283630299,0.47701003735893915,-0.04203967170773101,0.5954054803347232,0.5082602104081628,1.5464874830525634,0.03252793321033726,0.02470780179975145,-0.43883588421253367,0.7655553628093557,0.08479713396327594,-0.061697794787186545,-1.670028936339304,-0.44654185078945124,0.3424303635259183,-1.4760687974593132,1.00411471917094,-0.05524154132328517,0.014428830329574913,-0.3383435301323882,1.5183470766720768,-0.027803842073751618,1.7202240294648374,0.0659563768324742,0.8220356160516542,-0.5351973075051546,-0.15985840887473127,0.9323610128235857,0.6006660833479411,-0.8184884530933983,0.5152778925589065,2.5445342396284483,-0.03483860975117482,0.5162424224318293,0.9591449980497241,0.17777377052477863,-0.13969697340984139,-0.8569053896082983,0.2698446001276596,-0.19793090917579773,0.4250458772262773,0.3538791331723721,-2.2000463413342275,0.4181696188358884,-0.5901820888816727,0.020414193883099955,-0.6489481062883675,-0.3821890735220406,-0.32985879985063243,1.3954598123304571,0.05505854723609142,-0.6488143149635798,-0.21044309167380512,0.9436186500108769,-0.1344901082326483,0.4913203377664391,0.3285827524381691,-0.22242713380610743,-0.4202007414637871,0.10092135204452221,-0.516654392511781,-1.135954562451008,-0.7944885228365225,-0.8423266383457392,-1.359632784546133,0.7546560920413921,0.6516002595799931,0.8126667585524782,0.22038804422076191,0.054500146304780554,0.2125059915603282,-0.5119263987642447,0.46617177548286015,-1.375963954761399,0.4262163349180895,-1.205184119983154,-0.31379656718450993,0.4138625705495997,0.7663575825164424,-2.1174139409310984,0.5178801297938571,1.780572268688464,0.36758656402424283,-0.4135886115249514,0.8084776519283191,1.6336469314010316,2.230813714022468],\"y\":[-1.0590548720581747,-0.39190242572096723,0.2962891691222517,-0.5490583168335752,0.0883346775218682,-0.6114291879106363,-0.6373993095400021,-1.3757372678673856,0.7710307905294411,-0.7952282574924998,-1.0665821766458694,1.069364678832217,1.1469578718082771,-0.25199465875749505,0.7048053127514355,-0.70141193883703,-0.9687943837773987,-0.5179377536668606,1.0367137748339337,-0.926940875305391,-0.6431803601851102,-0.008176871309322228,-0.9552975301203914,-0.7588749739508795,0.8832832893949047,1.1755358794506057,-0.20549235635876878,-0.7491598214547203,-0.5734776537078125,0.49246483038810485,1.1571408435365964,0.35950239520271465,-0.9814813990037048,-0.3302371152060421,1.4279786237553096,0.09368539541218573,-0.05148049977783981,2.3212174669434593,-0.1741133687184468,1.1003712836406296,1.632706051966583,1.3341292330096408,1.2792614080957836,-0.9846673910400024,1.9008435066570037,0.8600680929881195,-0.6027765692000642,-0.46044062423880017,0.2036331641753118,1.6091632381996916,0.8319891984314672,-2.106481912504469,1.1587762643350736,0.4378282837245897,-0.6787113924870258,-1.3015491673560238,-0.4699970597901284,0.03448216204286796,-0.3921004216330228,0.4011602423714026,0.964934167991005,-1.5316121923083093,-2.708464465730562,0.1739441911266945,-0.24987881590183947,0.09772182633380014,0.7974157087788826,-0.06760707005609054,-1.0605788914082304,-1.0922449732655897,-0.46724550141681537,-1.311758303544521,1.5805631331227574,-2.7451393680018104,1.590657386425081,2.1594987472119085,0.8093209994861948,1.1872539693294126,-0.9376083371748265,-1.9880405933877292,-0.016931850993996047,0.19283107581930145,-1.2621201220902507,1.4219944905623008,0.03945646289475185,1.3468725540679272,0.3352148321341624,-0.7607245053299654,-1.3632969757334765,-0.25955811948574004,0.45549145421093473,-0.1296347833779436,0.04802303523424992,0.31671978263710604,-0.8908041289921246,0.6270179003637465,-0.1845078406753882,2.294840618932753,-1.8898838801321691,1.758211240623883],\"type\":\"scatter\"}],                        {\"legend\":{\"bgcolor\":\"#F5F6F9\",\"font\":{\"color\":\"#4D5663\"}},\"paper_bgcolor\":\"#F5F6F9\",\"plot_bgcolor\":\"#F5F6F9\",\"template\":{\"data\":{\"barpolar\":[{\"marker\":{\"line\":{\"color\":\"#E5ECF6\",\"width\":0.5},\"pattern\":{\"fillmode\":\"overlay\",\"size\":10,\"solidity\":0.2}},\"type\":\"barpolar\"}],\"bar\":[{\"error_x\":{\"color\":\"#2a3f5f\"},\"error_y\":{\"color\":\"#2a3f5f\"},\"marker\":{\"line\":{\"color\":\"#E5ECF6\",\"width\":0.5},\"pattern\":{\"fillmode\":\"overlay\",\"size\":10,\"solidity\":0.2}},\"type\":\"bar\"}],\"carpet\":[{\"aaxis\":{\"endlinecolor\":\"#2a3f5f\",\"gridcolor\":\"white\",\"linecolor\":\"white\",\"minorgridcolor\":\"white\",\"startlinecolor\":\"#2a3f5f\"},\"baxis\":{\"endlinecolor\":\"#2a3f5f\",\"gridcolor\":\"white\",\"linecolor\":\"white\",\"minorgridcolor\":\"white\",\"startlinecolor\":\"#2a3f5f\"},\"type\":\"carpet\"}],\"choropleth\":[{\"colorbar\":{\"outlinewidth\":0,\"ticks\":\"\"},\"type\":\"choropleth\"}],\"contourcarpet\":[{\"colorbar\":{\"outlinewidth\":0,\"ticks\":\"\"},\"type\":\"contourcarpet\"}],\"contour\":[{\"colorbar\":{\"outlinewidth\":0,\"ticks\":\"\"},\"colorscale\":[[0.0,\"#0d0887\"],[0.1111111111111111,\"#46039f\"],[0.2222222222222222,\"#7201a8\"],[0.3333333333333333,\"#9c179e\"],[0.4444444444444444,\"#bd3786\"],[0.5555555555555556,\"#d8576b\"],[0.6666666666666666,\"#ed7953\"],[0.7777777777777778,\"#fb9f3a\"],[0.8888888888888888,\"#fdca26\"],[1.0,\"#f0f921\"]],\"type\":\"contour\"}],\"heatmapgl\":[{\"colorbar\":{\"outlinewidth\":0,\"ticks\":\"\"},\"colorscale\":[[0.0,\"#0d0887\"],[0.1111111111111111,\"#46039f\"],[0.2222222222222222,\"#7201a8\"],[0.3333333333333333,\"#9c179e\"],[0.4444444444444444,\"#bd3786\"],[0.5555555555555556,\"#d8576b\"],[0.6666666666666666,\"#ed7953\"],[0.7777777777777778,\"#fb9f3a\"],[0.8888888888888888,\"#fdca26\"],[1.0,\"#f0f921\"]],\"type\":\"heatmapgl\"}],\"heatmap\":[{\"colorbar\":{\"outlinewidth\":0,\"ticks\":\"\"},\"colorscale\":[[0.0,\"#0d0887\"],[0.1111111111111111,\"#46039f\"],[0.2222222222222222,\"#7201a8\"],[0.3333333333333333,\"#9c179e\"],[0.4444444444444444,\"#bd3786\"],[0.5555555555555556,\"#d8576b\"],[0.6666666666666666,\"#ed7953\"],[0.7777777777777778,\"#fb9f3a\"],[0.8888888888888888,\"#fdca26\"],[1.0,\"#f0f921\"]],\"type\":\"heatmap\"}],\"histogram2dcontour\":[{\"colorbar\":{\"outlinewidth\":0,\"ticks\":\"\"},\"colorscale\":[[0.0,\"#0d0887\"],[0.1111111111111111,\"#46039f\"],[0.2222222222222222,\"#7201a8\"],[0.3333333333333333,\"#9c179e\"],[0.4444444444444444,\"#bd3786\"],[0.5555555555555556,\"#d8576b\"],[0.6666666666666666,\"#ed7953\"],[0.7777777777777778,\"#fb9f3a\"],[0.8888888888888888,\"#fdca26\"],[1.0,\"#f0f921\"]],\"type\":\"histogram2dcontour\"}],\"histogram2d\":[{\"colorbar\":{\"outlinewidth\":0,\"ticks\":\"\"},\"colorscale\":[[0.0,\"#0d0887\"],[0.1111111111111111,\"#46039f\"],[0.2222222222222222,\"#7201a8\"],[0.3333333333333333,\"#9c179e\"],[0.4444444444444444,\"#bd3786\"],[0.5555555555555556,\"#d8576b\"],[0.6666666666666666,\"#ed7953\"],[0.7777777777777778,\"#fb9f3a\"],[0.8888888888888888,\"#fdca26\"],[1.0,\"#f0f921\"]],\"type\":\"histogram2d\"}],\"histogram\":[{\"marker\":{\"pattern\":{\"fillmode\":\"overlay\",\"size\":10,\"solidity\":0.2}},\"type\":\"histogram\"}],\"mesh3d\":[{\"colorbar\":{\"outlinewidth\":0,\"ticks\":\"\"},\"type\":\"mesh3d\"}],\"parcoords\":[{\"line\":{\"colorbar\":{\"outlinewidth\":0,\"ticks\":\"\"}},\"type\":\"parcoords\"}],\"pie\":[{\"automargin\":true,\"type\":\"pie\"}],\"scatter3d\":[{\"line\":{\"colorbar\":{\"outlinewidth\":0,\"ticks\":\"\"}},\"marker\":{\"colorbar\":{\"outlinewidth\":0,\"ticks\":\"\"}},\"type\":\"scatter3d\"}],\"scattercarpet\":[{\"marker\":{\"colorbar\":{\"outlinewidth\":0,\"ticks\":\"\"}},\"type\":\"scattercarpet\"}],\"scattergeo\":[{\"marker\":{\"colorbar\":{\"outlinewidth\":0,\"ticks\":\"\"}},\"type\":\"scattergeo\"}],\"scattergl\":[{\"marker\":{\"colorbar\":{\"outlinewidth\":0,\"ticks\":\"\"}},\"type\":\"scattergl\"}],\"scattermapbox\":[{\"marker\":{\"colorbar\":{\"outlinewidth\":0,\"ticks\":\"\"}},\"type\":\"scattermapbox\"}],\"scatterpolargl\":[{\"marker\":{\"colorbar\":{\"outlinewidth\":0,\"ticks\":\"\"}},\"type\":\"scatterpolargl\"}],\"scatterpolar\":[{\"marker\":{\"colorbar\":{\"outlinewidth\":0,\"ticks\":\"\"}},\"type\":\"scatterpolar\"}],\"scatter\":[{\"fillpattern\":{\"fillmode\":\"overlay\",\"size\":10,\"solidity\":0.2},\"type\":\"scatter\"}],\"scatterternary\":[{\"marker\":{\"colorbar\":{\"outlinewidth\":0,\"ticks\":\"\"}},\"type\":\"scatterternary\"}],\"surface\":[{\"colorbar\":{\"outlinewidth\":0,\"ticks\":\"\"},\"colorscale\":[[0.0,\"#0d0887\"],[0.1111111111111111,\"#46039f\"],[0.2222222222222222,\"#7201a8\"],[0.3333333333333333,\"#9c179e\"],[0.4444444444444444,\"#bd3786\"],[0.5555555555555556,\"#d8576b\"],[0.6666666666666666,\"#ed7953\"],[0.7777777777777778,\"#fb9f3a\"],[0.8888888888888888,\"#fdca26\"],[1.0,\"#f0f921\"]],\"type\":\"surface\"}],\"table\":[{\"cells\":{\"fill\":{\"color\":\"#EBF0F8\"},\"line\":{\"color\":\"white\"}},\"header\":{\"fill\":{\"color\":\"#C8D4E3\"},\"line\":{\"color\":\"white\"}},\"type\":\"table\"}]},\"layout\":{\"annotationdefaults\":{\"arrowcolor\":\"#2a3f5f\",\"arrowhead\":0,\"arrowwidth\":1},\"autotypenumbers\":\"strict\",\"coloraxis\":{\"colorbar\":{\"outlinewidth\":0,\"ticks\":\"\"}},\"colorscale\":{\"diverging\":[[0,\"#8e0152\"],[0.1,\"#c51b7d\"],[0.2,\"#de77ae\"],[0.3,\"#f1b6da\"],[0.4,\"#fde0ef\"],[0.5,\"#f7f7f7\"],[0.6,\"#e6f5d0\"],[0.7,\"#b8e186\"],[0.8,\"#7fbc41\"],[0.9,\"#4d9221\"],[1,\"#276419\"]],\"sequential\":[[0.0,\"#0d0887\"],[0.1111111111111111,\"#46039f\"],[0.2222222222222222,\"#7201a8\"],[0.3333333333333333,\"#9c179e\"],[0.4444444444444444,\"#bd3786\"],[0.5555555555555556,\"#d8576b\"],[0.6666666666666666,\"#ed7953\"],[0.7777777777777778,\"#fb9f3a\"],[0.8888888888888888,\"#fdca26\"],[1.0,\"#f0f921\"]],\"sequentialminus\":[[0.0,\"#0d0887\"],[0.1111111111111111,\"#46039f\"],[0.2222222222222222,\"#7201a8\"],[0.3333333333333333,\"#9c179e\"],[0.4444444444444444,\"#bd3786\"],[0.5555555555555556,\"#d8576b\"],[0.6666666666666666,\"#ed7953\"],[0.7777777777777778,\"#fb9f3a\"],[0.8888888888888888,\"#fdca26\"],[1.0,\"#f0f921\"]]},\"colorway\":[\"#636efa\",\"#EF553B\",\"#00cc96\",\"#ab63fa\",\"#FFA15A\",\"#19d3f3\",\"#FF6692\",\"#B6E880\",\"#FF97FF\",\"#FECB52\"],\"font\":{\"color\":\"#2a3f5f\"},\"geo\":{\"bgcolor\":\"white\",\"lakecolor\":\"white\",\"landcolor\":\"#E5ECF6\",\"showlakes\":true,\"showland\":true,\"subunitcolor\":\"white\"},\"hoverlabel\":{\"align\":\"left\"},\"hovermode\":\"closest\",\"mapbox\":{\"style\":\"light\"},\"paper_bgcolor\":\"white\",\"plot_bgcolor\":\"#E5ECF6\",\"polar\":{\"angularaxis\":{\"gridcolor\":\"white\",\"linecolor\":\"white\",\"ticks\":\"\"},\"bgcolor\":\"#E5ECF6\",\"radialaxis\":{\"gridcolor\":\"white\",\"linecolor\":\"white\",\"ticks\":\"\"}},\"scene\":{\"xaxis\":{\"backgroundcolor\":\"#E5ECF6\",\"gridcolor\":\"white\",\"gridwidth\":2,\"linecolor\":\"white\",\"showbackground\":true,\"ticks\":\"\",\"zerolinecolor\":\"white\"},\"yaxis\":{\"backgroundcolor\":\"#E5ECF6\",\"gridcolor\":\"white\",\"gridwidth\":2,\"linecolor\":\"white\",\"showbackground\":true,\"ticks\":\"\",\"zerolinecolor\":\"white\"},\"zaxis\":{\"backgroundcolor\":\"#E5ECF6\",\"gridcolor\":\"white\",\"gridwidth\":2,\"linecolor\":\"white\",\"showbackground\":true,\"ticks\":\"\",\"zerolinecolor\":\"white\"}},\"shapedefaults\":{\"line\":{\"color\":\"#2a3f5f\"}},\"ternary\":{\"aaxis\":{\"gridcolor\":\"white\",\"linecolor\":\"white\",\"ticks\":\"\"},\"baxis\":{\"gridcolor\":\"white\",\"linecolor\":\"white\",\"ticks\":\"\"},\"bgcolor\":\"#E5ECF6\",\"caxis\":{\"gridcolor\":\"white\",\"linecolor\":\"white\",\"ticks\":\"\"}},\"title\":{\"x\":0.05},\"xaxis\":{\"automargin\":true,\"gridcolor\":\"white\",\"linecolor\":\"white\",\"ticks\":\"\",\"title\":{\"standoff\":15},\"zerolinecolor\":\"white\",\"zerolinewidth\":2},\"yaxis\":{\"automargin\":true,\"gridcolor\":\"white\",\"linecolor\":\"white\",\"ticks\":\"\",\"title\":{\"standoff\":15},\"zerolinecolor\":\"white\",\"zerolinewidth\":2}}},\"title\":{\"font\":{\"color\":\"#4D5663\"}},\"xaxis\":{\"gridcolor\":\"#E1E5ED\",\"showgrid\":true,\"tickfont\":{\"color\":\"#4D5663\"},\"title\":{\"font\":{\"color\":\"#4D5663\"},\"text\":\"\"},\"zerolinecolor\":\"#E1E5ED\"},\"yaxis\":{\"gridcolor\":\"#E1E5ED\",\"showgrid\":true,\"tickfont\":{\"color\":\"#4D5663\"},\"title\":{\"font\":{\"color\":\"#4D5663\"},\"text\":\"\"},\"zerolinecolor\":\"#E1E5ED\"}},                        {\"showLink\": true, \"linkText\": \"Export to plot.ly\", \"plotlyServerURL\": \"https://plot.ly\", \"responsive\": true}                    ).then(function(){\n",
       "                            \n",
       "var gd = document.getElementById('a0a38498-24d0-431e-ba63-0ecce0c1605e');\n",
       "var x = new MutationObserver(function (mutations, observer) {{\n",
       "        var display = window.getComputedStyle(gd).display;\n",
       "        if (!display || display === 'none') {{\n",
       "            console.log([gd, 'removed!']);\n",
       "            Plotly.purge(gd);\n",
       "            observer.disconnect();\n",
       "        }}\n",
       "}});\n",
       "\n",
       "// Listen for the removal of the full notebook cells\n",
       "var notebookContainer = gd.closest('#notebook-container');\n",
       "if (notebookContainer) {{\n",
       "    x.observe(notebookContainer, {childList: true});\n",
       "}}\n",
       "\n",
       "// Listen for the clearing of the current output cell\n",
       "var outputEl = gd.closest('.output');\n",
       "if (outputEl) {{\n",
       "    x.observe(outputEl, {childList: true});\n",
       "}}\n",
       "\n",
       "                        })                };                });            </script>        </div>"
      ]
     },
     "metadata": {},
     "output_type": "display_data"
    }
   ],
   "source": [
    "df1.iplot(kind='bubble',x='A',y='B',size='C')"
   ]
  },
  {
   "cell_type": "code",
   "execution_count": 42,
   "id": "bdd2aee0",
   "metadata": {},
   "outputs": [
    {
     "data": {
      "application/vnd.plotly.v1+json": {
       "config": {
        "linkText": "Export to plot.ly",
        "plotlyServerURL": "https://plot.ly",
        "showLink": true
       },
       "data": [
        {
         "histfunc": "count",
         "histnorm": "",
         "marker": {
          "color": "rgba(255, 153, 51, 1.0)",
          "line": {
           "color": "#4D5663",
           "width": 1.3
          }
         },
         "name": "A",
         "nbinsx": 10,
         "opacity": 0.8,
         "orientation": "v",
         "type": "histogram",
         "x": [
          0.3586331746624718,
          -0.31304376044741095,
          0.9155501015715358,
          -2.102062606588993,
          0.408045526206134,
          -0.2653937053424654,
          -1.0608144632061376,
          0.8320160290835785,
          -0.9049475285738797,
          -0.17744210477049197,
          -1.4540758255989237,
          1.4257420406209662,
          -0.5205046343083947,
          -0.05769834283630299,
          0.47701003735893915,
          -0.04203967170773101,
          0.5954054803347232,
          0.5082602104081628,
          1.5464874830525634,
          0.03252793321033726,
          0.02470780179975145,
          -0.43883588421253367,
          0.7655553628093557,
          0.08479713396327594,
          -0.061697794787186545,
          -1.670028936339304,
          -0.44654185078945124,
          0.3424303635259183,
          -1.4760687974593132,
          1.00411471917094,
          -0.05524154132328517,
          0.014428830329574913,
          -0.3383435301323882,
          1.5183470766720768,
          -0.027803842073751618,
          1.7202240294648374,
          0.0659563768324742,
          0.8220356160516542,
          -0.5351973075051546,
          -0.15985840887473127,
          0.9323610128235857,
          0.6006660833479411,
          -0.8184884530933983,
          0.5152778925589065,
          2.5445342396284483,
          -0.03483860975117482,
          0.5162424224318293,
          0.9591449980497241,
          0.17777377052477863,
          -0.13969697340984139,
          -0.8569053896082983,
          0.2698446001276596,
          -0.19793090917579773,
          0.4250458772262773,
          0.3538791331723721,
          -2.2000463413342275,
          0.4181696188358884,
          -0.5901820888816727,
          0.020414193883099955,
          -0.6489481062883675,
          -0.3821890735220406,
          -0.32985879985063243,
          1.3954598123304571,
          0.05505854723609142,
          -0.6488143149635798,
          -0.21044309167380512,
          0.9436186500108769,
          -0.1344901082326483,
          0.4913203377664391,
          0.3285827524381691,
          -0.22242713380610743,
          -0.4202007414637871,
          0.10092135204452221,
          -0.516654392511781,
          -1.135954562451008,
          -0.7944885228365225,
          -0.8423266383457392,
          -1.359632784546133,
          0.7546560920413921,
          0.6516002595799931,
          0.8126667585524782,
          0.22038804422076191,
          0.054500146304780554,
          0.2125059915603282,
          -0.5119263987642447,
          0.46617177548286015,
          -1.375963954761399,
          0.4262163349180895,
          -1.205184119983154,
          -0.31379656718450993,
          0.4138625705495997,
          0.7663575825164424,
          -2.1174139409310984,
          0.5178801297938571,
          1.780572268688464,
          0.36758656402424283,
          -0.4135886115249514,
          0.8084776519283191,
          1.6336469314010316,
          2.230813714022468
         ],
         "xaxis": "x",
         "yaxis": "y"
        },
        {
         "line": {
          "color": "rgba(128, 128, 128, 1.0)",
          "dash": "solid",
          "shape": "linear",
          "width": 1.3
         },
         "marker": {
          "size": 2,
          "symbol": "circle"
         },
         "mode": "markers",
         "name": "A",
         "text": "",
         "type": "scatter",
         "x": [
          -1.0590548720581747,
          -0.39190242572096723,
          0.2962891691222517,
          -0.5490583168335752,
          0.0883346775218682,
          -0.6114291879106363,
          -0.6373993095400021,
          -1.3757372678673856,
          0.7710307905294411,
          -0.7952282574924998,
          -1.0665821766458694,
          1.069364678832217,
          1.1469578718082771,
          -0.25199465875749505,
          0.7048053127514355,
          -0.70141193883703,
          -0.9687943837773987,
          -0.5179377536668606,
          1.0367137748339337,
          -0.926940875305391,
          -0.6431803601851102,
          -0.008176871309322228,
          -0.9552975301203914,
          -0.7588749739508795,
          0.8832832893949047,
          1.1755358794506057,
          -0.20549235635876878,
          -0.7491598214547203,
          -0.5734776537078125,
          0.49246483038810485,
          1.1571408435365964,
          0.35950239520271465,
          -0.9814813990037048,
          -0.3302371152060421,
          1.4279786237553096,
          0.09368539541218573,
          -0.05148049977783981,
          2.3212174669434593,
          -0.1741133687184468,
          1.1003712836406296,
          1.632706051966583,
          1.3341292330096408,
          1.2792614080957836,
          -0.9846673910400024,
          1.9008435066570037,
          0.8600680929881195,
          -0.6027765692000642,
          -0.46044062423880017,
          0.2036331641753118,
          1.6091632381996916,
          0.8319891984314672,
          -2.106481912504469,
          1.1587762643350736,
          0.4378282837245897,
          -0.6787113924870258,
          -1.3015491673560238,
          -0.4699970597901284,
          0.03448216204286796,
          -0.3921004216330228,
          0.4011602423714026,
          0.964934167991005,
          -1.5316121923083093,
          -2.708464465730562,
          0.1739441911266945,
          -0.24987881590183947,
          0.09772182633380014,
          0.7974157087788826,
          -0.06760707005609054,
          -1.0605788914082304,
          -1.0922449732655897,
          -0.46724550141681537,
          -1.311758303544521,
          1.5805631331227574,
          -2.7451393680018104,
          1.590657386425081,
          2.1594987472119085,
          0.8093209994861948,
          1.1872539693294126,
          -0.9376083371748265,
          -1.9880405933877292,
          -0.016931850993996047,
          0.19283107581930145,
          -1.2621201220902507,
          1.4219944905623008,
          0.03945646289475185,
          1.3468725540679272,
          0.3352148321341624,
          -0.7607245053299654,
          -1.3632969757334765,
          -0.25955811948574004,
          0.45549145421093473,
          -0.1296347833779436,
          0.04802303523424992,
          0.31671978263710604,
          -0.8908041289921246,
          0.6270179003637465,
          -0.1845078406753882,
          2.294840618932753,
          -1.8898838801321691,
          1.758211240623883
         ],
         "xaxis": "x2",
         "y": [
          0.3586331746624718,
          -0.31304376044741095,
          0.9155501015715358,
          -2.102062606588993,
          0.408045526206134,
          -0.2653937053424654,
          -1.0608144632061376,
          0.8320160290835785,
          -0.9049475285738797,
          -0.17744210477049197,
          -1.4540758255989237,
          1.4257420406209662,
          -0.5205046343083947,
          -0.05769834283630299,
          0.47701003735893915,
          -0.04203967170773101,
          0.5954054803347232,
          0.5082602104081628,
          1.5464874830525634,
          0.03252793321033726,
          0.02470780179975145,
          -0.43883588421253367,
          0.7655553628093557,
          0.08479713396327594,
          -0.061697794787186545,
          -1.670028936339304,
          -0.44654185078945124,
          0.3424303635259183,
          -1.4760687974593132,
          1.00411471917094,
          -0.05524154132328517,
          0.014428830329574913,
          -0.3383435301323882,
          1.5183470766720768,
          -0.027803842073751618,
          1.7202240294648374,
          0.0659563768324742,
          0.8220356160516542,
          -0.5351973075051546,
          -0.15985840887473127,
          0.9323610128235857,
          0.6006660833479411,
          -0.8184884530933983,
          0.5152778925589065,
          2.5445342396284483,
          -0.03483860975117482,
          0.5162424224318293,
          0.9591449980497241,
          0.17777377052477863,
          -0.13969697340984139,
          -0.8569053896082983,
          0.2698446001276596,
          -0.19793090917579773,
          0.4250458772262773,
          0.3538791331723721,
          -2.2000463413342275,
          0.4181696188358884,
          -0.5901820888816727,
          0.020414193883099955,
          -0.6489481062883675,
          -0.3821890735220406,
          -0.32985879985063243,
          1.3954598123304571,
          0.05505854723609142,
          -0.6488143149635798,
          -0.21044309167380512,
          0.9436186500108769,
          -0.1344901082326483,
          0.4913203377664391,
          0.3285827524381691,
          -0.22242713380610743,
          -0.4202007414637871,
          0.10092135204452221,
          -0.516654392511781,
          -1.135954562451008,
          -0.7944885228365225,
          -0.8423266383457392,
          -1.359632784546133,
          0.7546560920413921,
          0.6516002595799931,
          0.8126667585524782,
          0.22038804422076191,
          0.054500146304780554,
          0.2125059915603282,
          -0.5119263987642447,
          0.46617177548286015,
          -1.375963954761399,
          0.4262163349180895,
          -1.205184119983154,
          -0.31379656718450993,
          0.4138625705495997,
          0.7663575825164424,
          -2.1174139409310984,
          0.5178801297938571,
          1.780572268688464,
          0.36758656402424283,
          -0.4135886115249514,
          0.8084776519283191,
          1.6336469314010316,
          2.230813714022468
         ],
         "yaxis": "y2"
        },
        {
         "line": {
          "color": "rgba(128, 128, 128, 1.0)",
          "dash": "solid",
          "shape": "linear",
          "width": 1.3
         },
         "marker": {
          "size": 2,
          "symbol": "circle"
         },
         "mode": "markers",
         "name": "A",
         "text": "",
         "type": "scatter",
         "x": [
          0.32429037739075883,
          1.1879409631045386,
          -0.38088091795317913,
          0.14806323550316,
          -0.5709168393551085,
          1.3853505290062362,
          0.030960518731206272,
          0.3938230637983112,
          0.6773066094802366,
          -0.1163003670518374,
          -0.7582509421132919,
          -0.38467937176662037,
          0.9367872426180641,
          0.3094300782732029,
          0.09601419265197059,
          0.5995511429549369,
          1.4439688168872717,
          -1.0965528579612354,
          -0.40781181780874987,
          -0.5913778404732251,
          0.7295991376359017,
          1.5579853159921473,
          0.05803394864840696,
          -1.248098266950036,
          1.4794877768861923,
          -2.394365890320898,
          0.874562873382905,
          -0.6699357548158725,
          -0.6961017168474808,
          -0.36174763518653275,
          1.4517901086461655,
          0.660505118013835,
          0.622063497987493,
          -0.054301146606529675,
          -0.37886913279578677,
          -0.008960006479370229,
          0.21263647906035765,
          0.14148615088666414,
          0.037315302544217124,
          0.6002888863566334,
          1.3398864669756754,
          0.5632927848357131,
          0.43994020088676306,
          -0.6424879662806519,
          0.8414231989301041,
          -0.263665109298404,
          1.0650209103243846,
          -0.4987174826350073,
          -0.029727275897059015,
          0.4811271849515231,
          -1.0639989151092917,
          2.7269733913483805,
          0.4202847481492167,
          0.23013615231109463,
          -0.19052950306876407,
          -0.07535647639230537,
          -0.10870803868613195,
          -1.7764691803724073,
          -0.20847521854327986,
          -0.9683394823778462,
          0.35115001230946635,
          1.6892276963651842,
          1.3804853265597006,
          2.921534826638845,
          -0.4309883401900627,
          -0.8817523768739174,
          0.27541040786185467,
          -0.3747113263296264,
          0.9740657170289369,
          -0.9702017630654753,
          -0.04811530584331376,
          -0.5383813969987241,
          0.16096932939744013,
          0.15306539136772737,
          -1.4896596280606906,
          -0.041852603529642,
          -1.2837275685397316,
          0.08498459969796693,
          0.6932661399547978,
          -0.48656111657997136,
          0.03244938448296639,
          0.5707242925265023,
          0.9752035089851828,
          1.5493900379188106,
          0.8698503692117641,
          -0.42065578813403187,
          -1.5706299711399163,
          -0.2347536852870114,
          -1.450009680526141,
          -0.5572941809131361,
          1.7607885483739076,
          0.1642451193947591,
          1.3806465480402927,
          0.5900768079783596,
          1.120446209170726,
          1.2089700577352944,
          -0.6984128021106067,
          0.3205901289951289,
          0.37574731970374725,
          0.30972045037775137
         ],
         "xaxis": "x3",
         "y": [
          0.3586331746624718,
          -0.31304376044741095,
          0.9155501015715358,
          -2.102062606588993,
          0.408045526206134,
          -0.2653937053424654,
          -1.0608144632061376,
          0.8320160290835785,
          -0.9049475285738797,
          -0.17744210477049197,
          -1.4540758255989237,
          1.4257420406209662,
          -0.5205046343083947,
          -0.05769834283630299,
          0.47701003735893915,
          -0.04203967170773101,
          0.5954054803347232,
          0.5082602104081628,
          1.5464874830525634,
          0.03252793321033726,
          0.02470780179975145,
          -0.43883588421253367,
          0.7655553628093557,
          0.08479713396327594,
          -0.061697794787186545,
          -1.670028936339304,
          -0.44654185078945124,
          0.3424303635259183,
          -1.4760687974593132,
          1.00411471917094,
          -0.05524154132328517,
          0.014428830329574913,
          -0.3383435301323882,
          1.5183470766720768,
          -0.027803842073751618,
          1.7202240294648374,
          0.0659563768324742,
          0.8220356160516542,
          -0.5351973075051546,
          -0.15985840887473127,
          0.9323610128235857,
          0.6006660833479411,
          -0.8184884530933983,
          0.5152778925589065,
          2.5445342396284483,
          -0.03483860975117482,
          0.5162424224318293,
          0.9591449980497241,
          0.17777377052477863,
          -0.13969697340984139,
          -0.8569053896082983,
          0.2698446001276596,
          -0.19793090917579773,
          0.4250458772262773,
          0.3538791331723721,
          -2.2000463413342275,
          0.4181696188358884,
          -0.5901820888816727,
          0.020414193883099955,
          -0.6489481062883675,
          -0.3821890735220406,
          -0.32985879985063243,
          1.3954598123304571,
          0.05505854723609142,
          -0.6488143149635798,
          -0.21044309167380512,
          0.9436186500108769,
          -0.1344901082326483,
          0.4913203377664391,
          0.3285827524381691,
          -0.22242713380610743,
          -0.4202007414637871,
          0.10092135204452221,
          -0.516654392511781,
          -1.135954562451008,
          -0.7944885228365225,
          -0.8423266383457392,
          -1.359632784546133,
          0.7546560920413921,
          0.6516002595799931,
          0.8126667585524782,
          0.22038804422076191,
          0.054500146304780554,
          0.2125059915603282,
          -0.5119263987642447,
          0.46617177548286015,
          -1.375963954761399,
          0.4262163349180895,
          -1.205184119983154,
          -0.31379656718450993,
          0.4138625705495997,
          0.7663575825164424,
          -2.1174139409310984,
          0.5178801297938571,
          1.780572268688464,
          0.36758656402424283,
          -0.4135886115249514,
          0.8084776519283191,
          1.6336469314010316,
          2.230813714022468
         ],
         "yaxis": "y3"
        },
        {
         "line": {
          "color": "rgba(128, 128, 128, 1.0)",
          "dash": "solid",
          "shape": "linear",
          "width": 1.3
         },
         "marker": {
          "size": 2,
          "symbol": "circle"
         },
         "mode": "markers",
         "name": "A",
         "text": "",
         "type": "scatter",
         "x": [
          -0.3464588048417761,
          -0.647906547324458,
          0.3486779613719423,
          0.16578621922162767,
          -0.6930802152809857,
          -0.27001530192403844,
          2.199341644606675,
          0.6100190730886883,
          2.102550400217976,
          1.3032923422411529,
          -0.049762067909215585,
          1.0518251360175972,
          2.606214122416171,
          -0.2623492398003455,
          -3.1647169619393614,
          -0.372542819978809,
          0.14946434187215132,
          0.06191615910061245,
          -1.1814026933119086,
          -0.2766721067868842,
          -0.9524484776847364,
          0.890087121411412,
          0.16536143007143075,
          2.0950209738087247,
          0.6678254539418913,
          -2.4541658108616398,
          0.7272111499537395,
          -1.0632955813088365,
          0.5563393644310032,
          0.7007756021443959,
          -0.7634004670299073,
          -1.0366226598965147,
          0.8013304757037002,
          -0.9575358416562028,
          -1.2219996303846936,
          0.8411087011278587,
          -2.6876492176403706,
          0.21697871372465866,
          0.8661761718498764,
          -0.004477953671440384,
          -0.24156899072457647,
          -1.191982405527518,
          -1.830769949480394,
          -0.3603791966519778,
          -1.8541561044408092,
          -0.8269509146760182,
          1.2351690456101407,
          -0.7374726976400329,
          1.1496626540716828,
          0.11539306667485381,
          -0.5874759092324688,
          -0.29647288445001413,
          0.8043685590974445,
          -0.25129479981146213,
          -0.009082767107194573,
          0.8249201350185461,
          -0.9041916236427177,
          -0.2598132126343078,
          2.5209152581221406,
          -0.7414821119261477,
          0.6528585246841945,
          0.4727346988738507,
          -0.4255885388211691,
          -0.33523865860121993,
          0.002340531266801451,
          1.1677113148248681,
          0.4436607499705828,
          -1.1378815712598933,
          -0.9528152338377582,
          1.3354358098041545,
          -0.4143195912799377,
          -0.27195585863102767,
          -0.5128124546494139,
          1.1933581947975167,
          -1.0426560248342713,
          0.08732828643538657,
          0.3329346714021422,
          0.015406732187095097,
          -1.2208821836590111,
          1.37925115599276,
          -0.0021740284364161677,
          -0.7139241821707765,
          -0.19727820197878954,
          0.8372822892101166,
          1.0594670766221612,
          1.1254072337082799,
          1.427965150259643,
          0.3496471642051402,
          -0.7616288308439892,
          -1.1845313919354337,
          -0.17747967699706843,
          0.649994802912574,
          0.3041126587233753,
          -1.172829688566211,
          -1.4701448507469361,
          0.33854444006522966,
          0.22917881846691687,
          -0.4156796942910539,
          -0.18684705250454173,
          -0.16557973376077886
         ],
         "xaxis": "x4",
         "y": [
          0.3586331746624718,
          -0.31304376044741095,
          0.9155501015715358,
          -2.102062606588993,
          0.408045526206134,
          -0.2653937053424654,
          -1.0608144632061376,
          0.8320160290835785,
          -0.9049475285738797,
          -0.17744210477049197,
          -1.4540758255989237,
          1.4257420406209662,
          -0.5205046343083947,
          -0.05769834283630299,
          0.47701003735893915,
          -0.04203967170773101,
          0.5954054803347232,
          0.5082602104081628,
          1.5464874830525634,
          0.03252793321033726,
          0.02470780179975145,
          -0.43883588421253367,
          0.7655553628093557,
          0.08479713396327594,
          -0.061697794787186545,
          -1.670028936339304,
          -0.44654185078945124,
          0.3424303635259183,
          -1.4760687974593132,
          1.00411471917094,
          -0.05524154132328517,
          0.014428830329574913,
          -0.3383435301323882,
          1.5183470766720768,
          -0.027803842073751618,
          1.7202240294648374,
          0.0659563768324742,
          0.8220356160516542,
          -0.5351973075051546,
          -0.15985840887473127,
          0.9323610128235857,
          0.6006660833479411,
          -0.8184884530933983,
          0.5152778925589065,
          2.5445342396284483,
          -0.03483860975117482,
          0.5162424224318293,
          0.9591449980497241,
          0.17777377052477863,
          -0.13969697340984139,
          -0.8569053896082983,
          0.2698446001276596,
          -0.19793090917579773,
          0.4250458772262773,
          0.3538791331723721,
          -2.2000463413342275,
          0.4181696188358884,
          -0.5901820888816727,
          0.020414193883099955,
          -0.6489481062883675,
          -0.3821890735220406,
          -0.32985879985063243,
          1.3954598123304571,
          0.05505854723609142,
          -0.6488143149635798,
          -0.21044309167380512,
          0.9436186500108769,
          -0.1344901082326483,
          0.4913203377664391,
          0.3285827524381691,
          -0.22242713380610743,
          -0.4202007414637871,
          0.10092135204452221,
          -0.516654392511781,
          -1.135954562451008,
          -0.7944885228365225,
          -0.8423266383457392,
          -1.359632784546133,
          0.7546560920413921,
          0.6516002595799931,
          0.8126667585524782,
          0.22038804422076191,
          0.054500146304780554,
          0.2125059915603282,
          -0.5119263987642447,
          0.46617177548286015,
          -1.375963954761399,
          0.4262163349180895,
          -1.205184119983154,
          -0.31379656718450993,
          0.4138625705495997,
          0.7663575825164424,
          -2.1174139409310984,
          0.5178801297938571,
          1.780572268688464,
          0.36758656402424283,
          -0.4135886115249514,
          0.8084776519283191,
          1.6336469314010316,
          2.230813714022468
         ],
         "yaxis": "y4"
        },
        {
         "line": {
          "color": "rgba(128, 128, 128, 1.0)",
          "dash": "solid",
          "shape": "linear",
          "width": 1.3
         },
         "marker": {
          "size": 2,
          "symbol": "circle"
         },
         "mode": "markers",
         "name": "B",
         "text": "",
         "type": "scatter",
         "x": [
          0.3586331746624718,
          -0.31304376044741095,
          0.9155501015715358,
          -2.102062606588993,
          0.408045526206134,
          -0.2653937053424654,
          -1.0608144632061376,
          0.8320160290835785,
          -0.9049475285738797,
          -0.17744210477049197,
          -1.4540758255989237,
          1.4257420406209662,
          -0.5205046343083947,
          -0.05769834283630299,
          0.47701003735893915,
          -0.04203967170773101,
          0.5954054803347232,
          0.5082602104081628,
          1.5464874830525634,
          0.03252793321033726,
          0.02470780179975145,
          -0.43883588421253367,
          0.7655553628093557,
          0.08479713396327594,
          -0.061697794787186545,
          -1.670028936339304,
          -0.44654185078945124,
          0.3424303635259183,
          -1.4760687974593132,
          1.00411471917094,
          -0.05524154132328517,
          0.014428830329574913,
          -0.3383435301323882,
          1.5183470766720768,
          -0.027803842073751618,
          1.7202240294648374,
          0.0659563768324742,
          0.8220356160516542,
          -0.5351973075051546,
          -0.15985840887473127,
          0.9323610128235857,
          0.6006660833479411,
          -0.8184884530933983,
          0.5152778925589065,
          2.5445342396284483,
          -0.03483860975117482,
          0.5162424224318293,
          0.9591449980497241,
          0.17777377052477863,
          -0.13969697340984139,
          -0.8569053896082983,
          0.2698446001276596,
          -0.19793090917579773,
          0.4250458772262773,
          0.3538791331723721,
          -2.2000463413342275,
          0.4181696188358884,
          -0.5901820888816727,
          0.020414193883099955,
          -0.6489481062883675,
          -0.3821890735220406,
          -0.32985879985063243,
          1.3954598123304571,
          0.05505854723609142,
          -0.6488143149635798,
          -0.21044309167380512,
          0.9436186500108769,
          -0.1344901082326483,
          0.4913203377664391,
          0.3285827524381691,
          -0.22242713380610743,
          -0.4202007414637871,
          0.10092135204452221,
          -0.516654392511781,
          -1.135954562451008,
          -0.7944885228365225,
          -0.8423266383457392,
          -1.359632784546133,
          0.7546560920413921,
          0.6516002595799931,
          0.8126667585524782,
          0.22038804422076191,
          0.054500146304780554,
          0.2125059915603282,
          -0.5119263987642447,
          0.46617177548286015,
          -1.375963954761399,
          0.4262163349180895,
          -1.205184119983154,
          -0.31379656718450993,
          0.4138625705495997,
          0.7663575825164424,
          -2.1174139409310984,
          0.5178801297938571,
          1.780572268688464,
          0.36758656402424283,
          -0.4135886115249514,
          0.8084776519283191,
          1.6336469314010316,
          2.230813714022468
         ],
         "xaxis": "x5",
         "y": [
          -1.0590548720581747,
          -0.39190242572096723,
          0.2962891691222517,
          -0.5490583168335752,
          0.0883346775218682,
          -0.6114291879106363,
          -0.6373993095400021,
          -1.3757372678673856,
          0.7710307905294411,
          -0.7952282574924998,
          -1.0665821766458694,
          1.069364678832217,
          1.1469578718082771,
          -0.25199465875749505,
          0.7048053127514355,
          -0.70141193883703,
          -0.9687943837773987,
          -0.5179377536668606,
          1.0367137748339337,
          -0.926940875305391,
          -0.6431803601851102,
          -0.008176871309322228,
          -0.9552975301203914,
          -0.7588749739508795,
          0.8832832893949047,
          1.1755358794506057,
          -0.20549235635876878,
          -0.7491598214547203,
          -0.5734776537078125,
          0.49246483038810485,
          1.1571408435365964,
          0.35950239520271465,
          -0.9814813990037048,
          -0.3302371152060421,
          1.4279786237553096,
          0.09368539541218573,
          -0.05148049977783981,
          2.3212174669434593,
          -0.1741133687184468,
          1.1003712836406296,
          1.632706051966583,
          1.3341292330096408,
          1.2792614080957836,
          -0.9846673910400024,
          1.9008435066570037,
          0.8600680929881195,
          -0.6027765692000642,
          -0.46044062423880017,
          0.2036331641753118,
          1.6091632381996916,
          0.8319891984314672,
          -2.106481912504469,
          1.1587762643350736,
          0.4378282837245897,
          -0.6787113924870258,
          -1.3015491673560238,
          -0.4699970597901284,
          0.03448216204286796,
          -0.3921004216330228,
          0.4011602423714026,
          0.964934167991005,
          -1.5316121923083093,
          -2.708464465730562,
          0.1739441911266945,
          -0.24987881590183947,
          0.09772182633380014,
          0.7974157087788826,
          -0.06760707005609054,
          -1.0605788914082304,
          -1.0922449732655897,
          -0.46724550141681537,
          -1.311758303544521,
          1.5805631331227574,
          -2.7451393680018104,
          1.590657386425081,
          2.1594987472119085,
          0.8093209994861948,
          1.1872539693294126,
          -0.9376083371748265,
          -1.9880405933877292,
          -0.016931850993996047,
          0.19283107581930145,
          -1.2621201220902507,
          1.4219944905623008,
          0.03945646289475185,
          1.3468725540679272,
          0.3352148321341624,
          -0.7607245053299654,
          -1.3632969757334765,
          -0.25955811948574004,
          0.45549145421093473,
          -0.1296347833779436,
          0.04802303523424992,
          0.31671978263710604,
          -0.8908041289921246,
          0.6270179003637465,
          -0.1845078406753882,
          2.294840618932753,
          -1.8898838801321691,
          1.758211240623883
         ],
         "yaxis": "y5"
        },
        {
         "histfunc": "count",
         "histnorm": "",
         "marker": {
          "color": "rgba(55, 128, 191, 1.0)",
          "line": {
           "color": "#4D5663",
           "width": 1.3
          }
         },
         "name": "B",
         "nbinsx": 10,
         "opacity": 0.8,
         "orientation": "v",
         "type": "histogram",
         "x": [
          -1.0590548720581747,
          -0.39190242572096723,
          0.2962891691222517,
          -0.5490583168335752,
          0.0883346775218682,
          -0.6114291879106363,
          -0.6373993095400021,
          -1.3757372678673856,
          0.7710307905294411,
          -0.7952282574924998,
          -1.0665821766458694,
          1.069364678832217,
          1.1469578718082771,
          -0.25199465875749505,
          0.7048053127514355,
          -0.70141193883703,
          -0.9687943837773987,
          -0.5179377536668606,
          1.0367137748339337,
          -0.926940875305391,
          -0.6431803601851102,
          -0.008176871309322228,
          -0.9552975301203914,
          -0.7588749739508795,
          0.8832832893949047,
          1.1755358794506057,
          -0.20549235635876878,
          -0.7491598214547203,
          -0.5734776537078125,
          0.49246483038810485,
          1.1571408435365964,
          0.35950239520271465,
          -0.9814813990037048,
          -0.3302371152060421,
          1.4279786237553096,
          0.09368539541218573,
          -0.05148049977783981,
          2.3212174669434593,
          -0.1741133687184468,
          1.1003712836406296,
          1.632706051966583,
          1.3341292330096408,
          1.2792614080957836,
          -0.9846673910400024,
          1.9008435066570037,
          0.8600680929881195,
          -0.6027765692000642,
          -0.46044062423880017,
          0.2036331641753118,
          1.6091632381996916,
          0.8319891984314672,
          -2.106481912504469,
          1.1587762643350736,
          0.4378282837245897,
          -0.6787113924870258,
          -1.3015491673560238,
          -0.4699970597901284,
          0.03448216204286796,
          -0.3921004216330228,
          0.4011602423714026,
          0.964934167991005,
          -1.5316121923083093,
          -2.708464465730562,
          0.1739441911266945,
          -0.24987881590183947,
          0.09772182633380014,
          0.7974157087788826,
          -0.06760707005609054,
          -1.0605788914082304,
          -1.0922449732655897,
          -0.46724550141681537,
          -1.311758303544521,
          1.5805631331227574,
          -2.7451393680018104,
          1.590657386425081,
          2.1594987472119085,
          0.8093209994861948,
          1.1872539693294126,
          -0.9376083371748265,
          -1.9880405933877292,
          -0.016931850993996047,
          0.19283107581930145,
          -1.2621201220902507,
          1.4219944905623008,
          0.03945646289475185,
          1.3468725540679272,
          0.3352148321341624,
          -0.7607245053299654,
          -1.3632969757334765,
          -0.25955811948574004,
          0.45549145421093473,
          -0.1296347833779436,
          0.04802303523424992,
          0.31671978263710604,
          -0.8908041289921246,
          0.6270179003637465,
          -0.1845078406753882,
          2.294840618932753,
          -1.8898838801321691,
          1.758211240623883
         ],
         "xaxis": "x6",
         "yaxis": "y6"
        },
        {
         "line": {
          "color": "rgba(128, 128, 128, 1.0)",
          "dash": "solid",
          "shape": "linear",
          "width": 1.3
         },
         "marker": {
          "size": 2,
          "symbol": "circle"
         },
         "mode": "markers",
         "name": "B",
         "text": "",
         "type": "scatter",
         "x": [
          0.32429037739075883,
          1.1879409631045386,
          -0.38088091795317913,
          0.14806323550316,
          -0.5709168393551085,
          1.3853505290062362,
          0.030960518731206272,
          0.3938230637983112,
          0.6773066094802366,
          -0.1163003670518374,
          -0.7582509421132919,
          -0.38467937176662037,
          0.9367872426180641,
          0.3094300782732029,
          0.09601419265197059,
          0.5995511429549369,
          1.4439688168872717,
          -1.0965528579612354,
          -0.40781181780874987,
          -0.5913778404732251,
          0.7295991376359017,
          1.5579853159921473,
          0.05803394864840696,
          -1.248098266950036,
          1.4794877768861923,
          -2.394365890320898,
          0.874562873382905,
          -0.6699357548158725,
          -0.6961017168474808,
          -0.36174763518653275,
          1.4517901086461655,
          0.660505118013835,
          0.622063497987493,
          -0.054301146606529675,
          -0.37886913279578677,
          -0.008960006479370229,
          0.21263647906035765,
          0.14148615088666414,
          0.037315302544217124,
          0.6002888863566334,
          1.3398864669756754,
          0.5632927848357131,
          0.43994020088676306,
          -0.6424879662806519,
          0.8414231989301041,
          -0.263665109298404,
          1.0650209103243846,
          -0.4987174826350073,
          -0.029727275897059015,
          0.4811271849515231,
          -1.0639989151092917,
          2.7269733913483805,
          0.4202847481492167,
          0.23013615231109463,
          -0.19052950306876407,
          -0.07535647639230537,
          -0.10870803868613195,
          -1.7764691803724073,
          -0.20847521854327986,
          -0.9683394823778462,
          0.35115001230946635,
          1.6892276963651842,
          1.3804853265597006,
          2.921534826638845,
          -0.4309883401900627,
          -0.8817523768739174,
          0.27541040786185467,
          -0.3747113263296264,
          0.9740657170289369,
          -0.9702017630654753,
          -0.04811530584331376,
          -0.5383813969987241,
          0.16096932939744013,
          0.15306539136772737,
          -1.4896596280606906,
          -0.041852603529642,
          -1.2837275685397316,
          0.08498459969796693,
          0.6932661399547978,
          -0.48656111657997136,
          0.03244938448296639,
          0.5707242925265023,
          0.9752035089851828,
          1.5493900379188106,
          0.8698503692117641,
          -0.42065578813403187,
          -1.5706299711399163,
          -0.2347536852870114,
          -1.450009680526141,
          -0.5572941809131361,
          1.7607885483739076,
          0.1642451193947591,
          1.3806465480402927,
          0.5900768079783596,
          1.120446209170726,
          1.2089700577352944,
          -0.6984128021106067,
          0.3205901289951289,
          0.37574731970374725,
          0.30972045037775137
         ],
         "xaxis": "x7",
         "y": [
          -1.0590548720581747,
          -0.39190242572096723,
          0.2962891691222517,
          -0.5490583168335752,
          0.0883346775218682,
          -0.6114291879106363,
          -0.6373993095400021,
          -1.3757372678673856,
          0.7710307905294411,
          -0.7952282574924998,
          -1.0665821766458694,
          1.069364678832217,
          1.1469578718082771,
          -0.25199465875749505,
          0.7048053127514355,
          -0.70141193883703,
          -0.9687943837773987,
          -0.5179377536668606,
          1.0367137748339337,
          -0.926940875305391,
          -0.6431803601851102,
          -0.008176871309322228,
          -0.9552975301203914,
          -0.7588749739508795,
          0.8832832893949047,
          1.1755358794506057,
          -0.20549235635876878,
          -0.7491598214547203,
          -0.5734776537078125,
          0.49246483038810485,
          1.1571408435365964,
          0.35950239520271465,
          -0.9814813990037048,
          -0.3302371152060421,
          1.4279786237553096,
          0.09368539541218573,
          -0.05148049977783981,
          2.3212174669434593,
          -0.1741133687184468,
          1.1003712836406296,
          1.632706051966583,
          1.3341292330096408,
          1.2792614080957836,
          -0.9846673910400024,
          1.9008435066570037,
          0.8600680929881195,
          -0.6027765692000642,
          -0.46044062423880017,
          0.2036331641753118,
          1.6091632381996916,
          0.8319891984314672,
          -2.106481912504469,
          1.1587762643350736,
          0.4378282837245897,
          -0.6787113924870258,
          -1.3015491673560238,
          -0.4699970597901284,
          0.03448216204286796,
          -0.3921004216330228,
          0.4011602423714026,
          0.964934167991005,
          -1.5316121923083093,
          -2.708464465730562,
          0.1739441911266945,
          -0.24987881590183947,
          0.09772182633380014,
          0.7974157087788826,
          -0.06760707005609054,
          -1.0605788914082304,
          -1.0922449732655897,
          -0.46724550141681537,
          -1.311758303544521,
          1.5805631331227574,
          -2.7451393680018104,
          1.590657386425081,
          2.1594987472119085,
          0.8093209994861948,
          1.1872539693294126,
          -0.9376083371748265,
          -1.9880405933877292,
          -0.016931850993996047,
          0.19283107581930145,
          -1.2621201220902507,
          1.4219944905623008,
          0.03945646289475185,
          1.3468725540679272,
          0.3352148321341624,
          -0.7607245053299654,
          -1.3632969757334765,
          -0.25955811948574004,
          0.45549145421093473,
          -0.1296347833779436,
          0.04802303523424992,
          0.31671978263710604,
          -0.8908041289921246,
          0.6270179003637465,
          -0.1845078406753882,
          2.294840618932753,
          -1.8898838801321691,
          1.758211240623883
         ],
         "yaxis": "y7"
        },
        {
         "line": {
          "color": "rgba(128, 128, 128, 1.0)",
          "dash": "solid",
          "shape": "linear",
          "width": 1.3
         },
         "marker": {
          "size": 2,
          "symbol": "circle"
         },
         "mode": "markers",
         "name": "B",
         "text": "",
         "type": "scatter",
         "x": [
          -0.3464588048417761,
          -0.647906547324458,
          0.3486779613719423,
          0.16578621922162767,
          -0.6930802152809857,
          -0.27001530192403844,
          2.199341644606675,
          0.6100190730886883,
          2.102550400217976,
          1.3032923422411529,
          -0.049762067909215585,
          1.0518251360175972,
          2.606214122416171,
          -0.2623492398003455,
          -3.1647169619393614,
          -0.372542819978809,
          0.14946434187215132,
          0.06191615910061245,
          -1.1814026933119086,
          -0.2766721067868842,
          -0.9524484776847364,
          0.890087121411412,
          0.16536143007143075,
          2.0950209738087247,
          0.6678254539418913,
          -2.4541658108616398,
          0.7272111499537395,
          -1.0632955813088365,
          0.5563393644310032,
          0.7007756021443959,
          -0.7634004670299073,
          -1.0366226598965147,
          0.8013304757037002,
          -0.9575358416562028,
          -1.2219996303846936,
          0.8411087011278587,
          -2.6876492176403706,
          0.21697871372465866,
          0.8661761718498764,
          -0.004477953671440384,
          -0.24156899072457647,
          -1.191982405527518,
          -1.830769949480394,
          -0.3603791966519778,
          -1.8541561044408092,
          -0.8269509146760182,
          1.2351690456101407,
          -0.7374726976400329,
          1.1496626540716828,
          0.11539306667485381,
          -0.5874759092324688,
          -0.29647288445001413,
          0.8043685590974445,
          -0.25129479981146213,
          -0.009082767107194573,
          0.8249201350185461,
          -0.9041916236427177,
          -0.2598132126343078,
          2.5209152581221406,
          -0.7414821119261477,
          0.6528585246841945,
          0.4727346988738507,
          -0.4255885388211691,
          -0.33523865860121993,
          0.002340531266801451,
          1.1677113148248681,
          0.4436607499705828,
          -1.1378815712598933,
          -0.9528152338377582,
          1.3354358098041545,
          -0.4143195912799377,
          -0.27195585863102767,
          -0.5128124546494139,
          1.1933581947975167,
          -1.0426560248342713,
          0.08732828643538657,
          0.3329346714021422,
          0.015406732187095097,
          -1.2208821836590111,
          1.37925115599276,
          -0.0021740284364161677,
          -0.7139241821707765,
          -0.19727820197878954,
          0.8372822892101166,
          1.0594670766221612,
          1.1254072337082799,
          1.427965150259643,
          0.3496471642051402,
          -0.7616288308439892,
          -1.1845313919354337,
          -0.17747967699706843,
          0.649994802912574,
          0.3041126587233753,
          -1.172829688566211,
          -1.4701448507469361,
          0.33854444006522966,
          0.22917881846691687,
          -0.4156796942910539,
          -0.18684705250454173,
          -0.16557973376077886
         ],
         "xaxis": "x8",
         "y": [
          -1.0590548720581747,
          -0.39190242572096723,
          0.2962891691222517,
          -0.5490583168335752,
          0.0883346775218682,
          -0.6114291879106363,
          -0.6373993095400021,
          -1.3757372678673856,
          0.7710307905294411,
          -0.7952282574924998,
          -1.0665821766458694,
          1.069364678832217,
          1.1469578718082771,
          -0.25199465875749505,
          0.7048053127514355,
          -0.70141193883703,
          -0.9687943837773987,
          -0.5179377536668606,
          1.0367137748339337,
          -0.926940875305391,
          -0.6431803601851102,
          -0.008176871309322228,
          -0.9552975301203914,
          -0.7588749739508795,
          0.8832832893949047,
          1.1755358794506057,
          -0.20549235635876878,
          -0.7491598214547203,
          -0.5734776537078125,
          0.49246483038810485,
          1.1571408435365964,
          0.35950239520271465,
          -0.9814813990037048,
          -0.3302371152060421,
          1.4279786237553096,
          0.09368539541218573,
          -0.05148049977783981,
          2.3212174669434593,
          -0.1741133687184468,
          1.1003712836406296,
          1.632706051966583,
          1.3341292330096408,
          1.2792614080957836,
          -0.9846673910400024,
          1.9008435066570037,
          0.8600680929881195,
          -0.6027765692000642,
          -0.46044062423880017,
          0.2036331641753118,
          1.6091632381996916,
          0.8319891984314672,
          -2.106481912504469,
          1.1587762643350736,
          0.4378282837245897,
          -0.6787113924870258,
          -1.3015491673560238,
          -0.4699970597901284,
          0.03448216204286796,
          -0.3921004216330228,
          0.4011602423714026,
          0.964934167991005,
          -1.5316121923083093,
          -2.708464465730562,
          0.1739441911266945,
          -0.24987881590183947,
          0.09772182633380014,
          0.7974157087788826,
          -0.06760707005609054,
          -1.0605788914082304,
          -1.0922449732655897,
          -0.46724550141681537,
          -1.311758303544521,
          1.5805631331227574,
          -2.7451393680018104,
          1.590657386425081,
          2.1594987472119085,
          0.8093209994861948,
          1.1872539693294126,
          -0.9376083371748265,
          -1.9880405933877292,
          -0.016931850993996047,
          0.19283107581930145,
          -1.2621201220902507,
          1.4219944905623008,
          0.03945646289475185,
          1.3468725540679272,
          0.3352148321341624,
          -0.7607245053299654,
          -1.3632969757334765,
          -0.25955811948574004,
          0.45549145421093473,
          -0.1296347833779436,
          0.04802303523424992,
          0.31671978263710604,
          -0.8908041289921246,
          0.6270179003637465,
          -0.1845078406753882,
          2.294840618932753,
          -1.8898838801321691,
          1.758211240623883
         ],
         "yaxis": "y8"
        },
        {
         "line": {
          "color": "rgba(128, 128, 128, 1.0)",
          "dash": "solid",
          "shape": "linear",
          "width": 1.3
         },
         "marker": {
          "size": 2,
          "symbol": "circle"
         },
         "mode": "markers",
         "name": "C",
         "text": "",
         "type": "scatter",
         "x": [
          0.3586331746624718,
          -0.31304376044741095,
          0.9155501015715358,
          -2.102062606588993,
          0.408045526206134,
          -0.2653937053424654,
          -1.0608144632061376,
          0.8320160290835785,
          -0.9049475285738797,
          -0.17744210477049197,
          -1.4540758255989237,
          1.4257420406209662,
          -0.5205046343083947,
          -0.05769834283630299,
          0.47701003735893915,
          -0.04203967170773101,
          0.5954054803347232,
          0.5082602104081628,
          1.5464874830525634,
          0.03252793321033726,
          0.02470780179975145,
          -0.43883588421253367,
          0.7655553628093557,
          0.08479713396327594,
          -0.061697794787186545,
          -1.670028936339304,
          -0.44654185078945124,
          0.3424303635259183,
          -1.4760687974593132,
          1.00411471917094,
          -0.05524154132328517,
          0.014428830329574913,
          -0.3383435301323882,
          1.5183470766720768,
          -0.027803842073751618,
          1.7202240294648374,
          0.0659563768324742,
          0.8220356160516542,
          -0.5351973075051546,
          -0.15985840887473127,
          0.9323610128235857,
          0.6006660833479411,
          -0.8184884530933983,
          0.5152778925589065,
          2.5445342396284483,
          -0.03483860975117482,
          0.5162424224318293,
          0.9591449980497241,
          0.17777377052477863,
          -0.13969697340984139,
          -0.8569053896082983,
          0.2698446001276596,
          -0.19793090917579773,
          0.4250458772262773,
          0.3538791331723721,
          -2.2000463413342275,
          0.4181696188358884,
          -0.5901820888816727,
          0.020414193883099955,
          -0.6489481062883675,
          -0.3821890735220406,
          -0.32985879985063243,
          1.3954598123304571,
          0.05505854723609142,
          -0.6488143149635798,
          -0.21044309167380512,
          0.9436186500108769,
          -0.1344901082326483,
          0.4913203377664391,
          0.3285827524381691,
          -0.22242713380610743,
          -0.4202007414637871,
          0.10092135204452221,
          -0.516654392511781,
          -1.135954562451008,
          -0.7944885228365225,
          -0.8423266383457392,
          -1.359632784546133,
          0.7546560920413921,
          0.6516002595799931,
          0.8126667585524782,
          0.22038804422076191,
          0.054500146304780554,
          0.2125059915603282,
          -0.5119263987642447,
          0.46617177548286015,
          -1.375963954761399,
          0.4262163349180895,
          -1.205184119983154,
          -0.31379656718450993,
          0.4138625705495997,
          0.7663575825164424,
          -2.1174139409310984,
          0.5178801297938571,
          1.780572268688464,
          0.36758656402424283,
          -0.4135886115249514,
          0.8084776519283191,
          1.6336469314010316,
          2.230813714022468
         ],
         "xaxis": "x9",
         "y": [
          0.32429037739075883,
          1.1879409631045386,
          -0.38088091795317913,
          0.14806323550316,
          -0.5709168393551085,
          1.3853505290062362,
          0.030960518731206272,
          0.3938230637983112,
          0.6773066094802366,
          -0.1163003670518374,
          -0.7582509421132919,
          -0.38467937176662037,
          0.9367872426180641,
          0.3094300782732029,
          0.09601419265197059,
          0.5995511429549369,
          1.4439688168872717,
          -1.0965528579612354,
          -0.40781181780874987,
          -0.5913778404732251,
          0.7295991376359017,
          1.5579853159921473,
          0.05803394864840696,
          -1.248098266950036,
          1.4794877768861923,
          -2.394365890320898,
          0.874562873382905,
          -0.6699357548158725,
          -0.6961017168474808,
          -0.36174763518653275,
          1.4517901086461655,
          0.660505118013835,
          0.622063497987493,
          -0.054301146606529675,
          -0.37886913279578677,
          -0.008960006479370229,
          0.21263647906035765,
          0.14148615088666414,
          0.037315302544217124,
          0.6002888863566334,
          1.3398864669756754,
          0.5632927848357131,
          0.43994020088676306,
          -0.6424879662806519,
          0.8414231989301041,
          -0.263665109298404,
          1.0650209103243846,
          -0.4987174826350073,
          -0.029727275897059015,
          0.4811271849515231,
          -1.0639989151092917,
          2.7269733913483805,
          0.4202847481492167,
          0.23013615231109463,
          -0.19052950306876407,
          -0.07535647639230537,
          -0.10870803868613195,
          -1.7764691803724073,
          -0.20847521854327986,
          -0.9683394823778462,
          0.35115001230946635,
          1.6892276963651842,
          1.3804853265597006,
          2.921534826638845,
          -0.4309883401900627,
          -0.8817523768739174,
          0.27541040786185467,
          -0.3747113263296264,
          0.9740657170289369,
          -0.9702017630654753,
          -0.04811530584331376,
          -0.5383813969987241,
          0.16096932939744013,
          0.15306539136772737,
          -1.4896596280606906,
          -0.041852603529642,
          -1.2837275685397316,
          0.08498459969796693,
          0.6932661399547978,
          -0.48656111657997136,
          0.03244938448296639,
          0.5707242925265023,
          0.9752035089851828,
          1.5493900379188106,
          0.8698503692117641,
          -0.42065578813403187,
          -1.5706299711399163,
          -0.2347536852870114,
          -1.450009680526141,
          -0.5572941809131361,
          1.7607885483739076,
          0.1642451193947591,
          1.3806465480402927,
          0.5900768079783596,
          1.120446209170726,
          1.2089700577352944,
          -0.6984128021106067,
          0.3205901289951289,
          0.37574731970374725,
          0.30972045037775137
         ],
         "yaxis": "y9"
        },
        {
         "line": {
          "color": "rgba(128, 128, 128, 1.0)",
          "dash": "solid",
          "shape": "linear",
          "width": 1.3
         },
         "marker": {
          "size": 2,
          "symbol": "circle"
         },
         "mode": "markers",
         "name": "C",
         "text": "",
         "type": "scatter",
         "x": [
          -1.0590548720581747,
          -0.39190242572096723,
          0.2962891691222517,
          -0.5490583168335752,
          0.0883346775218682,
          -0.6114291879106363,
          -0.6373993095400021,
          -1.3757372678673856,
          0.7710307905294411,
          -0.7952282574924998,
          -1.0665821766458694,
          1.069364678832217,
          1.1469578718082771,
          -0.25199465875749505,
          0.7048053127514355,
          -0.70141193883703,
          -0.9687943837773987,
          -0.5179377536668606,
          1.0367137748339337,
          -0.926940875305391,
          -0.6431803601851102,
          -0.008176871309322228,
          -0.9552975301203914,
          -0.7588749739508795,
          0.8832832893949047,
          1.1755358794506057,
          -0.20549235635876878,
          -0.7491598214547203,
          -0.5734776537078125,
          0.49246483038810485,
          1.1571408435365964,
          0.35950239520271465,
          -0.9814813990037048,
          -0.3302371152060421,
          1.4279786237553096,
          0.09368539541218573,
          -0.05148049977783981,
          2.3212174669434593,
          -0.1741133687184468,
          1.1003712836406296,
          1.632706051966583,
          1.3341292330096408,
          1.2792614080957836,
          -0.9846673910400024,
          1.9008435066570037,
          0.8600680929881195,
          -0.6027765692000642,
          -0.46044062423880017,
          0.2036331641753118,
          1.6091632381996916,
          0.8319891984314672,
          -2.106481912504469,
          1.1587762643350736,
          0.4378282837245897,
          -0.6787113924870258,
          -1.3015491673560238,
          -0.4699970597901284,
          0.03448216204286796,
          -0.3921004216330228,
          0.4011602423714026,
          0.964934167991005,
          -1.5316121923083093,
          -2.708464465730562,
          0.1739441911266945,
          -0.24987881590183947,
          0.09772182633380014,
          0.7974157087788826,
          -0.06760707005609054,
          -1.0605788914082304,
          -1.0922449732655897,
          -0.46724550141681537,
          -1.311758303544521,
          1.5805631331227574,
          -2.7451393680018104,
          1.590657386425081,
          2.1594987472119085,
          0.8093209994861948,
          1.1872539693294126,
          -0.9376083371748265,
          -1.9880405933877292,
          -0.016931850993996047,
          0.19283107581930145,
          -1.2621201220902507,
          1.4219944905623008,
          0.03945646289475185,
          1.3468725540679272,
          0.3352148321341624,
          -0.7607245053299654,
          -1.3632969757334765,
          -0.25955811948574004,
          0.45549145421093473,
          -0.1296347833779436,
          0.04802303523424992,
          0.31671978263710604,
          -0.8908041289921246,
          0.6270179003637465,
          -0.1845078406753882,
          2.294840618932753,
          -1.8898838801321691,
          1.758211240623883
         ],
         "xaxis": "x10",
         "y": [
          0.32429037739075883,
          1.1879409631045386,
          -0.38088091795317913,
          0.14806323550316,
          -0.5709168393551085,
          1.3853505290062362,
          0.030960518731206272,
          0.3938230637983112,
          0.6773066094802366,
          -0.1163003670518374,
          -0.7582509421132919,
          -0.38467937176662037,
          0.9367872426180641,
          0.3094300782732029,
          0.09601419265197059,
          0.5995511429549369,
          1.4439688168872717,
          -1.0965528579612354,
          -0.40781181780874987,
          -0.5913778404732251,
          0.7295991376359017,
          1.5579853159921473,
          0.05803394864840696,
          -1.248098266950036,
          1.4794877768861923,
          -2.394365890320898,
          0.874562873382905,
          -0.6699357548158725,
          -0.6961017168474808,
          -0.36174763518653275,
          1.4517901086461655,
          0.660505118013835,
          0.622063497987493,
          -0.054301146606529675,
          -0.37886913279578677,
          -0.008960006479370229,
          0.21263647906035765,
          0.14148615088666414,
          0.037315302544217124,
          0.6002888863566334,
          1.3398864669756754,
          0.5632927848357131,
          0.43994020088676306,
          -0.6424879662806519,
          0.8414231989301041,
          -0.263665109298404,
          1.0650209103243846,
          -0.4987174826350073,
          -0.029727275897059015,
          0.4811271849515231,
          -1.0639989151092917,
          2.7269733913483805,
          0.4202847481492167,
          0.23013615231109463,
          -0.19052950306876407,
          -0.07535647639230537,
          -0.10870803868613195,
          -1.7764691803724073,
          -0.20847521854327986,
          -0.9683394823778462,
          0.35115001230946635,
          1.6892276963651842,
          1.3804853265597006,
          2.921534826638845,
          -0.4309883401900627,
          -0.8817523768739174,
          0.27541040786185467,
          -0.3747113263296264,
          0.9740657170289369,
          -0.9702017630654753,
          -0.04811530584331376,
          -0.5383813969987241,
          0.16096932939744013,
          0.15306539136772737,
          -1.4896596280606906,
          -0.041852603529642,
          -1.2837275685397316,
          0.08498459969796693,
          0.6932661399547978,
          -0.48656111657997136,
          0.03244938448296639,
          0.5707242925265023,
          0.9752035089851828,
          1.5493900379188106,
          0.8698503692117641,
          -0.42065578813403187,
          -1.5706299711399163,
          -0.2347536852870114,
          -1.450009680526141,
          -0.5572941809131361,
          1.7607885483739076,
          0.1642451193947591,
          1.3806465480402927,
          0.5900768079783596,
          1.120446209170726,
          1.2089700577352944,
          -0.6984128021106067,
          0.3205901289951289,
          0.37574731970374725,
          0.30972045037775137
         ],
         "yaxis": "y10"
        },
        {
         "histfunc": "count",
         "histnorm": "",
         "marker": {
          "color": "rgba(50, 171, 96, 1.0)",
          "line": {
           "color": "#4D5663",
           "width": 1.3
          }
         },
         "name": "C",
         "nbinsx": 10,
         "opacity": 0.8,
         "orientation": "v",
         "type": "histogram",
         "x": [
          0.32429037739075883,
          1.1879409631045386,
          -0.38088091795317913,
          0.14806323550316,
          -0.5709168393551085,
          1.3853505290062362,
          0.030960518731206272,
          0.3938230637983112,
          0.6773066094802366,
          -0.1163003670518374,
          -0.7582509421132919,
          -0.38467937176662037,
          0.9367872426180641,
          0.3094300782732029,
          0.09601419265197059,
          0.5995511429549369,
          1.4439688168872717,
          -1.0965528579612354,
          -0.40781181780874987,
          -0.5913778404732251,
          0.7295991376359017,
          1.5579853159921473,
          0.05803394864840696,
          -1.248098266950036,
          1.4794877768861923,
          -2.394365890320898,
          0.874562873382905,
          -0.6699357548158725,
          -0.6961017168474808,
          -0.36174763518653275,
          1.4517901086461655,
          0.660505118013835,
          0.622063497987493,
          -0.054301146606529675,
          -0.37886913279578677,
          -0.008960006479370229,
          0.21263647906035765,
          0.14148615088666414,
          0.037315302544217124,
          0.6002888863566334,
          1.3398864669756754,
          0.5632927848357131,
          0.43994020088676306,
          -0.6424879662806519,
          0.8414231989301041,
          -0.263665109298404,
          1.0650209103243846,
          -0.4987174826350073,
          -0.029727275897059015,
          0.4811271849515231,
          -1.0639989151092917,
          2.7269733913483805,
          0.4202847481492167,
          0.23013615231109463,
          -0.19052950306876407,
          -0.07535647639230537,
          -0.10870803868613195,
          -1.7764691803724073,
          -0.20847521854327986,
          -0.9683394823778462,
          0.35115001230946635,
          1.6892276963651842,
          1.3804853265597006,
          2.921534826638845,
          -0.4309883401900627,
          -0.8817523768739174,
          0.27541040786185467,
          -0.3747113263296264,
          0.9740657170289369,
          -0.9702017630654753,
          -0.04811530584331376,
          -0.5383813969987241,
          0.16096932939744013,
          0.15306539136772737,
          -1.4896596280606906,
          -0.041852603529642,
          -1.2837275685397316,
          0.08498459969796693,
          0.6932661399547978,
          -0.48656111657997136,
          0.03244938448296639,
          0.5707242925265023,
          0.9752035089851828,
          1.5493900379188106,
          0.8698503692117641,
          -0.42065578813403187,
          -1.5706299711399163,
          -0.2347536852870114,
          -1.450009680526141,
          -0.5572941809131361,
          1.7607885483739076,
          0.1642451193947591,
          1.3806465480402927,
          0.5900768079783596,
          1.120446209170726,
          1.2089700577352944,
          -0.6984128021106067,
          0.3205901289951289,
          0.37574731970374725,
          0.30972045037775137
         ],
         "xaxis": "x11",
         "yaxis": "y11"
        },
        {
         "line": {
          "color": "rgba(128, 128, 128, 1.0)",
          "dash": "solid",
          "shape": "linear",
          "width": 1.3
         },
         "marker": {
          "size": 2,
          "symbol": "circle"
         },
         "mode": "markers",
         "name": "C",
         "text": "",
         "type": "scatter",
         "x": [
          -0.3464588048417761,
          -0.647906547324458,
          0.3486779613719423,
          0.16578621922162767,
          -0.6930802152809857,
          -0.27001530192403844,
          2.199341644606675,
          0.6100190730886883,
          2.102550400217976,
          1.3032923422411529,
          -0.049762067909215585,
          1.0518251360175972,
          2.606214122416171,
          -0.2623492398003455,
          -3.1647169619393614,
          -0.372542819978809,
          0.14946434187215132,
          0.06191615910061245,
          -1.1814026933119086,
          -0.2766721067868842,
          -0.9524484776847364,
          0.890087121411412,
          0.16536143007143075,
          2.0950209738087247,
          0.6678254539418913,
          -2.4541658108616398,
          0.7272111499537395,
          -1.0632955813088365,
          0.5563393644310032,
          0.7007756021443959,
          -0.7634004670299073,
          -1.0366226598965147,
          0.8013304757037002,
          -0.9575358416562028,
          -1.2219996303846936,
          0.8411087011278587,
          -2.6876492176403706,
          0.21697871372465866,
          0.8661761718498764,
          -0.004477953671440384,
          -0.24156899072457647,
          -1.191982405527518,
          -1.830769949480394,
          -0.3603791966519778,
          -1.8541561044408092,
          -0.8269509146760182,
          1.2351690456101407,
          -0.7374726976400329,
          1.1496626540716828,
          0.11539306667485381,
          -0.5874759092324688,
          -0.29647288445001413,
          0.8043685590974445,
          -0.25129479981146213,
          -0.009082767107194573,
          0.8249201350185461,
          -0.9041916236427177,
          -0.2598132126343078,
          2.5209152581221406,
          -0.7414821119261477,
          0.6528585246841945,
          0.4727346988738507,
          -0.4255885388211691,
          -0.33523865860121993,
          0.002340531266801451,
          1.1677113148248681,
          0.4436607499705828,
          -1.1378815712598933,
          -0.9528152338377582,
          1.3354358098041545,
          -0.4143195912799377,
          -0.27195585863102767,
          -0.5128124546494139,
          1.1933581947975167,
          -1.0426560248342713,
          0.08732828643538657,
          0.3329346714021422,
          0.015406732187095097,
          -1.2208821836590111,
          1.37925115599276,
          -0.0021740284364161677,
          -0.7139241821707765,
          -0.19727820197878954,
          0.8372822892101166,
          1.0594670766221612,
          1.1254072337082799,
          1.427965150259643,
          0.3496471642051402,
          -0.7616288308439892,
          -1.1845313919354337,
          -0.17747967699706843,
          0.649994802912574,
          0.3041126587233753,
          -1.172829688566211,
          -1.4701448507469361,
          0.33854444006522966,
          0.22917881846691687,
          -0.4156796942910539,
          -0.18684705250454173,
          -0.16557973376077886
         ],
         "xaxis": "x12",
         "y": [
          0.32429037739075883,
          1.1879409631045386,
          -0.38088091795317913,
          0.14806323550316,
          -0.5709168393551085,
          1.3853505290062362,
          0.030960518731206272,
          0.3938230637983112,
          0.6773066094802366,
          -0.1163003670518374,
          -0.7582509421132919,
          -0.38467937176662037,
          0.9367872426180641,
          0.3094300782732029,
          0.09601419265197059,
          0.5995511429549369,
          1.4439688168872717,
          -1.0965528579612354,
          -0.40781181780874987,
          -0.5913778404732251,
          0.7295991376359017,
          1.5579853159921473,
          0.05803394864840696,
          -1.248098266950036,
          1.4794877768861923,
          -2.394365890320898,
          0.874562873382905,
          -0.6699357548158725,
          -0.6961017168474808,
          -0.36174763518653275,
          1.4517901086461655,
          0.660505118013835,
          0.622063497987493,
          -0.054301146606529675,
          -0.37886913279578677,
          -0.008960006479370229,
          0.21263647906035765,
          0.14148615088666414,
          0.037315302544217124,
          0.6002888863566334,
          1.3398864669756754,
          0.5632927848357131,
          0.43994020088676306,
          -0.6424879662806519,
          0.8414231989301041,
          -0.263665109298404,
          1.0650209103243846,
          -0.4987174826350073,
          -0.029727275897059015,
          0.4811271849515231,
          -1.0639989151092917,
          2.7269733913483805,
          0.4202847481492167,
          0.23013615231109463,
          -0.19052950306876407,
          -0.07535647639230537,
          -0.10870803868613195,
          -1.7764691803724073,
          -0.20847521854327986,
          -0.9683394823778462,
          0.35115001230946635,
          1.6892276963651842,
          1.3804853265597006,
          2.921534826638845,
          -0.4309883401900627,
          -0.8817523768739174,
          0.27541040786185467,
          -0.3747113263296264,
          0.9740657170289369,
          -0.9702017630654753,
          -0.04811530584331376,
          -0.5383813969987241,
          0.16096932939744013,
          0.15306539136772737,
          -1.4896596280606906,
          -0.041852603529642,
          -1.2837275685397316,
          0.08498459969796693,
          0.6932661399547978,
          -0.48656111657997136,
          0.03244938448296639,
          0.5707242925265023,
          0.9752035089851828,
          1.5493900379188106,
          0.8698503692117641,
          -0.42065578813403187,
          -1.5706299711399163,
          -0.2347536852870114,
          -1.450009680526141,
          -0.5572941809131361,
          1.7607885483739076,
          0.1642451193947591,
          1.3806465480402927,
          0.5900768079783596,
          1.120446209170726,
          1.2089700577352944,
          -0.6984128021106067,
          0.3205901289951289,
          0.37574731970374725,
          0.30972045037775137
         ],
         "yaxis": "y12"
        },
        {
         "line": {
          "color": "rgba(128, 128, 128, 1.0)",
          "dash": "solid",
          "shape": "linear",
          "width": 1.3
         },
         "marker": {
          "size": 2,
          "symbol": "circle"
         },
         "mode": "markers",
         "name": "D",
         "text": "",
         "type": "scatter",
         "x": [
          0.3586331746624718,
          -0.31304376044741095,
          0.9155501015715358,
          -2.102062606588993,
          0.408045526206134,
          -0.2653937053424654,
          -1.0608144632061376,
          0.8320160290835785,
          -0.9049475285738797,
          -0.17744210477049197,
          -1.4540758255989237,
          1.4257420406209662,
          -0.5205046343083947,
          -0.05769834283630299,
          0.47701003735893915,
          -0.04203967170773101,
          0.5954054803347232,
          0.5082602104081628,
          1.5464874830525634,
          0.03252793321033726,
          0.02470780179975145,
          -0.43883588421253367,
          0.7655553628093557,
          0.08479713396327594,
          -0.061697794787186545,
          -1.670028936339304,
          -0.44654185078945124,
          0.3424303635259183,
          -1.4760687974593132,
          1.00411471917094,
          -0.05524154132328517,
          0.014428830329574913,
          -0.3383435301323882,
          1.5183470766720768,
          -0.027803842073751618,
          1.7202240294648374,
          0.0659563768324742,
          0.8220356160516542,
          -0.5351973075051546,
          -0.15985840887473127,
          0.9323610128235857,
          0.6006660833479411,
          -0.8184884530933983,
          0.5152778925589065,
          2.5445342396284483,
          -0.03483860975117482,
          0.5162424224318293,
          0.9591449980497241,
          0.17777377052477863,
          -0.13969697340984139,
          -0.8569053896082983,
          0.2698446001276596,
          -0.19793090917579773,
          0.4250458772262773,
          0.3538791331723721,
          -2.2000463413342275,
          0.4181696188358884,
          -0.5901820888816727,
          0.020414193883099955,
          -0.6489481062883675,
          -0.3821890735220406,
          -0.32985879985063243,
          1.3954598123304571,
          0.05505854723609142,
          -0.6488143149635798,
          -0.21044309167380512,
          0.9436186500108769,
          -0.1344901082326483,
          0.4913203377664391,
          0.3285827524381691,
          -0.22242713380610743,
          -0.4202007414637871,
          0.10092135204452221,
          -0.516654392511781,
          -1.135954562451008,
          -0.7944885228365225,
          -0.8423266383457392,
          -1.359632784546133,
          0.7546560920413921,
          0.6516002595799931,
          0.8126667585524782,
          0.22038804422076191,
          0.054500146304780554,
          0.2125059915603282,
          -0.5119263987642447,
          0.46617177548286015,
          -1.375963954761399,
          0.4262163349180895,
          -1.205184119983154,
          -0.31379656718450993,
          0.4138625705495997,
          0.7663575825164424,
          -2.1174139409310984,
          0.5178801297938571,
          1.780572268688464,
          0.36758656402424283,
          -0.4135886115249514,
          0.8084776519283191,
          1.6336469314010316,
          2.230813714022468
         ],
         "xaxis": "x13",
         "y": [
          -0.3464588048417761,
          -0.647906547324458,
          0.3486779613719423,
          0.16578621922162767,
          -0.6930802152809857,
          -0.27001530192403844,
          2.199341644606675,
          0.6100190730886883,
          2.102550400217976,
          1.3032923422411529,
          -0.049762067909215585,
          1.0518251360175972,
          2.606214122416171,
          -0.2623492398003455,
          -3.1647169619393614,
          -0.372542819978809,
          0.14946434187215132,
          0.06191615910061245,
          -1.1814026933119086,
          -0.2766721067868842,
          -0.9524484776847364,
          0.890087121411412,
          0.16536143007143075,
          2.0950209738087247,
          0.6678254539418913,
          -2.4541658108616398,
          0.7272111499537395,
          -1.0632955813088365,
          0.5563393644310032,
          0.7007756021443959,
          -0.7634004670299073,
          -1.0366226598965147,
          0.8013304757037002,
          -0.9575358416562028,
          -1.2219996303846936,
          0.8411087011278587,
          -2.6876492176403706,
          0.21697871372465866,
          0.8661761718498764,
          -0.004477953671440384,
          -0.24156899072457647,
          -1.191982405527518,
          -1.830769949480394,
          -0.3603791966519778,
          -1.8541561044408092,
          -0.8269509146760182,
          1.2351690456101407,
          -0.7374726976400329,
          1.1496626540716828,
          0.11539306667485381,
          -0.5874759092324688,
          -0.29647288445001413,
          0.8043685590974445,
          -0.25129479981146213,
          -0.009082767107194573,
          0.8249201350185461,
          -0.9041916236427177,
          -0.2598132126343078,
          2.5209152581221406,
          -0.7414821119261477,
          0.6528585246841945,
          0.4727346988738507,
          -0.4255885388211691,
          -0.33523865860121993,
          0.002340531266801451,
          1.1677113148248681,
          0.4436607499705828,
          -1.1378815712598933,
          -0.9528152338377582,
          1.3354358098041545,
          -0.4143195912799377,
          -0.27195585863102767,
          -0.5128124546494139,
          1.1933581947975167,
          -1.0426560248342713,
          0.08732828643538657,
          0.3329346714021422,
          0.015406732187095097,
          -1.2208821836590111,
          1.37925115599276,
          -0.0021740284364161677,
          -0.7139241821707765,
          -0.19727820197878954,
          0.8372822892101166,
          1.0594670766221612,
          1.1254072337082799,
          1.427965150259643,
          0.3496471642051402,
          -0.7616288308439892,
          -1.1845313919354337,
          -0.17747967699706843,
          0.649994802912574,
          0.3041126587233753,
          -1.172829688566211,
          -1.4701448507469361,
          0.33854444006522966,
          0.22917881846691687,
          -0.4156796942910539,
          -0.18684705250454173,
          -0.16557973376077886
         ],
         "yaxis": "y13"
        },
        {
         "line": {
          "color": "rgba(128, 128, 128, 1.0)",
          "dash": "solid",
          "shape": "linear",
          "width": 1.3
         },
         "marker": {
          "size": 2,
          "symbol": "circle"
         },
         "mode": "markers",
         "name": "D",
         "text": "",
         "type": "scatter",
         "x": [
          -1.0590548720581747,
          -0.39190242572096723,
          0.2962891691222517,
          -0.5490583168335752,
          0.0883346775218682,
          -0.6114291879106363,
          -0.6373993095400021,
          -1.3757372678673856,
          0.7710307905294411,
          -0.7952282574924998,
          -1.0665821766458694,
          1.069364678832217,
          1.1469578718082771,
          -0.25199465875749505,
          0.7048053127514355,
          -0.70141193883703,
          -0.9687943837773987,
          -0.5179377536668606,
          1.0367137748339337,
          -0.926940875305391,
          -0.6431803601851102,
          -0.008176871309322228,
          -0.9552975301203914,
          -0.7588749739508795,
          0.8832832893949047,
          1.1755358794506057,
          -0.20549235635876878,
          -0.7491598214547203,
          -0.5734776537078125,
          0.49246483038810485,
          1.1571408435365964,
          0.35950239520271465,
          -0.9814813990037048,
          -0.3302371152060421,
          1.4279786237553096,
          0.09368539541218573,
          -0.05148049977783981,
          2.3212174669434593,
          -0.1741133687184468,
          1.1003712836406296,
          1.632706051966583,
          1.3341292330096408,
          1.2792614080957836,
          -0.9846673910400024,
          1.9008435066570037,
          0.8600680929881195,
          -0.6027765692000642,
          -0.46044062423880017,
          0.2036331641753118,
          1.6091632381996916,
          0.8319891984314672,
          -2.106481912504469,
          1.1587762643350736,
          0.4378282837245897,
          -0.6787113924870258,
          -1.3015491673560238,
          -0.4699970597901284,
          0.03448216204286796,
          -0.3921004216330228,
          0.4011602423714026,
          0.964934167991005,
          -1.5316121923083093,
          -2.708464465730562,
          0.1739441911266945,
          -0.24987881590183947,
          0.09772182633380014,
          0.7974157087788826,
          -0.06760707005609054,
          -1.0605788914082304,
          -1.0922449732655897,
          -0.46724550141681537,
          -1.311758303544521,
          1.5805631331227574,
          -2.7451393680018104,
          1.590657386425081,
          2.1594987472119085,
          0.8093209994861948,
          1.1872539693294126,
          -0.9376083371748265,
          -1.9880405933877292,
          -0.016931850993996047,
          0.19283107581930145,
          -1.2621201220902507,
          1.4219944905623008,
          0.03945646289475185,
          1.3468725540679272,
          0.3352148321341624,
          -0.7607245053299654,
          -1.3632969757334765,
          -0.25955811948574004,
          0.45549145421093473,
          -0.1296347833779436,
          0.04802303523424992,
          0.31671978263710604,
          -0.8908041289921246,
          0.6270179003637465,
          -0.1845078406753882,
          2.294840618932753,
          -1.8898838801321691,
          1.758211240623883
         ],
         "xaxis": "x14",
         "y": [
          -0.3464588048417761,
          -0.647906547324458,
          0.3486779613719423,
          0.16578621922162767,
          -0.6930802152809857,
          -0.27001530192403844,
          2.199341644606675,
          0.6100190730886883,
          2.102550400217976,
          1.3032923422411529,
          -0.049762067909215585,
          1.0518251360175972,
          2.606214122416171,
          -0.2623492398003455,
          -3.1647169619393614,
          -0.372542819978809,
          0.14946434187215132,
          0.06191615910061245,
          -1.1814026933119086,
          -0.2766721067868842,
          -0.9524484776847364,
          0.890087121411412,
          0.16536143007143075,
          2.0950209738087247,
          0.6678254539418913,
          -2.4541658108616398,
          0.7272111499537395,
          -1.0632955813088365,
          0.5563393644310032,
          0.7007756021443959,
          -0.7634004670299073,
          -1.0366226598965147,
          0.8013304757037002,
          -0.9575358416562028,
          -1.2219996303846936,
          0.8411087011278587,
          -2.6876492176403706,
          0.21697871372465866,
          0.8661761718498764,
          -0.004477953671440384,
          -0.24156899072457647,
          -1.191982405527518,
          -1.830769949480394,
          -0.3603791966519778,
          -1.8541561044408092,
          -0.8269509146760182,
          1.2351690456101407,
          -0.7374726976400329,
          1.1496626540716828,
          0.11539306667485381,
          -0.5874759092324688,
          -0.29647288445001413,
          0.8043685590974445,
          -0.25129479981146213,
          -0.009082767107194573,
          0.8249201350185461,
          -0.9041916236427177,
          -0.2598132126343078,
          2.5209152581221406,
          -0.7414821119261477,
          0.6528585246841945,
          0.4727346988738507,
          -0.4255885388211691,
          -0.33523865860121993,
          0.002340531266801451,
          1.1677113148248681,
          0.4436607499705828,
          -1.1378815712598933,
          -0.9528152338377582,
          1.3354358098041545,
          -0.4143195912799377,
          -0.27195585863102767,
          -0.5128124546494139,
          1.1933581947975167,
          -1.0426560248342713,
          0.08732828643538657,
          0.3329346714021422,
          0.015406732187095097,
          -1.2208821836590111,
          1.37925115599276,
          -0.0021740284364161677,
          -0.7139241821707765,
          -0.19727820197878954,
          0.8372822892101166,
          1.0594670766221612,
          1.1254072337082799,
          1.427965150259643,
          0.3496471642051402,
          -0.7616288308439892,
          -1.1845313919354337,
          -0.17747967699706843,
          0.649994802912574,
          0.3041126587233753,
          -1.172829688566211,
          -1.4701448507469361,
          0.33854444006522966,
          0.22917881846691687,
          -0.4156796942910539,
          -0.18684705250454173,
          -0.16557973376077886
         ],
         "yaxis": "y14"
        },
        {
         "line": {
          "color": "rgba(128, 128, 128, 1.0)",
          "dash": "solid",
          "shape": "linear",
          "width": 1.3
         },
         "marker": {
          "size": 2,
          "symbol": "circle"
         },
         "mode": "markers",
         "name": "D",
         "text": "",
         "type": "scatter",
         "x": [
          0.32429037739075883,
          1.1879409631045386,
          -0.38088091795317913,
          0.14806323550316,
          -0.5709168393551085,
          1.3853505290062362,
          0.030960518731206272,
          0.3938230637983112,
          0.6773066094802366,
          -0.1163003670518374,
          -0.7582509421132919,
          -0.38467937176662037,
          0.9367872426180641,
          0.3094300782732029,
          0.09601419265197059,
          0.5995511429549369,
          1.4439688168872717,
          -1.0965528579612354,
          -0.40781181780874987,
          -0.5913778404732251,
          0.7295991376359017,
          1.5579853159921473,
          0.05803394864840696,
          -1.248098266950036,
          1.4794877768861923,
          -2.394365890320898,
          0.874562873382905,
          -0.6699357548158725,
          -0.6961017168474808,
          -0.36174763518653275,
          1.4517901086461655,
          0.660505118013835,
          0.622063497987493,
          -0.054301146606529675,
          -0.37886913279578677,
          -0.008960006479370229,
          0.21263647906035765,
          0.14148615088666414,
          0.037315302544217124,
          0.6002888863566334,
          1.3398864669756754,
          0.5632927848357131,
          0.43994020088676306,
          -0.6424879662806519,
          0.8414231989301041,
          -0.263665109298404,
          1.0650209103243846,
          -0.4987174826350073,
          -0.029727275897059015,
          0.4811271849515231,
          -1.0639989151092917,
          2.7269733913483805,
          0.4202847481492167,
          0.23013615231109463,
          -0.19052950306876407,
          -0.07535647639230537,
          -0.10870803868613195,
          -1.7764691803724073,
          -0.20847521854327986,
          -0.9683394823778462,
          0.35115001230946635,
          1.6892276963651842,
          1.3804853265597006,
          2.921534826638845,
          -0.4309883401900627,
          -0.8817523768739174,
          0.27541040786185467,
          -0.3747113263296264,
          0.9740657170289369,
          -0.9702017630654753,
          -0.04811530584331376,
          -0.5383813969987241,
          0.16096932939744013,
          0.15306539136772737,
          -1.4896596280606906,
          -0.041852603529642,
          -1.2837275685397316,
          0.08498459969796693,
          0.6932661399547978,
          -0.48656111657997136,
          0.03244938448296639,
          0.5707242925265023,
          0.9752035089851828,
          1.5493900379188106,
          0.8698503692117641,
          -0.42065578813403187,
          -1.5706299711399163,
          -0.2347536852870114,
          -1.450009680526141,
          -0.5572941809131361,
          1.7607885483739076,
          0.1642451193947591,
          1.3806465480402927,
          0.5900768079783596,
          1.120446209170726,
          1.2089700577352944,
          -0.6984128021106067,
          0.3205901289951289,
          0.37574731970374725,
          0.30972045037775137
         ],
         "xaxis": "x15",
         "y": [
          -0.3464588048417761,
          -0.647906547324458,
          0.3486779613719423,
          0.16578621922162767,
          -0.6930802152809857,
          -0.27001530192403844,
          2.199341644606675,
          0.6100190730886883,
          2.102550400217976,
          1.3032923422411529,
          -0.049762067909215585,
          1.0518251360175972,
          2.606214122416171,
          -0.2623492398003455,
          -3.1647169619393614,
          -0.372542819978809,
          0.14946434187215132,
          0.06191615910061245,
          -1.1814026933119086,
          -0.2766721067868842,
          -0.9524484776847364,
          0.890087121411412,
          0.16536143007143075,
          2.0950209738087247,
          0.6678254539418913,
          -2.4541658108616398,
          0.7272111499537395,
          -1.0632955813088365,
          0.5563393644310032,
          0.7007756021443959,
          -0.7634004670299073,
          -1.0366226598965147,
          0.8013304757037002,
          -0.9575358416562028,
          -1.2219996303846936,
          0.8411087011278587,
          -2.6876492176403706,
          0.21697871372465866,
          0.8661761718498764,
          -0.004477953671440384,
          -0.24156899072457647,
          -1.191982405527518,
          -1.830769949480394,
          -0.3603791966519778,
          -1.8541561044408092,
          -0.8269509146760182,
          1.2351690456101407,
          -0.7374726976400329,
          1.1496626540716828,
          0.11539306667485381,
          -0.5874759092324688,
          -0.29647288445001413,
          0.8043685590974445,
          -0.25129479981146213,
          -0.009082767107194573,
          0.8249201350185461,
          -0.9041916236427177,
          -0.2598132126343078,
          2.5209152581221406,
          -0.7414821119261477,
          0.6528585246841945,
          0.4727346988738507,
          -0.4255885388211691,
          -0.33523865860121993,
          0.002340531266801451,
          1.1677113148248681,
          0.4436607499705828,
          -1.1378815712598933,
          -0.9528152338377582,
          1.3354358098041545,
          -0.4143195912799377,
          -0.27195585863102767,
          -0.5128124546494139,
          1.1933581947975167,
          -1.0426560248342713,
          0.08732828643538657,
          0.3329346714021422,
          0.015406732187095097,
          -1.2208821836590111,
          1.37925115599276,
          -0.0021740284364161677,
          -0.7139241821707765,
          -0.19727820197878954,
          0.8372822892101166,
          1.0594670766221612,
          1.1254072337082799,
          1.427965150259643,
          0.3496471642051402,
          -0.7616288308439892,
          -1.1845313919354337,
          -0.17747967699706843,
          0.649994802912574,
          0.3041126587233753,
          -1.172829688566211,
          -1.4701448507469361,
          0.33854444006522966,
          0.22917881846691687,
          -0.4156796942910539,
          -0.18684705250454173,
          -0.16557973376077886
         ],
         "yaxis": "y15"
        },
        {
         "histfunc": "count",
         "histnorm": "",
         "marker": {
          "color": "rgba(128, 0, 128, 1.0)",
          "line": {
           "color": "#4D5663",
           "width": 1.3
          }
         },
         "name": "D",
         "nbinsx": 10,
         "opacity": 0.8,
         "orientation": "v",
         "type": "histogram",
         "x": [
          -0.3464588048417761,
          -0.647906547324458,
          0.3486779613719423,
          0.16578621922162767,
          -0.6930802152809857,
          -0.27001530192403844,
          2.199341644606675,
          0.6100190730886883,
          2.102550400217976,
          1.3032923422411529,
          -0.049762067909215585,
          1.0518251360175972,
          2.606214122416171,
          -0.2623492398003455,
          -3.1647169619393614,
          -0.372542819978809,
          0.14946434187215132,
          0.06191615910061245,
          -1.1814026933119086,
          -0.2766721067868842,
          -0.9524484776847364,
          0.890087121411412,
          0.16536143007143075,
          2.0950209738087247,
          0.6678254539418913,
          -2.4541658108616398,
          0.7272111499537395,
          -1.0632955813088365,
          0.5563393644310032,
          0.7007756021443959,
          -0.7634004670299073,
          -1.0366226598965147,
          0.8013304757037002,
          -0.9575358416562028,
          -1.2219996303846936,
          0.8411087011278587,
          -2.6876492176403706,
          0.21697871372465866,
          0.8661761718498764,
          -0.004477953671440384,
          -0.24156899072457647,
          -1.191982405527518,
          -1.830769949480394,
          -0.3603791966519778,
          -1.8541561044408092,
          -0.8269509146760182,
          1.2351690456101407,
          -0.7374726976400329,
          1.1496626540716828,
          0.11539306667485381,
          -0.5874759092324688,
          -0.29647288445001413,
          0.8043685590974445,
          -0.25129479981146213,
          -0.009082767107194573,
          0.8249201350185461,
          -0.9041916236427177,
          -0.2598132126343078,
          2.5209152581221406,
          -0.7414821119261477,
          0.6528585246841945,
          0.4727346988738507,
          -0.4255885388211691,
          -0.33523865860121993,
          0.002340531266801451,
          1.1677113148248681,
          0.4436607499705828,
          -1.1378815712598933,
          -0.9528152338377582,
          1.3354358098041545,
          -0.4143195912799377,
          -0.27195585863102767,
          -0.5128124546494139,
          1.1933581947975167,
          -1.0426560248342713,
          0.08732828643538657,
          0.3329346714021422,
          0.015406732187095097,
          -1.2208821836590111,
          1.37925115599276,
          -0.0021740284364161677,
          -0.7139241821707765,
          -0.19727820197878954,
          0.8372822892101166,
          1.0594670766221612,
          1.1254072337082799,
          1.427965150259643,
          0.3496471642051402,
          -0.7616288308439892,
          -1.1845313919354337,
          -0.17747967699706843,
          0.649994802912574,
          0.3041126587233753,
          -1.172829688566211,
          -1.4701448507469361,
          0.33854444006522966,
          0.22917881846691687,
          -0.4156796942910539,
          -0.18684705250454173,
          -0.16557973376077886
         ],
         "xaxis": "x16",
         "yaxis": "y16"
        }
       ],
       "layout": {
        "bargap": 0.02,
        "legend": {
         "bgcolor": "#F5F6F9",
         "font": {
          "color": "#4D5663"
         }
        },
        "paper_bgcolor": "#F5F6F9",
        "plot_bgcolor": "#F5F6F9",
        "showlegend": false,
        "template": {
         "data": {
          "bar": [
           {
            "error_x": {
             "color": "#2a3f5f"
            },
            "error_y": {
             "color": "#2a3f5f"
            },
            "marker": {
             "line": {
              "color": "#E5ECF6",
              "width": 0.5
             },
             "pattern": {
              "fillmode": "overlay",
              "size": 10,
              "solidity": 0.2
             }
            },
            "type": "bar"
           }
          ],
          "barpolar": [
           {
            "marker": {
             "line": {
              "color": "#E5ECF6",
              "width": 0.5
             },
             "pattern": {
              "fillmode": "overlay",
              "size": 10,
              "solidity": 0.2
             }
            },
            "type": "barpolar"
           }
          ],
          "carpet": [
           {
            "aaxis": {
             "endlinecolor": "#2a3f5f",
             "gridcolor": "white",
             "linecolor": "white",
             "minorgridcolor": "white",
             "startlinecolor": "#2a3f5f"
            },
            "baxis": {
             "endlinecolor": "#2a3f5f",
             "gridcolor": "white",
             "linecolor": "white",
             "minorgridcolor": "white",
             "startlinecolor": "#2a3f5f"
            },
            "type": "carpet"
           }
          ],
          "choropleth": [
           {
            "colorbar": {
             "outlinewidth": 0,
             "ticks": ""
            },
            "type": "choropleth"
           }
          ],
          "contour": [
           {
            "colorbar": {
             "outlinewidth": 0,
             "ticks": ""
            },
            "colorscale": [
             [
              0,
              "#0d0887"
             ],
             [
              0.1111111111111111,
              "#46039f"
             ],
             [
              0.2222222222222222,
              "#7201a8"
             ],
             [
              0.3333333333333333,
              "#9c179e"
             ],
             [
              0.4444444444444444,
              "#bd3786"
             ],
             [
              0.5555555555555556,
              "#d8576b"
             ],
             [
              0.6666666666666666,
              "#ed7953"
             ],
             [
              0.7777777777777778,
              "#fb9f3a"
             ],
             [
              0.8888888888888888,
              "#fdca26"
             ],
             [
              1,
              "#f0f921"
             ]
            ],
            "type": "contour"
           }
          ],
          "contourcarpet": [
           {
            "colorbar": {
             "outlinewidth": 0,
             "ticks": ""
            },
            "type": "contourcarpet"
           }
          ],
          "heatmap": [
           {
            "colorbar": {
             "outlinewidth": 0,
             "ticks": ""
            },
            "colorscale": [
             [
              0,
              "#0d0887"
             ],
             [
              0.1111111111111111,
              "#46039f"
             ],
             [
              0.2222222222222222,
              "#7201a8"
             ],
             [
              0.3333333333333333,
              "#9c179e"
             ],
             [
              0.4444444444444444,
              "#bd3786"
             ],
             [
              0.5555555555555556,
              "#d8576b"
             ],
             [
              0.6666666666666666,
              "#ed7953"
             ],
             [
              0.7777777777777778,
              "#fb9f3a"
             ],
             [
              0.8888888888888888,
              "#fdca26"
             ],
             [
              1,
              "#f0f921"
             ]
            ],
            "type": "heatmap"
           }
          ],
          "heatmapgl": [
           {
            "colorbar": {
             "outlinewidth": 0,
             "ticks": ""
            },
            "colorscale": [
             [
              0,
              "#0d0887"
             ],
             [
              0.1111111111111111,
              "#46039f"
             ],
             [
              0.2222222222222222,
              "#7201a8"
             ],
             [
              0.3333333333333333,
              "#9c179e"
             ],
             [
              0.4444444444444444,
              "#bd3786"
             ],
             [
              0.5555555555555556,
              "#d8576b"
             ],
             [
              0.6666666666666666,
              "#ed7953"
             ],
             [
              0.7777777777777778,
              "#fb9f3a"
             ],
             [
              0.8888888888888888,
              "#fdca26"
             ],
             [
              1,
              "#f0f921"
             ]
            ],
            "type": "heatmapgl"
           }
          ],
          "histogram": [
           {
            "marker": {
             "pattern": {
              "fillmode": "overlay",
              "size": 10,
              "solidity": 0.2
             }
            },
            "type": "histogram"
           }
          ],
          "histogram2d": [
           {
            "colorbar": {
             "outlinewidth": 0,
             "ticks": ""
            },
            "colorscale": [
             [
              0,
              "#0d0887"
             ],
             [
              0.1111111111111111,
              "#46039f"
             ],
             [
              0.2222222222222222,
              "#7201a8"
             ],
             [
              0.3333333333333333,
              "#9c179e"
             ],
             [
              0.4444444444444444,
              "#bd3786"
             ],
             [
              0.5555555555555556,
              "#d8576b"
             ],
             [
              0.6666666666666666,
              "#ed7953"
             ],
             [
              0.7777777777777778,
              "#fb9f3a"
             ],
             [
              0.8888888888888888,
              "#fdca26"
             ],
             [
              1,
              "#f0f921"
             ]
            ],
            "type": "histogram2d"
           }
          ],
          "histogram2dcontour": [
           {
            "colorbar": {
             "outlinewidth": 0,
             "ticks": ""
            },
            "colorscale": [
             [
              0,
              "#0d0887"
             ],
             [
              0.1111111111111111,
              "#46039f"
             ],
             [
              0.2222222222222222,
              "#7201a8"
             ],
             [
              0.3333333333333333,
              "#9c179e"
             ],
             [
              0.4444444444444444,
              "#bd3786"
             ],
             [
              0.5555555555555556,
              "#d8576b"
             ],
             [
              0.6666666666666666,
              "#ed7953"
             ],
             [
              0.7777777777777778,
              "#fb9f3a"
             ],
             [
              0.8888888888888888,
              "#fdca26"
             ],
             [
              1,
              "#f0f921"
             ]
            ],
            "type": "histogram2dcontour"
           }
          ],
          "mesh3d": [
           {
            "colorbar": {
             "outlinewidth": 0,
             "ticks": ""
            },
            "type": "mesh3d"
           }
          ],
          "parcoords": [
           {
            "line": {
             "colorbar": {
              "outlinewidth": 0,
              "ticks": ""
             }
            },
            "type": "parcoords"
           }
          ],
          "pie": [
           {
            "automargin": true,
            "type": "pie"
           }
          ],
          "scatter": [
           {
            "fillpattern": {
             "fillmode": "overlay",
             "size": 10,
             "solidity": 0.2
            },
            "type": "scatter"
           }
          ],
          "scatter3d": [
           {
            "line": {
             "colorbar": {
              "outlinewidth": 0,
              "ticks": ""
             }
            },
            "marker": {
             "colorbar": {
              "outlinewidth": 0,
              "ticks": ""
             }
            },
            "type": "scatter3d"
           }
          ],
          "scattercarpet": [
           {
            "marker": {
             "colorbar": {
              "outlinewidth": 0,
              "ticks": ""
             }
            },
            "type": "scattercarpet"
           }
          ],
          "scattergeo": [
           {
            "marker": {
             "colorbar": {
              "outlinewidth": 0,
              "ticks": ""
             }
            },
            "type": "scattergeo"
           }
          ],
          "scattergl": [
           {
            "marker": {
             "colorbar": {
              "outlinewidth": 0,
              "ticks": ""
             }
            },
            "type": "scattergl"
           }
          ],
          "scattermapbox": [
           {
            "marker": {
             "colorbar": {
              "outlinewidth": 0,
              "ticks": ""
             }
            },
            "type": "scattermapbox"
           }
          ],
          "scatterpolar": [
           {
            "marker": {
             "colorbar": {
              "outlinewidth": 0,
              "ticks": ""
             }
            },
            "type": "scatterpolar"
           }
          ],
          "scatterpolargl": [
           {
            "marker": {
             "colorbar": {
              "outlinewidth": 0,
              "ticks": ""
             }
            },
            "type": "scatterpolargl"
           }
          ],
          "scatterternary": [
           {
            "marker": {
             "colorbar": {
              "outlinewidth": 0,
              "ticks": ""
             }
            },
            "type": "scatterternary"
           }
          ],
          "surface": [
           {
            "colorbar": {
             "outlinewidth": 0,
             "ticks": ""
            },
            "colorscale": [
             [
              0,
              "#0d0887"
             ],
             [
              0.1111111111111111,
              "#46039f"
             ],
             [
              0.2222222222222222,
              "#7201a8"
             ],
             [
              0.3333333333333333,
              "#9c179e"
             ],
             [
              0.4444444444444444,
              "#bd3786"
             ],
             [
              0.5555555555555556,
              "#d8576b"
             ],
             [
              0.6666666666666666,
              "#ed7953"
             ],
             [
              0.7777777777777778,
              "#fb9f3a"
             ],
             [
              0.8888888888888888,
              "#fdca26"
             ],
             [
              1,
              "#f0f921"
             ]
            ],
            "type": "surface"
           }
          ],
          "table": [
           {
            "cells": {
             "fill": {
              "color": "#EBF0F8"
             },
             "line": {
              "color": "white"
             }
            },
            "header": {
             "fill": {
              "color": "#C8D4E3"
             },
             "line": {
              "color": "white"
             }
            },
            "type": "table"
           }
          ]
         },
         "layout": {
          "annotationdefaults": {
           "arrowcolor": "#2a3f5f",
           "arrowhead": 0,
           "arrowwidth": 1
          },
          "autotypenumbers": "strict",
          "coloraxis": {
           "colorbar": {
            "outlinewidth": 0,
            "ticks": ""
           }
          },
          "colorscale": {
           "diverging": [
            [
             0,
             "#8e0152"
            ],
            [
             0.1,
             "#c51b7d"
            ],
            [
             0.2,
             "#de77ae"
            ],
            [
             0.3,
             "#f1b6da"
            ],
            [
             0.4,
             "#fde0ef"
            ],
            [
             0.5,
             "#f7f7f7"
            ],
            [
             0.6,
             "#e6f5d0"
            ],
            [
             0.7,
             "#b8e186"
            ],
            [
             0.8,
             "#7fbc41"
            ],
            [
             0.9,
             "#4d9221"
            ],
            [
             1,
             "#276419"
            ]
           ],
           "sequential": [
            [
             0,
             "#0d0887"
            ],
            [
             0.1111111111111111,
             "#46039f"
            ],
            [
             0.2222222222222222,
             "#7201a8"
            ],
            [
             0.3333333333333333,
             "#9c179e"
            ],
            [
             0.4444444444444444,
             "#bd3786"
            ],
            [
             0.5555555555555556,
             "#d8576b"
            ],
            [
             0.6666666666666666,
             "#ed7953"
            ],
            [
             0.7777777777777778,
             "#fb9f3a"
            ],
            [
             0.8888888888888888,
             "#fdca26"
            ],
            [
             1,
             "#f0f921"
            ]
           ],
           "sequentialminus": [
            [
             0,
             "#0d0887"
            ],
            [
             0.1111111111111111,
             "#46039f"
            ],
            [
             0.2222222222222222,
             "#7201a8"
            ],
            [
             0.3333333333333333,
             "#9c179e"
            ],
            [
             0.4444444444444444,
             "#bd3786"
            ],
            [
             0.5555555555555556,
             "#d8576b"
            ],
            [
             0.6666666666666666,
             "#ed7953"
            ],
            [
             0.7777777777777778,
             "#fb9f3a"
            ],
            [
             0.8888888888888888,
             "#fdca26"
            ],
            [
             1,
             "#f0f921"
            ]
           ]
          },
          "colorway": [
           "#636efa",
           "#EF553B",
           "#00cc96",
           "#ab63fa",
           "#FFA15A",
           "#19d3f3",
           "#FF6692",
           "#B6E880",
           "#FF97FF",
           "#FECB52"
          ],
          "font": {
           "color": "#2a3f5f"
          },
          "geo": {
           "bgcolor": "white",
           "lakecolor": "white",
           "landcolor": "#E5ECF6",
           "showlakes": true,
           "showland": true,
           "subunitcolor": "white"
          },
          "hoverlabel": {
           "align": "left"
          },
          "hovermode": "closest",
          "mapbox": {
           "style": "light"
          },
          "paper_bgcolor": "white",
          "plot_bgcolor": "#E5ECF6",
          "polar": {
           "angularaxis": {
            "gridcolor": "white",
            "linecolor": "white",
            "ticks": ""
           },
           "bgcolor": "#E5ECF6",
           "radialaxis": {
            "gridcolor": "white",
            "linecolor": "white",
            "ticks": ""
           }
          },
          "scene": {
           "xaxis": {
            "backgroundcolor": "#E5ECF6",
            "gridcolor": "white",
            "gridwidth": 2,
            "linecolor": "white",
            "showbackground": true,
            "ticks": "",
            "zerolinecolor": "white"
           },
           "yaxis": {
            "backgroundcolor": "#E5ECF6",
            "gridcolor": "white",
            "gridwidth": 2,
            "linecolor": "white",
            "showbackground": true,
            "ticks": "",
            "zerolinecolor": "white"
           },
           "zaxis": {
            "backgroundcolor": "#E5ECF6",
            "gridcolor": "white",
            "gridwidth": 2,
            "linecolor": "white",
            "showbackground": true,
            "ticks": "",
            "zerolinecolor": "white"
           }
          },
          "shapedefaults": {
           "line": {
            "color": "#2a3f5f"
           }
          },
          "ternary": {
           "aaxis": {
            "gridcolor": "white",
            "linecolor": "white",
            "ticks": ""
           },
           "baxis": {
            "gridcolor": "white",
            "linecolor": "white",
            "ticks": ""
           },
           "bgcolor": "#E5ECF6",
           "caxis": {
            "gridcolor": "white",
            "linecolor": "white",
            "ticks": ""
           }
          },
          "title": {
           "x": 0.05
          },
          "xaxis": {
           "automargin": true,
           "gridcolor": "white",
           "linecolor": "white",
           "ticks": "",
           "title": {
            "standoff": 15
           },
           "zerolinecolor": "white",
           "zerolinewidth": 2
          },
          "yaxis": {
           "automargin": true,
           "gridcolor": "white",
           "linecolor": "white",
           "ticks": "",
           "title": {
            "standoff": 15
           },
           "zerolinecolor": "white",
           "zerolinewidth": 2
          }
         }
        },
        "title": {
         "font": {
          "color": "#4D5663"
         }
        },
        "xaxis": {
         "anchor": "y",
         "domain": [
          0,
          0.2125
         ],
         "gridcolor": "#E1E5ED",
         "showgrid": false,
         "tickfont": {
          "color": "#4D5663"
         },
         "title": {
          "font": {
           "color": "#4D5663"
          },
          "text": ""
         },
         "zerolinecolor": "#E1E5ED"
        },
        "xaxis10": {
         "anchor": "y10",
         "domain": [
          0.2625,
          0.475
         ],
         "gridcolor": "#E1E5ED",
         "showgrid": false,
         "tickfont": {
          "color": "#4D5663"
         },
         "title": {
          "font": {
           "color": "#4D5663"
          },
          "text": ""
         },
         "zerolinecolor": "#E1E5ED"
        },
        "xaxis11": {
         "anchor": "y11",
         "domain": [
          0.525,
          0.7375
         ],
         "gridcolor": "#E1E5ED",
         "showgrid": false,
         "tickfont": {
          "color": "#4D5663"
         },
         "title": {
          "font": {
           "color": "#4D5663"
          },
          "text": ""
         },
         "zerolinecolor": "#E1E5ED"
        },
        "xaxis12": {
         "anchor": "y12",
         "domain": [
          0.7875,
          1
         ],
         "gridcolor": "#E1E5ED",
         "showgrid": false,
         "tickfont": {
          "color": "#4D5663"
         },
         "title": {
          "font": {
           "color": "#4D5663"
          },
          "text": ""
         },
         "zerolinecolor": "#E1E5ED"
        },
        "xaxis13": {
         "anchor": "y13",
         "domain": [
          0,
          0.2125
         ],
         "gridcolor": "#E1E5ED",
         "showgrid": false,
         "tickfont": {
          "color": "#4D5663"
         },
         "title": {
          "font": {
           "color": "#4D5663"
          },
          "text": ""
         },
         "zerolinecolor": "#E1E5ED"
        },
        "xaxis14": {
         "anchor": "y14",
         "domain": [
          0.2625,
          0.475
         ],
         "gridcolor": "#E1E5ED",
         "showgrid": false,
         "tickfont": {
          "color": "#4D5663"
         },
         "title": {
          "font": {
           "color": "#4D5663"
          },
          "text": ""
         },
         "zerolinecolor": "#E1E5ED"
        },
        "xaxis15": {
         "anchor": "y15",
         "domain": [
          0.525,
          0.7375
         ],
         "gridcolor": "#E1E5ED",
         "showgrid": false,
         "tickfont": {
          "color": "#4D5663"
         },
         "title": {
          "font": {
           "color": "#4D5663"
          },
          "text": ""
         },
         "zerolinecolor": "#E1E5ED"
        },
        "xaxis16": {
         "anchor": "y16",
         "domain": [
          0.7875,
          1
         ],
         "gridcolor": "#E1E5ED",
         "showgrid": false,
         "tickfont": {
          "color": "#4D5663"
         },
         "title": {
          "font": {
           "color": "#4D5663"
          },
          "text": ""
         },
         "zerolinecolor": "#E1E5ED"
        },
        "xaxis2": {
         "anchor": "y2",
         "domain": [
          0.2625,
          0.475
         ],
         "gridcolor": "#E1E5ED",
         "showgrid": false,
         "tickfont": {
          "color": "#4D5663"
         },
         "title": {
          "font": {
           "color": "#4D5663"
          },
          "text": ""
         },
         "zerolinecolor": "#E1E5ED"
        },
        "xaxis3": {
         "anchor": "y3",
         "domain": [
          0.525,
          0.7375
         ],
         "gridcolor": "#E1E5ED",
         "showgrid": false,
         "tickfont": {
          "color": "#4D5663"
         },
         "title": {
          "font": {
           "color": "#4D5663"
          },
          "text": ""
         },
         "zerolinecolor": "#E1E5ED"
        },
        "xaxis4": {
         "anchor": "y4",
         "domain": [
          0.7875,
          1
         ],
         "gridcolor": "#E1E5ED",
         "showgrid": false,
         "tickfont": {
          "color": "#4D5663"
         },
         "title": {
          "font": {
           "color": "#4D5663"
          },
          "text": ""
         },
         "zerolinecolor": "#E1E5ED"
        },
        "xaxis5": {
         "anchor": "y5",
         "domain": [
          0,
          0.2125
         ],
         "gridcolor": "#E1E5ED",
         "showgrid": false,
         "tickfont": {
          "color": "#4D5663"
         },
         "title": {
          "font": {
           "color": "#4D5663"
          },
          "text": ""
         },
         "zerolinecolor": "#E1E5ED"
        },
        "xaxis6": {
         "anchor": "y6",
         "domain": [
          0.2625,
          0.475
         ],
         "gridcolor": "#E1E5ED",
         "showgrid": false,
         "tickfont": {
          "color": "#4D5663"
         },
         "title": {
          "font": {
           "color": "#4D5663"
          },
          "text": ""
         },
         "zerolinecolor": "#E1E5ED"
        },
        "xaxis7": {
         "anchor": "y7",
         "domain": [
          0.525,
          0.7375
         ],
         "gridcolor": "#E1E5ED",
         "showgrid": false,
         "tickfont": {
          "color": "#4D5663"
         },
         "title": {
          "font": {
           "color": "#4D5663"
          },
          "text": ""
         },
         "zerolinecolor": "#E1E5ED"
        },
        "xaxis8": {
         "anchor": "y8",
         "domain": [
          0.7875,
          1
         ],
         "gridcolor": "#E1E5ED",
         "showgrid": false,
         "tickfont": {
          "color": "#4D5663"
         },
         "title": {
          "font": {
           "color": "#4D5663"
          },
          "text": ""
         },
         "zerolinecolor": "#E1E5ED"
        },
        "xaxis9": {
         "anchor": "y9",
         "domain": [
          0,
          0.2125
         ],
         "gridcolor": "#E1E5ED",
         "showgrid": false,
         "tickfont": {
          "color": "#4D5663"
         },
         "title": {
          "font": {
           "color": "#4D5663"
          },
          "text": ""
         },
         "zerolinecolor": "#E1E5ED"
        },
        "yaxis": {
         "anchor": "x",
         "domain": [
          0.8025,
          1
         ],
         "gridcolor": "#E1E5ED",
         "showgrid": false,
         "tickfont": {
          "color": "#4D5663"
         },
         "title": {
          "font": {
           "color": "#4D5663"
          },
          "text": ""
         },
         "zerolinecolor": "#E1E5ED"
        },
        "yaxis10": {
         "anchor": "x10",
         "domain": [
          0.2675,
          0.465
         ],
         "gridcolor": "#E1E5ED",
         "showgrid": false,
         "tickfont": {
          "color": "#4D5663"
         },
         "title": {
          "font": {
           "color": "#4D5663"
          },
          "text": ""
         },
         "zerolinecolor": "#E1E5ED"
        },
        "yaxis11": {
         "anchor": "x11",
         "domain": [
          0.2675,
          0.465
         ],
         "gridcolor": "#E1E5ED",
         "showgrid": false,
         "tickfont": {
          "color": "#4D5663"
         },
         "title": {
          "font": {
           "color": "#4D5663"
          },
          "text": ""
         },
         "zerolinecolor": "#E1E5ED"
        },
        "yaxis12": {
         "anchor": "x12",
         "domain": [
          0.2675,
          0.465
         ],
         "gridcolor": "#E1E5ED",
         "showgrid": false,
         "tickfont": {
          "color": "#4D5663"
         },
         "title": {
          "font": {
           "color": "#4D5663"
          },
          "text": ""
         },
         "zerolinecolor": "#E1E5ED"
        },
        "yaxis13": {
         "anchor": "x13",
         "domain": [
          0,
          0.1975
         ],
         "gridcolor": "#E1E5ED",
         "showgrid": false,
         "tickfont": {
          "color": "#4D5663"
         },
         "title": {
          "font": {
           "color": "#4D5663"
          },
          "text": ""
         },
         "zerolinecolor": "#E1E5ED"
        },
        "yaxis14": {
         "anchor": "x14",
         "domain": [
          0,
          0.1975
         ],
         "gridcolor": "#E1E5ED",
         "showgrid": false,
         "tickfont": {
          "color": "#4D5663"
         },
         "title": {
          "font": {
           "color": "#4D5663"
          },
          "text": ""
         },
         "zerolinecolor": "#E1E5ED"
        },
        "yaxis15": {
         "anchor": "x15",
         "domain": [
          0,
          0.1975
         ],
         "gridcolor": "#E1E5ED",
         "showgrid": false,
         "tickfont": {
          "color": "#4D5663"
         },
         "title": {
          "font": {
           "color": "#4D5663"
          },
          "text": ""
         },
         "zerolinecolor": "#E1E5ED"
        },
        "yaxis16": {
         "anchor": "x16",
         "domain": [
          0,
          0.1975
         ],
         "gridcolor": "#E1E5ED",
         "showgrid": false,
         "tickfont": {
          "color": "#4D5663"
         },
         "title": {
          "font": {
           "color": "#4D5663"
          },
          "text": ""
         },
         "zerolinecolor": "#E1E5ED"
        },
        "yaxis2": {
         "anchor": "x2",
         "domain": [
          0.8025,
          1
         ],
         "gridcolor": "#E1E5ED",
         "showgrid": false,
         "tickfont": {
          "color": "#4D5663"
         },
         "title": {
          "font": {
           "color": "#4D5663"
          },
          "text": ""
         },
         "zerolinecolor": "#E1E5ED"
        },
        "yaxis3": {
         "anchor": "x3",
         "domain": [
          0.8025,
          1
         ],
         "gridcolor": "#E1E5ED",
         "showgrid": false,
         "tickfont": {
          "color": "#4D5663"
         },
         "title": {
          "font": {
           "color": "#4D5663"
          },
          "text": ""
         },
         "zerolinecolor": "#E1E5ED"
        },
        "yaxis4": {
         "anchor": "x4",
         "domain": [
          0.8025,
          1
         ],
         "gridcolor": "#E1E5ED",
         "showgrid": false,
         "tickfont": {
          "color": "#4D5663"
         },
         "title": {
          "font": {
           "color": "#4D5663"
          },
          "text": ""
         },
         "zerolinecolor": "#E1E5ED"
        },
        "yaxis5": {
         "anchor": "x5",
         "domain": [
          0.535,
          0.7325
         ],
         "gridcolor": "#E1E5ED",
         "showgrid": false,
         "tickfont": {
          "color": "#4D5663"
         },
         "title": {
          "font": {
           "color": "#4D5663"
          },
          "text": ""
         },
         "zerolinecolor": "#E1E5ED"
        },
        "yaxis6": {
         "anchor": "x6",
         "domain": [
          0.535,
          0.7325
         ],
         "gridcolor": "#E1E5ED",
         "showgrid": false,
         "tickfont": {
          "color": "#4D5663"
         },
         "title": {
          "font": {
           "color": "#4D5663"
          },
          "text": ""
         },
         "zerolinecolor": "#E1E5ED"
        },
        "yaxis7": {
         "anchor": "x7",
         "domain": [
          0.535,
          0.7325
         ],
         "gridcolor": "#E1E5ED",
         "showgrid": false,
         "tickfont": {
          "color": "#4D5663"
         },
         "title": {
          "font": {
           "color": "#4D5663"
          },
          "text": ""
         },
         "zerolinecolor": "#E1E5ED"
        },
        "yaxis8": {
         "anchor": "x8",
         "domain": [
          0.535,
          0.7325
         ],
         "gridcolor": "#E1E5ED",
         "showgrid": false,
         "tickfont": {
          "color": "#4D5663"
         },
         "title": {
          "font": {
           "color": "#4D5663"
          },
          "text": ""
         },
         "zerolinecolor": "#E1E5ED"
        },
        "yaxis9": {
         "anchor": "x9",
         "domain": [
          0.2675,
          0.465
         ],
         "gridcolor": "#E1E5ED",
         "showgrid": false,
         "tickfont": {
          "color": "#4D5663"
         },
         "title": {
          "font": {
           "color": "#4D5663"
          },
          "text": ""
         },
         "zerolinecolor": "#E1E5ED"
        }
       }
      },
      "text/html": [
       "<div>                            <div id=\"b9c4819e-0572-41a7-b2f3-ec47b743c9c1\" class=\"plotly-graph-div\" style=\"height:525px; width:100%;\"></div>            <script type=\"text/javascript\">                require([\"plotly\"], function(Plotly) {                    window.PLOTLYENV=window.PLOTLYENV || {};\n",
       "                    window.PLOTLYENV.BASE_URL='https://plot.ly';                                    if (document.getElementById(\"b9c4819e-0572-41a7-b2f3-ec47b743c9c1\")) {                    Plotly.newPlot(                        \"b9c4819e-0572-41a7-b2f3-ec47b743c9c1\",                        [{\"histfunc\":\"count\",\"histnorm\":\"\",\"marker\":{\"color\":\"rgba(255, 153, 51, 1.0)\",\"line\":{\"color\":\"#4D5663\",\"width\":1.3}},\"name\":\"A\",\"nbinsx\":10,\"opacity\":0.8,\"orientation\":\"v\",\"x\":[0.3586331746624718,-0.31304376044741095,0.9155501015715358,-2.102062606588993,0.408045526206134,-0.2653937053424654,-1.0608144632061376,0.8320160290835785,-0.9049475285738797,-0.17744210477049197,-1.4540758255989237,1.4257420406209662,-0.5205046343083947,-0.05769834283630299,0.47701003735893915,-0.04203967170773101,0.5954054803347232,0.5082602104081628,1.5464874830525634,0.03252793321033726,0.02470780179975145,-0.43883588421253367,0.7655553628093557,0.08479713396327594,-0.061697794787186545,-1.670028936339304,-0.44654185078945124,0.3424303635259183,-1.4760687974593132,1.00411471917094,-0.05524154132328517,0.014428830329574913,-0.3383435301323882,1.5183470766720768,-0.027803842073751618,1.7202240294648374,0.0659563768324742,0.8220356160516542,-0.5351973075051546,-0.15985840887473127,0.9323610128235857,0.6006660833479411,-0.8184884530933983,0.5152778925589065,2.5445342396284483,-0.03483860975117482,0.5162424224318293,0.9591449980497241,0.17777377052477863,-0.13969697340984139,-0.8569053896082983,0.2698446001276596,-0.19793090917579773,0.4250458772262773,0.3538791331723721,-2.2000463413342275,0.4181696188358884,-0.5901820888816727,0.020414193883099955,-0.6489481062883675,-0.3821890735220406,-0.32985879985063243,1.3954598123304571,0.05505854723609142,-0.6488143149635798,-0.21044309167380512,0.9436186500108769,-0.1344901082326483,0.4913203377664391,0.3285827524381691,-0.22242713380610743,-0.4202007414637871,0.10092135204452221,-0.516654392511781,-1.135954562451008,-0.7944885228365225,-0.8423266383457392,-1.359632784546133,0.7546560920413921,0.6516002595799931,0.8126667585524782,0.22038804422076191,0.054500146304780554,0.2125059915603282,-0.5119263987642447,0.46617177548286015,-1.375963954761399,0.4262163349180895,-1.205184119983154,-0.31379656718450993,0.4138625705495997,0.7663575825164424,-2.1174139409310984,0.5178801297938571,1.780572268688464,0.36758656402424283,-0.4135886115249514,0.8084776519283191,1.6336469314010316,2.230813714022468],\"xaxis\":\"x\",\"yaxis\":\"y\",\"type\":\"histogram\"},{\"line\":{\"color\":\"rgba(128, 128, 128, 1.0)\",\"dash\":\"solid\",\"shape\":\"linear\",\"width\":1.3},\"marker\":{\"size\":2,\"symbol\":\"circle\"},\"mode\":\"markers\",\"name\":\"A\",\"text\":\"\",\"x\":[-1.0590548720581747,-0.39190242572096723,0.2962891691222517,-0.5490583168335752,0.0883346775218682,-0.6114291879106363,-0.6373993095400021,-1.3757372678673856,0.7710307905294411,-0.7952282574924998,-1.0665821766458694,1.069364678832217,1.1469578718082771,-0.25199465875749505,0.7048053127514355,-0.70141193883703,-0.9687943837773987,-0.5179377536668606,1.0367137748339337,-0.926940875305391,-0.6431803601851102,-0.008176871309322228,-0.9552975301203914,-0.7588749739508795,0.8832832893949047,1.1755358794506057,-0.20549235635876878,-0.7491598214547203,-0.5734776537078125,0.49246483038810485,1.1571408435365964,0.35950239520271465,-0.9814813990037048,-0.3302371152060421,1.4279786237553096,0.09368539541218573,-0.05148049977783981,2.3212174669434593,-0.1741133687184468,1.1003712836406296,1.632706051966583,1.3341292330096408,1.2792614080957836,-0.9846673910400024,1.9008435066570037,0.8600680929881195,-0.6027765692000642,-0.46044062423880017,0.2036331641753118,1.6091632381996916,0.8319891984314672,-2.106481912504469,1.1587762643350736,0.4378282837245897,-0.6787113924870258,-1.3015491673560238,-0.4699970597901284,0.03448216204286796,-0.3921004216330228,0.4011602423714026,0.964934167991005,-1.5316121923083093,-2.708464465730562,0.1739441911266945,-0.24987881590183947,0.09772182633380014,0.7974157087788826,-0.06760707005609054,-1.0605788914082304,-1.0922449732655897,-0.46724550141681537,-1.311758303544521,1.5805631331227574,-2.7451393680018104,1.590657386425081,2.1594987472119085,0.8093209994861948,1.1872539693294126,-0.9376083371748265,-1.9880405933877292,-0.016931850993996047,0.19283107581930145,-1.2621201220902507,1.4219944905623008,0.03945646289475185,1.3468725540679272,0.3352148321341624,-0.7607245053299654,-1.3632969757334765,-0.25955811948574004,0.45549145421093473,-0.1296347833779436,0.04802303523424992,0.31671978263710604,-0.8908041289921246,0.6270179003637465,-0.1845078406753882,2.294840618932753,-1.8898838801321691,1.758211240623883],\"xaxis\":\"x2\",\"y\":[0.3586331746624718,-0.31304376044741095,0.9155501015715358,-2.102062606588993,0.408045526206134,-0.2653937053424654,-1.0608144632061376,0.8320160290835785,-0.9049475285738797,-0.17744210477049197,-1.4540758255989237,1.4257420406209662,-0.5205046343083947,-0.05769834283630299,0.47701003735893915,-0.04203967170773101,0.5954054803347232,0.5082602104081628,1.5464874830525634,0.03252793321033726,0.02470780179975145,-0.43883588421253367,0.7655553628093557,0.08479713396327594,-0.061697794787186545,-1.670028936339304,-0.44654185078945124,0.3424303635259183,-1.4760687974593132,1.00411471917094,-0.05524154132328517,0.014428830329574913,-0.3383435301323882,1.5183470766720768,-0.027803842073751618,1.7202240294648374,0.0659563768324742,0.8220356160516542,-0.5351973075051546,-0.15985840887473127,0.9323610128235857,0.6006660833479411,-0.8184884530933983,0.5152778925589065,2.5445342396284483,-0.03483860975117482,0.5162424224318293,0.9591449980497241,0.17777377052477863,-0.13969697340984139,-0.8569053896082983,0.2698446001276596,-0.19793090917579773,0.4250458772262773,0.3538791331723721,-2.2000463413342275,0.4181696188358884,-0.5901820888816727,0.020414193883099955,-0.6489481062883675,-0.3821890735220406,-0.32985879985063243,1.3954598123304571,0.05505854723609142,-0.6488143149635798,-0.21044309167380512,0.9436186500108769,-0.1344901082326483,0.4913203377664391,0.3285827524381691,-0.22242713380610743,-0.4202007414637871,0.10092135204452221,-0.516654392511781,-1.135954562451008,-0.7944885228365225,-0.8423266383457392,-1.359632784546133,0.7546560920413921,0.6516002595799931,0.8126667585524782,0.22038804422076191,0.054500146304780554,0.2125059915603282,-0.5119263987642447,0.46617177548286015,-1.375963954761399,0.4262163349180895,-1.205184119983154,-0.31379656718450993,0.4138625705495997,0.7663575825164424,-2.1174139409310984,0.5178801297938571,1.780572268688464,0.36758656402424283,-0.4135886115249514,0.8084776519283191,1.6336469314010316,2.230813714022468],\"yaxis\":\"y2\",\"type\":\"scatter\"},{\"line\":{\"color\":\"rgba(128, 128, 128, 1.0)\",\"dash\":\"solid\",\"shape\":\"linear\",\"width\":1.3},\"marker\":{\"size\":2,\"symbol\":\"circle\"},\"mode\":\"markers\",\"name\":\"A\",\"text\":\"\",\"x\":[0.32429037739075883,1.1879409631045386,-0.38088091795317913,0.14806323550316,-0.5709168393551085,1.3853505290062362,0.030960518731206272,0.3938230637983112,0.6773066094802366,-0.1163003670518374,-0.7582509421132919,-0.38467937176662037,0.9367872426180641,0.3094300782732029,0.09601419265197059,0.5995511429549369,1.4439688168872717,-1.0965528579612354,-0.40781181780874987,-0.5913778404732251,0.7295991376359017,1.5579853159921473,0.05803394864840696,-1.248098266950036,1.4794877768861923,-2.394365890320898,0.874562873382905,-0.6699357548158725,-0.6961017168474808,-0.36174763518653275,1.4517901086461655,0.660505118013835,0.622063497987493,-0.054301146606529675,-0.37886913279578677,-0.008960006479370229,0.21263647906035765,0.14148615088666414,0.037315302544217124,0.6002888863566334,1.3398864669756754,0.5632927848357131,0.43994020088676306,-0.6424879662806519,0.8414231989301041,-0.263665109298404,1.0650209103243846,-0.4987174826350073,-0.029727275897059015,0.4811271849515231,-1.0639989151092917,2.7269733913483805,0.4202847481492167,0.23013615231109463,-0.19052950306876407,-0.07535647639230537,-0.10870803868613195,-1.7764691803724073,-0.20847521854327986,-0.9683394823778462,0.35115001230946635,1.6892276963651842,1.3804853265597006,2.921534826638845,-0.4309883401900627,-0.8817523768739174,0.27541040786185467,-0.3747113263296264,0.9740657170289369,-0.9702017630654753,-0.04811530584331376,-0.5383813969987241,0.16096932939744013,0.15306539136772737,-1.4896596280606906,-0.041852603529642,-1.2837275685397316,0.08498459969796693,0.6932661399547978,-0.48656111657997136,0.03244938448296639,0.5707242925265023,0.9752035089851828,1.5493900379188106,0.8698503692117641,-0.42065578813403187,-1.5706299711399163,-0.2347536852870114,-1.450009680526141,-0.5572941809131361,1.7607885483739076,0.1642451193947591,1.3806465480402927,0.5900768079783596,1.120446209170726,1.2089700577352944,-0.6984128021106067,0.3205901289951289,0.37574731970374725,0.30972045037775137],\"xaxis\":\"x3\",\"y\":[0.3586331746624718,-0.31304376044741095,0.9155501015715358,-2.102062606588993,0.408045526206134,-0.2653937053424654,-1.0608144632061376,0.8320160290835785,-0.9049475285738797,-0.17744210477049197,-1.4540758255989237,1.4257420406209662,-0.5205046343083947,-0.05769834283630299,0.47701003735893915,-0.04203967170773101,0.5954054803347232,0.5082602104081628,1.5464874830525634,0.03252793321033726,0.02470780179975145,-0.43883588421253367,0.7655553628093557,0.08479713396327594,-0.061697794787186545,-1.670028936339304,-0.44654185078945124,0.3424303635259183,-1.4760687974593132,1.00411471917094,-0.05524154132328517,0.014428830329574913,-0.3383435301323882,1.5183470766720768,-0.027803842073751618,1.7202240294648374,0.0659563768324742,0.8220356160516542,-0.5351973075051546,-0.15985840887473127,0.9323610128235857,0.6006660833479411,-0.8184884530933983,0.5152778925589065,2.5445342396284483,-0.03483860975117482,0.5162424224318293,0.9591449980497241,0.17777377052477863,-0.13969697340984139,-0.8569053896082983,0.2698446001276596,-0.19793090917579773,0.4250458772262773,0.3538791331723721,-2.2000463413342275,0.4181696188358884,-0.5901820888816727,0.020414193883099955,-0.6489481062883675,-0.3821890735220406,-0.32985879985063243,1.3954598123304571,0.05505854723609142,-0.6488143149635798,-0.21044309167380512,0.9436186500108769,-0.1344901082326483,0.4913203377664391,0.3285827524381691,-0.22242713380610743,-0.4202007414637871,0.10092135204452221,-0.516654392511781,-1.135954562451008,-0.7944885228365225,-0.8423266383457392,-1.359632784546133,0.7546560920413921,0.6516002595799931,0.8126667585524782,0.22038804422076191,0.054500146304780554,0.2125059915603282,-0.5119263987642447,0.46617177548286015,-1.375963954761399,0.4262163349180895,-1.205184119983154,-0.31379656718450993,0.4138625705495997,0.7663575825164424,-2.1174139409310984,0.5178801297938571,1.780572268688464,0.36758656402424283,-0.4135886115249514,0.8084776519283191,1.6336469314010316,2.230813714022468],\"yaxis\":\"y3\",\"type\":\"scatter\"},{\"line\":{\"color\":\"rgba(128, 128, 128, 1.0)\",\"dash\":\"solid\",\"shape\":\"linear\",\"width\":1.3},\"marker\":{\"size\":2,\"symbol\":\"circle\"},\"mode\":\"markers\",\"name\":\"A\",\"text\":\"\",\"x\":[-0.3464588048417761,-0.647906547324458,0.3486779613719423,0.16578621922162767,-0.6930802152809857,-0.27001530192403844,2.199341644606675,0.6100190730886883,2.102550400217976,1.3032923422411529,-0.049762067909215585,1.0518251360175972,2.606214122416171,-0.2623492398003455,-3.1647169619393614,-0.372542819978809,0.14946434187215132,0.06191615910061245,-1.1814026933119086,-0.2766721067868842,-0.9524484776847364,0.890087121411412,0.16536143007143075,2.0950209738087247,0.6678254539418913,-2.4541658108616398,0.7272111499537395,-1.0632955813088365,0.5563393644310032,0.7007756021443959,-0.7634004670299073,-1.0366226598965147,0.8013304757037002,-0.9575358416562028,-1.2219996303846936,0.8411087011278587,-2.6876492176403706,0.21697871372465866,0.8661761718498764,-0.004477953671440384,-0.24156899072457647,-1.191982405527518,-1.830769949480394,-0.3603791966519778,-1.8541561044408092,-0.8269509146760182,1.2351690456101407,-0.7374726976400329,1.1496626540716828,0.11539306667485381,-0.5874759092324688,-0.29647288445001413,0.8043685590974445,-0.25129479981146213,-0.009082767107194573,0.8249201350185461,-0.9041916236427177,-0.2598132126343078,2.5209152581221406,-0.7414821119261477,0.6528585246841945,0.4727346988738507,-0.4255885388211691,-0.33523865860121993,0.002340531266801451,1.1677113148248681,0.4436607499705828,-1.1378815712598933,-0.9528152338377582,1.3354358098041545,-0.4143195912799377,-0.27195585863102767,-0.5128124546494139,1.1933581947975167,-1.0426560248342713,0.08732828643538657,0.3329346714021422,0.015406732187095097,-1.2208821836590111,1.37925115599276,-0.0021740284364161677,-0.7139241821707765,-0.19727820197878954,0.8372822892101166,1.0594670766221612,1.1254072337082799,1.427965150259643,0.3496471642051402,-0.7616288308439892,-1.1845313919354337,-0.17747967699706843,0.649994802912574,0.3041126587233753,-1.172829688566211,-1.4701448507469361,0.33854444006522966,0.22917881846691687,-0.4156796942910539,-0.18684705250454173,-0.16557973376077886],\"xaxis\":\"x4\",\"y\":[0.3586331746624718,-0.31304376044741095,0.9155501015715358,-2.102062606588993,0.408045526206134,-0.2653937053424654,-1.0608144632061376,0.8320160290835785,-0.9049475285738797,-0.17744210477049197,-1.4540758255989237,1.4257420406209662,-0.5205046343083947,-0.05769834283630299,0.47701003735893915,-0.04203967170773101,0.5954054803347232,0.5082602104081628,1.5464874830525634,0.03252793321033726,0.02470780179975145,-0.43883588421253367,0.7655553628093557,0.08479713396327594,-0.061697794787186545,-1.670028936339304,-0.44654185078945124,0.3424303635259183,-1.4760687974593132,1.00411471917094,-0.05524154132328517,0.014428830329574913,-0.3383435301323882,1.5183470766720768,-0.027803842073751618,1.7202240294648374,0.0659563768324742,0.8220356160516542,-0.5351973075051546,-0.15985840887473127,0.9323610128235857,0.6006660833479411,-0.8184884530933983,0.5152778925589065,2.5445342396284483,-0.03483860975117482,0.5162424224318293,0.9591449980497241,0.17777377052477863,-0.13969697340984139,-0.8569053896082983,0.2698446001276596,-0.19793090917579773,0.4250458772262773,0.3538791331723721,-2.2000463413342275,0.4181696188358884,-0.5901820888816727,0.020414193883099955,-0.6489481062883675,-0.3821890735220406,-0.32985879985063243,1.3954598123304571,0.05505854723609142,-0.6488143149635798,-0.21044309167380512,0.9436186500108769,-0.1344901082326483,0.4913203377664391,0.3285827524381691,-0.22242713380610743,-0.4202007414637871,0.10092135204452221,-0.516654392511781,-1.135954562451008,-0.7944885228365225,-0.8423266383457392,-1.359632784546133,0.7546560920413921,0.6516002595799931,0.8126667585524782,0.22038804422076191,0.054500146304780554,0.2125059915603282,-0.5119263987642447,0.46617177548286015,-1.375963954761399,0.4262163349180895,-1.205184119983154,-0.31379656718450993,0.4138625705495997,0.7663575825164424,-2.1174139409310984,0.5178801297938571,1.780572268688464,0.36758656402424283,-0.4135886115249514,0.8084776519283191,1.6336469314010316,2.230813714022468],\"yaxis\":\"y4\",\"type\":\"scatter\"},{\"line\":{\"color\":\"rgba(128, 128, 128, 1.0)\",\"dash\":\"solid\",\"shape\":\"linear\",\"width\":1.3},\"marker\":{\"size\":2,\"symbol\":\"circle\"},\"mode\":\"markers\",\"name\":\"B\",\"text\":\"\",\"x\":[0.3586331746624718,-0.31304376044741095,0.9155501015715358,-2.102062606588993,0.408045526206134,-0.2653937053424654,-1.0608144632061376,0.8320160290835785,-0.9049475285738797,-0.17744210477049197,-1.4540758255989237,1.4257420406209662,-0.5205046343083947,-0.05769834283630299,0.47701003735893915,-0.04203967170773101,0.5954054803347232,0.5082602104081628,1.5464874830525634,0.03252793321033726,0.02470780179975145,-0.43883588421253367,0.7655553628093557,0.08479713396327594,-0.061697794787186545,-1.670028936339304,-0.44654185078945124,0.3424303635259183,-1.4760687974593132,1.00411471917094,-0.05524154132328517,0.014428830329574913,-0.3383435301323882,1.5183470766720768,-0.027803842073751618,1.7202240294648374,0.0659563768324742,0.8220356160516542,-0.5351973075051546,-0.15985840887473127,0.9323610128235857,0.6006660833479411,-0.8184884530933983,0.5152778925589065,2.5445342396284483,-0.03483860975117482,0.5162424224318293,0.9591449980497241,0.17777377052477863,-0.13969697340984139,-0.8569053896082983,0.2698446001276596,-0.19793090917579773,0.4250458772262773,0.3538791331723721,-2.2000463413342275,0.4181696188358884,-0.5901820888816727,0.020414193883099955,-0.6489481062883675,-0.3821890735220406,-0.32985879985063243,1.3954598123304571,0.05505854723609142,-0.6488143149635798,-0.21044309167380512,0.9436186500108769,-0.1344901082326483,0.4913203377664391,0.3285827524381691,-0.22242713380610743,-0.4202007414637871,0.10092135204452221,-0.516654392511781,-1.135954562451008,-0.7944885228365225,-0.8423266383457392,-1.359632784546133,0.7546560920413921,0.6516002595799931,0.8126667585524782,0.22038804422076191,0.054500146304780554,0.2125059915603282,-0.5119263987642447,0.46617177548286015,-1.375963954761399,0.4262163349180895,-1.205184119983154,-0.31379656718450993,0.4138625705495997,0.7663575825164424,-2.1174139409310984,0.5178801297938571,1.780572268688464,0.36758656402424283,-0.4135886115249514,0.8084776519283191,1.6336469314010316,2.230813714022468],\"xaxis\":\"x5\",\"y\":[-1.0590548720581747,-0.39190242572096723,0.2962891691222517,-0.5490583168335752,0.0883346775218682,-0.6114291879106363,-0.6373993095400021,-1.3757372678673856,0.7710307905294411,-0.7952282574924998,-1.0665821766458694,1.069364678832217,1.1469578718082771,-0.25199465875749505,0.7048053127514355,-0.70141193883703,-0.9687943837773987,-0.5179377536668606,1.0367137748339337,-0.926940875305391,-0.6431803601851102,-0.008176871309322228,-0.9552975301203914,-0.7588749739508795,0.8832832893949047,1.1755358794506057,-0.20549235635876878,-0.7491598214547203,-0.5734776537078125,0.49246483038810485,1.1571408435365964,0.35950239520271465,-0.9814813990037048,-0.3302371152060421,1.4279786237553096,0.09368539541218573,-0.05148049977783981,2.3212174669434593,-0.1741133687184468,1.1003712836406296,1.632706051966583,1.3341292330096408,1.2792614080957836,-0.9846673910400024,1.9008435066570037,0.8600680929881195,-0.6027765692000642,-0.46044062423880017,0.2036331641753118,1.6091632381996916,0.8319891984314672,-2.106481912504469,1.1587762643350736,0.4378282837245897,-0.6787113924870258,-1.3015491673560238,-0.4699970597901284,0.03448216204286796,-0.3921004216330228,0.4011602423714026,0.964934167991005,-1.5316121923083093,-2.708464465730562,0.1739441911266945,-0.24987881590183947,0.09772182633380014,0.7974157087788826,-0.06760707005609054,-1.0605788914082304,-1.0922449732655897,-0.46724550141681537,-1.311758303544521,1.5805631331227574,-2.7451393680018104,1.590657386425081,2.1594987472119085,0.8093209994861948,1.1872539693294126,-0.9376083371748265,-1.9880405933877292,-0.016931850993996047,0.19283107581930145,-1.2621201220902507,1.4219944905623008,0.03945646289475185,1.3468725540679272,0.3352148321341624,-0.7607245053299654,-1.3632969757334765,-0.25955811948574004,0.45549145421093473,-0.1296347833779436,0.04802303523424992,0.31671978263710604,-0.8908041289921246,0.6270179003637465,-0.1845078406753882,2.294840618932753,-1.8898838801321691,1.758211240623883],\"yaxis\":\"y5\",\"type\":\"scatter\"},{\"histfunc\":\"count\",\"histnorm\":\"\",\"marker\":{\"color\":\"rgba(55, 128, 191, 1.0)\",\"line\":{\"color\":\"#4D5663\",\"width\":1.3}},\"name\":\"B\",\"nbinsx\":10,\"opacity\":0.8,\"orientation\":\"v\",\"x\":[-1.0590548720581747,-0.39190242572096723,0.2962891691222517,-0.5490583168335752,0.0883346775218682,-0.6114291879106363,-0.6373993095400021,-1.3757372678673856,0.7710307905294411,-0.7952282574924998,-1.0665821766458694,1.069364678832217,1.1469578718082771,-0.25199465875749505,0.7048053127514355,-0.70141193883703,-0.9687943837773987,-0.5179377536668606,1.0367137748339337,-0.926940875305391,-0.6431803601851102,-0.008176871309322228,-0.9552975301203914,-0.7588749739508795,0.8832832893949047,1.1755358794506057,-0.20549235635876878,-0.7491598214547203,-0.5734776537078125,0.49246483038810485,1.1571408435365964,0.35950239520271465,-0.9814813990037048,-0.3302371152060421,1.4279786237553096,0.09368539541218573,-0.05148049977783981,2.3212174669434593,-0.1741133687184468,1.1003712836406296,1.632706051966583,1.3341292330096408,1.2792614080957836,-0.9846673910400024,1.9008435066570037,0.8600680929881195,-0.6027765692000642,-0.46044062423880017,0.2036331641753118,1.6091632381996916,0.8319891984314672,-2.106481912504469,1.1587762643350736,0.4378282837245897,-0.6787113924870258,-1.3015491673560238,-0.4699970597901284,0.03448216204286796,-0.3921004216330228,0.4011602423714026,0.964934167991005,-1.5316121923083093,-2.708464465730562,0.1739441911266945,-0.24987881590183947,0.09772182633380014,0.7974157087788826,-0.06760707005609054,-1.0605788914082304,-1.0922449732655897,-0.46724550141681537,-1.311758303544521,1.5805631331227574,-2.7451393680018104,1.590657386425081,2.1594987472119085,0.8093209994861948,1.1872539693294126,-0.9376083371748265,-1.9880405933877292,-0.016931850993996047,0.19283107581930145,-1.2621201220902507,1.4219944905623008,0.03945646289475185,1.3468725540679272,0.3352148321341624,-0.7607245053299654,-1.3632969757334765,-0.25955811948574004,0.45549145421093473,-0.1296347833779436,0.04802303523424992,0.31671978263710604,-0.8908041289921246,0.6270179003637465,-0.1845078406753882,2.294840618932753,-1.8898838801321691,1.758211240623883],\"xaxis\":\"x6\",\"yaxis\":\"y6\",\"type\":\"histogram\"},{\"line\":{\"color\":\"rgba(128, 128, 128, 1.0)\",\"dash\":\"solid\",\"shape\":\"linear\",\"width\":1.3},\"marker\":{\"size\":2,\"symbol\":\"circle\"},\"mode\":\"markers\",\"name\":\"B\",\"text\":\"\",\"x\":[0.32429037739075883,1.1879409631045386,-0.38088091795317913,0.14806323550316,-0.5709168393551085,1.3853505290062362,0.030960518731206272,0.3938230637983112,0.6773066094802366,-0.1163003670518374,-0.7582509421132919,-0.38467937176662037,0.9367872426180641,0.3094300782732029,0.09601419265197059,0.5995511429549369,1.4439688168872717,-1.0965528579612354,-0.40781181780874987,-0.5913778404732251,0.7295991376359017,1.5579853159921473,0.05803394864840696,-1.248098266950036,1.4794877768861923,-2.394365890320898,0.874562873382905,-0.6699357548158725,-0.6961017168474808,-0.36174763518653275,1.4517901086461655,0.660505118013835,0.622063497987493,-0.054301146606529675,-0.37886913279578677,-0.008960006479370229,0.21263647906035765,0.14148615088666414,0.037315302544217124,0.6002888863566334,1.3398864669756754,0.5632927848357131,0.43994020088676306,-0.6424879662806519,0.8414231989301041,-0.263665109298404,1.0650209103243846,-0.4987174826350073,-0.029727275897059015,0.4811271849515231,-1.0639989151092917,2.7269733913483805,0.4202847481492167,0.23013615231109463,-0.19052950306876407,-0.07535647639230537,-0.10870803868613195,-1.7764691803724073,-0.20847521854327986,-0.9683394823778462,0.35115001230946635,1.6892276963651842,1.3804853265597006,2.921534826638845,-0.4309883401900627,-0.8817523768739174,0.27541040786185467,-0.3747113263296264,0.9740657170289369,-0.9702017630654753,-0.04811530584331376,-0.5383813969987241,0.16096932939744013,0.15306539136772737,-1.4896596280606906,-0.041852603529642,-1.2837275685397316,0.08498459969796693,0.6932661399547978,-0.48656111657997136,0.03244938448296639,0.5707242925265023,0.9752035089851828,1.5493900379188106,0.8698503692117641,-0.42065578813403187,-1.5706299711399163,-0.2347536852870114,-1.450009680526141,-0.5572941809131361,1.7607885483739076,0.1642451193947591,1.3806465480402927,0.5900768079783596,1.120446209170726,1.2089700577352944,-0.6984128021106067,0.3205901289951289,0.37574731970374725,0.30972045037775137],\"xaxis\":\"x7\",\"y\":[-1.0590548720581747,-0.39190242572096723,0.2962891691222517,-0.5490583168335752,0.0883346775218682,-0.6114291879106363,-0.6373993095400021,-1.3757372678673856,0.7710307905294411,-0.7952282574924998,-1.0665821766458694,1.069364678832217,1.1469578718082771,-0.25199465875749505,0.7048053127514355,-0.70141193883703,-0.9687943837773987,-0.5179377536668606,1.0367137748339337,-0.926940875305391,-0.6431803601851102,-0.008176871309322228,-0.9552975301203914,-0.7588749739508795,0.8832832893949047,1.1755358794506057,-0.20549235635876878,-0.7491598214547203,-0.5734776537078125,0.49246483038810485,1.1571408435365964,0.35950239520271465,-0.9814813990037048,-0.3302371152060421,1.4279786237553096,0.09368539541218573,-0.05148049977783981,2.3212174669434593,-0.1741133687184468,1.1003712836406296,1.632706051966583,1.3341292330096408,1.2792614080957836,-0.9846673910400024,1.9008435066570037,0.8600680929881195,-0.6027765692000642,-0.46044062423880017,0.2036331641753118,1.6091632381996916,0.8319891984314672,-2.106481912504469,1.1587762643350736,0.4378282837245897,-0.6787113924870258,-1.3015491673560238,-0.4699970597901284,0.03448216204286796,-0.3921004216330228,0.4011602423714026,0.964934167991005,-1.5316121923083093,-2.708464465730562,0.1739441911266945,-0.24987881590183947,0.09772182633380014,0.7974157087788826,-0.06760707005609054,-1.0605788914082304,-1.0922449732655897,-0.46724550141681537,-1.311758303544521,1.5805631331227574,-2.7451393680018104,1.590657386425081,2.1594987472119085,0.8093209994861948,1.1872539693294126,-0.9376083371748265,-1.9880405933877292,-0.016931850993996047,0.19283107581930145,-1.2621201220902507,1.4219944905623008,0.03945646289475185,1.3468725540679272,0.3352148321341624,-0.7607245053299654,-1.3632969757334765,-0.25955811948574004,0.45549145421093473,-0.1296347833779436,0.04802303523424992,0.31671978263710604,-0.8908041289921246,0.6270179003637465,-0.1845078406753882,2.294840618932753,-1.8898838801321691,1.758211240623883],\"yaxis\":\"y7\",\"type\":\"scatter\"},{\"line\":{\"color\":\"rgba(128, 128, 128, 1.0)\",\"dash\":\"solid\",\"shape\":\"linear\",\"width\":1.3},\"marker\":{\"size\":2,\"symbol\":\"circle\"},\"mode\":\"markers\",\"name\":\"B\",\"text\":\"\",\"x\":[-0.3464588048417761,-0.647906547324458,0.3486779613719423,0.16578621922162767,-0.6930802152809857,-0.27001530192403844,2.199341644606675,0.6100190730886883,2.102550400217976,1.3032923422411529,-0.049762067909215585,1.0518251360175972,2.606214122416171,-0.2623492398003455,-3.1647169619393614,-0.372542819978809,0.14946434187215132,0.06191615910061245,-1.1814026933119086,-0.2766721067868842,-0.9524484776847364,0.890087121411412,0.16536143007143075,2.0950209738087247,0.6678254539418913,-2.4541658108616398,0.7272111499537395,-1.0632955813088365,0.5563393644310032,0.7007756021443959,-0.7634004670299073,-1.0366226598965147,0.8013304757037002,-0.9575358416562028,-1.2219996303846936,0.8411087011278587,-2.6876492176403706,0.21697871372465866,0.8661761718498764,-0.004477953671440384,-0.24156899072457647,-1.191982405527518,-1.830769949480394,-0.3603791966519778,-1.8541561044408092,-0.8269509146760182,1.2351690456101407,-0.7374726976400329,1.1496626540716828,0.11539306667485381,-0.5874759092324688,-0.29647288445001413,0.8043685590974445,-0.25129479981146213,-0.009082767107194573,0.8249201350185461,-0.9041916236427177,-0.2598132126343078,2.5209152581221406,-0.7414821119261477,0.6528585246841945,0.4727346988738507,-0.4255885388211691,-0.33523865860121993,0.002340531266801451,1.1677113148248681,0.4436607499705828,-1.1378815712598933,-0.9528152338377582,1.3354358098041545,-0.4143195912799377,-0.27195585863102767,-0.5128124546494139,1.1933581947975167,-1.0426560248342713,0.08732828643538657,0.3329346714021422,0.015406732187095097,-1.2208821836590111,1.37925115599276,-0.0021740284364161677,-0.7139241821707765,-0.19727820197878954,0.8372822892101166,1.0594670766221612,1.1254072337082799,1.427965150259643,0.3496471642051402,-0.7616288308439892,-1.1845313919354337,-0.17747967699706843,0.649994802912574,0.3041126587233753,-1.172829688566211,-1.4701448507469361,0.33854444006522966,0.22917881846691687,-0.4156796942910539,-0.18684705250454173,-0.16557973376077886],\"xaxis\":\"x8\",\"y\":[-1.0590548720581747,-0.39190242572096723,0.2962891691222517,-0.5490583168335752,0.0883346775218682,-0.6114291879106363,-0.6373993095400021,-1.3757372678673856,0.7710307905294411,-0.7952282574924998,-1.0665821766458694,1.069364678832217,1.1469578718082771,-0.25199465875749505,0.7048053127514355,-0.70141193883703,-0.9687943837773987,-0.5179377536668606,1.0367137748339337,-0.926940875305391,-0.6431803601851102,-0.008176871309322228,-0.9552975301203914,-0.7588749739508795,0.8832832893949047,1.1755358794506057,-0.20549235635876878,-0.7491598214547203,-0.5734776537078125,0.49246483038810485,1.1571408435365964,0.35950239520271465,-0.9814813990037048,-0.3302371152060421,1.4279786237553096,0.09368539541218573,-0.05148049977783981,2.3212174669434593,-0.1741133687184468,1.1003712836406296,1.632706051966583,1.3341292330096408,1.2792614080957836,-0.9846673910400024,1.9008435066570037,0.8600680929881195,-0.6027765692000642,-0.46044062423880017,0.2036331641753118,1.6091632381996916,0.8319891984314672,-2.106481912504469,1.1587762643350736,0.4378282837245897,-0.6787113924870258,-1.3015491673560238,-0.4699970597901284,0.03448216204286796,-0.3921004216330228,0.4011602423714026,0.964934167991005,-1.5316121923083093,-2.708464465730562,0.1739441911266945,-0.24987881590183947,0.09772182633380014,0.7974157087788826,-0.06760707005609054,-1.0605788914082304,-1.0922449732655897,-0.46724550141681537,-1.311758303544521,1.5805631331227574,-2.7451393680018104,1.590657386425081,2.1594987472119085,0.8093209994861948,1.1872539693294126,-0.9376083371748265,-1.9880405933877292,-0.016931850993996047,0.19283107581930145,-1.2621201220902507,1.4219944905623008,0.03945646289475185,1.3468725540679272,0.3352148321341624,-0.7607245053299654,-1.3632969757334765,-0.25955811948574004,0.45549145421093473,-0.1296347833779436,0.04802303523424992,0.31671978263710604,-0.8908041289921246,0.6270179003637465,-0.1845078406753882,2.294840618932753,-1.8898838801321691,1.758211240623883],\"yaxis\":\"y8\",\"type\":\"scatter\"},{\"line\":{\"color\":\"rgba(128, 128, 128, 1.0)\",\"dash\":\"solid\",\"shape\":\"linear\",\"width\":1.3},\"marker\":{\"size\":2,\"symbol\":\"circle\"},\"mode\":\"markers\",\"name\":\"C\",\"text\":\"\",\"x\":[0.3586331746624718,-0.31304376044741095,0.9155501015715358,-2.102062606588993,0.408045526206134,-0.2653937053424654,-1.0608144632061376,0.8320160290835785,-0.9049475285738797,-0.17744210477049197,-1.4540758255989237,1.4257420406209662,-0.5205046343083947,-0.05769834283630299,0.47701003735893915,-0.04203967170773101,0.5954054803347232,0.5082602104081628,1.5464874830525634,0.03252793321033726,0.02470780179975145,-0.43883588421253367,0.7655553628093557,0.08479713396327594,-0.061697794787186545,-1.670028936339304,-0.44654185078945124,0.3424303635259183,-1.4760687974593132,1.00411471917094,-0.05524154132328517,0.014428830329574913,-0.3383435301323882,1.5183470766720768,-0.027803842073751618,1.7202240294648374,0.0659563768324742,0.8220356160516542,-0.5351973075051546,-0.15985840887473127,0.9323610128235857,0.6006660833479411,-0.8184884530933983,0.5152778925589065,2.5445342396284483,-0.03483860975117482,0.5162424224318293,0.9591449980497241,0.17777377052477863,-0.13969697340984139,-0.8569053896082983,0.2698446001276596,-0.19793090917579773,0.4250458772262773,0.3538791331723721,-2.2000463413342275,0.4181696188358884,-0.5901820888816727,0.020414193883099955,-0.6489481062883675,-0.3821890735220406,-0.32985879985063243,1.3954598123304571,0.05505854723609142,-0.6488143149635798,-0.21044309167380512,0.9436186500108769,-0.1344901082326483,0.4913203377664391,0.3285827524381691,-0.22242713380610743,-0.4202007414637871,0.10092135204452221,-0.516654392511781,-1.135954562451008,-0.7944885228365225,-0.8423266383457392,-1.359632784546133,0.7546560920413921,0.6516002595799931,0.8126667585524782,0.22038804422076191,0.054500146304780554,0.2125059915603282,-0.5119263987642447,0.46617177548286015,-1.375963954761399,0.4262163349180895,-1.205184119983154,-0.31379656718450993,0.4138625705495997,0.7663575825164424,-2.1174139409310984,0.5178801297938571,1.780572268688464,0.36758656402424283,-0.4135886115249514,0.8084776519283191,1.6336469314010316,2.230813714022468],\"xaxis\":\"x9\",\"y\":[0.32429037739075883,1.1879409631045386,-0.38088091795317913,0.14806323550316,-0.5709168393551085,1.3853505290062362,0.030960518731206272,0.3938230637983112,0.6773066094802366,-0.1163003670518374,-0.7582509421132919,-0.38467937176662037,0.9367872426180641,0.3094300782732029,0.09601419265197059,0.5995511429549369,1.4439688168872717,-1.0965528579612354,-0.40781181780874987,-0.5913778404732251,0.7295991376359017,1.5579853159921473,0.05803394864840696,-1.248098266950036,1.4794877768861923,-2.394365890320898,0.874562873382905,-0.6699357548158725,-0.6961017168474808,-0.36174763518653275,1.4517901086461655,0.660505118013835,0.622063497987493,-0.054301146606529675,-0.37886913279578677,-0.008960006479370229,0.21263647906035765,0.14148615088666414,0.037315302544217124,0.6002888863566334,1.3398864669756754,0.5632927848357131,0.43994020088676306,-0.6424879662806519,0.8414231989301041,-0.263665109298404,1.0650209103243846,-0.4987174826350073,-0.029727275897059015,0.4811271849515231,-1.0639989151092917,2.7269733913483805,0.4202847481492167,0.23013615231109463,-0.19052950306876407,-0.07535647639230537,-0.10870803868613195,-1.7764691803724073,-0.20847521854327986,-0.9683394823778462,0.35115001230946635,1.6892276963651842,1.3804853265597006,2.921534826638845,-0.4309883401900627,-0.8817523768739174,0.27541040786185467,-0.3747113263296264,0.9740657170289369,-0.9702017630654753,-0.04811530584331376,-0.5383813969987241,0.16096932939744013,0.15306539136772737,-1.4896596280606906,-0.041852603529642,-1.2837275685397316,0.08498459969796693,0.6932661399547978,-0.48656111657997136,0.03244938448296639,0.5707242925265023,0.9752035089851828,1.5493900379188106,0.8698503692117641,-0.42065578813403187,-1.5706299711399163,-0.2347536852870114,-1.450009680526141,-0.5572941809131361,1.7607885483739076,0.1642451193947591,1.3806465480402927,0.5900768079783596,1.120446209170726,1.2089700577352944,-0.6984128021106067,0.3205901289951289,0.37574731970374725,0.30972045037775137],\"yaxis\":\"y9\",\"type\":\"scatter\"},{\"line\":{\"color\":\"rgba(128, 128, 128, 1.0)\",\"dash\":\"solid\",\"shape\":\"linear\",\"width\":1.3},\"marker\":{\"size\":2,\"symbol\":\"circle\"},\"mode\":\"markers\",\"name\":\"C\",\"text\":\"\",\"x\":[-1.0590548720581747,-0.39190242572096723,0.2962891691222517,-0.5490583168335752,0.0883346775218682,-0.6114291879106363,-0.6373993095400021,-1.3757372678673856,0.7710307905294411,-0.7952282574924998,-1.0665821766458694,1.069364678832217,1.1469578718082771,-0.25199465875749505,0.7048053127514355,-0.70141193883703,-0.9687943837773987,-0.5179377536668606,1.0367137748339337,-0.926940875305391,-0.6431803601851102,-0.008176871309322228,-0.9552975301203914,-0.7588749739508795,0.8832832893949047,1.1755358794506057,-0.20549235635876878,-0.7491598214547203,-0.5734776537078125,0.49246483038810485,1.1571408435365964,0.35950239520271465,-0.9814813990037048,-0.3302371152060421,1.4279786237553096,0.09368539541218573,-0.05148049977783981,2.3212174669434593,-0.1741133687184468,1.1003712836406296,1.632706051966583,1.3341292330096408,1.2792614080957836,-0.9846673910400024,1.9008435066570037,0.8600680929881195,-0.6027765692000642,-0.46044062423880017,0.2036331641753118,1.6091632381996916,0.8319891984314672,-2.106481912504469,1.1587762643350736,0.4378282837245897,-0.6787113924870258,-1.3015491673560238,-0.4699970597901284,0.03448216204286796,-0.3921004216330228,0.4011602423714026,0.964934167991005,-1.5316121923083093,-2.708464465730562,0.1739441911266945,-0.24987881590183947,0.09772182633380014,0.7974157087788826,-0.06760707005609054,-1.0605788914082304,-1.0922449732655897,-0.46724550141681537,-1.311758303544521,1.5805631331227574,-2.7451393680018104,1.590657386425081,2.1594987472119085,0.8093209994861948,1.1872539693294126,-0.9376083371748265,-1.9880405933877292,-0.016931850993996047,0.19283107581930145,-1.2621201220902507,1.4219944905623008,0.03945646289475185,1.3468725540679272,0.3352148321341624,-0.7607245053299654,-1.3632969757334765,-0.25955811948574004,0.45549145421093473,-0.1296347833779436,0.04802303523424992,0.31671978263710604,-0.8908041289921246,0.6270179003637465,-0.1845078406753882,2.294840618932753,-1.8898838801321691,1.758211240623883],\"xaxis\":\"x10\",\"y\":[0.32429037739075883,1.1879409631045386,-0.38088091795317913,0.14806323550316,-0.5709168393551085,1.3853505290062362,0.030960518731206272,0.3938230637983112,0.6773066094802366,-0.1163003670518374,-0.7582509421132919,-0.38467937176662037,0.9367872426180641,0.3094300782732029,0.09601419265197059,0.5995511429549369,1.4439688168872717,-1.0965528579612354,-0.40781181780874987,-0.5913778404732251,0.7295991376359017,1.5579853159921473,0.05803394864840696,-1.248098266950036,1.4794877768861923,-2.394365890320898,0.874562873382905,-0.6699357548158725,-0.6961017168474808,-0.36174763518653275,1.4517901086461655,0.660505118013835,0.622063497987493,-0.054301146606529675,-0.37886913279578677,-0.008960006479370229,0.21263647906035765,0.14148615088666414,0.037315302544217124,0.6002888863566334,1.3398864669756754,0.5632927848357131,0.43994020088676306,-0.6424879662806519,0.8414231989301041,-0.263665109298404,1.0650209103243846,-0.4987174826350073,-0.029727275897059015,0.4811271849515231,-1.0639989151092917,2.7269733913483805,0.4202847481492167,0.23013615231109463,-0.19052950306876407,-0.07535647639230537,-0.10870803868613195,-1.7764691803724073,-0.20847521854327986,-0.9683394823778462,0.35115001230946635,1.6892276963651842,1.3804853265597006,2.921534826638845,-0.4309883401900627,-0.8817523768739174,0.27541040786185467,-0.3747113263296264,0.9740657170289369,-0.9702017630654753,-0.04811530584331376,-0.5383813969987241,0.16096932939744013,0.15306539136772737,-1.4896596280606906,-0.041852603529642,-1.2837275685397316,0.08498459969796693,0.6932661399547978,-0.48656111657997136,0.03244938448296639,0.5707242925265023,0.9752035089851828,1.5493900379188106,0.8698503692117641,-0.42065578813403187,-1.5706299711399163,-0.2347536852870114,-1.450009680526141,-0.5572941809131361,1.7607885483739076,0.1642451193947591,1.3806465480402927,0.5900768079783596,1.120446209170726,1.2089700577352944,-0.6984128021106067,0.3205901289951289,0.37574731970374725,0.30972045037775137],\"yaxis\":\"y10\",\"type\":\"scatter\"},{\"histfunc\":\"count\",\"histnorm\":\"\",\"marker\":{\"color\":\"rgba(50, 171, 96, 1.0)\",\"line\":{\"color\":\"#4D5663\",\"width\":1.3}},\"name\":\"C\",\"nbinsx\":10,\"opacity\":0.8,\"orientation\":\"v\",\"x\":[0.32429037739075883,1.1879409631045386,-0.38088091795317913,0.14806323550316,-0.5709168393551085,1.3853505290062362,0.030960518731206272,0.3938230637983112,0.6773066094802366,-0.1163003670518374,-0.7582509421132919,-0.38467937176662037,0.9367872426180641,0.3094300782732029,0.09601419265197059,0.5995511429549369,1.4439688168872717,-1.0965528579612354,-0.40781181780874987,-0.5913778404732251,0.7295991376359017,1.5579853159921473,0.05803394864840696,-1.248098266950036,1.4794877768861923,-2.394365890320898,0.874562873382905,-0.6699357548158725,-0.6961017168474808,-0.36174763518653275,1.4517901086461655,0.660505118013835,0.622063497987493,-0.054301146606529675,-0.37886913279578677,-0.008960006479370229,0.21263647906035765,0.14148615088666414,0.037315302544217124,0.6002888863566334,1.3398864669756754,0.5632927848357131,0.43994020088676306,-0.6424879662806519,0.8414231989301041,-0.263665109298404,1.0650209103243846,-0.4987174826350073,-0.029727275897059015,0.4811271849515231,-1.0639989151092917,2.7269733913483805,0.4202847481492167,0.23013615231109463,-0.19052950306876407,-0.07535647639230537,-0.10870803868613195,-1.7764691803724073,-0.20847521854327986,-0.9683394823778462,0.35115001230946635,1.6892276963651842,1.3804853265597006,2.921534826638845,-0.4309883401900627,-0.8817523768739174,0.27541040786185467,-0.3747113263296264,0.9740657170289369,-0.9702017630654753,-0.04811530584331376,-0.5383813969987241,0.16096932939744013,0.15306539136772737,-1.4896596280606906,-0.041852603529642,-1.2837275685397316,0.08498459969796693,0.6932661399547978,-0.48656111657997136,0.03244938448296639,0.5707242925265023,0.9752035089851828,1.5493900379188106,0.8698503692117641,-0.42065578813403187,-1.5706299711399163,-0.2347536852870114,-1.450009680526141,-0.5572941809131361,1.7607885483739076,0.1642451193947591,1.3806465480402927,0.5900768079783596,1.120446209170726,1.2089700577352944,-0.6984128021106067,0.3205901289951289,0.37574731970374725,0.30972045037775137],\"xaxis\":\"x11\",\"yaxis\":\"y11\",\"type\":\"histogram\"},{\"line\":{\"color\":\"rgba(128, 128, 128, 1.0)\",\"dash\":\"solid\",\"shape\":\"linear\",\"width\":1.3},\"marker\":{\"size\":2,\"symbol\":\"circle\"},\"mode\":\"markers\",\"name\":\"C\",\"text\":\"\",\"x\":[-0.3464588048417761,-0.647906547324458,0.3486779613719423,0.16578621922162767,-0.6930802152809857,-0.27001530192403844,2.199341644606675,0.6100190730886883,2.102550400217976,1.3032923422411529,-0.049762067909215585,1.0518251360175972,2.606214122416171,-0.2623492398003455,-3.1647169619393614,-0.372542819978809,0.14946434187215132,0.06191615910061245,-1.1814026933119086,-0.2766721067868842,-0.9524484776847364,0.890087121411412,0.16536143007143075,2.0950209738087247,0.6678254539418913,-2.4541658108616398,0.7272111499537395,-1.0632955813088365,0.5563393644310032,0.7007756021443959,-0.7634004670299073,-1.0366226598965147,0.8013304757037002,-0.9575358416562028,-1.2219996303846936,0.8411087011278587,-2.6876492176403706,0.21697871372465866,0.8661761718498764,-0.004477953671440384,-0.24156899072457647,-1.191982405527518,-1.830769949480394,-0.3603791966519778,-1.8541561044408092,-0.8269509146760182,1.2351690456101407,-0.7374726976400329,1.1496626540716828,0.11539306667485381,-0.5874759092324688,-0.29647288445001413,0.8043685590974445,-0.25129479981146213,-0.009082767107194573,0.8249201350185461,-0.9041916236427177,-0.2598132126343078,2.5209152581221406,-0.7414821119261477,0.6528585246841945,0.4727346988738507,-0.4255885388211691,-0.33523865860121993,0.002340531266801451,1.1677113148248681,0.4436607499705828,-1.1378815712598933,-0.9528152338377582,1.3354358098041545,-0.4143195912799377,-0.27195585863102767,-0.5128124546494139,1.1933581947975167,-1.0426560248342713,0.08732828643538657,0.3329346714021422,0.015406732187095097,-1.2208821836590111,1.37925115599276,-0.0021740284364161677,-0.7139241821707765,-0.19727820197878954,0.8372822892101166,1.0594670766221612,1.1254072337082799,1.427965150259643,0.3496471642051402,-0.7616288308439892,-1.1845313919354337,-0.17747967699706843,0.649994802912574,0.3041126587233753,-1.172829688566211,-1.4701448507469361,0.33854444006522966,0.22917881846691687,-0.4156796942910539,-0.18684705250454173,-0.16557973376077886],\"xaxis\":\"x12\",\"y\":[0.32429037739075883,1.1879409631045386,-0.38088091795317913,0.14806323550316,-0.5709168393551085,1.3853505290062362,0.030960518731206272,0.3938230637983112,0.6773066094802366,-0.1163003670518374,-0.7582509421132919,-0.38467937176662037,0.9367872426180641,0.3094300782732029,0.09601419265197059,0.5995511429549369,1.4439688168872717,-1.0965528579612354,-0.40781181780874987,-0.5913778404732251,0.7295991376359017,1.5579853159921473,0.05803394864840696,-1.248098266950036,1.4794877768861923,-2.394365890320898,0.874562873382905,-0.6699357548158725,-0.6961017168474808,-0.36174763518653275,1.4517901086461655,0.660505118013835,0.622063497987493,-0.054301146606529675,-0.37886913279578677,-0.008960006479370229,0.21263647906035765,0.14148615088666414,0.037315302544217124,0.6002888863566334,1.3398864669756754,0.5632927848357131,0.43994020088676306,-0.6424879662806519,0.8414231989301041,-0.263665109298404,1.0650209103243846,-0.4987174826350073,-0.029727275897059015,0.4811271849515231,-1.0639989151092917,2.7269733913483805,0.4202847481492167,0.23013615231109463,-0.19052950306876407,-0.07535647639230537,-0.10870803868613195,-1.7764691803724073,-0.20847521854327986,-0.9683394823778462,0.35115001230946635,1.6892276963651842,1.3804853265597006,2.921534826638845,-0.4309883401900627,-0.8817523768739174,0.27541040786185467,-0.3747113263296264,0.9740657170289369,-0.9702017630654753,-0.04811530584331376,-0.5383813969987241,0.16096932939744013,0.15306539136772737,-1.4896596280606906,-0.041852603529642,-1.2837275685397316,0.08498459969796693,0.6932661399547978,-0.48656111657997136,0.03244938448296639,0.5707242925265023,0.9752035089851828,1.5493900379188106,0.8698503692117641,-0.42065578813403187,-1.5706299711399163,-0.2347536852870114,-1.450009680526141,-0.5572941809131361,1.7607885483739076,0.1642451193947591,1.3806465480402927,0.5900768079783596,1.120446209170726,1.2089700577352944,-0.6984128021106067,0.3205901289951289,0.37574731970374725,0.30972045037775137],\"yaxis\":\"y12\",\"type\":\"scatter\"},{\"line\":{\"color\":\"rgba(128, 128, 128, 1.0)\",\"dash\":\"solid\",\"shape\":\"linear\",\"width\":1.3},\"marker\":{\"size\":2,\"symbol\":\"circle\"},\"mode\":\"markers\",\"name\":\"D\",\"text\":\"\",\"x\":[0.3586331746624718,-0.31304376044741095,0.9155501015715358,-2.102062606588993,0.408045526206134,-0.2653937053424654,-1.0608144632061376,0.8320160290835785,-0.9049475285738797,-0.17744210477049197,-1.4540758255989237,1.4257420406209662,-0.5205046343083947,-0.05769834283630299,0.47701003735893915,-0.04203967170773101,0.5954054803347232,0.5082602104081628,1.5464874830525634,0.03252793321033726,0.02470780179975145,-0.43883588421253367,0.7655553628093557,0.08479713396327594,-0.061697794787186545,-1.670028936339304,-0.44654185078945124,0.3424303635259183,-1.4760687974593132,1.00411471917094,-0.05524154132328517,0.014428830329574913,-0.3383435301323882,1.5183470766720768,-0.027803842073751618,1.7202240294648374,0.0659563768324742,0.8220356160516542,-0.5351973075051546,-0.15985840887473127,0.9323610128235857,0.6006660833479411,-0.8184884530933983,0.5152778925589065,2.5445342396284483,-0.03483860975117482,0.5162424224318293,0.9591449980497241,0.17777377052477863,-0.13969697340984139,-0.8569053896082983,0.2698446001276596,-0.19793090917579773,0.4250458772262773,0.3538791331723721,-2.2000463413342275,0.4181696188358884,-0.5901820888816727,0.020414193883099955,-0.6489481062883675,-0.3821890735220406,-0.32985879985063243,1.3954598123304571,0.05505854723609142,-0.6488143149635798,-0.21044309167380512,0.9436186500108769,-0.1344901082326483,0.4913203377664391,0.3285827524381691,-0.22242713380610743,-0.4202007414637871,0.10092135204452221,-0.516654392511781,-1.135954562451008,-0.7944885228365225,-0.8423266383457392,-1.359632784546133,0.7546560920413921,0.6516002595799931,0.8126667585524782,0.22038804422076191,0.054500146304780554,0.2125059915603282,-0.5119263987642447,0.46617177548286015,-1.375963954761399,0.4262163349180895,-1.205184119983154,-0.31379656718450993,0.4138625705495997,0.7663575825164424,-2.1174139409310984,0.5178801297938571,1.780572268688464,0.36758656402424283,-0.4135886115249514,0.8084776519283191,1.6336469314010316,2.230813714022468],\"xaxis\":\"x13\",\"y\":[-0.3464588048417761,-0.647906547324458,0.3486779613719423,0.16578621922162767,-0.6930802152809857,-0.27001530192403844,2.199341644606675,0.6100190730886883,2.102550400217976,1.3032923422411529,-0.049762067909215585,1.0518251360175972,2.606214122416171,-0.2623492398003455,-3.1647169619393614,-0.372542819978809,0.14946434187215132,0.06191615910061245,-1.1814026933119086,-0.2766721067868842,-0.9524484776847364,0.890087121411412,0.16536143007143075,2.0950209738087247,0.6678254539418913,-2.4541658108616398,0.7272111499537395,-1.0632955813088365,0.5563393644310032,0.7007756021443959,-0.7634004670299073,-1.0366226598965147,0.8013304757037002,-0.9575358416562028,-1.2219996303846936,0.8411087011278587,-2.6876492176403706,0.21697871372465866,0.8661761718498764,-0.004477953671440384,-0.24156899072457647,-1.191982405527518,-1.830769949480394,-0.3603791966519778,-1.8541561044408092,-0.8269509146760182,1.2351690456101407,-0.7374726976400329,1.1496626540716828,0.11539306667485381,-0.5874759092324688,-0.29647288445001413,0.8043685590974445,-0.25129479981146213,-0.009082767107194573,0.8249201350185461,-0.9041916236427177,-0.2598132126343078,2.5209152581221406,-0.7414821119261477,0.6528585246841945,0.4727346988738507,-0.4255885388211691,-0.33523865860121993,0.002340531266801451,1.1677113148248681,0.4436607499705828,-1.1378815712598933,-0.9528152338377582,1.3354358098041545,-0.4143195912799377,-0.27195585863102767,-0.5128124546494139,1.1933581947975167,-1.0426560248342713,0.08732828643538657,0.3329346714021422,0.015406732187095097,-1.2208821836590111,1.37925115599276,-0.0021740284364161677,-0.7139241821707765,-0.19727820197878954,0.8372822892101166,1.0594670766221612,1.1254072337082799,1.427965150259643,0.3496471642051402,-0.7616288308439892,-1.1845313919354337,-0.17747967699706843,0.649994802912574,0.3041126587233753,-1.172829688566211,-1.4701448507469361,0.33854444006522966,0.22917881846691687,-0.4156796942910539,-0.18684705250454173,-0.16557973376077886],\"yaxis\":\"y13\",\"type\":\"scatter\"},{\"line\":{\"color\":\"rgba(128, 128, 128, 1.0)\",\"dash\":\"solid\",\"shape\":\"linear\",\"width\":1.3},\"marker\":{\"size\":2,\"symbol\":\"circle\"},\"mode\":\"markers\",\"name\":\"D\",\"text\":\"\",\"x\":[-1.0590548720581747,-0.39190242572096723,0.2962891691222517,-0.5490583168335752,0.0883346775218682,-0.6114291879106363,-0.6373993095400021,-1.3757372678673856,0.7710307905294411,-0.7952282574924998,-1.0665821766458694,1.069364678832217,1.1469578718082771,-0.25199465875749505,0.7048053127514355,-0.70141193883703,-0.9687943837773987,-0.5179377536668606,1.0367137748339337,-0.926940875305391,-0.6431803601851102,-0.008176871309322228,-0.9552975301203914,-0.7588749739508795,0.8832832893949047,1.1755358794506057,-0.20549235635876878,-0.7491598214547203,-0.5734776537078125,0.49246483038810485,1.1571408435365964,0.35950239520271465,-0.9814813990037048,-0.3302371152060421,1.4279786237553096,0.09368539541218573,-0.05148049977783981,2.3212174669434593,-0.1741133687184468,1.1003712836406296,1.632706051966583,1.3341292330096408,1.2792614080957836,-0.9846673910400024,1.9008435066570037,0.8600680929881195,-0.6027765692000642,-0.46044062423880017,0.2036331641753118,1.6091632381996916,0.8319891984314672,-2.106481912504469,1.1587762643350736,0.4378282837245897,-0.6787113924870258,-1.3015491673560238,-0.4699970597901284,0.03448216204286796,-0.3921004216330228,0.4011602423714026,0.964934167991005,-1.5316121923083093,-2.708464465730562,0.1739441911266945,-0.24987881590183947,0.09772182633380014,0.7974157087788826,-0.06760707005609054,-1.0605788914082304,-1.0922449732655897,-0.46724550141681537,-1.311758303544521,1.5805631331227574,-2.7451393680018104,1.590657386425081,2.1594987472119085,0.8093209994861948,1.1872539693294126,-0.9376083371748265,-1.9880405933877292,-0.016931850993996047,0.19283107581930145,-1.2621201220902507,1.4219944905623008,0.03945646289475185,1.3468725540679272,0.3352148321341624,-0.7607245053299654,-1.3632969757334765,-0.25955811948574004,0.45549145421093473,-0.1296347833779436,0.04802303523424992,0.31671978263710604,-0.8908041289921246,0.6270179003637465,-0.1845078406753882,2.294840618932753,-1.8898838801321691,1.758211240623883],\"xaxis\":\"x14\",\"y\":[-0.3464588048417761,-0.647906547324458,0.3486779613719423,0.16578621922162767,-0.6930802152809857,-0.27001530192403844,2.199341644606675,0.6100190730886883,2.102550400217976,1.3032923422411529,-0.049762067909215585,1.0518251360175972,2.606214122416171,-0.2623492398003455,-3.1647169619393614,-0.372542819978809,0.14946434187215132,0.06191615910061245,-1.1814026933119086,-0.2766721067868842,-0.9524484776847364,0.890087121411412,0.16536143007143075,2.0950209738087247,0.6678254539418913,-2.4541658108616398,0.7272111499537395,-1.0632955813088365,0.5563393644310032,0.7007756021443959,-0.7634004670299073,-1.0366226598965147,0.8013304757037002,-0.9575358416562028,-1.2219996303846936,0.8411087011278587,-2.6876492176403706,0.21697871372465866,0.8661761718498764,-0.004477953671440384,-0.24156899072457647,-1.191982405527518,-1.830769949480394,-0.3603791966519778,-1.8541561044408092,-0.8269509146760182,1.2351690456101407,-0.7374726976400329,1.1496626540716828,0.11539306667485381,-0.5874759092324688,-0.29647288445001413,0.8043685590974445,-0.25129479981146213,-0.009082767107194573,0.8249201350185461,-0.9041916236427177,-0.2598132126343078,2.5209152581221406,-0.7414821119261477,0.6528585246841945,0.4727346988738507,-0.4255885388211691,-0.33523865860121993,0.002340531266801451,1.1677113148248681,0.4436607499705828,-1.1378815712598933,-0.9528152338377582,1.3354358098041545,-0.4143195912799377,-0.27195585863102767,-0.5128124546494139,1.1933581947975167,-1.0426560248342713,0.08732828643538657,0.3329346714021422,0.015406732187095097,-1.2208821836590111,1.37925115599276,-0.0021740284364161677,-0.7139241821707765,-0.19727820197878954,0.8372822892101166,1.0594670766221612,1.1254072337082799,1.427965150259643,0.3496471642051402,-0.7616288308439892,-1.1845313919354337,-0.17747967699706843,0.649994802912574,0.3041126587233753,-1.172829688566211,-1.4701448507469361,0.33854444006522966,0.22917881846691687,-0.4156796942910539,-0.18684705250454173,-0.16557973376077886],\"yaxis\":\"y14\",\"type\":\"scatter\"},{\"line\":{\"color\":\"rgba(128, 128, 128, 1.0)\",\"dash\":\"solid\",\"shape\":\"linear\",\"width\":1.3},\"marker\":{\"size\":2,\"symbol\":\"circle\"},\"mode\":\"markers\",\"name\":\"D\",\"text\":\"\",\"x\":[0.32429037739075883,1.1879409631045386,-0.38088091795317913,0.14806323550316,-0.5709168393551085,1.3853505290062362,0.030960518731206272,0.3938230637983112,0.6773066094802366,-0.1163003670518374,-0.7582509421132919,-0.38467937176662037,0.9367872426180641,0.3094300782732029,0.09601419265197059,0.5995511429549369,1.4439688168872717,-1.0965528579612354,-0.40781181780874987,-0.5913778404732251,0.7295991376359017,1.5579853159921473,0.05803394864840696,-1.248098266950036,1.4794877768861923,-2.394365890320898,0.874562873382905,-0.6699357548158725,-0.6961017168474808,-0.36174763518653275,1.4517901086461655,0.660505118013835,0.622063497987493,-0.054301146606529675,-0.37886913279578677,-0.008960006479370229,0.21263647906035765,0.14148615088666414,0.037315302544217124,0.6002888863566334,1.3398864669756754,0.5632927848357131,0.43994020088676306,-0.6424879662806519,0.8414231989301041,-0.263665109298404,1.0650209103243846,-0.4987174826350073,-0.029727275897059015,0.4811271849515231,-1.0639989151092917,2.7269733913483805,0.4202847481492167,0.23013615231109463,-0.19052950306876407,-0.07535647639230537,-0.10870803868613195,-1.7764691803724073,-0.20847521854327986,-0.9683394823778462,0.35115001230946635,1.6892276963651842,1.3804853265597006,2.921534826638845,-0.4309883401900627,-0.8817523768739174,0.27541040786185467,-0.3747113263296264,0.9740657170289369,-0.9702017630654753,-0.04811530584331376,-0.5383813969987241,0.16096932939744013,0.15306539136772737,-1.4896596280606906,-0.041852603529642,-1.2837275685397316,0.08498459969796693,0.6932661399547978,-0.48656111657997136,0.03244938448296639,0.5707242925265023,0.9752035089851828,1.5493900379188106,0.8698503692117641,-0.42065578813403187,-1.5706299711399163,-0.2347536852870114,-1.450009680526141,-0.5572941809131361,1.7607885483739076,0.1642451193947591,1.3806465480402927,0.5900768079783596,1.120446209170726,1.2089700577352944,-0.6984128021106067,0.3205901289951289,0.37574731970374725,0.30972045037775137],\"xaxis\":\"x15\",\"y\":[-0.3464588048417761,-0.647906547324458,0.3486779613719423,0.16578621922162767,-0.6930802152809857,-0.27001530192403844,2.199341644606675,0.6100190730886883,2.102550400217976,1.3032923422411529,-0.049762067909215585,1.0518251360175972,2.606214122416171,-0.2623492398003455,-3.1647169619393614,-0.372542819978809,0.14946434187215132,0.06191615910061245,-1.1814026933119086,-0.2766721067868842,-0.9524484776847364,0.890087121411412,0.16536143007143075,2.0950209738087247,0.6678254539418913,-2.4541658108616398,0.7272111499537395,-1.0632955813088365,0.5563393644310032,0.7007756021443959,-0.7634004670299073,-1.0366226598965147,0.8013304757037002,-0.9575358416562028,-1.2219996303846936,0.8411087011278587,-2.6876492176403706,0.21697871372465866,0.8661761718498764,-0.004477953671440384,-0.24156899072457647,-1.191982405527518,-1.830769949480394,-0.3603791966519778,-1.8541561044408092,-0.8269509146760182,1.2351690456101407,-0.7374726976400329,1.1496626540716828,0.11539306667485381,-0.5874759092324688,-0.29647288445001413,0.8043685590974445,-0.25129479981146213,-0.009082767107194573,0.8249201350185461,-0.9041916236427177,-0.2598132126343078,2.5209152581221406,-0.7414821119261477,0.6528585246841945,0.4727346988738507,-0.4255885388211691,-0.33523865860121993,0.002340531266801451,1.1677113148248681,0.4436607499705828,-1.1378815712598933,-0.9528152338377582,1.3354358098041545,-0.4143195912799377,-0.27195585863102767,-0.5128124546494139,1.1933581947975167,-1.0426560248342713,0.08732828643538657,0.3329346714021422,0.015406732187095097,-1.2208821836590111,1.37925115599276,-0.0021740284364161677,-0.7139241821707765,-0.19727820197878954,0.8372822892101166,1.0594670766221612,1.1254072337082799,1.427965150259643,0.3496471642051402,-0.7616288308439892,-1.1845313919354337,-0.17747967699706843,0.649994802912574,0.3041126587233753,-1.172829688566211,-1.4701448507469361,0.33854444006522966,0.22917881846691687,-0.4156796942910539,-0.18684705250454173,-0.16557973376077886],\"yaxis\":\"y15\",\"type\":\"scatter\"},{\"histfunc\":\"count\",\"histnorm\":\"\",\"marker\":{\"color\":\"rgba(128, 0, 128, 1.0)\",\"line\":{\"color\":\"#4D5663\",\"width\":1.3}},\"name\":\"D\",\"nbinsx\":10,\"opacity\":0.8,\"orientation\":\"v\",\"x\":[-0.3464588048417761,-0.647906547324458,0.3486779613719423,0.16578621922162767,-0.6930802152809857,-0.27001530192403844,2.199341644606675,0.6100190730886883,2.102550400217976,1.3032923422411529,-0.049762067909215585,1.0518251360175972,2.606214122416171,-0.2623492398003455,-3.1647169619393614,-0.372542819978809,0.14946434187215132,0.06191615910061245,-1.1814026933119086,-0.2766721067868842,-0.9524484776847364,0.890087121411412,0.16536143007143075,2.0950209738087247,0.6678254539418913,-2.4541658108616398,0.7272111499537395,-1.0632955813088365,0.5563393644310032,0.7007756021443959,-0.7634004670299073,-1.0366226598965147,0.8013304757037002,-0.9575358416562028,-1.2219996303846936,0.8411087011278587,-2.6876492176403706,0.21697871372465866,0.8661761718498764,-0.004477953671440384,-0.24156899072457647,-1.191982405527518,-1.830769949480394,-0.3603791966519778,-1.8541561044408092,-0.8269509146760182,1.2351690456101407,-0.7374726976400329,1.1496626540716828,0.11539306667485381,-0.5874759092324688,-0.29647288445001413,0.8043685590974445,-0.25129479981146213,-0.009082767107194573,0.8249201350185461,-0.9041916236427177,-0.2598132126343078,2.5209152581221406,-0.7414821119261477,0.6528585246841945,0.4727346988738507,-0.4255885388211691,-0.33523865860121993,0.002340531266801451,1.1677113148248681,0.4436607499705828,-1.1378815712598933,-0.9528152338377582,1.3354358098041545,-0.4143195912799377,-0.27195585863102767,-0.5128124546494139,1.1933581947975167,-1.0426560248342713,0.08732828643538657,0.3329346714021422,0.015406732187095097,-1.2208821836590111,1.37925115599276,-0.0021740284364161677,-0.7139241821707765,-0.19727820197878954,0.8372822892101166,1.0594670766221612,1.1254072337082799,1.427965150259643,0.3496471642051402,-0.7616288308439892,-1.1845313919354337,-0.17747967699706843,0.649994802912574,0.3041126587233753,-1.172829688566211,-1.4701448507469361,0.33854444006522966,0.22917881846691687,-0.4156796942910539,-0.18684705250454173,-0.16557973376077886],\"xaxis\":\"x16\",\"yaxis\":\"y16\",\"type\":\"histogram\"}],                        {\"bargap\":0.02,\"legend\":{\"bgcolor\":\"#F5F6F9\",\"font\":{\"color\":\"#4D5663\"}},\"paper_bgcolor\":\"#F5F6F9\",\"plot_bgcolor\":\"#F5F6F9\",\"showlegend\":false,\"template\":{\"data\":{\"barpolar\":[{\"marker\":{\"line\":{\"color\":\"#E5ECF6\",\"width\":0.5},\"pattern\":{\"fillmode\":\"overlay\",\"size\":10,\"solidity\":0.2}},\"type\":\"barpolar\"}],\"bar\":[{\"error_x\":{\"color\":\"#2a3f5f\"},\"error_y\":{\"color\":\"#2a3f5f\"},\"marker\":{\"line\":{\"color\":\"#E5ECF6\",\"width\":0.5},\"pattern\":{\"fillmode\":\"overlay\",\"size\":10,\"solidity\":0.2}},\"type\":\"bar\"}],\"carpet\":[{\"aaxis\":{\"endlinecolor\":\"#2a3f5f\",\"gridcolor\":\"white\",\"linecolor\":\"white\",\"minorgridcolor\":\"white\",\"startlinecolor\":\"#2a3f5f\"},\"baxis\":{\"endlinecolor\":\"#2a3f5f\",\"gridcolor\":\"white\",\"linecolor\":\"white\",\"minorgridcolor\":\"white\",\"startlinecolor\":\"#2a3f5f\"},\"type\":\"carpet\"}],\"choropleth\":[{\"colorbar\":{\"outlinewidth\":0,\"ticks\":\"\"},\"type\":\"choropleth\"}],\"contourcarpet\":[{\"colorbar\":{\"outlinewidth\":0,\"ticks\":\"\"},\"type\":\"contourcarpet\"}],\"contour\":[{\"colorbar\":{\"outlinewidth\":0,\"ticks\":\"\"},\"colorscale\":[[0.0,\"#0d0887\"],[0.1111111111111111,\"#46039f\"],[0.2222222222222222,\"#7201a8\"],[0.3333333333333333,\"#9c179e\"],[0.4444444444444444,\"#bd3786\"],[0.5555555555555556,\"#d8576b\"],[0.6666666666666666,\"#ed7953\"],[0.7777777777777778,\"#fb9f3a\"],[0.8888888888888888,\"#fdca26\"],[1.0,\"#f0f921\"]],\"type\":\"contour\"}],\"heatmapgl\":[{\"colorbar\":{\"outlinewidth\":0,\"ticks\":\"\"},\"colorscale\":[[0.0,\"#0d0887\"],[0.1111111111111111,\"#46039f\"],[0.2222222222222222,\"#7201a8\"],[0.3333333333333333,\"#9c179e\"],[0.4444444444444444,\"#bd3786\"],[0.5555555555555556,\"#d8576b\"],[0.6666666666666666,\"#ed7953\"],[0.7777777777777778,\"#fb9f3a\"],[0.8888888888888888,\"#fdca26\"],[1.0,\"#f0f921\"]],\"type\":\"heatmapgl\"}],\"heatmap\":[{\"colorbar\":{\"outlinewidth\":0,\"ticks\":\"\"},\"colorscale\":[[0.0,\"#0d0887\"],[0.1111111111111111,\"#46039f\"],[0.2222222222222222,\"#7201a8\"],[0.3333333333333333,\"#9c179e\"],[0.4444444444444444,\"#bd3786\"],[0.5555555555555556,\"#d8576b\"],[0.6666666666666666,\"#ed7953\"],[0.7777777777777778,\"#fb9f3a\"],[0.8888888888888888,\"#fdca26\"],[1.0,\"#f0f921\"]],\"type\":\"heatmap\"}],\"histogram2dcontour\":[{\"colorbar\":{\"outlinewidth\":0,\"ticks\":\"\"},\"colorscale\":[[0.0,\"#0d0887\"],[0.1111111111111111,\"#46039f\"],[0.2222222222222222,\"#7201a8\"],[0.3333333333333333,\"#9c179e\"],[0.4444444444444444,\"#bd3786\"],[0.5555555555555556,\"#d8576b\"],[0.6666666666666666,\"#ed7953\"],[0.7777777777777778,\"#fb9f3a\"],[0.8888888888888888,\"#fdca26\"],[1.0,\"#f0f921\"]],\"type\":\"histogram2dcontour\"}],\"histogram2d\":[{\"colorbar\":{\"outlinewidth\":0,\"ticks\":\"\"},\"colorscale\":[[0.0,\"#0d0887\"],[0.1111111111111111,\"#46039f\"],[0.2222222222222222,\"#7201a8\"],[0.3333333333333333,\"#9c179e\"],[0.4444444444444444,\"#bd3786\"],[0.5555555555555556,\"#d8576b\"],[0.6666666666666666,\"#ed7953\"],[0.7777777777777778,\"#fb9f3a\"],[0.8888888888888888,\"#fdca26\"],[1.0,\"#f0f921\"]],\"type\":\"histogram2d\"}],\"histogram\":[{\"marker\":{\"pattern\":{\"fillmode\":\"overlay\",\"size\":10,\"solidity\":0.2}},\"type\":\"histogram\"}],\"mesh3d\":[{\"colorbar\":{\"outlinewidth\":0,\"ticks\":\"\"},\"type\":\"mesh3d\"}],\"parcoords\":[{\"line\":{\"colorbar\":{\"outlinewidth\":0,\"ticks\":\"\"}},\"type\":\"parcoords\"}],\"pie\":[{\"automargin\":true,\"type\":\"pie\"}],\"scatter3d\":[{\"line\":{\"colorbar\":{\"outlinewidth\":0,\"ticks\":\"\"}},\"marker\":{\"colorbar\":{\"outlinewidth\":0,\"ticks\":\"\"}},\"type\":\"scatter3d\"}],\"scattercarpet\":[{\"marker\":{\"colorbar\":{\"outlinewidth\":0,\"ticks\":\"\"}},\"type\":\"scattercarpet\"}],\"scattergeo\":[{\"marker\":{\"colorbar\":{\"outlinewidth\":0,\"ticks\":\"\"}},\"type\":\"scattergeo\"}],\"scattergl\":[{\"marker\":{\"colorbar\":{\"outlinewidth\":0,\"ticks\":\"\"}},\"type\":\"scattergl\"}],\"scattermapbox\":[{\"marker\":{\"colorbar\":{\"outlinewidth\":0,\"ticks\":\"\"}},\"type\":\"scattermapbox\"}],\"scatterpolargl\":[{\"marker\":{\"colorbar\":{\"outlinewidth\":0,\"ticks\":\"\"}},\"type\":\"scatterpolargl\"}],\"scatterpolar\":[{\"marker\":{\"colorbar\":{\"outlinewidth\":0,\"ticks\":\"\"}},\"type\":\"scatterpolar\"}],\"scatter\":[{\"fillpattern\":{\"fillmode\":\"overlay\",\"size\":10,\"solidity\":0.2},\"type\":\"scatter\"}],\"scatterternary\":[{\"marker\":{\"colorbar\":{\"outlinewidth\":0,\"ticks\":\"\"}},\"type\":\"scatterternary\"}],\"surface\":[{\"colorbar\":{\"outlinewidth\":0,\"ticks\":\"\"},\"colorscale\":[[0.0,\"#0d0887\"],[0.1111111111111111,\"#46039f\"],[0.2222222222222222,\"#7201a8\"],[0.3333333333333333,\"#9c179e\"],[0.4444444444444444,\"#bd3786\"],[0.5555555555555556,\"#d8576b\"],[0.6666666666666666,\"#ed7953\"],[0.7777777777777778,\"#fb9f3a\"],[0.8888888888888888,\"#fdca26\"],[1.0,\"#f0f921\"]],\"type\":\"surface\"}],\"table\":[{\"cells\":{\"fill\":{\"color\":\"#EBF0F8\"},\"line\":{\"color\":\"white\"}},\"header\":{\"fill\":{\"color\":\"#C8D4E3\"},\"line\":{\"color\":\"white\"}},\"type\":\"table\"}]},\"layout\":{\"annotationdefaults\":{\"arrowcolor\":\"#2a3f5f\",\"arrowhead\":0,\"arrowwidth\":1},\"autotypenumbers\":\"strict\",\"coloraxis\":{\"colorbar\":{\"outlinewidth\":0,\"ticks\":\"\"}},\"colorscale\":{\"diverging\":[[0,\"#8e0152\"],[0.1,\"#c51b7d\"],[0.2,\"#de77ae\"],[0.3,\"#f1b6da\"],[0.4,\"#fde0ef\"],[0.5,\"#f7f7f7\"],[0.6,\"#e6f5d0\"],[0.7,\"#b8e186\"],[0.8,\"#7fbc41\"],[0.9,\"#4d9221\"],[1,\"#276419\"]],\"sequential\":[[0.0,\"#0d0887\"],[0.1111111111111111,\"#46039f\"],[0.2222222222222222,\"#7201a8\"],[0.3333333333333333,\"#9c179e\"],[0.4444444444444444,\"#bd3786\"],[0.5555555555555556,\"#d8576b\"],[0.6666666666666666,\"#ed7953\"],[0.7777777777777778,\"#fb9f3a\"],[0.8888888888888888,\"#fdca26\"],[1.0,\"#f0f921\"]],\"sequentialminus\":[[0.0,\"#0d0887\"],[0.1111111111111111,\"#46039f\"],[0.2222222222222222,\"#7201a8\"],[0.3333333333333333,\"#9c179e\"],[0.4444444444444444,\"#bd3786\"],[0.5555555555555556,\"#d8576b\"],[0.6666666666666666,\"#ed7953\"],[0.7777777777777778,\"#fb9f3a\"],[0.8888888888888888,\"#fdca26\"],[1.0,\"#f0f921\"]]},\"colorway\":[\"#636efa\",\"#EF553B\",\"#00cc96\",\"#ab63fa\",\"#FFA15A\",\"#19d3f3\",\"#FF6692\",\"#B6E880\",\"#FF97FF\",\"#FECB52\"],\"font\":{\"color\":\"#2a3f5f\"},\"geo\":{\"bgcolor\":\"white\",\"lakecolor\":\"white\",\"landcolor\":\"#E5ECF6\",\"showlakes\":true,\"showland\":true,\"subunitcolor\":\"white\"},\"hoverlabel\":{\"align\":\"left\"},\"hovermode\":\"closest\",\"mapbox\":{\"style\":\"light\"},\"paper_bgcolor\":\"white\",\"plot_bgcolor\":\"#E5ECF6\",\"polar\":{\"angularaxis\":{\"gridcolor\":\"white\",\"linecolor\":\"white\",\"ticks\":\"\"},\"bgcolor\":\"#E5ECF6\",\"radialaxis\":{\"gridcolor\":\"white\",\"linecolor\":\"white\",\"ticks\":\"\"}},\"scene\":{\"xaxis\":{\"backgroundcolor\":\"#E5ECF6\",\"gridcolor\":\"white\",\"gridwidth\":2,\"linecolor\":\"white\",\"showbackground\":true,\"ticks\":\"\",\"zerolinecolor\":\"white\"},\"yaxis\":{\"backgroundcolor\":\"#E5ECF6\",\"gridcolor\":\"white\",\"gridwidth\":2,\"linecolor\":\"white\",\"showbackground\":true,\"ticks\":\"\",\"zerolinecolor\":\"white\"},\"zaxis\":{\"backgroundcolor\":\"#E5ECF6\",\"gridcolor\":\"white\",\"gridwidth\":2,\"linecolor\":\"white\",\"showbackground\":true,\"ticks\":\"\",\"zerolinecolor\":\"white\"}},\"shapedefaults\":{\"line\":{\"color\":\"#2a3f5f\"}},\"ternary\":{\"aaxis\":{\"gridcolor\":\"white\",\"linecolor\":\"white\",\"ticks\":\"\"},\"baxis\":{\"gridcolor\":\"white\",\"linecolor\":\"white\",\"ticks\":\"\"},\"bgcolor\":\"#E5ECF6\",\"caxis\":{\"gridcolor\":\"white\",\"linecolor\":\"white\",\"ticks\":\"\"}},\"title\":{\"x\":0.05},\"xaxis\":{\"automargin\":true,\"gridcolor\":\"white\",\"linecolor\":\"white\",\"ticks\":\"\",\"title\":{\"standoff\":15},\"zerolinecolor\":\"white\",\"zerolinewidth\":2},\"yaxis\":{\"automargin\":true,\"gridcolor\":\"white\",\"linecolor\":\"white\",\"ticks\":\"\",\"title\":{\"standoff\":15},\"zerolinecolor\":\"white\",\"zerolinewidth\":2}}},\"title\":{\"font\":{\"color\":\"#4D5663\"}},\"xaxis\":{\"anchor\":\"y\",\"domain\":[0.0,0.2125],\"gridcolor\":\"#E1E5ED\",\"showgrid\":false,\"tickfont\":{\"color\":\"#4D5663\"},\"title\":{\"font\":{\"color\":\"#4D5663\"},\"text\":\"\"},\"zerolinecolor\":\"#E1E5ED\"},\"yaxis\":{\"anchor\":\"x\",\"domain\":[0.8025,1.0],\"gridcolor\":\"#E1E5ED\",\"showgrid\":false,\"tickfont\":{\"color\":\"#4D5663\"},\"title\":{\"font\":{\"color\":\"#4D5663\"},\"text\":\"\"},\"zerolinecolor\":\"#E1E5ED\"},\"xaxis2\":{\"anchor\":\"y2\",\"domain\":[0.2625,0.475],\"gridcolor\":\"#E1E5ED\",\"showgrid\":false,\"tickfont\":{\"color\":\"#4D5663\"},\"title\":{\"font\":{\"color\":\"#4D5663\"},\"text\":\"\"},\"zerolinecolor\":\"#E1E5ED\"},\"yaxis2\":{\"anchor\":\"x2\",\"domain\":[0.8025,1.0],\"gridcolor\":\"#E1E5ED\",\"showgrid\":false,\"tickfont\":{\"color\":\"#4D5663\"},\"title\":{\"font\":{\"color\":\"#4D5663\"},\"text\":\"\"},\"zerolinecolor\":\"#E1E5ED\"},\"xaxis3\":{\"anchor\":\"y3\",\"domain\":[0.525,0.7375],\"gridcolor\":\"#E1E5ED\",\"showgrid\":false,\"tickfont\":{\"color\":\"#4D5663\"},\"title\":{\"font\":{\"color\":\"#4D5663\"},\"text\":\"\"},\"zerolinecolor\":\"#E1E5ED\"},\"yaxis3\":{\"anchor\":\"x3\",\"domain\":[0.8025,1.0],\"gridcolor\":\"#E1E5ED\",\"showgrid\":false,\"tickfont\":{\"color\":\"#4D5663\"},\"title\":{\"font\":{\"color\":\"#4D5663\"},\"text\":\"\"},\"zerolinecolor\":\"#E1E5ED\"},\"xaxis4\":{\"anchor\":\"y4\",\"domain\":[0.7875,1.0],\"gridcolor\":\"#E1E5ED\",\"showgrid\":false,\"tickfont\":{\"color\":\"#4D5663\"},\"title\":{\"font\":{\"color\":\"#4D5663\"},\"text\":\"\"},\"zerolinecolor\":\"#E1E5ED\"},\"yaxis4\":{\"anchor\":\"x4\",\"domain\":[0.8025,1.0],\"gridcolor\":\"#E1E5ED\",\"showgrid\":false,\"tickfont\":{\"color\":\"#4D5663\"},\"title\":{\"font\":{\"color\":\"#4D5663\"},\"text\":\"\"},\"zerolinecolor\":\"#E1E5ED\"},\"xaxis5\":{\"anchor\":\"y5\",\"domain\":[0.0,0.2125],\"gridcolor\":\"#E1E5ED\",\"showgrid\":false,\"tickfont\":{\"color\":\"#4D5663\"},\"title\":{\"font\":{\"color\":\"#4D5663\"},\"text\":\"\"},\"zerolinecolor\":\"#E1E5ED\"},\"yaxis5\":{\"anchor\":\"x5\",\"domain\":[0.535,0.7325],\"gridcolor\":\"#E1E5ED\",\"showgrid\":false,\"tickfont\":{\"color\":\"#4D5663\"},\"title\":{\"font\":{\"color\":\"#4D5663\"},\"text\":\"\"},\"zerolinecolor\":\"#E1E5ED\"},\"xaxis6\":{\"anchor\":\"y6\",\"domain\":[0.2625,0.475],\"gridcolor\":\"#E1E5ED\",\"showgrid\":false,\"tickfont\":{\"color\":\"#4D5663\"},\"title\":{\"font\":{\"color\":\"#4D5663\"},\"text\":\"\"},\"zerolinecolor\":\"#E1E5ED\"},\"yaxis6\":{\"anchor\":\"x6\",\"domain\":[0.535,0.7325],\"gridcolor\":\"#E1E5ED\",\"showgrid\":false,\"tickfont\":{\"color\":\"#4D5663\"},\"title\":{\"font\":{\"color\":\"#4D5663\"},\"text\":\"\"},\"zerolinecolor\":\"#E1E5ED\"},\"xaxis7\":{\"anchor\":\"y7\",\"domain\":[0.525,0.7375],\"gridcolor\":\"#E1E5ED\",\"showgrid\":false,\"tickfont\":{\"color\":\"#4D5663\"},\"title\":{\"font\":{\"color\":\"#4D5663\"},\"text\":\"\"},\"zerolinecolor\":\"#E1E5ED\"},\"yaxis7\":{\"anchor\":\"x7\",\"domain\":[0.535,0.7325],\"gridcolor\":\"#E1E5ED\",\"showgrid\":false,\"tickfont\":{\"color\":\"#4D5663\"},\"title\":{\"font\":{\"color\":\"#4D5663\"},\"text\":\"\"},\"zerolinecolor\":\"#E1E5ED\"},\"xaxis8\":{\"anchor\":\"y8\",\"domain\":[0.7875,1.0],\"gridcolor\":\"#E1E5ED\",\"showgrid\":false,\"tickfont\":{\"color\":\"#4D5663\"},\"title\":{\"font\":{\"color\":\"#4D5663\"},\"text\":\"\"},\"zerolinecolor\":\"#E1E5ED\"},\"yaxis8\":{\"anchor\":\"x8\",\"domain\":[0.535,0.7325],\"gridcolor\":\"#E1E5ED\",\"showgrid\":false,\"tickfont\":{\"color\":\"#4D5663\"},\"title\":{\"font\":{\"color\":\"#4D5663\"},\"text\":\"\"},\"zerolinecolor\":\"#E1E5ED\"},\"xaxis9\":{\"anchor\":\"y9\",\"domain\":[0.0,0.2125],\"gridcolor\":\"#E1E5ED\",\"showgrid\":false,\"tickfont\":{\"color\":\"#4D5663\"},\"title\":{\"font\":{\"color\":\"#4D5663\"},\"text\":\"\"},\"zerolinecolor\":\"#E1E5ED\"},\"yaxis9\":{\"anchor\":\"x9\",\"domain\":[0.2675,0.465],\"gridcolor\":\"#E1E5ED\",\"showgrid\":false,\"tickfont\":{\"color\":\"#4D5663\"},\"title\":{\"font\":{\"color\":\"#4D5663\"},\"text\":\"\"},\"zerolinecolor\":\"#E1E5ED\"},\"xaxis10\":{\"anchor\":\"y10\",\"domain\":[0.2625,0.475],\"gridcolor\":\"#E1E5ED\",\"showgrid\":false,\"tickfont\":{\"color\":\"#4D5663\"},\"title\":{\"font\":{\"color\":\"#4D5663\"},\"text\":\"\"},\"zerolinecolor\":\"#E1E5ED\"},\"yaxis10\":{\"anchor\":\"x10\",\"domain\":[0.2675,0.465],\"gridcolor\":\"#E1E5ED\",\"showgrid\":false,\"tickfont\":{\"color\":\"#4D5663\"},\"title\":{\"font\":{\"color\":\"#4D5663\"},\"text\":\"\"},\"zerolinecolor\":\"#E1E5ED\"},\"xaxis11\":{\"anchor\":\"y11\",\"domain\":[0.525,0.7375],\"gridcolor\":\"#E1E5ED\",\"showgrid\":false,\"tickfont\":{\"color\":\"#4D5663\"},\"title\":{\"font\":{\"color\":\"#4D5663\"},\"text\":\"\"},\"zerolinecolor\":\"#E1E5ED\"},\"yaxis11\":{\"anchor\":\"x11\",\"domain\":[0.2675,0.465],\"gridcolor\":\"#E1E5ED\",\"showgrid\":false,\"tickfont\":{\"color\":\"#4D5663\"},\"title\":{\"font\":{\"color\":\"#4D5663\"},\"text\":\"\"},\"zerolinecolor\":\"#E1E5ED\"},\"xaxis12\":{\"anchor\":\"y12\",\"domain\":[0.7875,1.0],\"gridcolor\":\"#E1E5ED\",\"showgrid\":false,\"tickfont\":{\"color\":\"#4D5663\"},\"title\":{\"font\":{\"color\":\"#4D5663\"},\"text\":\"\"},\"zerolinecolor\":\"#E1E5ED\"},\"yaxis12\":{\"anchor\":\"x12\",\"domain\":[0.2675,0.465],\"gridcolor\":\"#E1E5ED\",\"showgrid\":false,\"tickfont\":{\"color\":\"#4D5663\"},\"title\":{\"font\":{\"color\":\"#4D5663\"},\"text\":\"\"},\"zerolinecolor\":\"#E1E5ED\"},\"xaxis13\":{\"anchor\":\"y13\",\"domain\":[0.0,0.2125],\"gridcolor\":\"#E1E5ED\",\"showgrid\":false,\"tickfont\":{\"color\":\"#4D5663\"},\"title\":{\"font\":{\"color\":\"#4D5663\"},\"text\":\"\"},\"zerolinecolor\":\"#E1E5ED\"},\"yaxis13\":{\"anchor\":\"x13\",\"domain\":[0.0,0.1975],\"gridcolor\":\"#E1E5ED\",\"showgrid\":false,\"tickfont\":{\"color\":\"#4D5663\"},\"title\":{\"font\":{\"color\":\"#4D5663\"},\"text\":\"\"},\"zerolinecolor\":\"#E1E5ED\"},\"xaxis14\":{\"anchor\":\"y14\",\"domain\":[0.2625,0.475],\"gridcolor\":\"#E1E5ED\",\"showgrid\":false,\"tickfont\":{\"color\":\"#4D5663\"},\"title\":{\"font\":{\"color\":\"#4D5663\"},\"text\":\"\"},\"zerolinecolor\":\"#E1E5ED\"},\"yaxis14\":{\"anchor\":\"x14\",\"domain\":[0.0,0.1975],\"gridcolor\":\"#E1E5ED\",\"showgrid\":false,\"tickfont\":{\"color\":\"#4D5663\"},\"title\":{\"font\":{\"color\":\"#4D5663\"},\"text\":\"\"},\"zerolinecolor\":\"#E1E5ED\"},\"xaxis15\":{\"anchor\":\"y15\",\"domain\":[0.525,0.7375],\"gridcolor\":\"#E1E5ED\",\"showgrid\":false,\"tickfont\":{\"color\":\"#4D5663\"},\"title\":{\"font\":{\"color\":\"#4D5663\"},\"text\":\"\"},\"zerolinecolor\":\"#E1E5ED\"},\"yaxis15\":{\"anchor\":\"x15\",\"domain\":[0.0,0.1975],\"gridcolor\":\"#E1E5ED\",\"showgrid\":false,\"tickfont\":{\"color\":\"#4D5663\"},\"title\":{\"font\":{\"color\":\"#4D5663\"},\"text\":\"\"},\"zerolinecolor\":\"#E1E5ED\"},\"xaxis16\":{\"anchor\":\"y16\",\"domain\":[0.7875,1.0],\"gridcolor\":\"#E1E5ED\",\"showgrid\":false,\"tickfont\":{\"color\":\"#4D5663\"},\"title\":{\"font\":{\"color\":\"#4D5663\"},\"text\":\"\"},\"zerolinecolor\":\"#E1E5ED\"},\"yaxis16\":{\"anchor\":\"x16\",\"domain\":[0.0,0.1975],\"gridcolor\":\"#E1E5ED\",\"showgrid\":false,\"tickfont\":{\"color\":\"#4D5663\"},\"title\":{\"font\":{\"color\":\"#4D5663\"},\"text\":\"\"},\"zerolinecolor\":\"#E1E5ED\"}},                        {\"showLink\": true, \"linkText\": \"Export to plot.ly\", \"plotlyServerURL\": \"https://plot.ly\", \"responsive\": true}                    ).then(function(){\n",
       "                            \n",
       "var gd = document.getElementById('b9c4819e-0572-41a7-b2f3-ec47b743c9c1');\n",
       "var x = new MutationObserver(function (mutations, observer) {{\n",
       "        var display = window.getComputedStyle(gd).display;\n",
       "        if (!display || display === 'none') {{\n",
       "            console.log([gd, 'removed!']);\n",
       "            Plotly.purge(gd);\n",
       "            observer.disconnect();\n",
       "        }}\n",
       "}});\n",
       "\n",
       "// Listen for the removal of the full notebook cells\n",
       "var notebookContainer = gd.closest('#notebook-container');\n",
       "if (notebookContainer) {{\n",
       "    x.observe(notebookContainer, {childList: true});\n",
       "}}\n",
       "\n",
       "// Listen for the clearing of the current output cell\n",
       "var outputEl = gd.closest('.output');\n",
       "if (outputEl) {{\n",
       "    x.observe(outputEl, {childList: true});\n",
       "}}\n",
       "\n",
       "                        })                };                });            </script>        </div>"
      ]
     },
     "metadata": {},
     "output_type": "display_data"
    }
   ],
   "source": [
    "df1.scatter_matrix()"
   ]
  },
  {
   "cell_type": "markdown",
   "id": "c80bfb4a",
   "metadata": {},
   "source": [
    "#refer github link "
   ]
  },
  {
   "cell_type": "code",
   "execution_count": null,
   "id": "8914f09a",
   "metadata": {},
   "outputs": [],
   "source": []
  }
 ],
 "metadata": {
  "kernelspec": {
   "display_name": "Python 3 (ipykernel)",
   "language": "python",
   "name": "python3"
  },
  "language_info": {
   "codemirror_mode": {
    "name": "ipython",
    "version": 3
   },
   "file_extension": ".py",
   "mimetype": "text/x-python",
   "name": "python",
   "nbconvert_exporter": "python",
   "pygments_lexer": "ipython3",
   "version": "3.9.7"
  }
 },
 "nbformat": 4,
 "nbformat_minor": 5
}
